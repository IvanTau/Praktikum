{
 "cells": [
  {
   "cell_type": "markdown",
   "id": "60402327",
   "metadata": {},
   "source": [
    "# Определение перспективного тарифа для телеком компании\n",
    "\n",
    "Компания \"Мегалайн\" - федеральный оператор сотовой связи, с целью корректировки рекламного бюджета, просит провести анализ данных о пользователях.\n",
    "\n",
    "Данные: Выборка из 500 человек с информацией о них, их тарифе, звонках, интернет-трафике и смс-сообщениях за 2018-й год\n",
    "\n",
    "Цель исследования: Выяснить какой тариф из двух приносит больше денег. Результаты будут использованы для управления рекламным бюджетом.\n",
    "\n",
    "\n",
    "***\n",
    "***\n",
    "Компания предоставляет пользователям два тарифа: \"Смарт\" и \"Ультра\":\n",
    "\n",
    "__Тариф \"Смарт\":__\n",
    "- Ежемесячная плата: _550_ рублей\n",
    "- Включено _500_ минут , _50_ СМС и _15_ Гб\n",
    "\n",
    "___Стоимость услуг сверх тарифного пакета:___\n",
    "- Минута разговора: _3_ рубля\n",
    "- Сообщение: _3_ рубля\n",
    "- 1 Гб: _200_ рублей\n",
    "***\n",
    "__Тариф \"Ультра\"__\n",
    "- Ежемесячная плата: _1950_ рублей\n",
    "- Включено _3000_ минут, _1000_ СМС и _30_ Гб\n",
    "\n",
    "___Стоимость услуг сверх тарифного пакета:___\n",
    "- Минута разговора: _1_ рубль\n",
    "- Сообщение: _1_ рубль\n",
    "- 1 ГБ: _150_ рублей"
   ]
  },
  {
   "cell_type": "markdown",
   "id": "089484c8",
   "metadata": {},
   "source": [
    "# Изучение данных"
   ]
  },
  {
   "cell_type": "code",
   "execution_count": 1,
   "id": "a8a0b660",
   "metadata": {},
   "outputs": [],
   "source": [
    "import pandas as pd\n",
    "import numpy as np\n",
    "from functools import reduce\n",
    "import matplotlib.pyplot as plt\n",
    "import scipy.stats as st\n",
    "import warnings\n",
    "warnings.filterwarnings('ignore')\n",
    "\n",
    "pd.options.display.float_format = '{:,.2f}'.format\n",
    "\n",
    "calls = pd.read_csv('/datasets/calls.csv')\n",
    "internet = pd.read_csv('/datasets/internet.csv', index_col=0)\n",
    "messages = pd.read_csv('/datasets/messages.csv')\n",
    "tariffs = pd.read_csv('/datasets/tariffs.csv')\n",
    "users = pd.read_csv('/datasets/users.csv')"
   ]
  },
  {
   "cell_type": "code",
   "execution_count": 2,
   "id": "58ae7308",
   "metadata": {
    "scrolled": true
   },
   "outputs": [
    {
     "data": {
      "text/html": [
       "<div>\n",
       "<style scoped>\n",
       "    .dataframe tbody tr th:only-of-type {\n",
       "        vertical-align: middle;\n",
       "    }\n",
       "\n",
       "    .dataframe tbody tr th {\n",
       "        vertical-align: top;\n",
       "    }\n",
       "\n",
       "    .dataframe thead th {\n",
       "        text-align: right;\n",
       "    }\n",
       "</style>\n",
       "<table border=\"1\" class=\"dataframe\">\n",
       "  <thead>\n",
       "    <tr style=\"text-align: right;\">\n",
       "      <th></th>\n",
       "      <th>id</th>\n",
       "      <th>call_date</th>\n",
       "      <th>duration</th>\n",
       "      <th>user_id</th>\n",
       "    </tr>\n",
       "  </thead>\n",
       "  <tbody>\n",
       "    <tr>\n",
       "      <th>0</th>\n",
       "      <td>1000_0</td>\n",
       "      <td>2018-07-25</td>\n",
       "      <td>0.00</td>\n",
       "      <td>1000</td>\n",
       "    </tr>\n",
       "    <tr>\n",
       "      <th>1</th>\n",
       "      <td>1000_1</td>\n",
       "      <td>2018-08-17</td>\n",
       "      <td>0.00</td>\n",
       "      <td>1000</td>\n",
       "    </tr>\n",
       "    <tr>\n",
       "      <th>2</th>\n",
       "      <td>1000_2</td>\n",
       "      <td>2018-06-11</td>\n",
       "      <td>2.85</td>\n",
       "      <td>1000</td>\n",
       "    </tr>\n",
       "  </tbody>\n",
       "</table>\n",
       "</div>"
      ],
      "text/plain": [
       "       id   call_date  duration  user_id\n",
       "0  1000_0  2018-07-25      0.00     1000\n",
       "1  1000_1  2018-08-17      0.00     1000\n",
       "2  1000_2  2018-06-11      2.85     1000"
      ]
     },
     "execution_count": 2,
     "metadata": {},
     "output_type": "execute_result"
    }
   ],
   "source": [
    "calls.head(3)"
   ]
  },
  {
   "cell_type": "code",
   "execution_count": 3,
   "id": "b1c21316",
   "metadata": {},
   "outputs": [
    {
     "data": {
      "text/html": [
       "<div>\n",
       "<style scoped>\n",
       "    .dataframe tbody tr th:only-of-type {\n",
       "        vertical-align: middle;\n",
       "    }\n",
       "\n",
       "    .dataframe tbody tr th {\n",
       "        vertical-align: top;\n",
       "    }\n",
       "\n",
       "    .dataframe thead th {\n",
       "        text-align: right;\n",
       "    }\n",
       "</style>\n",
       "<table border=\"1\" class=\"dataframe\">\n",
       "  <thead>\n",
       "    <tr style=\"text-align: right;\">\n",
       "      <th></th>\n",
       "      <th>id</th>\n",
       "      <th>mb_used</th>\n",
       "      <th>session_date</th>\n",
       "      <th>user_id</th>\n",
       "    </tr>\n",
       "  </thead>\n",
       "  <tbody>\n",
       "    <tr>\n",
       "      <th>0</th>\n",
       "      <td>1000_0</td>\n",
       "      <td>112.95</td>\n",
       "      <td>2018-11-25</td>\n",
       "      <td>1000</td>\n",
       "    </tr>\n",
       "    <tr>\n",
       "      <th>1</th>\n",
       "      <td>1000_1</td>\n",
       "      <td>1,052.81</td>\n",
       "      <td>2018-09-07</td>\n",
       "      <td>1000</td>\n",
       "    </tr>\n",
       "    <tr>\n",
       "      <th>2</th>\n",
       "      <td>1000_2</td>\n",
       "      <td>1,197.26</td>\n",
       "      <td>2018-06-25</td>\n",
       "      <td>1000</td>\n",
       "    </tr>\n",
       "  </tbody>\n",
       "</table>\n",
       "</div>"
      ],
      "text/plain": [
       "       id  mb_used session_date  user_id\n",
       "0  1000_0   112.95   2018-11-25     1000\n",
       "1  1000_1 1,052.81   2018-09-07     1000\n",
       "2  1000_2 1,197.26   2018-06-25     1000"
      ]
     },
     "execution_count": 3,
     "metadata": {},
     "output_type": "execute_result"
    }
   ],
   "source": [
    "internet.head(3)"
   ]
  },
  {
   "cell_type": "code",
   "execution_count": 4,
   "id": "a8e6bfb8",
   "metadata": {},
   "outputs": [
    {
     "data": {
      "text/html": [
       "<div>\n",
       "<style scoped>\n",
       "    .dataframe tbody tr th:only-of-type {\n",
       "        vertical-align: middle;\n",
       "    }\n",
       "\n",
       "    .dataframe tbody tr th {\n",
       "        vertical-align: top;\n",
       "    }\n",
       "\n",
       "    .dataframe thead th {\n",
       "        text-align: right;\n",
       "    }\n",
       "</style>\n",
       "<table border=\"1\" class=\"dataframe\">\n",
       "  <thead>\n",
       "    <tr style=\"text-align: right;\">\n",
       "      <th></th>\n",
       "      <th>id</th>\n",
       "      <th>message_date</th>\n",
       "      <th>user_id</th>\n",
       "    </tr>\n",
       "  </thead>\n",
       "  <tbody>\n",
       "    <tr>\n",
       "      <th>0</th>\n",
       "      <td>1000_0</td>\n",
       "      <td>2018-06-27</td>\n",
       "      <td>1000</td>\n",
       "    </tr>\n",
       "    <tr>\n",
       "      <th>1</th>\n",
       "      <td>1000_1</td>\n",
       "      <td>2018-10-08</td>\n",
       "      <td>1000</td>\n",
       "    </tr>\n",
       "    <tr>\n",
       "      <th>2</th>\n",
       "      <td>1000_2</td>\n",
       "      <td>2018-08-04</td>\n",
       "      <td>1000</td>\n",
       "    </tr>\n",
       "  </tbody>\n",
       "</table>\n",
       "</div>"
      ],
      "text/plain": [
       "       id message_date  user_id\n",
       "0  1000_0   2018-06-27     1000\n",
       "1  1000_1   2018-10-08     1000\n",
       "2  1000_2   2018-08-04     1000"
      ]
     },
     "execution_count": 4,
     "metadata": {},
     "output_type": "execute_result"
    }
   ],
   "source": [
    "messages.head(3)"
   ]
  },
  {
   "cell_type": "code",
   "execution_count": 5,
   "id": "8aac23aa",
   "metadata": {
    "scrolled": false
   },
   "outputs": [
    {
     "data": {
      "text/html": [
       "<div>\n",
       "<style scoped>\n",
       "    .dataframe tbody tr th:only-of-type {\n",
       "        vertical-align: middle;\n",
       "    }\n",
       "\n",
       "    .dataframe tbody tr th {\n",
       "        vertical-align: top;\n",
       "    }\n",
       "\n",
       "    .dataframe thead th {\n",
       "        text-align: right;\n",
       "    }\n",
       "</style>\n",
       "<table border=\"1\" class=\"dataframe\">\n",
       "  <thead>\n",
       "    <tr style=\"text-align: right;\">\n",
       "      <th></th>\n",
       "      <th>messages_included</th>\n",
       "      <th>mb_per_month_included</th>\n",
       "      <th>minutes_included</th>\n",
       "      <th>rub_monthly_fee</th>\n",
       "      <th>rub_per_gb</th>\n",
       "      <th>rub_per_message</th>\n",
       "      <th>rub_per_minute</th>\n",
       "      <th>tariff_name</th>\n",
       "    </tr>\n",
       "  </thead>\n",
       "  <tbody>\n",
       "    <tr>\n",
       "      <th>0</th>\n",
       "      <td>50</td>\n",
       "      <td>15360</td>\n",
       "      <td>500</td>\n",
       "      <td>550</td>\n",
       "      <td>200</td>\n",
       "      <td>3</td>\n",
       "      <td>3</td>\n",
       "      <td>smart</td>\n",
       "    </tr>\n",
       "    <tr>\n",
       "      <th>1</th>\n",
       "      <td>1000</td>\n",
       "      <td>30720</td>\n",
       "      <td>3000</td>\n",
       "      <td>1950</td>\n",
       "      <td>150</td>\n",
       "      <td>1</td>\n",
       "      <td>1</td>\n",
       "      <td>ultra</td>\n",
       "    </tr>\n",
       "  </tbody>\n",
       "</table>\n",
       "</div>"
      ],
      "text/plain": [
       "   messages_included  mb_per_month_included  minutes_included  \\\n",
       "0                 50                  15360               500   \n",
       "1               1000                  30720              3000   \n",
       "\n",
       "   rub_monthly_fee  rub_per_gb  rub_per_message  rub_per_minute tariff_name  \n",
       "0              550         200                3               3       smart  \n",
       "1             1950         150                1               1       ultra  "
      ]
     },
     "execution_count": 5,
     "metadata": {},
     "output_type": "execute_result"
    }
   ],
   "source": [
    "tariffs"
   ]
  },
  {
   "cell_type": "code",
   "execution_count": 6,
   "id": "668d77dc",
   "metadata": {},
   "outputs": [
    {
     "data": {
      "text/html": [
       "<div>\n",
       "<style scoped>\n",
       "    .dataframe tbody tr th:only-of-type {\n",
       "        vertical-align: middle;\n",
       "    }\n",
       "\n",
       "    .dataframe tbody tr th {\n",
       "        vertical-align: top;\n",
       "    }\n",
       "\n",
       "    .dataframe thead th {\n",
       "        text-align: right;\n",
       "    }\n",
       "</style>\n",
       "<table border=\"1\" class=\"dataframe\">\n",
       "  <thead>\n",
       "    <tr style=\"text-align: right;\">\n",
       "      <th></th>\n",
       "      <th>user_id</th>\n",
       "      <th>age</th>\n",
       "      <th>churn_date</th>\n",
       "      <th>city</th>\n",
       "      <th>first_name</th>\n",
       "      <th>last_name</th>\n",
       "      <th>reg_date</th>\n",
       "      <th>tariff</th>\n",
       "    </tr>\n",
       "  </thead>\n",
       "  <tbody>\n",
       "    <tr>\n",
       "      <th>0</th>\n",
       "      <td>1000</td>\n",
       "      <td>52</td>\n",
       "      <td>NaN</td>\n",
       "      <td>Краснодар</td>\n",
       "      <td>Рафаил</td>\n",
       "      <td>Верещагин</td>\n",
       "      <td>2018-05-25</td>\n",
       "      <td>ultra</td>\n",
       "    </tr>\n",
       "    <tr>\n",
       "      <th>1</th>\n",
       "      <td>1001</td>\n",
       "      <td>41</td>\n",
       "      <td>NaN</td>\n",
       "      <td>Москва</td>\n",
       "      <td>Иван</td>\n",
       "      <td>Ежов</td>\n",
       "      <td>2018-11-01</td>\n",
       "      <td>smart</td>\n",
       "    </tr>\n",
       "    <tr>\n",
       "      <th>2</th>\n",
       "      <td>1002</td>\n",
       "      <td>59</td>\n",
       "      <td>NaN</td>\n",
       "      <td>Стерлитамак</td>\n",
       "      <td>Евгений</td>\n",
       "      <td>Абрамович</td>\n",
       "      <td>2018-06-17</td>\n",
       "      <td>smart</td>\n",
       "    </tr>\n",
       "  </tbody>\n",
       "</table>\n",
       "</div>"
      ],
      "text/plain": [
       "   user_id  age churn_date         city first_name  last_name    reg_date  \\\n",
       "0     1000   52        NaN    Краснодар     Рафаил  Верещагин  2018-05-25   \n",
       "1     1001   41        NaN       Москва       Иван       Ежов  2018-11-01   \n",
       "2     1002   59        NaN  Стерлитамак    Евгений  Абрамович  2018-06-17   \n",
       "\n",
       "  tariff  \n",
       "0  ultra  \n",
       "1  smart  \n",
       "2  smart  "
      ]
     },
     "execution_count": 6,
     "metadata": {},
     "output_type": "execute_result"
    }
   ],
   "source": [
    "users.head(3)"
   ]
  },
  {
   "cell_type": "code",
   "execution_count": 7,
   "id": "93cb3b82",
   "metadata": {
    "scrolled": true
   },
   "outputs": [
    {
     "name": "stdout",
     "output_type": "stream",
     "text": [
      "Дубликаты в calls: 0\n",
      "<class 'pandas.core.frame.DataFrame'>\n",
      "RangeIndex: 202607 entries, 0 to 202606\n",
      "Data columns (total 4 columns):\n",
      "id           202607 non-null object\n",
      "call_date    202607 non-null object\n",
      "duration     202607 non-null float64\n",
      "user_id      202607 non-null int64\n",
      "dtypes: float64(1), int64(1), object(2)\n",
      "memory usage: 6.2+ MB\n",
      "None \n",
      "\n",
      "Дубликаты в internet: 0\n",
      "<class 'pandas.core.frame.DataFrame'>\n",
      "RangeIndex: 149396 entries, 0 to 149395\n",
      "Data columns (total 5 columns):\n",
      "Unnamed: 0      149396 non-null int64\n",
      "id              149396 non-null object\n",
      "mb_used         149396 non-null float64\n",
      "session_date    149396 non-null object\n",
      "user_id         149396 non-null int64\n",
      "dtypes: float64(1), int64(2), object(2)\n",
      "memory usage: 5.7+ MB\n",
      "None \n",
      "\n",
      "Дубликаты в messages: 0\n",
      "<class 'pandas.core.frame.DataFrame'>\n",
      "RangeIndex: 123036 entries, 0 to 123035\n",
      "Data columns (total 3 columns):\n",
      "id              123036 non-null object\n",
      "message_date    123036 non-null object\n",
      "user_id         123036 non-null int64\n",
      "dtypes: int64(1), object(2)\n",
      "memory usage: 2.8+ MB\n",
      "None \n",
      "\n",
      "Дубликаты в users: 0\n",
      "<class 'pandas.core.frame.DataFrame'>\n",
      "RangeIndex: 500 entries, 0 to 499\n",
      "Data columns (total 8 columns):\n",
      "user_id       500 non-null int64\n",
      "age           500 non-null int64\n",
      "churn_date    38 non-null object\n",
      "city          500 non-null object\n",
      "first_name    500 non-null object\n",
      "last_name     500 non-null object\n",
      "reg_date      500 non-null object\n",
      "tariff        500 non-null object\n",
      "dtypes: int64(2), object(6)\n",
      "memory usage: 31.4+ KB\n",
      "None \n",
      "\n"
     ]
    }
   ],
   "source": [
    "# Проверяем на дубликаты, отсутствующие значения и типы данных\n",
    "\n",
    "data_list = [calls, internet, messages, users]\n",
    "data_names = ['calls', 'internet', 'messages', 'users']\n",
    "count = 0\n",
    "for df in data_list:\n",
    "    print('Дубликаты в {}:'.format(data_names[count]) , df.duplicated().sum())\n",
    "    print(df.info(), '\\n')\n",
    "    count += 1"
   ]
  },
  {
   "cell_type": "markdown",
   "id": "d978d5c4",
   "metadata": {},
   "source": [
    "__Вывод__\n",
    "\n",
    "- Даты записаны в виде строк\n",
    "- В столбцах с длительностью звонков и объемом интернет-трафика присутствуют нулевые значения\n",
    "- В столбце churn_date 462 пропущенных значения, это значит, что 462 пользователя все еще пользовались тарифом на момент выгрузки данных. Их трогать не будем."
   ]
  },
  {
   "cell_type": "markdown",
   "id": "b4e26d7f",
   "metadata": {},
   "source": [
    "# Предобработка данных"
   ]
  },
  {
   "cell_type": "code",
   "execution_count": 9,
   "id": "7200cad3",
   "metadata": {
    "scrolled": false
   },
   "outputs": [
    {
     "name": "stdout",
     "output_type": "stream",
     "text": [
      "Тип данных call_date до: object\n",
      "Тип данных call_date после: datetime64[ns] \n",
      "\n",
      "Тип данных session_date до: object\n",
      "Тип данных session_date после: datetime64[ns] \n",
      "\n",
      "Тип данных message_date до: object\n",
      "Тип данных message_date после: datetime64[ns] \n",
      "\n",
      "Тип данных churn_date до: object\n",
      "Тип данных churn_date после: datetime64[ns] \n",
      "\n",
      "Тип данных reg_date до: object\n",
      "Тип данных reg_date после: datetime64[ns] \n",
      "\n"
     ]
    }
   ],
   "source": [
    "# Переведем даты из строк в datetime\n",
    "\n",
    "date_data_list = [calls, internet, messages, users, users]\n",
    "date_columns = ['call_date', 'session_date', 'message_date', 'churn_date', 'reg_date']\n",
    "count = 0\n",
    "for name in date_data_list:\n",
    "    print('Тип данных {} до:'.format(date_columns[count]), name[date_columns[count]].dtypes)\n",
    "    \n",
    "    name[date_columns[count]] = pd.to_datetime(name[date_columns[count]], infer_datetime_format=True)\n",
    "    \n",
    "    print('Тип данных {} после:'.format(date_columns[count]), name[date_columns[count]].dtypes, '\\n')\n",
    "    count += 1"
   ]
  },
  {
   "cell_type": "markdown",
   "id": "c43bbeb9",
   "metadata": {},
   "source": [
    "Звонки длиной 0 секунд скорее всего являются пропущенными вызовами, они не представляют ценности для нашего исследования, потому строки с ними можно удалить. То же относится и интернету."
   ]
  },
  {
   "cell_type": "code",
   "execution_count": 10,
   "id": "b02dbc6e",
   "metadata": {},
   "outputs": [],
   "source": [
    "# Удаляем нулевые значения длительности звонков и интернет-трафика\n",
    "calls = calls.drop(calls[calls['duration'] == 0.0].index)\n",
    "internet = internet.drop(internet[internet['mb_used'] == 0.0].index)"
   ]
  },
  {
   "cell_type": "markdown",
   "id": "849dc9e5",
   "metadata": {},
   "source": [
    "# Подготовка данных"
   ]
  },
  {
   "cell_type": "markdown",
   "id": "1065e921",
   "metadata": {},
   "source": [
    "Мегалайн округляет каждый звонок до одной минуты вверх, а так же месячный объем интернет-трафика до 1 Гб вверх.\n",
    "Сперва округлим минуты для каждого звонка до расчетов, а интернет округлим уже после помесячного суммирования."
   ]
  },
  {
   "cell_type": "code",
   "execution_count": 11,
   "id": "8a93e945",
   "metadata": {},
   "outputs": [],
   "source": [
    "calls['duration'] = calls['duration'].apply(np.ceil)"
   ]
  },
  {
   "cell_type": "markdown",
   "id": "81a5b263",
   "metadata": {},
   "source": [
    "Создаем единую таблицу с помесячными расчетами данных по каждому пользователю"
   ]
  },
  {
   "cell_type": "code",
   "execution_count": 12,
   "id": "8a7d70c0",
   "metadata": {},
   "outputs": [],
   "source": [
    "# Создадим уникальный идентификатор пользователей. Он будет использоваться при построении сводных таблиц.\n",
    "users['unique_name'] = users['city'] + users['first_name'] + users['last_name']"
   ]
  },
  {
   "cell_type": "code",
   "execution_count": 16,
   "id": "9c1e1558",
   "metadata": {},
   "outputs": [],
   "source": [
    "# Создаем столбцы с номерами месяца в каждой таблице\n",
    "calls['month'] = calls['call_date'].dt.month\n",
    "internet['month'] = internet['session_date'].dt.month\n",
    "messages['month'] = messages['message_date'].dt.month"
   ]
  },
  {
   "cell_type": "code",
   "execution_count": 17,
   "id": "70aab411",
   "metadata": {},
   "outputs": [
    {
     "data": {
      "text/html": [
       "<div>\n",
       "<style scoped>\n",
       "    .dataframe tbody tr th:only-of-type {\n",
       "        vertical-align: middle;\n",
       "    }\n",
       "\n",
       "    .dataframe tbody tr th {\n",
       "        vertical-align: top;\n",
       "    }\n",
       "\n",
       "    .dataframe thead th {\n",
       "        text-align: right;\n",
       "    }\n",
       "</style>\n",
       "<table border=\"1\" class=\"dataframe\">\n",
       "  <thead>\n",
       "    <tr style=\"text-align: right;\">\n",
       "      <th></th>\n",
       "      <th></th>\n",
       "      <th>duration</th>\n",
       "      <th>calls</th>\n",
       "    </tr>\n",
       "    <tr>\n",
       "      <th>user_id</th>\n",
       "      <th>month</th>\n",
       "      <th></th>\n",
       "      <th></th>\n",
       "    </tr>\n",
       "  </thead>\n",
       "  <tbody>\n",
       "    <tr>\n",
       "      <td rowspan=\"8\" valign=\"top\">1000</td>\n",
       "      <td>5</td>\n",
       "      <td>159.00</td>\n",
       "      <td>17</td>\n",
       "    </tr>\n",
       "    <tr>\n",
       "      <td>6</td>\n",
       "      <td>172.00</td>\n",
       "      <td>28</td>\n",
       "    </tr>\n",
       "    <tr>\n",
       "      <td>7</td>\n",
       "      <td>340.00</td>\n",
       "      <td>41</td>\n",
       "    </tr>\n",
       "    <tr>\n",
       "      <td>8</td>\n",
       "      <td>408.00</td>\n",
       "      <td>42</td>\n",
       "    </tr>\n",
       "    <tr>\n",
       "      <td>9</td>\n",
       "      <td>466.00</td>\n",
       "      <td>46</td>\n",
       "    </tr>\n",
       "    <tr>\n",
       "      <td>10</td>\n",
       "      <td>350.00</td>\n",
       "      <td>44</td>\n",
       "    </tr>\n",
       "    <tr>\n",
       "      <td>11</td>\n",
       "      <td>338.00</td>\n",
       "      <td>37</td>\n",
       "    </tr>\n",
       "    <tr>\n",
       "      <td>12</td>\n",
       "      <td>333.00</td>\n",
       "      <td>38</td>\n",
       "    </tr>\n",
       "    <tr>\n",
       "      <td rowspan=\"2\" valign=\"top\">1001</td>\n",
       "      <td>11</td>\n",
       "      <td>430.00</td>\n",
       "      <td>45</td>\n",
       "    </tr>\n",
       "    <tr>\n",
       "      <td>12</td>\n",
       "      <td>414.00</td>\n",
       "      <td>47</td>\n",
       "    </tr>\n",
       "  </tbody>\n",
       "</table>\n",
       "</div>"
      ],
      "text/plain": [
       "               duration  calls\n",
       "user_id month                 \n",
       "1000    5        159.00     17\n",
       "        6        172.00     28\n",
       "        7        340.00     41\n",
       "        8        408.00     42\n",
       "        9        466.00     46\n",
       "        10       350.00     44\n",
       "        11       338.00     37\n",
       "        12       333.00     38\n",
       "1001    11       430.00     45\n",
       "        12       414.00     47"
      ]
     },
     "execution_count": 17,
     "metadata": {},
     "output_type": "execute_result"
    }
   ],
   "source": [
    "# Временная таблица со звонками и пользователями\n",
    "calls_temp = calls.merge(users, on='user_id', how='inner')\n",
    "# Сводная таблица со звонками\n",
    "calls_pivot = calls_temp.pivot_table(index=['user_id', 'month'],\n",
    "                                     values=['unique_name', 'duration'],\n",
    "                                     aggfunc={'unique_name': 'count', 'duration': 'sum'})\n",
    "calls_pivot.columns = ['duration', 'calls']\n",
    "calls_pivot.head(10)"
   ]
  },
  {
   "cell_type": "code",
   "execution_count": 18,
   "id": "1e002c98",
   "metadata": {},
   "outputs": [
    {
     "data": {
      "text/html": [
       "<div>\n",
       "<style scoped>\n",
       "    .dataframe tbody tr th:only-of-type {\n",
       "        vertical-align: middle;\n",
       "    }\n",
       "\n",
       "    .dataframe tbody tr th {\n",
       "        vertical-align: top;\n",
       "    }\n",
       "\n",
       "    .dataframe thead th {\n",
       "        text-align: right;\n",
       "    }\n",
       "</style>\n",
       "<table border=\"1\" class=\"dataframe\">\n",
       "  <thead>\n",
       "    <tr style=\"text-align: right;\">\n",
       "      <th></th>\n",
       "      <th></th>\n",
       "      <th>mb_used</th>\n",
       "      <th>gb_used</th>\n",
       "    </tr>\n",
       "    <tr>\n",
       "      <th>user_id</th>\n",
       "      <th>month</th>\n",
       "      <th></th>\n",
       "      <th></th>\n",
       "    </tr>\n",
       "  </thead>\n",
       "  <tbody>\n",
       "    <tr>\n",
       "      <td rowspan=\"8\" valign=\"top\">1000</td>\n",
       "      <td>5</td>\n",
       "      <td>2,254.00</td>\n",
       "      <td>3.00</td>\n",
       "    </tr>\n",
       "    <tr>\n",
       "      <td>6</td>\n",
       "      <td>23,234.00</td>\n",
       "      <td>23.00</td>\n",
       "    </tr>\n",
       "    <tr>\n",
       "      <td>7</td>\n",
       "      <td>14,004.00</td>\n",
       "      <td>14.00</td>\n",
       "    </tr>\n",
       "    <tr>\n",
       "      <td>8</td>\n",
       "      <td>14,056.00</td>\n",
       "      <td>14.00</td>\n",
       "    </tr>\n",
       "    <tr>\n",
       "      <td>9</td>\n",
       "      <td>14,569.00</td>\n",
       "      <td>15.00</td>\n",
       "    </tr>\n",
       "    <tr>\n",
       "      <td>10</td>\n",
       "      <td>14,703.00</td>\n",
       "      <td>15.00</td>\n",
       "    </tr>\n",
       "    <tr>\n",
       "      <td>11</td>\n",
       "      <td>14,757.00</td>\n",
       "      <td>15.00</td>\n",
       "    </tr>\n",
       "    <tr>\n",
       "      <td>12</td>\n",
       "      <td>9,818.00</td>\n",
       "      <td>10.00</td>\n",
       "    </tr>\n",
       "    <tr>\n",
       "      <td rowspan=\"2\" valign=\"top\">1001</td>\n",
       "      <td>11</td>\n",
       "      <td>18,430.00</td>\n",
       "      <td>18.00</td>\n",
       "    </tr>\n",
       "    <tr>\n",
       "      <td>12</td>\n",
       "      <td>14,037.00</td>\n",
       "      <td>14.00</td>\n",
       "    </tr>\n",
       "  </tbody>\n",
       "</table>\n",
       "</div>"
      ],
      "text/plain": [
       "                mb_used  gb_used\n",
       "user_id month                   \n",
       "1000    5      2,254.00     3.00\n",
       "        6     23,234.00    23.00\n",
       "        7     14,004.00    14.00\n",
       "        8     14,056.00    14.00\n",
       "        9     14,569.00    15.00\n",
       "        10    14,703.00    15.00\n",
       "        11    14,757.00    15.00\n",
       "        12     9,818.00    10.00\n",
       "1001    11    18,430.00    18.00\n",
       "        12    14,037.00    14.00"
      ]
     },
     "execution_count": 18,
     "metadata": {},
     "output_type": "execute_result"
    }
   ],
   "source": [
    "# Временная таблица с интернет-трафиком и пользователями\n",
    "internet_temp = internet.merge(users, on='user_id', how='inner')\n",
    "# Сводная таблица с интернет-трафиком\n",
    "internet_pivot = internet_temp.pivot_table(index=['user_id', 'month'],\n",
    "                                           values='mb_used',\n",
    "                                           aggfunc='sum')\n",
    "internet_pivot.columns = ['mb_used']\n",
    "\n",
    "# Округлим мегабайты до целых чисел\n",
    "internet_pivot['mb_used'] = internet_pivot['mb_used'].apply(np.ceil)\n",
    "\n",
    "#Добавим столбец с гигабайтами\n",
    "internet_pivot['gb_used'] = internet_pivot['mb_used'] / 1024\n",
    "internet_pivot['gb_used'] = internet_pivot['gb_used'].apply(np.ceil)\n",
    "\n",
    "internet_pivot.head(10)"
   ]
  },
  {
   "cell_type": "code",
   "execution_count": 19,
   "id": "5da9e8c4",
   "metadata": {},
   "outputs": [
    {
     "data": {
      "text/html": [
       "<div>\n",
       "<style scoped>\n",
       "    .dataframe tbody tr th:only-of-type {\n",
       "        vertical-align: middle;\n",
       "    }\n",
       "\n",
       "    .dataframe tbody tr th {\n",
       "        vertical-align: top;\n",
       "    }\n",
       "\n",
       "    .dataframe thead th {\n",
       "        text-align: right;\n",
       "    }\n",
       "</style>\n",
       "<table border=\"1\" class=\"dataframe\">\n",
       "  <thead>\n",
       "    <tr style=\"text-align: right;\">\n",
       "      <th></th>\n",
       "      <th></th>\n",
       "      <th>messages</th>\n",
       "    </tr>\n",
       "    <tr>\n",
       "      <th>user_id</th>\n",
       "      <th>month</th>\n",
       "      <th></th>\n",
       "    </tr>\n",
       "  </thead>\n",
       "  <tbody>\n",
       "    <tr>\n",
       "      <td rowspan=\"8\" valign=\"top\">1000</td>\n",
       "      <td>5</td>\n",
       "      <td>22</td>\n",
       "    </tr>\n",
       "    <tr>\n",
       "      <td>6</td>\n",
       "      <td>60</td>\n",
       "    </tr>\n",
       "    <tr>\n",
       "      <td>7</td>\n",
       "      <td>75</td>\n",
       "    </tr>\n",
       "    <tr>\n",
       "      <td>8</td>\n",
       "      <td>81</td>\n",
       "    </tr>\n",
       "    <tr>\n",
       "      <td>9</td>\n",
       "      <td>57</td>\n",
       "    </tr>\n",
       "    <tr>\n",
       "      <td>10</td>\n",
       "      <td>73</td>\n",
       "    </tr>\n",
       "    <tr>\n",
       "      <td>11</td>\n",
       "      <td>58</td>\n",
       "    </tr>\n",
       "    <tr>\n",
       "      <td>12</td>\n",
       "      <td>70</td>\n",
       "    </tr>\n",
       "    <tr>\n",
       "      <td rowspan=\"2\" valign=\"top\">1002</td>\n",
       "      <td>6</td>\n",
       "      <td>4</td>\n",
       "    </tr>\n",
       "    <tr>\n",
       "      <td>7</td>\n",
       "      <td>11</td>\n",
       "    </tr>\n",
       "  </tbody>\n",
       "</table>\n",
       "</div>"
      ],
      "text/plain": [
       "               messages\n",
       "user_id month          \n",
       "1000    5            22\n",
       "        6            60\n",
       "        7            75\n",
       "        8            81\n",
       "        9            57\n",
       "        10           73\n",
       "        11           58\n",
       "        12           70\n",
       "1002    6             4\n",
       "        7            11"
      ]
     },
     "execution_count": 19,
     "metadata": {},
     "output_type": "execute_result"
    }
   ],
   "source": [
    "# Временная таблица с СМС-сообщениями и пользователями\n",
    "messages_temp = messages.merge(users, on='user_id', how='inner')\n",
    "# Сводная таблица с СМС-сообщениями\n",
    "messages_pivot = messages_temp.pivot_table(values='unique_name',\n",
    "                                           index=['user_id', 'month'],\n",
    "                                           aggfunc='count')\n",
    "\n",
    "messages_pivot.columns = ['messages']\n",
    "\n",
    "messages_pivot.head(10)"
   ]
  },
  {
   "cell_type": "code",
   "execution_count": 20,
   "id": "0cbb911c",
   "metadata": {
    "scrolled": false
   },
   "outputs": [
    {
     "data": {
      "text/html": [
       "<div>\n",
       "<style scoped>\n",
       "    .dataframe tbody tr th:only-of-type {\n",
       "        vertical-align: middle;\n",
       "    }\n",
       "\n",
       "    .dataframe tbody tr th {\n",
       "        vertical-align: top;\n",
       "    }\n",
       "\n",
       "    .dataframe thead th {\n",
       "        text-align: right;\n",
       "    }\n",
       "</style>\n",
       "<table border=\"1\" class=\"dataframe\">\n",
       "  <thead>\n",
       "    <tr style=\"text-align: right;\">\n",
       "      <th></th>\n",
       "      <th></th>\n",
       "      <th>duration</th>\n",
       "      <th>calls</th>\n",
       "      <th>mb_used</th>\n",
       "      <th>gb_used</th>\n",
       "      <th>messages</th>\n",
       "    </tr>\n",
       "    <tr>\n",
       "      <th>user_id</th>\n",
       "      <th>month</th>\n",
       "      <th></th>\n",
       "      <th></th>\n",
       "      <th></th>\n",
       "      <th></th>\n",
       "      <th></th>\n",
       "    </tr>\n",
       "  </thead>\n",
       "  <tbody>\n",
       "    <tr>\n",
       "      <td rowspan=\"8\" valign=\"top\">1000</td>\n",
       "      <td>5</td>\n",
       "      <td>159.00</td>\n",
       "      <td>17.00</td>\n",
       "      <td>2,254.00</td>\n",
       "      <td>3.00</td>\n",
       "      <td>22.00</td>\n",
       "    </tr>\n",
       "    <tr>\n",
       "      <td>6</td>\n",
       "      <td>172.00</td>\n",
       "      <td>28.00</td>\n",
       "      <td>23,234.00</td>\n",
       "      <td>23.00</td>\n",
       "      <td>60.00</td>\n",
       "    </tr>\n",
       "    <tr>\n",
       "      <td>7</td>\n",
       "      <td>340.00</td>\n",
       "      <td>41.00</td>\n",
       "      <td>14,004.00</td>\n",
       "      <td>14.00</td>\n",
       "      <td>75.00</td>\n",
       "    </tr>\n",
       "    <tr>\n",
       "      <td>8</td>\n",
       "      <td>408.00</td>\n",
       "      <td>42.00</td>\n",
       "      <td>14,056.00</td>\n",
       "      <td>14.00</td>\n",
       "      <td>81.00</td>\n",
       "    </tr>\n",
       "    <tr>\n",
       "      <td>9</td>\n",
       "      <td>466.00</td>\n",
       "      <td>46.00</td>\n",
       "      <td>14,569.00</td>\n",
       "      <td>15.00</td>\n",
       "      <td>57.00</td>\n",
       "    </tr>\n",
       "    <tr>\n",
       "      <td>10</td>\n",
       "      <td>350.00</td>\n",
       "      <td>44.00</td>\n",
       "      <td>14,703.00</td>\n",
       "      <td>15.00</td>\n",
       "      <td>73.00</td>\n",
       "    </tr>\n",
       "    <tr>\n",
       "      <td>11</td>\n",
       "      <td>338.00</td>\n",
       "      <td>37.00</td>\n",
       "      <td>14,757.00</td>\n",
       "      <td>15.00</td>\n",
       "      <td>58.00</td>\n",
       "    </tr>\n",
       "    <tr>\n",
       "      <td>12</td>\n",
       "      <td>333.00</td>\n",
       "      <td>38.00</td>\n",
       "      <td>9,818.00</td>\n",
       "      <td>10.00</td>\n",
       "      <td>70.00</td>\n",
       "    </tr>\n",
       "    <tr>\n",
       "      <td rowspan=\"2\" valign=\"top\">1001</td>\n",
       "      <td>11</td>\n",
       "      <td>430.00</td>\n",
       "      <td>45.00</td>\n",
       "      <td>18,430.00</td>\n",
       "      <td>18.00</td>\n",
       "      <td>nan</td>\n",
       "    </tr>\n",
       "    <tr>\n",
       "      <td>12</td>\n",
       "      <td>414.00</td>\n",
       "      <td>47.00</td>\n",
       "      <td>14,037.00</td>\n",
       "      <td>14.00</td>\n",
       "      <td>nan</td>\n",
       "    </tr>\n",
       "  </tbody>\n",
       "</table>\n",
       "</div>"
      ],
      "text/plain": [
       "               duration  calls   mb_used  gb_used  messages\n",
       "user_id month                                              \n",
       "1000    5        159.00  17.00  2,254.00     3.00     22.00\n",
       "        6        172.00  28.00 23,234.00    23.00     60.00\n",
       "        7        340.00  41.00 14,004.00    14.00     75.00\n",
       "        8        408.00  42.00 14,056.00    14.00     81.00\n",
       "        9        466.00  46.00 14,569.00    15.00     57.00\n",
       "        10       350.00  44.00 14,703.00    15.00     73.00\n",
       "        11       338.00  37.00 14,757.00    15.00     58.00\n",
       "        12       333.00  38.00  9,818.00    10.00     70.00\n",
       "1001    11       430.00  45.00 18,430.00    18.00       nan\n",
       "        12       414.00  47.00 14,037.00    14.00       nan"
      ]
     },
     "execution_count": 20,
     "metadata": {},
     "output_type": "execute_result"
    }
   ],
   "source": [
    "# Объединим три таблицы в одну\n",
    "df_list = [calls_pivot, internet_pivot, messages_pivot]\n",
    "\n",
    "grouped_data = reduce(lambda left,right: pd.merge(left,right,on=['user_id', 'month'], how='outer'), df_list)\n",
    "grouped_data.head(10)"
   ]
  },
  {
   "cell_type": "code",
   "execution_count": 21,
   "id": "c826c6eb",
   "metadata": {},
   "outputs": [],
   "source": [
    "# Добавим столбец с информацией о тарифе для каждого пользователя\n",
    "for user in grouped_data.index:\n",
    "    grouped_data.loc[user, 'tariff'] = users.loc[user[0]-1000, 'tariff']"
   ]
  },
  {
   "cell_type": "code",
   "execution_count": 22,
   "id": "6cb30ad1",
   "metadata": {},
   "outputs": [],
   "source": [
    "# Заменим отсутствующие значеия нулями\n",
    "grouped_data['calls'] = grouped_data['calls'].fillna(0)\n",
    "grouped_data['duration'] = grouped_data['duration'].fillna(0)\n",
    "grouped_data['mb_used'] = grouped_data['mb_used'].fillna(0)\n",
    "grouped_data['messages'] = grouped_data['messages'].fillna(0)\n"
   ]
  },
  {
   "cell_type": "markdown",
   "id": "959bf973",
   "metadata": {},
   "source": [
    "Рассчитаем помесячную выручку с каждого пользователя"
   ]
  },
  {
   "cell_type": "code",
   "execution_count": 23,
   "id": "e1e79308",
   "metadata": {},
   "outputs": [
    {
     "data": {
      "text/html": [
       "<div>\n",
       "<style scoped>\n",
       "    .dataframe tbody tr th:only-of-type {\n",
       "        vertical-align: middle;\n",
       "    }\n",
       "\n",
       "    .dataframe tbody tr th {\n",
       "        vertical-align: top;\n",
       "    }\n",
       "\n",
       "    .dataframe thead th {\n",
       "        text-align: right;\n",
       "    }\n",
       "</style>\n",
       "<table border=\"1\" class=\"dataframe\">\n",
       "  <thead>\n",
       "    <tr style=\"text-align: right;\">\n",
       "      <th></th>\n",
       "      <th></th>\n",
       "      <th>duration</th>\n",
       "      <th>calls</th>\n",
       "      <th>mb_used</th>\n",
       "      <th>gb_used</th>\n",
       "      <th>messages</th>\n",
       "      <th>tariff</th>\n",
       "      <th>revenue</th>\n",
       "    </tr>\n",
       "    <tr>\n",
       "      <th>user_id</th>\n",
       "      <th>month</th>\n",
       "      <th></th>\n",
       "      <th></th>\n",
       "      <th></th>\n",
       "      <th></th>\n",
       "      <th></th>\n",
       "      <th></th>\n",
       "      <th></th>\n",
       "    </tr>\n",
       "  </thead>\n",
       "  <tbody>\n",
       "    <tr>\n",
       "      <td rowspan=\"8\" valign=\"top\">1000</td>\n",
       "      <td>5</td>\n",
       "      <td>159.00</td>\n",
       "      <td>17.00</td>\n",
       "      <td>2,254.00</td>\n",
       "      <td>3.00</td>\n",
       "      <td>22.00</td>\n",
       "      <td>ultra</td>\n",
       "      <td>1,950.00</td>\n",
       "    </tr>\n",
       "    <tr>\n",
       "      <td>6</td>\n",
       "      <td>172.00</td>\n",
       "      <td>28.00</td>\n",
       "      <td>23,234.00</td>\n",
       "      <td>23.00</td>\n",
       "      <td>60.00</td>\n",
       "      <td>ultra</td>\n",
       "      <td>1,950.00</td>\n",
       "    </tr>\n",
       "    <tr>\n",
       "      <td>7</td>\n",
       "      <td>340.00</td>\n",
       "      <td>41.00</td>\n",
       "      <td>14,004.00</td>\n",
       "      <td>14.00</td>\n",
       "      <td>75.00</td>\n",
       "      <td>ultra</td>\n",
       "      <td>1,950.00</td>\n",
       "    </tr>\n",
       "    <tr>\n",
       "      <td>8</td>\n",
       "      <td>408.00</td>\n",
       "      <td>42.00</td>\n",
       "      <td>14,056.00</td>\n",
       "      <td>14.00</td>\n",
       "      <td>81.00</td>\n",
       "      <td>ultra</td>\n",
       "      <td>1,950.00</td>\n",
       "    </tr>\n",
       "    <tr>\n",
       "      <td>9</td>\n",
       "      <td>466.00</td>\n",
       "      <td>46.00</td>\n",
       "      <td>14,569.00</td>\n",
       "      <td>15.00</td>\n",
       "      <td>57.00</td>\n",
       "      <td>ultra</td>\n",
       "      <td>1,950.00</td>\n",
       "    </tr>\n",
       "    <tr>\n",
       "      <td>10</td>\n",
       "      <td>350.00</td>\n",
       "      <td>44.00</td>\n",
       "      <td>14,703.00</td>\n",
       "      <td>15.00</td>\n",
       "      <td>73.00</td>\n",
       "      <td>ultra</td>\n",
       "      <td>1,950.00</td>\n",
       "    </tr>\n",
       "    <tr>\n",
       "      <td>11</td>\n",
       "      <td>338.00</td>\n",
       "      <td>37.00</td>\n",
       "      <td>14,757.00</td>\n",
       "      <td>15.00</td>\n",
       "      <td>58.00</td>\n",
       "      <td>ultra</td>\n",
       "      <td>1,950.00</td>\n",
       "    </tr>\n",
       "    <tr>\n",
       "      <td>12</td>\n",
       "      <td>333.00</td>\n",
       "      <td>38.00</td>\n",
       "      <td>9,818.00</td>\n",
       "      <td>10.00</td>\n",
       "      <td>70.00</td>\n",
       "      <td>ultra</td>\n",
       "      <td>1,950.00</td>\n",
       "    </tr>\n",
       "    <tr>\n",
       "      <td rowspan=\"2\" valign=\"top\">1001</td>\n",
       "      <td>11</td>\n",
       "      <td>430.00</td>\n",
       "      <td>45.00</td>\n",
       "      <td>18,430.00</td>\n",
       "      <td>18.00</td>\n",
       "      <td>0.00</td>\n",
       "      <td>smart</td>\n",
       "      <td>1,150.00</td>\n",
       "    </tr>\n",
       "    <tr>\n",
       "      <td>12</td>\n",
       "      <td>414.00</td>\n",
       "      <td>47.00</td>\n",
       "      <td>14,037.00</td>\n",
       "      <td>14.00</td>\n",
       "      <td>0.00</td>\n",
       "      <td>smart</td>\n",
       "      <td>550.00</td>\n",
       "    </tr>\n",
       "  </tbody>\n",
       "</table>\n",
       "</div>"
      ],
      "text/plain": [
       "               duration  calls   mb_used  gb_used  messages tariff  revenue\n",
       "user_id month                                                              \n",
       "1000    5        159.00  17.00  2,254.00     3.00     22.00  ultra 1,950.00\n",
       "        6        172.00  28.00 23,234.00    23.00     60.00  ultra 1,950.00\n",
       "        7        340.00  41.00 14,004.00    14.00     75.00  ultra 1,950.00\n",
       "        8        408.00  42.00 14,056.00    14.00     81.00  ultra 1,950.00\n",
       "        9        466.00  46.00 14,569.00    15.00     57.00  ultra 1,950.00\n",
       "        10       350.00  44.00 14,703.00    15.00     73.00  ultra 1,950.00\n",
       "        11       338.00  37.00 14,757.00    15.00     58.00  ultra 1,950.00\n",
       "        12       333.00  38.00  9,818.00    10.00     70.00  ultra 1,950.00\n",
       "1001    11       430.00  45.00 18,430.00    18.00      0.00  smart 1,150.00\n",
       "        12       414.00  47.00 14,037.00    14.00      0.00  smart   550.00"
      ]
     },
     "execution_count": 23,
     "metadata": {},
     "output_type": "execute_result"
    }
   ],
   "source": [
    "# Добавим функцию расчета выручки с каждого пользователя\n",
    "def det_revenue(row):\n",
    "    messages = row['messages']\n",
    "    gb_used = row['gb_used']\n",
    "    tariff = row['tariff']\n",
    "    duration = row['duration']\n",
    "    calls = row['calls']\n",
    "    \n",
    "    if tariff == 'smart':\n",
    "        extra_duration = duration - tariffs.loc[0, 'minutes_included']\n",
    "        extra_gb = gb_used - tariffs.loc[0, 'mb_per_month_included'] / 1024\n",
    "        extra_messages = messages - tariffs.loc[0, 'messages_included']\n",
    "        \n",
    "        if extra_duration < 0: extra_duration = 0\n",
    "        if extra_gb < 0: extra_gb = 0\n",
    "        if extra_messages < 0: extra_messages = 0\n",
    "        \n",
    "        return (tariffs.loc[0, 'rub_per_message'] * extra_messages + \n",
    "                tariffs.loc[0, 'rub_per_gb'] * extra_gb + \n",
    "                tariffs.loc[0, 'rub_per_minute'] * extra_duration + \n",
    "                tariffs.loc[0, 'rub_monthly_fee']) \n",
    "    else:\n",
    "        extra_duration = duration - tariffs.loc[1, 'minutes_included']\n",
    "        extra_gb = gb_used - tariffs.loc[1, 'mb_per_month_included'] / 1024\n",
    "        extra_messages = messages - tariffs.loc[1, 'messages_included']\n",
    "        \n",
    "        if extra_duration < 0: extra_duration = 0\n",
    "        if extra_gb < 0: extra_gb = 0\n",
    "        if extra_messages < 0: extra_messages = 0\n",
    "        \n",
    "        return (tariffs.loc[1, 'rub_per_message'] * extra_messages + \n",
    "                tariffs.loc[1, 'rub_per_gb'] * extra_gb + \n",
    "                tariffs.loc[1, 'rub_per_minute'] * extra_duration + \n",
    "                tariffs.loc[1, 'rub_monthly_fee'])\n",
    "\n",
    "grouped_data['revenue'] = grouped_data.apply(det_revenue, axis=1)\n",
    "grouped_data.head(10)"
   ]
  },
  {
   "cell_type": "markdown",
   "id": "f8044435",
   "metadata": {},
   "source": [
    "# Анализ данных"
   ]
  },
  {
   "cell_type": "markdown",
   "id": "d2e64da8",
   "metadata": {},
   "source": [
    "Рассчитаем средние значения показателей для каждого пользователя"
   ]
  },
  {
   "cell_type": "code",
   "execution_count": 25,
   "id": "eba90c63",
   "metadata": {},
   "outputs": [
    {
     "data": {
      "text/html": [
       "<div>\n",
       "<style scoped>\n",
       "    .dataframe tbody tr th:only-of-type {\n",
       "        vertical-align: middle;\n",
       "    }\n",
       "\n",
       "    .dataframe tbody tr th {\n",
       "        vertical-align: top;\n",
       "    }\n",
       "\n",
       "    .dataframe thead th {\n",
       "        text-align: right;\n",
       "    }\n",
       "</style>\n",
       "<table border=\"1\" class=\"dataframe\">\n",
       "  <thead>\n",
       "    <tr style=\"text-align: right;\">\n",
       "      <th></th>\n",
       "      <th>duration</th>\n",
       "      <th>mb_used</th>\n",
       "      <th>messages</th>\n",
       "      <th>revenue</th>\n",
       "      <th>tariff</th>\n",
       "    </tr>\n",
       "    <tr>\n",
       "      <th>user_id</th>\n",
       "      <th></th>\n",
       "      <th></th>\n",
       "      <th></th>\n",
       "      <th></th>\n",
       "      <th></th>\n",
       "    </tr>\n",
       "  </thead>\n",
       "  <tbody>\n",
       "    <tr>\n",
       "      <td>1000</td>\n",
       "      <td>339.00</td>\n",
       "      <td>14,312.50</td>\n",
       "      <td>65.00</td>\n",
       "      <td>1,950.00</td>\n",
       "      <td>ultra</td>\n",
       "    </tr>\n",
       "    <tr>\n",
       "      <td>1001</td>\n",
       "      <td>422.00</td>\n",
       "      <td>16,233.50</td>\n",
       "      <td>0.00</td>\n",
       "      <td>850.00</td>\n",
       "      <td>smart</td>\n",
       "    </tr>\n",
       "    <tr>\n",
       "      <td>1002</td>\n",
       "      <td>214.00</td>\n",
       "      <td>17,581.00</td>\n",
       "      <td>11.00</td>\n",
       "      <td>1,150.00</td>\n",
       "      <td>smart</td>\n",
       "    </tr>\n",
       "    <tr>\n",
       "      <td>1003</td>\n",
       "      <td>824.00</td>\n",
       "      <td>11,357.00</td>\n",
       "      <td>83.00</td>\n",
       "      <td>1,950.00</td>\n",
       "      <td>ultra</td>\n",
       "    </tr>\n",
       "    <tr>\n",
       "      <td>1004</td>\n",
       "      <td>132.50</td>\n",
       "      <td>17,811.50</td>\n",
       "      <td>154.50</td>\n",
       "      <td>1,950.00</td>\n",
       "      <td>ultra</td>\n",
       "    </tr>\n",
       "    <tr>\n",
       "      <td>1005</td>\n",
       "      <td>593.50</td>\n",
       "      <td>7,833.50</td>\n",
       "      <td>49.00</td>\n",
       "      <td>836.50</td>\n",
       "      <td>smart</td>\n",
       "    </tr>\n",
       "    <tr>\n",
       "      <td>1006</td>\n",
       "      <td>356.00</td>\n",
       "      <td>15,522.00</td>\n",
       "      <td>0.00</td>\n",
       "      <td>750.00</td>\n",
       "      <td>smart</td>\n",
       "    </tr>\n",
       "    <tr>\n",
       "      <td>1007</td>\n",
       "      <td>480.00</td>\n",
       "      <td>14,428.00</td>\n",
       "      <td>26.00</td>\n",
       "      <td>981.00</td>\n",
       "      <td>smart</td>\n",
       "    </tr>\n",
       "    <tr>\n",
       "      <td>1008</td>\n",
       "      <td>339.00</td>\n",
       "      <td>13,218.00</td>\n",
       "      <td>56.00</td>\n",
       "      <td>568.00</td>\n",
       "      <td>smart</td>\n",
       "    </tr>\n",
       "    <tr>\n",
       "      <td>1009</td>\n",
       "      <td>221.00</td>\n",
       "      <td>17,732.50</td>\n",
       "      <td>12.00</td>\n",
       "      <td>1,150.00</td>\n",
       "      <td>smart</td>\n",
       "    </tr>\n",
       "  </tbody>\n",
       "</table>\n",
       "</div>"
      ],
      "text/plain": [
       "         duration   mb_used  messages  revenue tariff\n",
       "user_id                                              \n",
       "1000       339.00 14,312.50     65.00 1,950.00  ultra\n",
       "1001       422.00 16,233.50      0.00   850.00  smart\n",
       "1002       214.00 17,581.00     11.00 1,150.00  smart\n",
       "1003       824.00 11,357.00     83.00 1,950.00  ultra\n",
       "1004       132.50 17,811.50    154.50 1,950.00  ultra\n",
       "1005       593.50  7,833.50     49.00   836.50  smart\n",
       "1006       356.00 15,522.00      0.00   750.00  smart\n",
       "1007       480.00 14,428.00     26.00   981.00  smart\n",
       "1008       339.00 13,218.00     56.00   568.00  smart\n",
       "1009       221.00 17,732.50     12.00 1,150.00  smart"
      ]
     },
     "execution_count": 25,
     "metadata": {},
     "output_type": "execute_result"
    }
   ],
   "source": [
    "medians_data = grouped_data.pivot_table(index='user_id',\n",
    "                                        values=['duration', 'mb_used', 'messages', 'tariff', 'revenue'],\n",
    "                                        aggfunc='median')\n",
    "for user_id in users['user_id']:\n",
    "    medians_data.loc[user_id, 'tariff'] = users.loc[user_id-1000, 'tariff']\n",
    "\n",
    "medians_data.head(10)"
   ]
  },
  {
   "cell_type": "markdown",
   "id": "5fc20b9b",
   "metadata": {},
   "source": [
    "Рассчитаем медиану, стандартное отклонение и дисперсию показателей для каждого тарифа"
   ]
  },
  {
   "cell_type": "code",
   "execution_count": 26,
   "id": "a6a3c6ac",
   "metadata": {},
   "outputs": [
    {
     "data": {
      "text/html": [
       "<div>\n",
       "<style scoped>\n",
       "    .dataframe tbody tr th:only-of-type {\n",
       "        vertical-align: middle;\n",
       "    }\n",
       "\n",
       "    .dataframe tbody tr th {\n",
       "        vertical-align: top;\n",
       "    }\n",
       "\n",
       "    .dataframe thead tr th {\n",
       "        text-align: left;\n",
       "    }\n",
       "\n",
       "    .dataframe thead tr:last-of-type th {\n",
       "        text-align: right;\n",
       "    }\n",
       "</style>\n",
       "<table border=\"1\" class=\"dataframe\">\n",
       "  <thead>\n",
       "    <tr>\n",
       "      <th></th>\n",
       "      <th colspan=\"3\" halign=\"left\">duration</th>\n",
       "      <th colspan=\"3\" halign=\"left\">mb_used</th>\n",
       "      <th colspan=\"3\" halign=\"left\">messages</th>\n",
       "      <th colspan=\"3\" halign=\"left\">revenue</th>\n",
       "    </tr>\n",
       "    <tr>\n",
       "      <th></th>\n",
       "      <th>median</th>\n",
       "      <th>std</th>\n",
       "      <th>var</th>\n",
       "      <th>median</th>\n",
       "      <th>std</th>\n",
       "      <th>var</th>\n",
       "      <th>median</th>\n",
       "      <th>std</th>\n",
       "      <th>var</th>\n",
       "      <th>median</th>\n",
       "      <th>std</th>\n",
       "      <th>var</th>\n",
       "    </tr>\n",
       "    <tr>\n",
       "      <th>tariff</th>\n",
       "      <th></th>\n",
       "      <th></th>\n",
       "      <th></th>\n",
       "      <th></th>\n",
       "      <th></th>\n",
       "      <th></th>\n",
       "      <th></th>\n",
       "      <th></th>\n",
       "      <th></th>\n",
       "      <th></th>\n",
       "      <th></th>\n",
       "      <th></th>\n",
       "    </tr>\n",
       "  </thead>\n",
       "  <tbody>\n",
       "    <tr>\n",
       "      <td>smart</td>\n",
       "      <td>422.00</td>\n",
       "      <td>190.31</td>\n",
       "      <td>36,219.32</td>\n",
       "      <td>16,507.00</td>\n",
       "      <td>5,870.48</td>\n",
       "      <td>34,462,562.81</td>\n",
       "      <td>28.00</td>\n",
       "      <td>28.23</td>\n",
       "      <td>796.81</td>\n",
       "      <td>1,030.00</td>\n",
       "      <td>818.47</td>\n",
       "      <td>669,895.08</td>\n",
       "    </tr>\n",
       "    <tr>\n",
       "      <td>ultra</td>\n",
       "      <td>518.00</td>\n",
       "      <td>317.61</td>\n",
       "      <td>100,873.63</td>\n",
       "      <td>19,309.00</td>\n",
       "      <td>10,087.20</td>\n",
       "      <td>101,751,557.97</td>\n",
       "      <td>38.00</td>\n",
       "      <td>47.80</td>\n",
       "      <td>2,285.27</td>\n",
       "      <td>1,950.00</td>\n",
       "      <td>378.09</td>\n",
       "      <td>142,951.57</td>\n",
       "    </tr>\n",
       "  </tbody>\n",
       "</table>\n",
       "</div>"
      ],
      "text/plain": [
       "       duration                     mb_used                          messages  \\\n",
       "         median    std        var    median       std            var   median   \n",
       "tariff                                                                          \n",
       "smart    422.00 190.31  36,219.32 16,507.00  5,870.48  34,462,562.81    28.00   \n",
       "ultra    518.00 317.61 100,873.63 19,309.00 10,087.20 101,751,557.97    38.00   \n",
       "\n",
       "                       revenue                    \n",
       "         std      var   median    std        var  \n",
       "tariff                                            \n",
       "smart  28.23   796.81 1,030.00 818.47 669,895.08  \n",
       "ultra  47.80 2,285.27 1,950.00 378.09 142,951.57  "
      ]
     },
     "execution_count": 26,
     "metadata": {},
     "output_type": "execute_result"
    }
   ],
   "source": [
    "tariff_stats = grouped_data.pivot_table(index='tariff',\n",
    "                                        values=['duration', 'mb_used', 'messages', 'revenue'],\n",
    "                                        aggfunc={'duration': [np.median, np.var, np.std], \n",
    "                                                 'mb_used': [np.median, np.var, np.std], \n",
    "                                                 'messages': [np.median, np.var, np.std],\n",
    "                                                 'revenue': [np.median, np.var, np.std]})\n",
    "tariff_stats"
   ]
  },
  {
   "cell_type": "code",
   "execution_count": 27,
   "id": "6b05b900",
   "metadata": {},
   "outputs": [
    {
     "data": {
      "image/png": "[encoded data removed]",
      "text/plain": [
       "<Figure size 360x360 with 1 Axes>"
      ]
     },
     "metadata": {
      "needs_background": "light"
     },
     "output_type": "display_data"
    },
    {
     "data": {
      "image/png": "[encoded data removed]",
      "text/plain": [
       "<Figure size 360x360 with 1 Axes>"
      ]
     },
     "metadata": {
      "needs_background": "light"
     },
     "output_type": "display_data"
    },
    {
     "data": {
      "image/png": "[encoded data removed]",
      "text/plain": [
       "<Figure size 360x360 with 1 Axes>"
      ]
     },
     "metadata": {
      "needs_background": "light"
     },
     "output_type": "display_data"
    },
    {
     "data": {
      "image/png": "[encoded data removed]",
      "text/plain": [
       "<Figure size 360x360 with 1 Axes>"
      ]
     },
     "metadata": {
      "needs_background": "light"
     },
     "output_type": "display_data"
    }
   ],
   "source": [
    "for column in ['duration', 'mb_used', 'messages', 'revenue']:\n",
    "    medians_data.boxplot(by='tariff', column=column, figsize=(5, 5))\n",
    "    plt.show()"
   ]
  },
  {
   "cell_type": "markdown",
   "id": "7cf79336",
   "metadata": {},
   "source": [
    "Из графиков видно, что на тарифе Ультра __все__ показатели сильно смещены в большую сторону. \n",
    "На тарифе Смарт по части выручки присутствует несколько выбросов, превосходящих подобные выбросы на тарифе Ультра, на этом тарифе люди вообще склонны сильно переплачивать за услуги."
   ]
  },
  {
   "cell_type": "code",
   "execution_count": 28,
   "id": "e3f4ef5c",
   "metadata": {},
   "outputs": [
    {
     "data": {
      "image/png": "[encoded data removed]",
      "text/plain": [
       "<Figure size 720x360 with 1 Axes>"
      ]
     },
     "metadata": {
      "needs_background": "light"
     },
     "output_type": "display_data"
    }
   ],
   "source": [
    "plt.figure(figsize=(10,5))\n",
    "\n",
    "for tariff in ['ultra', 'smart']:\n",
    "    plt.hist(medians_data.query('tariff == @tariff')['duration'], alpha=0.6, bins=30)\n",
    "\n",
    "plt.legend(['Ультра', 'Смарт'])\n",
    "plt.grid()\n",
    "plt.title('Сравнение кол-ва минут тарифов')\n",
    "plt.xlabel('Кол-во минут')\n",
    "plt.ylabel('Кол-во пользователей')\n",
    "plt.show()"
   ]
  },
  {
   "cell_type": "code",
   "execution_count": null,
   "id": "3db0711e",
   "metadata": {},
   "outputs": [],
   "source": [
    "plt.figure(figsize=(10,5))\n",
    "\n",
    "for tariff in ['ultra', 'smart']:\n",
    "    plt.hist(medians_data.query('tariff == @tariff')['mb_used'], alpha=0.6, bins=30)\n",
    "\n",
    "plt.legend(['Ультра', 'Смарт'])\n",
    "plt.grid()\n",
    "plt.title('Сравнение кол-ва интернет-трафика у двух тарифов')\n",
    "plt.xlabel('Кол-во МБ')\n",
    "plt.ylabel('Кол-во пользователей')\n",
    "plt.show()"
   ]
  },
  {
   "cell_type": "code",
   "execution_count": null,
   "id": "797df9a6",
   "metadata": {},
   "outputs": [],
   "source": [
    "plt.figure(figsize=(10,5))\n",
    "\n",
    "for tariff in ['ultra', 'smart']:\n",
    "    plt.hist(medians_data.query('tariff == @tariff')['messages'], alpha=0.6, bins=30)\n",
    "\n",
    "plt.legend(['Ультра', 'Смарт'])\n",
    "plt.grid()\n",
    "plt.title('Сравнение кол-ва СМС-сообщений у двух тарифов')\n",
    "plt.xlabel('Кол-во СМС')\n",
    "plt.ylabel('Кол-во пользователей')\n",
    "plt.show()"
   ]
  },
  {
   "cell_type": "markdown",
   "id": "e7e7c139",
   "metadata": {},
   "source": [
    "Из гистограмм видно большую дисперсию на тарифе Ультра, чем на тарифе Смарт. \n",
    "Из этого можно сделать вывод, что пользователи на тарифе Ультра более спокойно относятся к тому, насколько эффективно они используют свой тариф. \n",
    "\n",
    "В то же время пользователи Смарта в большинстве своем стараются использовать предоставленный объем услуг по-максимому."
   ]
  },
  {
   "cell_type": "markdown",
   "id": "e3543d1c",
   "metadata": {},
   "source": [
    "# Проверка гипотез\n",
    "\n",
    "Имеем две гипотезы:\n",
    "- Средняя выручка пользователей тарифов «Ультра» и «Смарт» различается.\n",
    "- Средняя выручка пользователей из Москвы отличается от выручки пользователей из других регионов."
   ]
  },
  {
   "cell_type": "markdown",
   "id": "223b4e72",
   "metadata": {},
   "source": [
    "***\n",
    "H0 - Средняя выручка пользователей тарифов «Ультра» и «Смарт» __не__ различается\n",
    "\n",
    "H1 - Средняя выручка пользователей тарифов «Ультра» и «Смарт» различается"
   ]
  },
  {
   "cell_type": "code",
   "execution_count": null,
   "id": "908c9489",
   "metadata": {},
   "outputs": [],
   "source": [
    "ultra = grouped_data.query('tariff == \"ultra\"')['revenue']\n",
    "smart = grouped_data.query('tariff == \"smart\"')['revenue']\n",
    "\n",
    "alpha = 0.05\n",
    "\n",
    "results = st.ttest_ind(ultra, smart)\n",
    "\n",
    "print('p-значение:', results.pvalue)\n",
    "\n",
    "if (results.pvalue < alpha):\n",
    "    print(\"Отвергаем нулевую гипотезу\")\n",
    "else:\n",
    "    print(\"Не получилось отвергнуть нулевую гипотезу\")"
   ]
  },
  {
   "cell_type": "markdown",
   "id": "ee20bd6c",
   "metadata": {},
   "source": [
    "Как мы уже расчитали в таблице tariff_stats и увидели на графиках, средняя выручка по тарифам действительно __отличается__:"
   ]
  },
  {
   "cell_type": "code",
   "execution_count": null,
   "id": "65a53ce5",
   "metadata": {
    "scrolled": true
   },
   "outputs": [],
   "source": [
    "tariff_stats['revenue']"
   ]
  },
  {
   "cell_type": "markdown",
   "id": "8c71dd2b",
   "metadata": {},
   "source": [
    "***\n",
    "H0 - Средняя выручка пользователей из Москвы __не__ отличается от выручки пользователей из других регионов\n",
    "\n",
    "H1 - Средняя выручка пользователей из Москвы отличается от выручки пользователей из других регионов."
   ]
  },
  {
   "cell_type": "code",
   "execution_count": null,
   "id": "01104276",
   "metadata": {},
   "outputs": [],
   "source": [
    "for user in grouped_data.index:\n",
    "    grouped_data.loc[user, 'city'] = users.loc[user[0]-1000, 'city']\n",
    "\n",
    "moscow = grouped_data.query('city == \"Москва\"')['revenue']\n",
    "regions = grouped_data.query('city != \"Москва\"')['revenue']\n",
    "\n",
    "alpha = 0.05\n",
    "\n",
    "results = st.ttest_ind(moscow, regions, equal_var=False)\n",
    "\n",
    "print('p-значение:', results.pvalue)\n",
    "\n",
    "if (results.pvalue < alpha):\n",
    "    print(\"Отвергаем нулевую гипотезу\")\n",
    "else:\n",
    "    print(\"Не получилось отвергнуть нулевую гипотезу\")"
   ]
  },
  {
   "cell_type": "code",
   "execution_count": null,
   "id": "d866934d",
   "metadata": {},
   "outputs": [],
   "source": [
    "def region(city):\n",
    "    if city == 'Москва': return 'Москва'\n",
    "    else: return 'Другой регион'\n",
    "    \n",
    "grouped_data['region'] = grouped_data['city'].apply(region)\n",
    "grouped_data.pivot_table(index='region', values='revenue', aggfunc=['median', 'std'])"
   ]
  },
  {
   "cell_type": "code",
   "execution_count": null,
   "id": "d10ae016",
   "metadata": {},
   "outputs": [],
   "source": [
    "grouped_data.boxplot(by='region', column='revenue')\n",
    "plt.show()"
   ]
  },
  {
   "cell_type": "markdown",
   "id": "eb7d976e",
   "metadata": {},
   "source": [
    "По наблюдениям результатов теста, графиков и таблицы, мы __не можем утверждать__, что доходы с московских и региональных пользователей отличаются. "
   ]
  },
  {
   "cell_type": "markdown",
   "id": "5f4c4967",
   "metadata": {},
   "source": [
    "# Общий вывод\n",
    "\n",
    "В среднем по выборке тариф __Ультра__ приносит почти __вдвое больший доход__ по сравнению с тарифом Смарт, несмотря на то, что пользователи на Смарте чаще переплачивают за дополнительные услуги. \n",
    "\n",
    "Исходя из этого можно сделать вывод, что тариф __Ультра__ будет более __выгоден__ для продвижения, нежели Смарт.\n",
    "\n",
    "Так же напрашивается вывод о том, что пользователям Смарта часто не хватает того объема услуг, который предлагается на их тарифе. Возможно имеет смысл связаться с этими пользователями с предложением перейти на тариф Ультра, либо скорректировать объем услуг на тарифе Смарт.\n",
    "\n",
    "В свою очередь гипотеза о том, что Москва приносит больший доход оказалась __неверна__."
   ]
  }
 ],
 "metadata": {
  "ExecuteTimeLog": [
   {
    "duration": 326,
    "start_time": "2021-06-23T09:19:18.177Z"
   },
   {
    "duration": 2525,
    "start_time": "2021-06-23T09:19:21.459Z"
   },
   {
    "duration": 15,
    "start_time": "2021-06-23T09:19:23.986Z"
   },
   {
    "duration": 11,
    "start_time": "2021-06-23T09:19:24.005Z"
   },
   {
    "duration": 19,
    "start_time": "2021-06-23T09:19:24.020Z"
   },
   {
    "duration": 20,
    "start_time": "2021-06-23T09:19:24.041Z"
   },
   {
    "duration": 25,
    "start_time": "2021-06-23T09:19:24.064Z"
   },
   {
    "duration": 342,
    "start_time": "2021-06-23T09:19:24.092Z"
   },
   {
    "duration": 31,
    "start_time": "2021-06-23T09:19:24.437Z"
   },
   {
    "duration": 163,
    "start_time": "2021-06-23T09:19:24.473Z"
   },
   {
    "duration": 70,
    "start_time": "2021-06-23T09:19:24.639Z"
   },
   {
    "duration": 8,
    "start_time": "2021-06-23T09:19:24.712Z"
   },
   {
    "duration": 33,
    "start_time": "2021-06-23T09:19:24.723Z"
   },
   {
    "duration": 64,
    "start_time": "2021-06-23T09:19:24.758Z"
   },
   {
    "duration": 199,
    "start_time": "2021-06-23T09:19:24.824Z"
   },
   {
    "duration": 133,
    "start_time": "2021-06-23T09:19:25.026Z"
   },
   {
    "duration": 126,
    "start_time": "2021-06-23T09:19:25.161Z"
   },
   {
    "duration": 33,
    "start_time": "2021-06-23T09:19:25.289Z"
   },
   {
    "duration": 22,
    "start_time": "2021-06-23T09:19:28.563Z"
   },
   {
    "duration": 338,
    "start_time": "2021-06-23T09:28:02.307Z"
   },
   {
    "duration": 294,
    "start_time": "2021-06-23T09:28:11.907Z"
   },
   {
    "duration": 22,
    "start_time": "2021-06-23T09:28:36.247Z"
   },
   {
    "duration": 21,
    "start_time": "2021-06-23T09:28:53.648Z"
   },
   {
    "duration": 1052,
    "start_time": "2021-06-23T09:28:56.828Z"
   },
   {
    "duration": 12,
    "start_time": "2021-06-23T09:28:57.883Z"
   },
   {
    "duration": 14,
    "start_time": "2021-06-23T09:28:57.899Z"
   },
   {
    "duration": 20,
    "start_time": "2021-06-23T09:28:57.917Z"
   },
   {
    "duration": 23,
    "start_time": "2021-06-23T09:28:57.940Z"
   },
   {
    "duration": 14,
    "start_time": "2021-06-23T09:28:57.966Z"
   },
   {
    "duration": 354,
    "start_time": "2021-06-23T09:28:57.983Z"
   },
   {
    "duration": 20,
    "start_time": "2021-06-23T09:28:58.341Z"
   },
   {
    "duration": 124,
    "start_time": "2021-06-23T09:28:58.364Z"
   },
   {
    "duration": 66,
    "start_time": "2021-06-23T09:28:58.490Z"
   },
   {
    "duration": 5,
    "start_time": "2021-06-23T09:28:58.559Z"
   },
   {
    "duration": 21,
    "start_time": "2021-06-23T09:28:58.567Z"
   },
   {
    "duration": 78,
    "start_time": "2021-06-23T09:28:58.591Z"
   },
   {
    "duration": 174,
    "start_time": "2021-06-23T09:28:58.672Z"
   },
   {
    "duration": 115,
    "start_time": "2021-06-23T09:28:58.849Z"
   },
   {
    "duration": 112,
    "start_time": "2021-06-23T09:28:58.966Z"
   },
   {
    "duration": 33,
    "start_time": "2021-06-23T09:28:59.081Z"
   },
   {
    "duration": 3349,
    "start_time": "2021-06-23T09:28:59.117Z"
   },
   {
    "duration": 6,
    "start_time": "2021-06-23T09:29:02.469Z"
   },
   {
    "duration": 1113,
    "start_time": "2021-06-23T09:29:02.478Z"
   },
   {
    "duration": 26,
    "start_time": "2021-06-23T09:29:06.475Z"
   },
   {
    "duration": 45,
    "start_time": "2021-06-23T09:29:16.036Z"
   },
   {
    "duration": 43,
    "start_time": "2021-06-23T09:32:35.940Z"
   },
   {
    "duration": 43,
    "start_time": "2021-06-23T09:36:44.707Z"
   },
   {
    "duration": 351,
    "start_time": "2021-06-23T18:11:27.772Z"
   },
   {
    "duration": 4559,
    "start_time": "2021-06-23T18:11:38.380Z"
   },
   {
    "duration": 15,
    "start_time": "2021-06-23T18:11:42.942Z"
   },
   {
    "duration": 11,
    "start_time": "2021-06-23T18:11:42.966Z"
   },
   {
    "duration": 15,
    "start_time": "2021-06-23T18:11:42.980Z"
   },
   {
    "duration": 14,
    "start_time": "2021-06-23T18:11:42.997Z"
   },
   {
    "duration": 15,
    "start_time": "2021-06-23T18:11:43.014Z"
   },
   {
    "duration": 339,
    "start_time": "2021-06-23T18:11:43.032Z"
   },
   {
    "duration": 24,
    "start_time": "2021-06-23T18:11:43.376Z"
   },
   {
    "duration": 113,
    "start_time": "2021-06-23T18:11:43.404Z"
   },
   {
    "duration": 72,
    "start_time": "2021-06-23T18:11:43.519Z"
   },
   {
    "duration": 7,
    "start_time": "2021-06-23T18:11:43.593Z"
   },
   {
    "duration": 12,
    "start_time": "2021-06-23T18:11:43.603Z"
   },
   {
    "duration": 75,
    "start_time": "2021-06-23T18:11:43.617Z"
   },
   {
    "duration": 171,
    "start_time": "2021-06-23T18:11:43.694Z"
   },
   {
    "duration": 156,
    "start_time": "2021-06-23T18:11:43.867Z"
   },
   {
    "duration": 118,
    "start_time": "2021-06-23T18:11:44.025Z"
   },
   {
    "duration": 42,
    "start_time": "2021-06-23T18:11:44.146Z"
   },
   {
    "duration": 3106,
    "start_time": "2021-06-23T18:11:44.190Z"
   },
   {
    "duration": 7,
    "start_time": "2021-06-23T18:11:47.298Z"
   },
   {
    "duration": 1081,
    "start_time": "2021-06-23T18:11:47.308Z"
   },
   {
    "duration": 417,
    "start_time": "2021-06-23T18:11:48.392Z"
   },
   {
    "duration": 45,
    "start_time": "2021-06-23T18:11:48.812Z"
   },
   {
    "duration": 1076,
    "start_time": "2021-06-23T18:11:48.860Z"
   },
   {
    "duration": 604,
    "start_time": "2021-06-23T18:11:49.938Z"
   },
   {
    "duration": 593,
    "start_time": "2021-06-23T18:11:50.545Z"
   },
   {
    "duration": 654,
    "start_time": "2021-06-23T18:11:51.143Z"
   },
   {
    "duration": 16,
    "start_time": "2021-06-23T18:11:51.800Z"
   },
   {
    "duration": 10,
    "start_time": "2021-06-23T18:11:51.819Z"
   },
   {
    "duration": 3287,
    "start_time": "2021-06-23T18:11:51.833Z"
   },
   {
    "duration": 35,
    "start_time": "2021-06-23T18:11:55.123Z"
   },
   {
    "duration": 296,
    "start_time": "2021-06-23T18:11:55.161Z"
   },
   {
    "duration": 1144,
    "start_time": "2021-06-23T18:16:39.479Z"
   },
   {
    "duration": 3520,
    "start_time": "2021-06-23T18:18:10.724Z"
   },
   {
    "duration": 14,
    "start_time": "2021-06-23T18:18:14.247Z"
   },
   {
    "duration": 12,
    "start_time": "2021-06-23T18:18:14.264Z"
   },
   {
    "duration": 13,
    "start_time": "2021-06-23T18:18:14.279Z"
   },
   {
    "duration": 13,
    "start_time": "2021-06-23T18:18:14.294Z"
   },
   {
    "duration": 15,
    "start_time": "2021-06-23T18:18:14.309Z"
   },
   {
    "duration": 334,
    "start_time": "2021-06-23T18:18:14.326Z"
   },
   {
    "duration": 29,
    "start_time": "2021-06-23T18:18:14.664Z"
   },
   {
    "duration": 106,
    "start_time": "2021-06-23T18:18:14.697Z"
   },
   {
    "duration": 55,
    "start_time": "2021-06-23T18:18:14.806Z"
   },
   {
    "duration": 25,
    "start_time": "2021-06-23T18:18:14.863Z"
   },
   {
    "duration": 21,
    "start_time": "2021-06-23T18:18:14.891Z"
   },
   {
    "duration": 76,
    "start_time": "2021-06-23T18:18:14.914Z"
   },
   {
    "duration": 184,
    "start_time": "2021-06-23T18:18:14.993Z"
   },
   {
    "duration": 123,
    "start_time": "2021-06-23T18:18:15.180Z"
   },
   {
    "duration": 120,
    "start_time": "2021-06-23T18:18:15.306Z"
   },
   {
    "duration": 33,
    "start_time": "2021-06-23T18:18:15.428Z"
   },
   {
    "duration": 3070,
    "start_time": "2021-06-23T18:18:15.463Z"
   },
   {
    "duration": 10,
    "start_time": "2021-06-23T18:18:18.535Z"
   },
   {
    "duration": 1038,
    "start_time": "2021-06-23T18:18:18.548Z"
   },
   {
    "duration": 374,
    "start_time": "2021-06-23T18:18:19.589Z"
   },
   {
    "duration": 60,
    "start_time": "2021-06-23T18:18:19.966Z"
   },
   {
    "duration": 1052,
    "start_time": "2021-06-23T18:18:20.030Z"
   },
   {
    "duration": 563,
    "start_time": "2021-06-23T18:18:21.087Z"
   },
   {
    "duration": 588,
    "start_time": "2021-06-23T18:18:21.653Z"
   },
   {
    "duration": 644,
    "start_time": "2021-06-23T18:18:22.244Z"
   },
   {
    "duration": 15,
    "start_time": "2021-06-23T18:18:22.890Z"
   },
   {
    "duration": 16,
    "start_time": "2021-06-23T18:18:22.908Z"
   },
   {
    "duration": 3153,
    "start_time": "2021-06-23T18:18:22.927Z"
   },
   {
    "duration": 31,
    "start_time": "2021-06-23T18:18:26.086Z"
   },
   {
    "duration": 287,
    "start_time": "2021-06-23T18:18:26.119Z"
   },
   {
    "duration": 43,
    "start_time": "2021-06-23T18:21:52.598Z"
   },
   {
    "duration": 1080,
    "start_time": "2021-06-23T18:23:42.924Z"
   },
   {
    "duration": 1082,
    "start_time": "2021-06-23T18:23:54.873Z"
   },
   {
    "duration": 556,
    "start_time": "2021-06-23T18:23:58.979Z"
   },
   {
    "duration": 575,
    "start_time": "2021-06-23T18:24:03.121Z"
   },
   {
    "duration": 637,
    "start_time": "2021-06-23T18:24:04.549Z"
   },
   {
    "duration": 526,
    "start_time": "2021-06-23T18:26:50.134Z"
   },
   {
    "duration": 569,
    "start_time": "2021-06-23T18:27:03.644Z"
   },
   {
    "duration": 575,
    "start_time": "2021-06-23T18:27:14.660Z"
   },
   {
    "duration": 2744,
    "start_time": "2021-06-23T18:27:38.189Z"
   },
   {
    "duration": 16,
    "start_time": "2021-06-23T18:27:40.937Z"
   },
   {
    "duration": 13,
    "start_time": "2021-06-23T18:27:40.956Z"
   },
   {
    "duration": 18,
    "start_time": "2021-06-23T18:27:40.972Z"
   },
   {
    "duration": 14,
    "start_time": "2021-06-23T18:27:40.992Z"
   },
   {
    "duration": 31,
    "start_time": "2021-06-23T18:27:41.008Z"
   },
   {
    "duration": 311,
    "start_time": "2021-06-23T18:27:41.042Z"
   },
   {
    "duration": 38,
    "start_time": "2021-06-23T18:27:41.357Z"
   },
   {
    "duration": 109,
    "start_time": "2021-06-23T18:27:41.399Z"
   },
   {
    "duration": 54,
    "start_time": "2021-06-23T18:27:41.511Z"
   },
   {
    "duration": 8,
    "start_time": "2021-06-23T18:27:41.585Z"
   },
   {
    "duration": 14,
    "start_time": "2021-06-23T18:27:41.595Z"
   },
   {
    "duration": 84,
    "start_time": "2021-06-23T18:27:41.611Z"
   },
   {
    "duration": 182,
    "start_time": "2021-06-23T18:27:41.698Z"
   },
   {
    "duration": 133,
    "start_time": "2021-06-23T18:27:41.886Z"
   },
   {
    "duration": 118,
    "start_time": "2021-06-23T18:27:42.022Z"
   },
   {
    "duration": 46,
    "start_time": "2021-06-23T18:27:42.143Z"
   },
   {
    "duration": 3124,
    "start_time": "2021-06-23T18:27:42.192Z"
   },
   {
    "duration": 7,
    "start_time": "2021-06-23T18:27:45.318Z"
   },
   {
    "duration": 1112,
    "start_time": "2021-06-23T18:27:45.328Z"
   },
   {
    "duration": 394,
    "start_time": "2021-06-23T18:27:46.443Z"
   },
   {
    "duration": 57,
    "start_time": "2021-06-23T18:27:46.839Z"
   },
   {
    "duration": 1016,
    "start_time": "2021-06-23T18:27:46.901Z"
   },
   {
    "duration": 565,
    "start_time": "2021-06-23T18:27:47.920Z"
   },
   {
    "duration": 718,
    "start_time": "2021-06-23T18:27:48.488Z"
   },
   {
    "duration": 608,
    "start_time": "2021-06-23T18:27:49.208Z"
   },
   {
    "duration": 14,
    "start_time": "2021-06-23T18:27:49.819Z"
   },
   {
    "duration": 20,
    "start_time": "2021-06-23T18:27:49.836Z"
   },
   {
    "duration": 3199,
    "start_time": "2021-06-23T18:27:49.858Z"
   },
   {
    "duration": 45,
    "start_time": "2021-06-23T18:27:53.060Z"
   },
   {
    "duration": 286,
    "start_time": "2021-06-23T18:27:53.108Z"
   },
   {
    "duration": 3513,
    "start_time": "2021-06-23T18:32:44.720Z"
   },
   {
    "duration": 15,
    "start_time": "2021-06-23T18:32:48.235Z"
   },
   {
    "duration": 10,
    "start_time": "2021-06-23T18:32:48.257Z"
   },
   {
    "duration": 14,
    "start_time": "2021-06-23T18:32:48.270Z"
   },
   {
    "duration": 12,
    "start_time": "2021-06-23T18:32:48.286Z"
   },
   {
    "duration": 24,
    "start_time": "2021-06-23T18:32:48.300Z"
   },
   {
    "duration": 318,
    "start_time": "2021-06-23T18:32:48.328Z"
   },
   {
    "duration": 16,
    "start_time": "2021-06-23T18:32:48.649Z"
   },
   {
    "duration": 123,
    "start_time": "2021-06-23T18:32:48.668Z"
   },
   {
    "duration": 55,
    "start_time": "2021-06-23T18:32:48.793Z"
   },
   {
    "duration": 6,
    "start_time": "2021-06-23T18:32:48.850Z"
   },
   {
    "duration": 37,
    "start_time": "2021-06-23T18:32:48.858Z"
   },
   {
    "duration": 71,
    "start_time": "2021-06-23T18:32:48.898Z"
   },
   {
    "duration": 173,
    "start_time": "2021-06-23T18:32:48.971Z"
   },
   {
    "duration": 123,
    "start_time": "2021-06-23T18:32:49.147Z"
   },
   {
    "duration": 122,
    "start_time": "2021-06-23T18:32:49.272Z"
   },
   {
    "duration": 36,
    "start_time": "2021-06-23T18:32:49.397Z"
   },
   {
    "duration": 3213,
    "start_time": "2021-06-23T18:32:49.435Z"
   },
   {
    "duration": 7,
    "start_time": "2021-06-23T18:32:52.650Z"
   },
   {
    "duration": 1088,
    "start_time": "2021-06-23T18:32:52.659Z"
   },
   {
    "duration": 363,
    "start_time": "2021-06-23T18:32:53.749Z"
   },
   {
    "duration": 46,
    "start_time": "2021-06-23T18:32:54.116Z"
   },
   {
    "duration": 1045,
    "start_time": "2021-06-23T18:32:54.165Z"
   },
   {
    "duration": 579,
    "start_time": "2021-06-23T18:32:55.212Z"
   },
   {
    "duration": 604,
    "start_time": "2021-06-23T18:32:55.793Z"
   },
   {
    "duration": 644,
    "start_time": "2021-06-23T18:32:56.400Z"
   },
   {
    "duration": 16,
    "start_time": "2021-06-23T18:32:57.047Z"
   },
   {
    "duration": 28,
    "start_time": "2021-06-23T18:32:57.065Z"
   },
   {
    "duration": 3234,
    "start_time": "2021-06-23T18:32:57.096Z"
   },
   {
    "duration": 33,
    "start_time": "2021-06-23T18:33:00.333Z"
   },
   {
    "duration": 286,
    "start_time": "2021-06-23T18:33:00.385Z"
   },
   {
    "duration": 3600,
    "start_time": "2021-06-24T06:32:02.409Z"
   },
   {
    "duration": 16,
    "start_time": "2021-06-24T06:32:06.012Z"
   },
   {
    "duration": 10,
    "start_time": "2021-06-24T06:32:06.031Z"
   },
   {
    "duration": 10,
    "start_time": "2021-06-24T06:32:06.043Z"
   },
   {
    "duration": 15,
    "start_time": "2021-06-24T06:32:06.055Z"
   },
   {
    "duration": 16,
    "start_time": "2021-06-24T06:32:06.073Z"
   },
   {
    "duration": 317,
    "start_time": "2021-06-24T06:32:06.091Z"
   },
   {
    "duration": 16,
    "start_time": "2021-06-24T06:32:06.411Z"
   },
   {
    "duration": 103,
    "start_time": "2021-06-24T06:32:06.429Z"
   },
   {
    "duration": 59,
    "start_time": "2021-06-24T06:32:06.534Z"
   },
   {
    "duration": 6,
    "start_time": "2021-06-24T06:32:06.596Z"
   },
   {
    "duration": 24,
    "start_time": "2021-06-24T06:32:06.604Z"
   },
   {
    "duration": 372,
    "start_time": "2021-06-24T06:32:11.109Z"
   },
   {
    "duration": 389,
    "start_time": "2021-06-24T06:32:23.154Z"
   },
   {
    "duration": 191,
    "start_time": "2021-06-24T06:32:35.656Z"
   },
   {
    "duration": 406,
    "start_time": "2021-06-24T06:32:44.620Z"
   },
   {
    "duration": 164,
    "start_time": "2021-06-24T06:32:49.715Z"
   },
   {
    "duration": 211,
    "start_time": "2021-06-24T06:33:07.155Z"
   },
   {
    "duration": 161,
    "start_time": "2021-06-24T06:33:53.524Z"
   },
   {
    "duration": 173,
    "start_time": "2021-06-24T06:33:56.211Z"
   },
   {
    "duration": 173,
    "start_time": "2021-06-24T06:34:28.791Z"
   },
   {
    "duration": 41,
    "start_time": "2021-06-24T06:35:49.827Z"
   },
   {
    "duration": 32,
    "start_time": "2021-06-24T06:36:52.235Z"
   },
   {
    "duration": 13,
    "start_time": "2021-06-24T06:44:31.145Z"
   },
   {
    "duration": 275,
    "start_time": "2021-06-24T06:51:20.291Z"
   },
   {
    "duration": 2858,
    "start_time": "2021-06-24T06:51:23.585Z"
   },
   {
    "duration": 11,
    "start_time": "2021-06-24T06:51:26.445Z"
   },
   {
    "duration": 14,
    "start_time": "2021-06-24T06:51:26.459Z"
   },
   {
    "duration": 12,
    "start_time": "2021-06-24T06:51:26.476Z"
   },
   {
    "duration": 24,
    "start_time": "2021-06-24T06:51:26.491Z"
   },
   {
    "duration": 39,
    "start_time": "2021-06-24T06:51:26.517Z"
   },
   {
    "duration": 334,
    "start_time": "2021-06-24T06:51:26.558Z"
   },
   {
    "duration": 17,
    "start_time": "2021-06-24T06:51:26.896Z"
   },
   {
    "duration": 125,
    "start_time": "2021-06-24T06:51:26.916Z"
   },
   {
    "duration": 78,
    "start_time": "2021-06-24T06:51:27.044Z"
   },
   {
    "duration": 6,
    "start_time": "2021-06-24T06:51:27.125Z"
   },
   {
    "duration": 28,
    "start_time": "2021-06-24T06:51:27.133Z"
   },
   {
    "duration": 204,
    "start_time": "2021-06-24T06:51:27.163Z"
   },
   {
    "duration": 40,
    "start_time": "2021-06-24T06:51:27.369Z"
   },
   {
    "duration": 56,
    "start_time": "2021-06-24T06:51:27.412Z"
   },
   {
    "duration": 62,
    "start_time": "2021-06-24T06:51:27.470Z"
   },
   {
    "duration": 166,
    "start_time": "2021-06-24T06:51:27.535Z"
   },
   {
    "duration": 128,
    "start_time": "2021-06-24T06:51:27.704Z"
   },
   {
    "duration": 109,
    "start_time": "2021-06-24T06:51:27.834Z"
   },
   {
    "duration": 44,
    "start_time": "2021-06-24T06:51:27.945Z"
   },
   {
    "duration": 3664,
    "start_time": "2021-06-24T06:51:27.992Z"
   },
   {
    "duration": 9,
    "start_time": "2021-06-24T06:51:31.660Z"
   },
   {
    "duration": 1302,
    "start_time": "2021-06-24T06:51:31.676Z"
   },
   {
    "duration": 11,
    "start_time": "2021-06-24T06:51:32.981Z"
   },
   {
    "duration": 249,
    "start_time": "2021-06-24T06:51:32.995Z"
   },
   {
    "duration": 346,
    "start_time": "2021-06-24T06:51:32.900Z"
   },
   {
    "duration": 338,
    "start_time": "2021-06-24T06:51:32.910Z"
   },
   {
    "duration": 334,
    "start_time": "2021-06-24T06:51:32.916Z"
   },
   {
    "duration": 325,
    "start_time": "2021-06-24T06:51:32.927Z"
   },
   {
    "duration": 3333,
    "start_time": "2021-06-24T06:51:54.293Z"
   },
   {
    "duration": 16,
    "start_time": "2021-06-24T06:51:57.629Z"
   },
   {
    "duration": 12,
    "start_time": "2021-06-24T06:51:57.648Z"
   },
   {
    "duration": 11,
    "start_time": "2021-06-24T06:51:57.664Z"
   },
   {
    "duration": 13,
    "start_time": "2021-06-24T06:51:57.678Z"
   },
   {
    "duration": 15,
    "start_time": "2021-06-24T06:51:57.694Z"
   },
   {
    "duration": 346,
    "start_time": "2021-06-24T06:51:57.711Z"
   },
   {
    "duration": 17,
    "start_time": "2021-06-24T06:51:58.060Z"
   },
   {
    "duration": 126,
    "start_time": "2021-06-24T06:51:58.083Z"
   },
   {
    "duration": 78,
    "start_time": "2021-06-24T06:51:58.212Z"
   },
   {
    "duration": 6,
    "start_time": "2021-06-24T06:51:58.292Z"
   },
   {
    "duration": 14,
    "start_time": "2021-06-24T06:51:58.301Z"
   },
   {
    "duration": 238,
    "start_time": "2021-06-24T06:51:58.318Z"
   },
   {
    "duration": 43,
    "start_time": "2021-06-24T06:51:58.559Z"
   },
   {
    "duration": 34,
    "start_time": "2021-06-24T06:51:58.604Z"
   },
   {
    "duration": 69,
    "start_time": "2021-06-24T06:51:58.640Z"
   },
   {
    "duration": 154,
    "start_time": "2021-06-24T06:51:58.712Z"
   },
   {
    "duration": 112,
    "start_time": "2021-06-24T06:51:58.869Z"
   },
   {
    "duration": 114,
    "start_time": "2021-06-24T06:51:58.984Z"
   },
   {
    "duration": 34,
    "start_time": "2021-06-24T06:51:59.100Z"
   },
   {
    "duration": 3313,
    "start_time": "2021-06-24T06:51:59.136Z"
   },
   {
    "duration": 11,
    "start_time": "2021-06-24T06:52:02.451Z"
   },
   {
    "duration": 1031,
    "start_time": "2021-06-24T06:52:02.465Z"
   },
   {
    "duration": 13,
    "start_time": "2021-06-24T06:55:41.227Z"
   },
   {
    "duration": 359,
    "start_time": "2021-06-24T06:55:44.943Z"
   },
   {
    "duration": 61,
    "start_time": "2021-06-24T06:55:45.305Z"
   },
   {
    "duration": 1353,
    "start_time": "2021-06-24T06:55:45.370Z"
   },
   {
    "duration": 533,
    "start_time": "2021-06-24T06:55:46.726Z"
   },
   {
    "duration": 375,
    "start_time": "2021-06-24T06:55:47.261Z"
   },
   {
    "duration": 355,
    "start_time": "2021-06-24T06:55:47.284Z"
   },
   {
    "duration": 341,
    "start_time": "2021-06-24T06:55:47.299Z"
   },
   {
    "duration": 328,
    "start_time": "2021-06-24T06:55:47.314Z"
   },
   {
    "duration": 314,
    "start_time": "2021-06-24T06:55:47.329Z"
   },
   {
    "duration": 301,
    "start_time": "2021-06-24T06:55:47.344Z"
   },
   {
    "duration": 285,
    "start_time": "2021-06-24T06:55:47.361Z"
   },
   {
    "duration": 271,
    "start_time": "2021-06-24T06:55:47.377Z"
   },
   {
    "duration": 567,
    "start_time": "2021-06-24T06:55:56.559Z"
   },
   {
    "duration": 866,
    "start_time": "2021-06-24T06:56:36.554Z"
   },
   {
    "duration": 810,
    "start_time": "2021-06-24T06:56:44.590Z"
   },
   {
    "duration": 856,
    "start_time": "2021-06-24T06:56:48.610Z"
   },
   {
    "duration": 790,
    "start_time": "2021-06-24T06:57:22.580Z"
   },
   {
    "duration": 558,
    "start_time": "2021-06-24T06:57:46.418Z"
   },
   {
    "duration": 100,
    "start_time": "2021-06-24T06:59:37.625Z"
   }
  ],
  "kernelspec": {
   "display_name": "Python 3",
   "language": "python",
   "name": "python3"
  },
  "language_info": {
   "codemirror_mode": {
    "name": "ipython",
    "version": 3
   },
   "file_extension": ".py",
   "mimetype": "text/x-python",
   "name": "python",
   "nbconvert_exporter": "python",
   "pygments_lexer": "ipython3",
   "version": "3.8.8"
  },
  "toc": {
   "base_numbering": 1,
   "nav_menu": {},
   "number_sections": true,
   "sideBar": true,
   "skip_h1_title": true,
   "title_cell": "Table of Contents",
   "title_sidebar": "Contents",
   "toc_cell": false,
   "toc_position": {
    "height": "calc(100% - 180px)",
    "left": "10px",
    "top": "150px",
    "width": "319.188px"
   },
   "toc_section_display": true,
   "toc_window_display": false
  }
 },
 "nbformat": 4,
 "nbformat_minor": 5
}
