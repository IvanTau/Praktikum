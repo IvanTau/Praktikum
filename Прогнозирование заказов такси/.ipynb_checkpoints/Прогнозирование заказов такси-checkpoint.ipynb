{
 "cells": [
  {
   "cell_type": "markdown",
   "metadata": {},
   "source": [
    "#  Прогнозирование заказов такси"
   ]
  },
  {
   "cell_type": "markdown",
   "metadata": {},
   "source": [
    "Компания «Чётенькое такси» собрала исторические данные о заказах такси в аэропортах. Чтобы привлекать больше водителей в период пиковой нагрузки, нужно спрогнозировать количество заказов такси на следующий час. Постройте модель для такого предсказания.\n",
    "\n",
    "Значение метрики *RMSE* на тестовой выборке должно быть не больше 48.\n",
    "\n",
    "Вам нужно:\n",
    "\n",
    "1. Загрузить данные и выполнить их ресемплирование по одному часу.\n",
    "2. Проанализировать данные.\n",
    "3. Обучить разные модели с различными гиперпараметрами. Сделать тестовую выборку размером 10% от исходных данных.\n",
    "4. Проверить данные на тестовой выборке и сделать выводы.\n",
    "\n",
    "\n",
    "Данные лежат в файле `taxi.csv`. Количество заказов находится в столбце `num_orders` (от англ. *number of orders*, «число заказов»)."
   ]
  },
  {
   "cell_type": "markdown",
   "metadata": {},
   "source": [
    "## Подготовка"
   ]
  },
  {
   "cell_type": "code",
   "execution_count": 1,
   "metadata": {},
   "outputs": [],
   "source": [
    "import pandas as pd\n",
    "import numpy as np\n",
    "import matplotlib.pyplot as plt\n",
    "import seaborn as sns\n",
    "from statsmodels.tsa.seasonal import seasonal_decompose\n",
    "\n",
    "from sklearn.preprocessing import StandardScaler\n",
    "from sklearn.model_selection import train_test_split, GridSearchCV, TimeSeriesSplit\n",
    "from sklearn.linear_model import LinearRegression\n",
    "from sklearn.metrics import mean_squared_error\n",
    "from sklearn.dummy import DummyRegressor\n",
    "from sklearn.ensemble import RandomForestRegressor\n",
    "\n",
    "from lightgbm import LGBMRegressor\n",
    "from catboost import CatBoostRegressor\n",
    "\n",
    "import warnings\n",
    "warnings.filterwarnings(\"ignore\")"
   ]
  },
  {
   "cell_type": "code",
   "execution_count": 2,
   "metadata": {},
   "outputs": [],
   "source": [
    "sns.set(style='darkgrid', palette='tab10', font_scale=1.2)"
   ]
  },
  {
   "cell_type": "markdown",
   "metadata": {},
   "source": [
    "Откроем датасет и сделаем ресемплинг на один час"
   ]
  },
  {
   "cell_type": "code",
   "execution_count": 3,
   "metadata": {},
   "outputs": [],
   "source": [
    "data = pd.read_csv('/datasets/taxi.csv', index_col=[0], parse_dates=[0])\n",
    "data = data.sort_index()\n",
    "data = data.resample('1H').sum()"
   ]
  },
  {
   "cell_type": "markdown",
   "metadata": {},
   "source": [
    "## Анализ"
   ]
  },
  {
   "cell_type": "code",
   "execution_count": 4,
   "metadata": {
    "scrolled": true
   },
   "outputs": [
    {
     "data": {
      "text/html": [
       "<div>\n",
       "<style scoped>\n",
       "    .dataframe tbody tr th:only-of-type {\n",
       "        vertical-align: middle;\n",
       "    }\n",
       "\n",
       "    .dataframe tbody tr th {\n",
       "        vertical-align: top;\n",
       "    }\n",
       "\n",
       "    .dataframe thead th {\n",
       "        text-align: right;\n",
       "    }\n",
       "</style>\n",
       "<table border=\"1\" class=\"dataframe\">\n",
       "  <thead>\n",
       "    <tr style=\"text-align: right;\">\n",
       "      <th></th>\n",
       "      <th>num_orders</th>\n",
       "    </tr>\n",
       "    <tr>\n",
       "      <th>datetime</th>\n",
       "      <th></th>\n",
       "    </tr>\n",
       "  </thead>\n",
       "  <tbody>\n",
       "    <tr>\n",
       "      <td>2018-03-01 00:00:00</td>\n",
       "      <td>124</td>\n",
       "    </tr>\n",
       "    <tr>\n",
       "      <td>2018-03-01 01:00:00</td>\n",
       "      <td>85</td>\n",
       "    </tr>\n",
       "    <tr>\n",
       "      <td>2018-03-01 02:00:00</td>\n",
       "      <td>71</td>\n",
       "    </tr>\n",
       "    <tr>\n",
       "      <td>2018-03-01 03:00:00</td>\n",
       "      <td>66</td>\n",
       "    </tr>\n",
       "    <tr>\n",
       "      <td>2018-03-01 04:00:00</td>\n",
       "      <td>43</td>\n",
       "    </tr>\n",
       "  </tbody>\n",
       "</table>\n",
       "</div>"
      ],
      "text/plain": [
       "                     num_orders\n",
       "datetime                       \n",
       "2018-03-01 00:00:00         124\n",
       "2018-03-01 01:00:00          85\n",
       "2018-03-01 02:00:00          71\n",
       "2018-03-01 03:00:00          66\n",
       "2018-03-01 04:00:00          43"
      ]
     },
     "execution_count": 4,
     "metadata": {},
     "output_type": "execute_result"
    }
   ],
   "source": [
    "data.head()"
   ]
  },
  {
   "cell_type": "code",
   "execution_count": 5,
   "metadata": {
    "scrolled": true
   },
   "outputs": [
    {
     "name": "stdout",
     "output_type": "stream",
     "text": [
      "<class 'pandas.core.frame.DataFrame'>\n",
      "DatetimeIndex: 4416 entries, 2018-03-01 00:00:00 to 2018-08-31 23:00:00\n",
      "Freq: H\n",
      "Data columns (total 1 columns):\n",
      "num_orders    4416 non-null int64\n",
      "dtypes: int64(1)\n",
      "memory usage: 69.0 KB\n"
     ]
    }
   ],
   "source": [
    "data.info()"
   ]
  },
  {
   "cell_type": "markdown",
   "metadata": {},
   "source": [
    "Ресемплинг и парсинг дат проведены успешно. Пропусков в данных нет."
   ]
  },
  {
   "cell_type": "code",
   "execution_count": 6,
   "metadata": {
    "scrolled": true
   },
   "outputs": [
    {
     "data": {
      "image/png": "[encoded data removed]",
      "text/plain": [
       "<Figure size 1080x360 with 1 Axes>"
      ]
     },
     "metadata": {},
     "output_type": "display_data"
    }
   ],
   "source": [
    "plt.figure(figsize=(15, 5))\n",
    "plt.plot(data, alpha=0.5)\n",
    "plt.plot(data.rolling(24).mean())\n",
    "plt.plot(data.rolling(24).std())\n",
    "plt.title('График суммы заказов за час')\n",
    "plt.ylabel('Сумма заказов за час')\n",
    "plt.xlabel('Дата')\n",
    "plt.legend(['Заказы за час', 'Скользящее среднее за сутки', 'Скользящее станд. отклонение за сутки'])\n",
    "plt.show()"
   ]
  },
  {
   "cell_type": "markdown",
   "metadata": {},
   "source": [
    "За полгода виден небольшой и постепенный рост заказов такси. В конце датасета видны сильные скачки заказов - выше 400 за час.\n",
    "Возможно, они были вызваны каким-то празником или событием вроде чемпионата мира по футболу.\n",
    "\n",
    "Эти скачки не будем принимать за выбросы и удалять - такие события будут происходить в любом случае и модели нужно уметь с ними работать."
   ]
  },
  {
   "cell_type": "code",
   "execution_count": 7,
   "metadata": {
    "scrolled": true
   },
   "outputs": [
    {
     "data": {
      "image/png": "[encoded data removed]",
      "text/plain": [
       "<Figure size 936x576 with 3 Axes>"
      ]
     },
     "metadata": {},
     "output_type": "display_data"
    }
   ],
   "source": [
    "decomposed = seasonal_decompose(data) \n",
    "\n",
    "plt.figure(figsize=(13, 8))\n",
    "plt.subplot(311)\n",
    "decomposed.trend.plot(ax=plt.gca())\n",
    "plt.title('Тренд')\n",
    "\n",
    "plt.subplot(312)\n",
    "decomposed.seasonal.plot(ax=plt.gca())\n",
    "plt.title('Сезонность')\n",
    "\n",
    "plt.subplot(313)\n",
    "decomposed.resid.plot(ax=plt.gca())\n",
    "plt.title('Остатки')\n",
    "plt.tight_layout()"
   ]
  },
  {
   "cell_type": "markdown",
   "metadata": {},
   "source": [
    "Восходящий график тренда повторяет график скользящего среднего за сутки выше - количество заказов растет, особенно рост заметен начиная с июля.\n",
    "\n",
    "Сезонность рассмотрим на меньшем масштабе ниже."
   ]
  },
  {
   "cell_type": "code",
   "execution_count": 8,
   "metadata": {
    "scrolled": false
   },
   "outputs": [
    {
     "data": {
      "image/png": "[encoded data removed]",
      "text/plain": [
       "<Figure size 432x288 with 1 Axes>"
      ]
     },
     "metadata": {},
     "output_type": "display_data"
    }
   ],
   "source": [
    "decomposed.seasonal['2018-05-01': '2018-05-2'].plot()\n",
    "plt.title('Суточная сезонность')\n",
    "plt.xlabel('Время суток')\n",
    "plt.ylabel('Спрос на такси')\n",
    "plt.show()"
   ]
  },
  {
   "cell_type": "markdown",
   "metadata": {},
   "source": [
    "Видны повторяющиеся колебания спроса на такси в течение 24 часов."
   ]
  },
  {
   "cell_type": "markdown",
   "metadata": {},
   "source": [
    "## Подготовка признаков"
   ]
  },
  {
   "cell_type": "code",
   "execution_count": 9,
   "metadata": {},
   "outputs": [],
   "source": [
    "\n",
    "# Функция выделяет признаки для дальнейшего обучения модели\n",
    "def make_features(hours_lag, rolling_mean_size, data=data):\n",
    "    data['month'] = data.index.month.astype('category')\n",
    "    data['day'] = data.index.day.astype('category')\n",
    "    data['dayofweek'] = data.index.dayofweek.astype('category')\n",
    "    \n",
    "    for lag in range(1, hours_lag+1):\n",
    "        data[f'lag_hour_{lag}'] = data['num_orders'].shift(lag)\n",
    "                \n",
    "    data[f'rolling_mean_{rolling_mean_size}'] = data['num_orders'].shift().rolling(rolling_mean_size).mean()"
   ]
  },
  {
   "cell_type": "markdown",
   "metadata": {},
   "source": [
    "Сдвиг в 168 часов даст модели возможность смотреть в прошлое на 7 дней назад. Это повышает качество предсказаний, не сильно увеличивая время обучения. \n",
    "\n",
    "До этого пробовал делать отдельные сдвиги по суткам, но тогда модель предсказывает чуть-хуже, оставил почасовые."
   ]
  },
  {
   "cell_type": "code",
   "execution_count": 10,
   "metadata": {},
   "outputs": [],
   "source": [
    "make_features(7*24, 10)\n",
    "data.dropna(inplace=True)"
   ]
  },
  {
   "cell_type": "markdown",
   "metadata": {},
   "source": [
    "Выделим необходимые выборки для обучения и тестирования модели."
   ]
  },
  {
   "cell_type": "code",
   "execution_count": 11,
   "metadata": {
    "scrolled": false
   },
   "outputs": [
    {
     "name": "stdout",
     "output_type": "stream",
     "text": [
      "Размеры выборок:\n",
      "(3823, 172)\n",
      "(425, 172)\n",
      "(3823,)\n",
      "(425,)\n",
      "\n",
      "Проверка верного разделения выборок по времени:\n",
      " Конец обучающей выборки: 2018-08-14 06:00:00\n",
      " Начало тестовой выборки: 2018-08-14 07:00:00\n"
     ]
    }
   ],
   "source": [
    "features = data.drop(columns='num_orders')\n",
    "target = data['num_orders']\n",
    "\n",
    "X_train, X_test, y_train, y_test = train_test_split(features, target, shuffle=False, test_size=0.1)\n",
    "\n",
    "print('Размеры выборок:')\n",
    "for sample in [X_train, X_test, y_train, y_test]:\n",
    "    print(sample.shape)\n",
    "\n",
    "print('\\nПроверка верного разделения выборок по времени:')\n",
    "print(f' Конец обучающей выборки: {X_train.index.max()}')\n",
    "print(f' Начало тестовой выборки: {X_test.index.min()}')"
   ]
  },
  {
   "cell_type": "markdown",
   "metadata": {},
   "source": [
    "Тестовая выборка начинается именно в том месте, где начинаются те большие скачки количества заказов, упомянутые выше.\n",
    "\n",
    "Посмотрим, как с ними справится модель, обученная на более \"спокойных\" данных."
   ]
  },
  {
   "cell_type": "code",
   "execution_count": 12,
   "metadata": {},
   "outputs": [],
   "source": [
    "scaler = StandardScaler()\n",
    "numeric = X_train.columns\n",
    "scaler.fit(X_train[numeric])\n",
    "X_train[numeric] = scaler.transform(X_train[numeric])\n",
    "X_test[numeric] = scaler.transform(X_test[numeric])"
   ]
  },
  {
   "cell_type": "markdown",
   "metadata": {},
   "source": [
    "## Обучение и тестирование модели"
   ]
  },
  {
   "cell_type": "code",
   "execution_count": 13,
   "metadata": {},
   "outputs": [],
   "source": [
    "# Сплиттер для временного ряда, позволяет делать правильную кросс-валидацию без заглядывания в будущее\n",
    "tss = TimeSeriesSplit(n_splits=4)\n",
    "\n",
    "# Используем gridsearchcv для поиска лучших гиперпараметров\n",
    "def grid_train(model, params):\n",
    "    grid = GridSearchCV(model, params, n_jobs=-1, cv=tss)\n",
    "    grid.fit(X_train, y_train)\n",
    "    preds = grid.predict(X_test)\n",
    "    print('Параметры лучшей модели', grid.best_params_)\n",
    "    return grid.best_estimator_\n",
    "\n",
    "# Выводит графики для анализа качества модели\n",
    "def draw_preds(preds, y=y_test):\n",
    "    plt.figure(figsize=(10, 5))\n",
    "    sns.distplot(y)\n",
    "    sns.distplot(preds)\n",
    "    plt.legend(['Ответы', 'Предсказания'])\n",
    "    plt.xlabel('Цена')\n",
    "    plt.title('Графики правильных ответов и предсказаний')\n",
    "    plt.show()\n",
    "\n",
    "# Тестирует модель и выводит результаты теста\n",
    "def test_model(model, y_test=y_test):\n",
    "    preds = model.predict(X_test)\n",
    "    preds = pd.Series(data=preds, index=y_test.index)\n",
    "    print('RMSE лучшей модели', round(mean_squared_error(y_test, preds)**0.5, 2))\n",
    "    draw_preds(preds)"
   ]
  },
  {
   "cell_type": "markdown",
   "metadata": {},
   "source": [
    "Приступим к работе с моделями.\n",
    "Параметры gridsearch были подобраны, сейчас они фиксированы."
   ]
  },
  {
   "cell_type": "code",
   "execution_count": 14,
   "metadata": {},
   "outputs": [
    {
     "name": "stdout",
     "output_type": "stream",
     "text": [
      "Параметры лучшей модели {}\n",
      "RMSE лучшей модели 35.26\n"
     ]
    },
    {
     "data": {
      "image/png": "[encoded data removed]",
      "text/plain": [
       "<Figure size 720x360 with 1 Axes>"
      ]
     },
     "metadata": {},
     "output_type": "display_data"
    },
    {
     "name": "stdout",
     "output_type": "stream",
     "text": [
      "CPU times: user 1.88 s, sys: 1.15 s, total: 3.03 s\n",
      "Wall time: 3.05 s\n"
     ]
    }
   ],
   "source": [
    "%%time\n",
    "# Линейная регрессия\n",
    "model = grid_train(LinearRegression(), params={})\n",
    "test_model(model)"
   ]
  },
  {
   "cell_type": "code",
   "execution_count": 15,
   "metadata": {
    "scrolled": false
   },
   "outputs": [
    {
     "name": "stdout",
     "output_type": "stream",
     "text": [
      "Параметры лучшей модели {'max_depth': 8, 'n_estimators': 90}\n",
      "RMSE лучшей модели 39.86\n"
     ]
    },
    {
     "data": {
      "image/png": "[encoded data removed]",
      "text/plain": [
       "<Figure size 720x360 with 1 Axes>"
      ]
     },
     "metadata": {},
     "output_type": "display_data"
    },
    {
     "name": "stdout",
     "output_type": "stream",
     "text": [
      "CPU times: user 1min 3s, sys: 11.7 ms, total: 1min 3s\n",
      "Wall time: 1min 3s\n"
     ]
    }
   ],
   "source": [
    "%%time\n",
    "# Случайный лес\n",
    "params = {'n_estimators': [90],\n",
    "          'max_depth': [8]}\n",
    "\n",
    "model = grid_train(RandomForestRegressor(n_jobs=-1), params=params)\n",
    "test_model(model)"
   ]
  },
  {
   "cell_type": "code",
   "execution_count": 16,
   "metadata": {
    "scrolled": false
   },
   "outputs": [
    {
     "name": "stdout",
     "output_type": "stream",
     "text": [
      "Параметры лучшей модели {'learning_rate': 0.1, 'max_depth': 20, 'n_estimators': 150, 'num_leaves': 35}\n",
      "RMSE лучшей модели 36.92\n"
     ]
    },
    {
     "data": {
      "image/png": "[encoded data removed]",
      "text/plain": [
       "<Figure size 720x360 with 1 Axes>"
      ]
     },
     "metadata": {},
     "output_type": "display_data"
    },
    {
     "name": "stdout",
     "output_type": "stream",
     "text": [
      "CPU times: user 44.5 s, sys: 292 ms, total: 44.8 s\n",
      "Wall time: 45.8 s\n"
     ]
    }
   ],
   "source": [
    "%%time\n",
    "# LGBM\n",
    "params = {'n_estimators': [150],\n",
    "          'learning_rate': [0.1],\n",
    "          'max_depth': [20],\n",
    "          'num_leaves': [35]}\n",
    "\n",
    "model = grid_train(LGBMRegressor(n_jobs=-1), params=params)\n",
    "test_model(model)"
   ]
  },
  {
   "cell_type": "markdown",
   "metadata": {},
   "source": [
    "## Вывод"
   ]
  },
  {
   "cell_type": "markdown",
   "metadata": {},
   "source": [
    "В результате работы были проанализированны данные, обучено и протестировано несколько моделей регрессоров.\n",
    "\n",
    "Лучшей моделью оказалась простая Линейная регрессия - 35.26 RMSE, что удовлетворяет требованиям заказчика в 48 RMSE.\n",
    "Так же большим плюсом регрессии является молниеносная скорость обучения и предсказаний, что положительно скажется на скорости работы сервиса в дальнейшем."
   ]
  }
 ],
 "metadata": {
  "ExecuteTimeLog": [
   {
    "duration": 1114,
    "start_time": "2021-10-05T18:54:25.486Z"
   },
   {
    "duration": 267,
    "start_time": "2021-10-05T18:54:30.419Z"
   },
   {
    "duration": 772,
    "start_time": "2021-10-05T18:54:44.953Z"
   },
   {
    "duration": 115,
    "start_time": "2021-10-05T18:54:53.765Z"
   },
   {
    "duration": 604,
    "start_time": "2021-10-05T18:55:09.877Z"
   },
   {
    "duration": 137,
    "start_time": "2021-10-05T18:55:36.995Z"
   },
   {
    "duration": 16,
    "start_time": "2021-10-05T18:55:40.895Z"
   },
   {
    "duration": 137,
    "start_time": "2021-10-05T18:57:36.320Z"
   },
   {
    "duration": 12,
    "start_time": "2021-10-05T18:57:38.661Z"
   },
   {
    "duration": 125,
    "start_time": "2021-10-05T18:58:05.690Z"
   },
   {
    "duration": 12,
    "start_time": "2021-10-05T18:58:05.871Z"
   },
   {
    "duration": 8,
    "start_time": "2021-10-05T18:58:14.023Z"
   },
   {
    "duration": 131,
    "start_time": "2021-10-05T18:58:21.767Z"
   },
   {
    "duration": 8,
    "start_time": "2021-10-05T18:58:21.969Z"
   },
   {
    "duration": 122,
    "start_time": "2021-10-05T18:58:29.196Z"
   },
   {
    "duration": 8,
    "start_time": "2021-10-05T18:58:29.531Z"
   },
   {
    "duration": 872,
    "start_time": "2021-10-05T18:59:06.286Z"
   },
   {
    "duration": 5,
    "start_time": "2021-10-05T19:00:31.786Z"
   },
   {
    "duration": 118,
    "start_time": "2021-10-05T19:00:31.967Z"
   },
   {
    "duration": 1620,
    "start_time": "2021-10-05T19:00:32.164Z"
   },
   {
    "duration": 1477,
    "start_time": "2021-10-05T19:00:52.458Z"
   },
   {
    "duration": 665,
    "start_time": "2021-10-05T19:01:07.338Z"
   },
   {
    "duration": 193,
    "start_time": "2021-10-05T19:01:47.873Z"
   },
   {
    "duration": 7842,
    "start_time": "2021-10-05T19:01:48.896Z"
   },
   {
    "duration": 5,
    "start_time": "2021-10-05T19:02:04.728Z"
   },
   {
    "duration": 130,
    "start_time": "2021-10-05T19:02:32.632Z"
   },
   {
    "duration": 140,
    "start_time": "2021-10-05T19:02:56.644Z"
   },
   {
    "duration": 12,
    "start_time": "2021-10-05T19:02:58.413Z"
   },
   {
    "duration": 477,
    "start_time": "2021-10-05T19:03:05.863Z"
   },
   {
    "duration": 475,
    "start_time": "2021-10-05T19:03:12.034Z"
   },
   {
    "duration": 164,
    "start_time": "2021-10-05T19:03:19.842Z"
   },
   {
    "duration": 664,
    "start_time": "2021-10-05T19:03:20.020Z"
   },
   {
    "duration": 140,
    "start_time": "2021-10-05T19:03:23.329Z"
   },
   {
    "duration": 462,
    "start_time": "2021-10-05T19:03:23.526Z"
   },
   {
    "duration": 627,
    "start_time": "2021-10-05T19:03:29.111Z"
   },
   {
    "duration": 519,
    "start_time": "2021-10-05T19:03:51.099Z"
   },
   {
    "duration": 150,
    "start_time": "2021-10-05T19:03:55.940Z"
   },
   {
    "duration": 622,
    "start_time": "2021-10-05T19:03:58.793Z"
   },
   {
    "duration": 124,
    "start_time": "2021-10-05T19:04:02.587Z"
   },
   {
    "duration": 516,
    "start_time": "2021-10-05T19:04:07.680Z"
   },
   {
    "duration": 822,
    "start_time": "2021-10-05T19:04:10.646Z"
   },
   {
    "duration": 826,
    "start_time": "2021-10-05T19:04:12.847Z"
   },
   {
    "duration": 506,
    "start_time": "2021-10-05T19:04:16.446Z"
   },
   {
    "duration": 1503,
    "start_time": "2021-10-06T15:32:23.562Z"
   },
   {
    "duration": 189,
    "start_time": "2021-10-06T15:32:25.067Z"
   },
   {
    "duration": 526,
    "start_time": "2021-10-06T15:32:26.937Z"
   },
   {
    "duration": 4,
    "start_time": "2021-10-06T15:33:36.236Z"
   },
   {
    "duration": 6,
    "start_time": "2021-10-06T15:33:36.401Z"
   },
   {
    "duration": 132,
    "start_time": "2021-10-06T15:33:36.564Z"
   },
   {
    "duration": 493,
    "start_time": "2021-10-06T15:33:36.724Z"
   },
   {
    "duration": 135,
    "start_time": "2021-10-06T15:33:48.244Z"
   },
   {
    "duration": 498,
    "start_time": "2021-10-06T15:33:49.767Z"
   },
   {
    "duration": 155,
    "start_time": "2021-10-06T15:33:56.046Z"
   },
   {
    "duration": 526,
    "start_time": "2021-10-06T15:33:56.420Z"
   },
   {
    "duration": 9,
    "start_time": "2021-10-06T15:34:13.848Z"
   },
   {
    "duration": 20,
    "start_time": "2021-10-06T15:34:23.386Z"
   },
   {
    "duration": 318,
    "start_time": "2021-10-06T15:34:35.121Z"
   },
   {
    "duration": 7,
    "start_time": "2021-10-06T15:35:14.387Z"
   },
   {
    "duration": 7,
    "start_time": "2021-10-06T15:35:25.627Z"
   },
   {
    "duration": 8,
    "start_time": "2021-10-06T15:35:39.761Z"
   },
   {
    "duration": 10,
    "start_time": "2021-10-06T15:35:44.344Z"
   },
   {
    "duration": 12,
    "start_time": "2021-10-06T15:35:54.090Z"
   },
   {
    "duration": 412,
    "start_time": "2021-10-06T15:37:40.869Z"
   },
   {
    "duration": 540,
    "start_time": "2021-10-06T15:37:46.665Z"
   },
   {
    "duration": 613,
    "start_time": "2021-10-06T15:38:06.037Z"
   },
   {
    "duration": 693,
    "start_time": "2021-10-06T15:38:17.561Z"
   },
   {
    "duration": 594,
    "start_time": "2021-10-06T15:38:32.398Z"
   },
   {
    "duration": 541,
    "start_time": "2021-10-06T15:38:46.246Z"
   },
   {
    "duration": 449,
    "start_time": "2021-10-06T15:39:37.568Z"
   },
   {
    "duration": 1599,
    "start_time": "2021-10-06T15:39:44.110Z"
   },
   {
    "duration": 540,
    "start_time": "2021-10-06T15:40:03.105Z"
   },
   {
    "duration": 536,
    "start_time": "2021-10-06T15:40:30.832Z"
   },
   {
    "duration": 652,
    "start_time": "2021-10-06T15:40:37.075Z"
   },
   {
    "duration": 548,
    "start_time": "2021-10-06T15:40:40.374Z"
   },
   {
    "duration": 604,
    "start_time": "2021-10-06T15:41:01.464Z"
   },
   {
    "duration": 634,
    "start_time": "2021-10-06T15:41:07.335Z"
   },
   {
    "duration": 589,
    "start_time": "2021-10-06T15:41:16.701Z"
   },
   {
    "duration": 675,
    "start_time": "2021-10-06T15:41:30.002Z"
   },
   {
    "duration": 829,
    "start_time": "2021-10-06T15:41:37.808Z"
   },
   {
    "duration": 816,
    "start_time": "2021-10-06T15:41:57.616Z"
   },
   {
    "duration": 565,
    "start_time": "2021-10-06T15:42:02.057Z"
   },
   {
    "duration": 555,
    "start_time": "2021-10-06T15:42:11.035Z"
   },
   {
    "duration": 569,
    "start_time": "2021-10-06T15:43:44.746Z"
   },
   {
    "duration": 575,
    "start_time": "2021-10-06T15:43:55.297Z"
   },
   {
    "duration": 679,
    "start_time": "2021-10-06T15:44:12.046Z"
   },
   {
    "duration": 571,
    "start_time": "2021-10-06T15:44:19.245Z"
   },
   {
    "duration": 567,
    "start_time": "2021-10-06T15:44:23.140Z"
   },
   {
    "duration": 571,
    "start_time": "2021-10-06T15:44:37.576Z"
   },
   {
    "duration": 573,
    "start_time": "2021-10-06T15:44:57.786Z"
   },
   {
    "duration": 567,
    "start_time": "2021-10-06T15:45:10.903Z"
   },
   {
    "duration": 562,
    "start_time": "2021-10-06T15:45:22.302Z"
   },
   {
    "duration": 632,
    "start_time": "2021-10-06T15:45:41.734Z"
   },
   {
    "duration": 563,
    "start_time": "2021-10-06T15:45:58.527Z"
   },
   {
    "duration": 576,
    "start_time": "2021-10-06T15:46:02.979Z"
   },
   {
    "duration": 679,
    "start_time": "2021-10-06T15:46:16.437Z"
   },
   {
    "duration": 590,
    "start_time": "2021-10-06T15:46:27.914Z"
   },
   {
    "duration": 572,
    "start_time": "2021-10-06T15:46:42.799Z"
   },
   {
    "duration": 574,
    "start_time": "2021-10-06T15:47:02.781Z"
   },
   {
    "duration": 580,
    "start_time": "2021-10-06T15:47:07.697Z"
   },
   {
    "duration": 578,
    "start_time": "2021-10-06T15:47:18.754Z"
   },
   {
    "duration": 565,
    "start_time": "2021-10-06T15:47:27.664Z"
   },
   {
    "duration": 580,
    "start_time": "2021-10-06T15:47:41.732Z"
   },
   {
    "duration": 574,
    "start_time": "2021-10-06T15:47:55.751Z"
   },
   {
    "duration": 1487,
    "start_time": "2021-10-06T15:48:10.583Z"
   },
   {
    "duration": 4,
    "start_time": "2021-10-06T15:48:12.073Z"
   },
   {
    "duration": 190,
    "start_time": "2021-10-06T15:48:12.080Z"
   },
   {
    "duration": 433,
    "start_time": "2021-10-06T15:48:12.272Z"
   },
   {
    "duration": 8,
    "start_time": "2021-10-06T15:48:12.708Z"
   },
   {
    "duration": 5,
    "start_time": "2021-10-06T15:48:19.929Z"
   },
   {
    "duration": 136,
    "start_time": "2021-10-06T15:48:20.339Z"
   },
   {
    "duration": 569,
    "start_time": "2021-10-06T15:48:20.537Z"
   },
   {
    "duration": 577,
    "start_time": "2021-10-06T15:48:28.939Z"
   },
   {
    "duration": 6,
    "start_time": "2021-10-06T15:49:41.108Z"
   },
   {
    "duration": 150,
    "start_time": "2021-10-06T15:49:42.019Z"
   },
   {
    "duration": 576,
    "start_time": "2021-10-06T15:49:42.624Z"
   },
   {
    "duration": 567,
    "start_time": "2021-10-06T15:50:11.629Z"
   },
   {
    "duration": 568,
    "start_time": "2021-10-06T15:50:20.432Z"
   },
   {
    "duration": 570,
    "start_time": "2021-10-06T15:50:25.616Z"
   },
   {
    "duration": 638,
    "start_time": "2021-10-06T15:50:29.305Z"
   },
   {
    "duration": 566,
    "start_time": "2021-10-06T15:50:33.219Z"
   },
   {
    "duration": 5,
    "start_time": "2021-10-06T15:50:57.339Z"
   },
   {
    "duration": 137,
    "start_time": "2021-10-06T15:50:57.553Z"
   },
   {
    "duration": 590,
    "start_time": "2021-10-06T15:50:57.792Z"
   },
   {
    "duration": 5,
    "start_time": "2021-10-06T15:51:30.530Z"
   },
   {
    "duration": 578,
    "start_time": "2021-10-06T15:51:32.027Z"
   },
   {
    "duration": 5,
    "start_time": "2021-10-06T15:51:38.594Z"
   },
   {
    "duration": 576,
    "start_time": "2021-10-06T15:51:40.238Z"
   },
   {
    "duration": 5,
    "start_time": "2021-10-06T15:51:45.823Z"
   },
   {
    "duration": 582,
    "start_time": "2021-10-06T15:51:47.310Z"
   },
   {
    "duration": 6,
    "start_time": "2021-10-06T15:51:54.555Z"
   },
   {
    "duration": 129,
    "start_time": "2021-10-06T15:51:55.728Z"
   },
   {
    "duration": 576,
    "start_time": "2021-10-06T15:51:55.890Z"
   },
   {
    "duration": 579,
    "start_time": "2021-10-06T15:52:38.408Z"
   },
   {
    "duration": 603,
    "start_time": "2021-10-06T15:53:24.301Z"
   },
   {
    "duration": 620,
    "start_time": "2021-10-06T15:54:01.776Z"
   },
   {
    "duration": 640,
    "start_time": "2021-10-06T15:54:09.870Z"
   },
   {
    "duration": 640,
    "start_time": "2021-10-06T15:54:33.030Z"
   },
   {
    "duration": 739,
    "start_time": "2021-10-06T15:55:18.482Z"
   },
   {
    "duration": 649,
    "start_time": "2021-10-06T15:55:24.414Z"
   },
   {
    "duration": 656,
    "start_time": "2021-10-06T15:55:46.264Z"
   },
   {
    "duration": 746,
    "start_time": "2021-10-06T15:55:57.858Z"
   },
   {
    "duration": 646,
    "start_time": "2021-10-06T15:56:05.705Z"
   },
   {
    "duration": 130,
    "start_time": "2021-10-06T15:59:50.493Z"
   },
   {
    "duration": 643,
    "start_time": "2021-10-06T15:59:51.040Z"
   },
   {
    "duration": 12,
    "start_time": "2021-10-06T16:00:31.764Z"
   },
   {
    "duration": 125,
    "start_time": "2021-10-06T16:01:05.415Z"
   },
   {
    "duration": 10,
    "start_time": "2021-10-06T16:01:05.712Z"
   },
   {
    "duration": 133,
    "start_time": "2021-10-06T16:01:11.529Z"
   },
   {
    "duration": 10,
    "start_time": "2021-10-06T16:01:12.210Z"
   },
   {
    "duration": 134,
    "start_time": "2021-10-06T16:01:18.658Z"
   },
   {
    "duration": 9,
    "start_time": "2021-10-06T16:01:18.888Z"
   },
   {
    "duration": 141,
    "start_time": "2021-10-06T16:01:21.984Z"
   },
   {
    "duration": 9,
    "start_time": "2021-10-06T16:01:22.239Z"
   },
   {
    "duration": 598,
    "start_time": "2021-10-06T16:01:48.606Z"
   },
   {
    "duration": 593,
    "start_time": "2021-10-06T16:02:08.499Z"
   },
   {
    "duration": 610,
    "start_time": "2021-10-06T16:02:16.344Z"
   },
   {
    "duration": 608,
    "start_time": "2021-10-06T16:02:29.827Z"
   },
   {
    "duration": 4,
    "start_time": "2021-10-06T16:02:41.580Z"
   },
   {
    "duration": 597,
    "start_time": "2021-10-06T16:03:07.918Z"
   },
   {
    "duration": 687,
    "start_time": "2021-10-06T16:03:23.153Z"
   },
   {
    "duration": 614,
    "start_time": "2021-10-06T16:03:44.126Z"
   },
   {
    "duration": 619,
    "start_time": "2021-10-06T16:05:00.735Z"
   },
   {
    "duration": 609,
    "start_time": "2021-10-06T16:05:34.852Z"
   },
   {
    "duration": 610,
    "start_time": "2021-10-06T16:05:39.751Z"
   },
   {
    "duration": 615,
    "start_time": "2021-10-06T16:06:17.678Z"
   },
   {
    "duration": 614,
    "start_time": "2021-10-06T16:06:23.161Z"
   },
   {
    "duration": 433,
    "start_time": "2021-10-06T16:07:33.347Z"
   },
   {
    "duration": 5,
    "start_time": "2021-10-06T16:07:48.963Z"
   },
   {
    "duration": 369,
    "start_time": "2021-10-06T16:08:05.942Z"
   },
   {
    "duration": 338,
    "start_time": "2021-10-06T16:08:14.097Z"
   },
   {
    "duration": 13,
    "start_time": "2021-10-06T16:08:22.041Z"
   },
   {
    "duration": 545,
    "start_time": "2021-10-06T16:08:37.317Z"
   },
   {
    "duration": 368,
    "start_time": "2021-10-06T16:08:44.603Z"
   },
   {
    "duration": 442,
    "start_time": "2021-10-06T16:08:54.258Z"
   },
   {
    "duration": 326,
    "start_time": "2021-10-06T16:09:00.967Z"
   },
   {
    "duration": 93,
    "start_time": "2021-10-06T16:09:14.108Z"
   },
   {
    "duration": 644,
    "start_time": "2021-10-06T16:09:30.058Z"
   },
   {
    "duration": 12,
    "start_time": "2021-10-06T16:09:36.413Z"
   },
   {
    "duration": 18,
    "start_time": "2021-10-06T16:09:42.269Z"
   },
   {
    "duration": 616,
    "start_time": "2021-10-06T16:11:22.162Z"
   },
   {
    "duration": 601,
    "start_time": "2021-10-06T16:11:36.211Z"
   },
   {
    "duration": 606,
    "start_time": "2021-10-06T16:11:59.381Z"
   },
   {
    "duration": 604,
    "start_time": "2021-10-06T16:12:51.918Z"
   },
   {
    "duration": 621,
    "start_time": "2021-10-06T16:13:07.495Z"
   },
   {
    "duration": 616,
    "start_time": "2021-10-06T16:13:16.096Z"
   },
   {
    "duration": 601,
    "start_time": "2021-10-06T16:13:21.726Z"
   },
   {
    "duration": 1575,
    "start_time": "2021-10-06T16:23:36.675Z"
   },
   {
    "duration": 5,
    "start_time": "2021-10-06T16:23:38.253Z"
   },
   {
    "duration": 330,
    "start_time": "2021-10-06T16:23:38.265Z"
   },
   {
    "duration": 12,
    "start_time": "2021-10-06T16:23:38.598Z"
   },
   {
    "duration": 18,
    "start_time": "2021-10-06T16:23:38.613Z"
   },
   {
    "duration": 664,
    "start_time": "2021-10-06T16:23:38.633Z"
   },
   {
    "duration": 20,
    "start_time": "2021-10-06T16:23:39.302Z"
   },
   {
    "duration": 671,
    "start_time": "2021-10-06T16:24:07.080Z"
   },
   {
    "duration": 648,
    "start_time": "2021-10-06T16:24:15.370Z"
   },
   {
    "duration": 635,
    "start_time": "2021-10-06T16:25:06.091Z"
   },
   {
    "duration": 644,
    "start_time": "2021-10-06T16:25:38.267Z"
   },
   {
    "duration": 704,
    "start_time": "2021-10-06T16:25:47.640Z"
   },
   {
    "duration": 650,
    "start_time": "2021-10-06T16:26:08.211Z"
   },
   {
    "duration": 191,
    "start_time": "2021-10-06T16:27:09.856Z"
   },
   {
    "duration": 6,
    "start_time": "2021-10-06T16:28:21.541Z"
   },
   {
    "duration": 1260,
    "start_time": "2021-10-06T16:28:45.386Z"
   },
   {
    "duration": 6,
    "start_time": "2021-10-06T16:28:52.355Z"
   },
   {
    "duration": 270,
    "start_time": "2021-10-06T16:28:52.856Z"
   },
   {
    "duration": 19,
    "start_time": "2021-10-06T16:29:00.815Z"
   },
   {
    "duration": 24,
    "start_time": "2021-10-06T16:29:04.976Z"
   },
   {
    "duration": 19,
    "start_time": "2021-10-06T16:29:45.527Z"
   },
   {
    "duration": 17,
    "start_time": "2021-10-06T16:29:49.125Z"
   },
   {
    "duration": 19,
    "start_time": "2021-10-06T16:29:52.834Z"
   },
   {
    "duration": 34,
    "start_time": "2021-10-06T16:30:36.999Z"
   },
   {
    "duration": 18,
    "start_time": "2021-10-06T16:30:48.111Z"
   },
   {
    "duration": 10,
    "start_time": "2021-10-06T16:33:21.244Z"
   },
   {
    "duration": 11,
    "start_time": "2021-10-06T16:33:55.085Z"
   },
   {
    "duration": 11,
    "start_time": "2021-10-06T16:34:44.412Z"
   },
   {
    "duration": 14,
    "start_time": "2021-10-06T16:35:40.049Z"
   },
   {
    "duration": 18,
    "start_time": "2021-10-06T16:35:40.373Z"
   },
   {
    "duration": 15,
    "start_time": "2021-10-06T16:35:43.576Z"
   },
   {
    "duration": 17,
    "start_time": "2021-10-06T16:37:20.446Z"
   },
   {
    "duration": 15,
    "start_time": "2021-10-06T16:37:53.712Z"
   },
   {
    "duration": 16,
    "start_time": "2021-10-06T16:38:16.157Z"
   },
   {
    "duration": 15,
    "start_time": "2021-10-06T16:38:34.113Z"
   },
   {
    "duration": 15,
    "start_time": "2021-10-06T16:39:18.218Z"
   },
   {
    "duration": 12,
    "start_time": "2021-10-06T16:39:31.763Z"
   },
   {
    "duration": 11,
    "start_time": "2021-10-06T16:39:50.000Z"
   },
   {
    "duration": 13,
    "start_time": "2021-10-06T16:40:39.800Z"
   },
   {
    "duration": 12,
    "start_time": "2021-10-06T16:40:44.894Z"
   },
   {
    "duration": 83,
    "start_time": "2021-10-06T16:40:55.937Z"
   },
   {
    "duration": 12,
    "start_time": "2021-10-06T16:41:19.521Z"
   },
   {
    "duration": 17,
    "start_time": "2021-10-06T16:42:00.614Z"
   },
   {
    "duration": 16,
    "start_time": "2021-10-06T16:42:05.880Z"
   },
   {
    "duration": 15,
    "start_time": "2021-10-06T16:42:11.417Z"
   },
   {
    "duration": 13,
    "start_time": "2021-10-06T16:42:15.612Z"
   },
   {
    "duration": 13,
    "start_time": "2021-10-06T16:42:43.485Z"
   },
   {
    "duration": 15,
    "start_time": "2021-10-06T16:42:48.374Z"
   },
   {
    "duration": 14,
    "start_time": "2021-10-06T16:43:39.762Z"
   },
   {
    "duration": 281,
    "start_time": "2021-10-06T16:44:48.547Z"
   },
   {
    "duration": 11,
    "start_time": "2021-10-06T16:44:54.398Z"
   },
   {
    "duration": 211,
    "start_time": "2021-10-06T16:45:11.502Z"
   },
   {
    "duration": 971,
    "start_time": "2021-10-06T16:45:30.144Z"
   },
   {
    "duration": 752,
    "start_time": "2021-10-06T16:45:40.556Z"
   },
   {
    "duration": 1971,
    "start_time": "2021-10-06T16:45:47.950Z"
   },
   {
    "duration": 10850,
    "start_time": "2021-10-06T16:45:52.564Z"
   },
   {
    "duration": 1015,
    "start_time": "2021-10-06T16:46:15.497Z"
   },
   {
    "duration": 22383,
    "start_time": "2021-10-06T16:46:25.096Z"
   },
   {
    "duration": 11,
    "start_time": "2021-10-06T16:47:05.312Z"
   },
   {
    "duration": 858,
    "start_time": "2021-10-06T16:47:24.758Z"
   },
   {
    "duration": 10,
    "start_time": "2021-10-06T16:47:33.081Z"
   },
   {
    "duration": 17,
    "start_time": "2021-10-06T16:48:11.615Z"
   },
   {
    "duration": 19,
    "start_time": "2021-10-06T16:48:12.061Z"
   },
   {
    "duration": 13,
    "start_time": "2021-10-06T16:48:13.494Z"
   },
   {
    "duration": 11,
    "start_time": "2021-10-06T16:48:19.156Z"
   },
   {
    "duration": 23,
    "start_time": "2021-10-06T16:48:54.541Z"
   },
   {
    "duration": 37,
    "start_time": "2021-10-06T16:48:54.926Z"
   },
   {
    "duration": 15,
    "start_time": "2021-10-06T16:49:00.049Z"
   },
   {
    "duration": 12,
    "start_time": "2021-10-06T16:49:03.226Z"
   },
   {
    "duration": 1571,
    "start_time": "2021-10-06T16:49:09.405Z"
   },
   {
    "duration": 6,
    "start_time": "2021-10-06T16:49:10.979Z"
   },
   {
    "duration": 199,
    "start_time": "2021-10-06T16:49:10.988Z"
   },
   {
    "duration": 13,
    "start_time": "2021-10-06T16:49:11.190Z"
   },
   {
    "duration": 670,
    "start_time": "2021-10-06T16:49:11.206Z"
   },
   {
    "duration": 5,
    "start_time": "2021-10-06T16:49:11.878Z"
   },
   {
    "duration": 42,
    "start_time": "2021-10-06T16:49:11.886Z"
   },
   {
    "duration": 25,
    "start_time": "2021-10-06T16:49:11.932Z"
   },
   {
    "duration": 45,
    "start_time": "2021-10-06T16:49:11.960Z"
   },
   {
    "duration": 11,
    "start_time": "2021-10-06T16:49:12.008Z"
   },
   {
    "duration": 17,
    "start_time": "2021-10-06T16:49:26.841Z"
   },
   {
    "duration": 23,
    "start_time": "2021-10-06T16:49:27.469Z"
   },
   {
    "duration": 13,
    "start_time": "2021-10-06T16:49:29.882Z"
   },
   {
    "duration": 11,
    "start_time": "2021-10-06T16:49:33.997Z"
   },
   {
    "duration": 6,
    "start_time": "2021-10-06T16:49:46.192Z"
   },
   {
    "duration": 7,
    "start_time": "2021-10-06T16:49:46.202Z"
   },
   {
    "duration": 140,
    "start_time": "2021-10-06T16:49:46.213Z"
   },
   {
    "duration": 9,
    "start_time": "2021-10-06T16:49:46.356Z"
   },
   {
    "duration": 669,
    "start_time": "2021-10-06T16:49:46.367Z"
   },
   {
    "duration": 6,
    "start_time": "2021-10-06T16:49:47.039Z"
   },
   {
    "duration": 26,
    "start_time": "2021-10-06T16:49:47.047Z"
   },
   {
    "duration": 39,
    "start_time": "2021-10-06T16:49:47.076Z"
   },
   {
    "duration": 13,
    "start_time": "2021-10-06T16:49:47.118Z"
   },
   {
    "duration": 9,
    "start_time": "2021-10-06T16:49:47.134Z"
   },
   {
    "duration": 8,
    "start_time": "2021-10-06T16:51:08.964Z"
   },
   {
    "duration": 749,
    "start_time": "2021-10-06T16:51:56.522Z"
   },
   {
    "duration": 8,
    "start_time": "2021-10-06T16:52:41.857Z"
   },
   {
    "duration": 937,
    "start_time": "2021-10-06T16:52:42.108Z"
   },
   {
    "duration": 8,
    "start_time": "2021-10-06T16:53:16.664Z"
   },
   {
    "duration": 904,
    "start_time": "2021-10-06T16:53:17.049Z"
   },
   {
    "duration": 6928,
    "start_time": "2021-10-06T16:53:26.313Z"
   },
   {
    "duration": 898,
    "start_time": "2021-10-06T16:53:47.268Z"
   },
   {
    "duration": 7,
    "start_time": "2021-10-06T16:55:38.306Z"
   },
   {
    "duration": 236,
    "start_time": "2021-10-06T16:55:38.508Z"
   },
   {
    "duration": 5330,
    "start_time": "2021-10-06T16:55:44.084Z"
   },
   {
    "duration": 272,
    "start_time": "2021-10-06T16:55:49.416Z"
   },
   {
    "duration": 435,
    "start_time": "2021-10-06T16:55:56.009Z"
   },
   {
    "duration": 18,
    "start_time": "2021-10-06T16:56:17.208Z"
   },
   {
    "duration": 20,
    "start_time": "2021-10-06T16:56:17.467Z"
   },
   {
    "duration": 13,
    "start_time": "2021-10-06T16:56:17.738Z"
   },
   {
    "duration": 8,
    "start_time": "2021-10-06T16:56:18.020Z"
   },
   {
    "duration": 5006,
    "start_time": "2021-10-06T16:56:18.327Z"
   },
   {
    "duration": 572,
    "start_time": "2021-10-06T16:56:23.336Z"
   },
   {
    "duration": 9,
    "start_time": "2021-10-06T16:57:18.687Z"
   },
   {
    "duration": 265,
    "start_time": "2021-10-06T16:57:34.155Z"
   },
   {
    "duration": 9,
    "start_time": "2021-10-06T16:57:37.002Z"
   },
   {
    "duration": 9,
    "start_time": "2021-10-06T16:57:49.251Z"
   },
   {
    "duration": 7,
    "start_time": "2021-10-06T16:57:56.574Z"
   },
   {
    "duration": 9,
    "start_time": "2021-10-06T16:58:06.531Z"
   },
   {
    "duration": 1583,
    "start_time": "2021-10-06T16:58:28.198Z"
   },
   {
    "duration": 5,
    "start_time": "2021-10-06T16:58:29.784Z"
   },
   {
    "duration": 140,
    "start_time": "2021-10-06T16:58:29.792Z"
   },
   {
    "duration": 13,
    "start_time": "2021-10-06T16:58:29.935Z"
   },
   {
    "duration": 686,
    "start_time": "2021-10-06T16:58:29.950Z"
   },
   {
    "duration": 8,
    "start_time": "2021-10-06T16:58:30.639Z"
   },
   {
    "duration": 52,
    "start_time": "2021-10-06T16:58:30.650Z"
   },
   {
    "duration": 21,
    "start_time": "2021-10-06T16:58:30.706Z"
   },
   {
    "duration": 18,
    "start_time": "2021-10-06T16:58:30.730Z"
   },
   {
    "duration": 10,
    "start_time": "2021-10-06T16:58:30.751Z"
   },
   {
    "duration": 6309,
    "start_time": "2021-10-06T16:58:30.763Z"
   },
   {
    "duration": 450,
    "start_time": "2021-10-06T16:58:37.076Z"
   },
   {
    "duration": 14,
    "start_time": "2021-10-06T16:58:55.419Z"
   },
   {
    "duration": 18,
    "start_time": "2021-10-06T16:58:55.693Z"
   },
   {
    "duration": 12,
    "start_time": "2021-10-06T16:58:56.079Z"
   },
   {
    "duration": 7,
    "start_time": "2021-10-06T16:58:56.236Z"
   },
   {
    "duration": 5981,
    "start_time": "2021-10-06T16:58:56.402Z"
   },
   {
    "duration": 456,
    "start_time": "2021-10-06T16:59:02.385Z"
   },
   {
    "duration": 9,
    "start_time": "2021-10-06T16:59:03.948Z"
   },
   {
    "duration": 4111,
    "start_time": "2021-10-06T16:59:04.197Z"
   },
   {
    "duration": 14,
    "start_time": "2021-10-06T16:59:22.918Z"
   },
   {
    "duration": 18,
    "start_time": "2021-10-06T16:59:23.108Z"
   },
   {
    "duration": 14,
    "start_time": "2021-10-06T16:59:23.417Z"
   },
   {
    "duration": 8,
    "start_time": "2021-10-06T16:59:23.598Z"
   },
   {
    "duration": 4231,
    "start_time": "2021-10-06T16:59:23.933Z"
   },
   {
    "duration": 467,
    "start_time": "2021-10-06T16:59:28.167Z"
   },
   {
    "duration": 29,
    "start_time": "2021-10-06T17:00:20.412Z"
   },
   {
    "duration": 24,
    "start_time": "2021-10-06T17:00:20.666Z"
   },
   {
    "duration": 13,
    "start_time": "2021-10-06T17:00:21.386Z"
   },
   {
    "duration": 7,
    "start_time": "2021-10-06T17:00:21.672Z"
   },
   {
    "duration": 49870,
    "start_time": "2021-10-06T17:00:22.019Z"
   },
   {
    "duration": 536,
    "start_time": "2021-10-06T17:01:11.892Z"
   },
   {
    "duration": 6,
    "start_time": "2021-10-06T17:01:12.431Z"
   },
   {
    "duration": 24,
    "start_time": "2021-10-06T17:01:12.440Z"
   },
   {
    "duration": 44,
    "start_time": "2021-10-06T17:01:12.467Z"
   },
   {
    "duration": 12,
    "start_time": "2021-10-06T17:01:22.973Z"
   },
   {
    "duration": 97,
    "start_time": "2021-10-06T17:01:34.556Z"
   },
   {
    "duration": 18,
    "start_time": "2021-10-06T17:01:34.924Z"
   },
   {
    "duration": 13,
    "start_time": "2021-10-06T17:01:35.402Z"
   },
   {
    "duration": 16,
    "start_time": "2021-10-06T17:01:40.721Z"
   },
   {
    "duration": 7,
    "start_time": "2021-10-06T17:01:41.610Z"
   },
   {
    "duration": 5,
    "start_time": "2021-10-06T17:02:38.233Z"
   },
   {
    "duration": 502,
    "start_time": "2021-10-06T17:02:39.474Z"
   },
   {
    "duration": 4,
    "start_time": "2021-10-06T17:02:51.672Z"
   },
   {
    "duration": 878,
    "start_time": "2021-10-06T17:02:51.872Z"
   },
   {
    "duration": 520,
    "start_time": "2021-10-06T17:02:52.753Z"
   },
   {
    "duration": 4509,
    "start_time": "2021-10-06T17:02:58.426Z"
   },
   {
    "duration": 605,
    "start_time": "2021-10-06T17:03:05.602Z"
   },
   {
    "duration": 40,
    "start_time": "2021-10-06T17:03:28.537Z"
   },
   {
    "duration": 16,
    "start_time": "2021-10-06T17:03:28.727Z"
   },
   {
    "duration": 18,
    "start_time": "2021-10-06T17:03:29.155Z"
   },
   {
    "duration": 8,
    "start_time": "2021-10-06T17:03:29.262Z"
   },
   {
    "duration": 4,
    "start_time": "2021-10-06T17:03:29.539Z"
   },
   {
    "duration": 5987,
    "start_time": "2021-10-06T17:03:29.851Z"
   },
   {
    "duration": 781,
    "start_time": "2021-10-06T17:03:35.840Z"
   },
   {
    "duration": 58,
    "start_time": "2021-10-06T17:03:54.699Z"
   },
   {
    "duration": 19,
    "start_time": "2021-10-06T17:03:54.868Z"
   },
   {
    "duration": 19,
    "start_time": "2021-10-06T17:03:55.192Z"
   },
   {
    "duration": 8,
    "start_time": "2021-10-06T17:03:55.359Z"
   },
   {
    "duration": 4,
    "start_time": "2021-10-06T17:03:55.665Z"
   },
   {
    "duration": 21689,
    "start_time": "2021-10-06T17:03:55.925Z"
   },
   {
    "duration": 1588,
    "start_time": "2021-10-06T17:04:17.616Z"
   },
   {
    "duration": 40667,
    "start_time": "2021-10-06T17:04:34.805Z"
   },
   {
    "duration": 1445,
    "start_time": "2021-10-06T17:05:15.475Z"
   },
   {
    "duration": 8278,
    "start_time": "2021-10-06T17:05:32.683Z"
   },
   {
    "duration": 184,
    "start_time": "2021-10-06T17:06:52.143Z"
   },
   {
    "duration": 18510,
    "start_time": "2021-10-06T17:07:18.294Z"
   },
   {
    "duration": 319,
    "start_time": "2021-10-06T17:07:54.185Z"
   },
   {
    "duration": 8487,
    "start_time": "2021-10-06T17:08:15.308Z"
   },
   {
    "duration": 1608,
    "start_time": "2021-10-06T17:08:23.801Z"
   },
   {
    "duration": 102,
    "start_time": "2021-10-06T17:08:50.175Z"
   },
   {
    "duration": 22,
    "start_time": "2021-10-06T17:08:50.549Z"
   },
   {
    "duration": 8,
    "start_time": "2021-10-06T17:08:50.742Z"
   },
   {
    "duration": 4,
    "start_time": "2021-10-06T17:08:50.932Z"
   },
   {
    "duration": 12434,
    "start_time": "2021-10-06T17:08:51.194Z"
   },
   {
    "duration": 2494,
    "start_time": "2021-10-06T17:09:03.631Z"
   },
   {
    "duration": 1572,
    "start_time": "2021-10-06T17:09:28.320Z"
   },
   {
    "duration": 9,
    "start_time": "2021-10-06T17:09:29.895Z"
   },
   {
    "duration": 160,
    "start_time": "2021-10-06T17:09:29.907Z"
   },
   {
    "duration": 13,
    "start_time": "2021-10-06T17:09:30.070Z"
   },
   {
    "duration": 669,
    "start_time": "2021-10-06T17:09:30.086Z"
   },
   {
    "duration": 5,
    "start_time": "2021-10-06T17:09:30.758Z"
   },
   {
    "duration": 110,
    "start_time": "2021-10-06T17:09:30.766Z"
   },
   {
    "duration": 30,
    "start_time": "2021-10-06T17:09:30.879Z"
   },
   {
    "duration": 8,
    "start_time": "2021-10-06T17:09:30.912Z"
   },
   {
    "duration": 18,
    "start_time": "2021-10-06T17:09:30.922Z"
   },
   {
    "duration": 8833,
    "start_time": "2021-10-06T17:09:30.943Z"
   },
   {
    "duration": 1794,
    "start_time": "2021-10-06T17:09:39.778Z"
   },
   {
    "duration": 42,
    "start_time": "2021-10-06T17:09:57.261Z"
   },
   {
    "duration": 17,
    "start_time": "2021-10-06T17:09:57.485Z"
   },
   {
    "duration": 8,
    "start_time": "2021-10-06T17:09:57.747Z"
   },
   {
    "duration": 3,
    "start_time": "2021-10-06T17:09:58.128Z"
   },
   {
    "duration": 12421,
    "start_time": "2021-10-06T17:09:58.600Z"
   },
   {
    "duration": 38,
    "start_time": "2021-10-06T17:11:32.451Z"
   },
   {
    "duration": 16,
    "start_time": "2021-10-06T17:11:32.657Z"
   },
   {
    "duration": 8,
    "start_time": "2021-10-06T17:11:32.849Z"
   },
   {
    "duration": 4,
    "start_time": "2021-10-06T17:11:33.027Z"
   },
   {
    "duration": 1957,
    "start_time": "2021-10-06T17:11:48.136Z"
   },
   {
    "duration": 7,
    "start_time": "2021-10-06T17:11:50.095Z"
   },
   {
    "duration": 157,
    "start_time": "2021-10-06T17:11:50.106Z"
   },
   {
    "duration": 17,
    "start_time": "2021-10-06T17:11:50.266Z"
   },
   {
    "duration": 738,
    "start_time": "2021-10-06T17:11:50.286Z"
   },
   {
    "duration": 7,
    "start_time": "2021-10-06T17:11:51.027Z"
   },
   {
    "duration": 133,
    "start_time": "2021-10-06T17:11:51.037Z"
   },
   {
    "duration": 30,
    "start_time": "2021-10-06T17:11:51.174Z"
   },
   {
    "duration": 8,
    "start_time": "2021-10-06T17:11:51.208Z"
   },
   {
    "duration": 6,
    "start_time": "2021-10-06T17:11:51.220Z"
   },
   {
    "duration": 36169,
    "start_time": "2021-10-06T17:11:51.228Z"
   },
   {
    "duration": 1667,
    "start_time": "2021-10-06T17:12:27.401Z"
   },
   {
    "duration": 37,
    "start_time": "2021-10-06T17:12:53.232Z"
   },
   {
    "duration": 15,
    "start_time": "2021-10-06T17:12:53.467Z"
   },
   {
    "duration": 7,
    "start_time": "2021-10-06T17:12:53.677Z"
   },
   {
    "duration": 7,
    "start_time": "2021-10-06T17:12:53.876Z"
   },
   {
    "duration": 7483,
    "start_time": "2021-10-06T17:12:54.222Z"
   },
   {
    "duration": 2529,
    "start_time": "2021-10-06T17:15:29.433Z"
   },
   {
    "duration": 1459,
    "start_time": "2021-10-06T17:15:41.000Z"
   },
   {
    "duration": 1596,
    "start_time": "2021-10-06T17:15:50.385Z"
   },
   {
    "duration": 5,
    "start_time": "2021-10-06T17:15:51.984Z"
   },
   {
    "duration": 140,
    "start_time": "2021-10-06T17:15:51.992Z"
   },
   {
    "duration": 13,
    "start_time": "2021-10-06T17:15:52.135Z"
   },
   {
    "duration": 604,
    "start_time": "2021-10-06T17:15:52.150Z"
   },
   {
    "duration": 6,
    "start_time": "2021-10-06T17:15:52.757Z"
   },
   {
    "duration": 101,
    "start_time": "2021-10-06T17:15:52.765Z"
   },
   {
    "duration": 30,
    "start_time": "2021-10-06T17:15:52.872Z"
   },
   {
    "duration": 9,
    "start_time": "2021-10-06T17:15:52.906Z"
   },
   {
    "duration": 17,
    "start_time": "2021-10-06T17:15:52.918Z"
   },
   {
    "duration": 8819,
    "start_time": "2021-10-06T17:15:52.938Z"
   },
   {
    "duration": 1552,
    "start_time": "2021-10-06T17:16:01.760Z"
   },
   {
    "duration": 1471,
    "start_time": "2021-10-06T17:16:14.072Z"
   },
   {
    "duration": 2294,
    "start_time": "2021-10-06T17:16:16.091Z"
   },
   {
    "duration": 5,
    "start_time": "2021-10-06T17:16:23.300Z"
   },
   {
    "duration": 8,
    "start_time": "2021-10-06T17:16:23.308Z"
   },
   {
    "duration": 140,
    "start_time": "2021-10-06T17:16:23.319Z"
   },
   {
    "duration": 9,
    "start_time": "2021-10-06T17:16:23.461Z"
   },
   {
    "duration": 593,
    "start_time": "2021-10-06T17:16:24.889Z"
   },
   {
    "duration": 565,
    "start_time": "2021-10-06T17:17:42.929Z"
   },
   {
    "duration": 587,
    "start_time": "2021-10-06T17:20:16.226Z"
   },
   {
    "duration": 706,
    "start_time": "2021-10-06T17:21:48.460Z"
   },
   {
    "duration": 718,
    "start_time": "2021-10-06T17:22:29.663Z"
   },
   {
    "duration": 701,
    "start_time": "2021-10-06T17:22:36.053Z"
   },
   {
    "duration": 742,
    "start_time": "2021-10-06T17:23:12.393Z"
   },
   {
    "duration": 569,
    "start_time": "2021-10-06T17:23:24.547Z"
   },
   {
    "duration": 580,
    "start_time": "2021-10-06T17:23:28.276Z"
   },
   {
    "duration": 571,
    "start_time": "2021-10-06T17:24:51.929Z"
   },
   {
    "duration": 135,
    "start_time": "2021-10-06T17:25:25.210Z"
   },
   {
    "duration": 10,
    "start_time": "2021-10-06T17:25:25.562Z"
   },
   {
    "duration": 629,
    "start_time": "2021-10-06T17:25:27.621Z"
   },
   {
    "duration": 1580,
    "start_time": "2021-10-06T17:25:44.310Z"
   },
   {
    "duration": 10,
    "start_time": "2021-10-06T17:25:45.893Z"
   },
   {
    "duration": 142,
    "start_time": "2021-10-06T17:25:45.905Z"
   },
   {
    "duration": 13,
    "start_time": "2021-10-06T17:25:46.049Z"
   },
   {
    "duration": 653,
    "start_time": "2021-10-06T17:25:46.064Z"
   },
   {
    "duration": 6,
    "start_time": "2021-10-06T17:25:46.719Z"
   },
   {
    "duration": 133,
    "start_time": "2021-10-06T17:25:46.727Z"
   },
   {
    "duration": 39,
    "start_time": "2021-10-06T17:25:46.862Z"
   },
   {
    "duration": 8,
    "start_time": "2021-10-06T17:25:46.906Z"
   },
   {
    "duration": 9,
    "start_time": "2021-10-06T17:25:46.917Z"
   },
   {
    "duration": 9277,
    "start_time": "2021-10-06T17:25:46.928Z"
   },
   {
    "duration": 1541,
    "start_time": "2021-10-06T17:25:56.207Z"
   },
   {
    "duration": 1562,
    "start_time": "2021-10-06T17:26:51.527Z"
   },
   {
    "duration": 10,
    "start_time": "2021-10-06T17:26:53.092Z"
   },
   {
    "duration": 165,
    "start_time": "2021-10-06T17:26:53.105Z"
   },
   {
    "duration": 14,
    "start_time": "2021-10-06T17:26:53.273Z"
   },
   {
    "duration": 632,
    "start_time": "2021-10-06T17:26:53.289Z"
   },
   {
    "duration": 5,
    "start_time": "2021-10-06T17:26:53.923Z"
   },
   {
    "duration": 93,
    "start_time": "2021-10-06T17:26:53.931Z"
   },
   {
    "duration": 17,
    "start_time": "2021-10-06T17:26:54.028Z"
   },
   {
    "duration": 7,
    "start_time": "2021-10-06T17:26:54.048Z"
   },
   {
    "duration": 6,
    "start_time": "2021-10-06T17:26:54.058Z"
   },
   {
    "duration": 7815,
    "start_time": "2021-10-06T17:26:54.067Z"
   },
   {
    "duration": 1534,
    "start_time": "2021-10-06T17:27:01.885Z"
   },
   {
    "duration": 76,
    "start_time": "2021-10-06T17:27:17.893Z"
   },
   {
    "duration": 22,
    "start_time": "2021-10-06T17:27:18.075Z"
   },
   {
    "duration": 10,
    "start_time": "2021-10-06T17:27:18.252Z"
   },
   {
    "duration": 3,
    "start_time": "2021-10-06T17:27:18.629Z"
   },
   {
    "duration": 9757,
    "start_time": "2021-10-06T17:27:18.867Z"
   },
   {
    "duration": 168,
    "start_time": "2021-10-06T17:28:15.733Z"
   },
   {
    "duration": 24,
    "start_time": "2021-10-06T17:28:15.962Z"
   },
   {
    "duration": 8,
    "start_time": "2021-10-06T17:28:16.205Z"
   },
   {
    "duration": 4,
    "start_time": "2021-10-06T17:28:16.523Z"
   },
   {
    "duration": 18563,
    "start_time": "2021-10-06T17:28:17.145Z"
   },
   {
    "duration": 4065,
    "start_time": "2021-10-06T17:29:13.607Z"
   },
   {
    "duration": 6,
    "start_time": "2021-10-06T17:32:08.513Z"
   },
   {
    "duration": 51,
    "start_time": "2021-10-06T17:32:34.579Z"
   },
   {
    "duration": 48,
    "start_time": "2021-10-06T17:32:46.187Z"
   },
   {
    "duration": 944,
    "start_time": "2021-10-06T17:33:29.171Z"
   },
   {
    "duration": 6,
    "start_time": "2021-10-06T17:35:36.702Z"
   },
   {
    "duration": 8,
    "start_time": "2021-10-06T17:35:43.837Z"
   },
   {
    "duration": 32,
    "start_time": "2021-10-06T17:36:33.017Z"
   },
   {
    "duration": 25,
    "start_time": "2021-10-06T17:37:10.249Z"
   },
   {
    "duration": 32,
    "start_time": "2021-10-06T17:37:25.652Z"
   },
   {
    "duration": 299,
    "start_time": "2021-10-06T17:37:39.852Z"
   },
   {
    "duration": 26,
    "start_time": "2021-10-06T17:37:46.347Z"
   },
   {
    "duration": 35,
    "start_time": "2021-10-06T17:37:59.472Z"
   },
   {
    "duration": 32,
    "start_time": "2021-10-06T17:38:15.751Z"
   },
   {
    "duration": 33,
    "start_time": "2021-10-06T17:38:27.988Z"
   },
   {
    "duration": 20,
    "start_time": "2021-10-06T17:39:04.460Z"
   },
   {
    "duration": 21,
    "start_time": "2021-10-06T17:39:12.615Z"
   },
   {
    "duration": 300,
    "start_time": "2021-10-06T17:40:30.090Z"
   },
   {
    "duration": 28,
    "start_time": "2021-10-06T17:40:31.020Z"
   },
   {
    "duration": 8,
    "start_time": "2021-10-06T17:40:32.323Z"
   },
   {
    "duration": 4,
    "start_time": "2021-10-06T17:40:32.917Z"
   },
   {
    "duration": 35622,
    "start_time": "2021-10-06T17:40:33.759Z"
   },
   {
    "duration": 50,
    "start_time": "2021-10-06T17:42:46.191Z"
   },
   {
    "duration": 94,
    "start_time": "2021-10-06T17:44:46.809Z"
   },
   {
    "duration": 1690,
    "start_time": "2021-10-06T17:44:51.106Z"
   },
   {
    "duration": 6,
    "start_time": "2021-10-06T17:44:52.798Z"
   },
   {
    "duration": 197,
    "start_time": "2021-10-06T17:44:52.810Z"
   },
   {
    "duration": 13,
    "start_time": "2021-10-06T17:44:53.010Z"
   },
   {
    "duration": 661,
    "start_time": "2021-10-06T17:44:53.026Z"
   },
   {
    "duration": 6,
    "start_time": "2021-10-06T17:44:53.701Z"
   },
   {
    "duration": 236,
    "start_time": "2021-10-06T17:44:53.711Z"
   },
   {
    "duration": 22,
    "start_time": "2021-10-06T17:44:53.950Z"
   },
   {
    "duration": 7,
    "start_time": "2021-10-06T17:44:53.974Z"
   },
   {
    "duration": 5,
    "start_time": "2021-10-06T17:44:54.001Z"
   },
   {
    "duration": 18515,
    "start_time": "2021-10-06T17:44:54.009Z"
   },
   {
    "duration": 37,
    "start_time": "2021-10-06T17:45:12.527Z"
   },
   {
    "duration": 442,
    "start_time": "2021-10-06T17:45:38.912Z"
   },
   {
    "duration": 325,
    "start_time": "2021-10-06T17:45:54.572Z"
   },
   {
    "duration": 292,
    "start_time": "2021-10-06T17:45:59.811Z"
   },
   {
    "duration": 549,
    "start_time": "2021-10-06T17:46:06.570Z"
   },
   {
    "duration": 292,
    "start_time": "2021-10-06T17:46:10.745Z"
   },
   {
    "duration": 310,
    "start_time": "2021-10-06T17:46:16.410Z"
   },
   {
    "duration": 692,
    "start_time": "2021-10-06T17:46:18.853Z"
   },
   {
    "duration": 545,
    "start_time": "2021-10-06T17:46:37.958Z"
   },
   {
    "duration": 305,
    "start_time": "2021-10-06T17:46:51.280Z"
   },
   {
    "duration": 312,
    "start_time": "2021-10-06T17:47:18.844Z"
   },
   {
    "duration": 451,
    "start_time": "2021-10-06T17:47:39.176Z"
   },
   {
    "duration": 452,
    "start_time": "2021-10-06T17:47:45.210Z"
   },
   {
    "duration": 674,
    "start_time": "2021-10-06T17:47:56.043Z"
   },
   {
    "duration": 26,
    "start_time": "2021-10-06T17:48:00.439Z"
   },
   {
    "duration": 34,
    "start_time": "2021-10-06T17:48:05.660Z"
   },
   {
    "duration": 1561,
    "start_time": "2021-10-06T17:48:49.229Z"
   },
   {
    "duration": 10,
    "start_time": "2021-10-06T17:48:50.792Z"
   },
   {
    "duration": 397,
    "start_time": "2021-10-06T17:48:50.805Z"
   },
   {
    "duration": 22,
    "start_time": "2021-10-06T17:48:51.206Z"
   },
   {
    "duration": 1036,
    "start_time": "2021-10-06T17:48:51.231Z"
   },
   {
    "duration": 8,
    "start_time": "2021-10-06T17:48:52.270Z"
   },
   {
    "duration": 359,
    "start_time": "2021-10-06T17:48:52.281Z"
   },
   {
    "duration": 30,
    "start_time": "2021-10-06T17:48:52.643Z"
   },
   {
    "duration": 28,
    "start_time": "2021-10-06T17:48:52.678Z"
   },
   {
    "duration": 5,
    "start_time": "2021-10-06T17:48:52.710Z"
   },
   {
    "duration": 19186,
    "start_time": "2021-10-06T17:48:52.718Z"
   },
   {
    "duration": 34,
    "start_time": "2021-10-06T17:49:11.907Z"
   },
   {
    "duration": 1552,
    "start_time": "2021-10-06T17:49:27.124Z"
   },
   {
    "duration": 5,
    "start_time": "2021-10-06T17:49:28.679Z"
   },
   {
    "duration": 180,
    "start_time": "2021-10-06T17:49:28.687Z"
   },
   {
    "duration": 15,
    "start_time": "2021-10-06T17:49:28.870Z"
   },
   {
    "duration": 649,
    "start_time": "2021-10-06T17:49:28.888Z"
   },
   {
    "duration": 7,
    "start_time": "2021-10-06T17:49:29.540Z"
   },
   {
    "duration": 250,
    "start_time": "2021-10-06T17:49:29.550Z"
   },
   {
    "duration": 22,
    "start_time": "2021-10-06T17:49:29.802Z"
   },
   {
    "duration": 7,
    "start_time": "2021-10-06T17:49:29.828Z"
   },
   {
    "duration": 7,
    "start_time": "2021-10-06T17:49:29.837Z"
   },
   {
    "duration": 19381,
    "start_time": "2021-10-06T17:49:29.847Z"
   },
   {
    "duration": 34,
    "start_time": "2021-10-06T17:49:49.231Z"
   },
   {
    "duration": 5,
    "start_time": "2021-10-06T18:09:01.858Z"
   },
   {
    "duration": 741,
    "start_time": "2021-10-06T18:09:10.392Z"
   },
   {
    "duration": 5,
    "start_time": "2021-10-06T18:09:24.582Z"
   },
   {
    "duration": 443,
    "start_time": "2021-10-06T18:10:31.210Z"
   },
   {
    "duration": 14,
    "start_time": "2021-10-06T18:10:43.960Z"
   },
   {
    "duration": 439,
    "start_time": "2021-10-06T18:10:45.006Z"
   },
   {
    "duration": 1597,
    "start_time": "2021-10-06T18:10:55.605Z"
   },
   {
    "duration": 5,
    "start_time": "2021-10-06T18:10:57.204Z"
   },
   {
    "duration": 147,
    "start_time": "2021-10-06T18:10:57.212Z"
   },
   {
    "duration": 14,
    "start_time": "2021-10-06T18:10:57.362Z"
   },
   {
    "duration": 667,
    "start_time": "2021-10-06T18:10:57.379Z"
   },
   {
    "duration": 7,
    "start_time": "2021-10-06T18:10:58.049Z"
   },
   {
    "duration": 11,
    "start_time": "2021-10-06T18:10:58.059Z"
   },
   {
    "duration": 372,
    "start_time": "2021-10-06T18:10:58.075Z"
   },
   {
    "duration": 10,
    "start_time": "2021-10-06T18:10:58.450Z"
   },
   {
    "duration": 361,
    "start_time": "2021-10-06T18:10:58.463Z"
   },
   {
    "duration": 235,
    "start_time": "2021-10-06T18:10:58.826Z"
   },
   {
    "duration": 21,
    "start_time": "2021-10-06T18:10:59.063Z"
   },
   {
    "duration": 8,
    "start_time": "2021-10-06T18:10:59.100Z"
   },
   {
    "duration": 8,
    "start_time": "2021-10-06T18:10:59.110Z"
   },
   {
    "duration": 19973,
    "start_time": "2021-10-06T18:10:59.120Z"
   },
   {
    "duration": 38,
    "start_time": "2021-10-06T18:11:19.099Z"
   },
   {
    "duration": 1628,
    "start_time": "2021-10-06T18:13:14.766Z"
   },
   {
    "duration": 5,
    "start_time": "2021-10-06T18:13:16.397Z"
   },
   {
    "duration": 145,
    "start_time": "2021-10-06T18:13:16.405Z"
   },
   {
    "duration": 13,
    "start_time": "2021-10-06T18:13:16.552Z"
   },
   {
    "duration": 668,
    "start_time": "2021-10-06T18:13:16.567Z"
   },
   {
    "duration": 5,
    "start_time": "2021-10-06T18:13:17.237Z"
   },
   {
    "duration": 242,
    "start_time": "2021-10-06T18:13:17.244Z"
   },
   {
    "duration": 28,
    "start_time": "2021-10-06T18:13:17.490Z"
   },
   {
    "duration": 9,
    "start_time": "2021-10-06T18:13:17.520Z"
   },
   {
    "duration": 29,
    "start_time": "2021-10-06T18:13:17.531Z"
   },
   {
    "duration": 18498,
    "start_time": "2021-10-06T18:13:17.562Z"
   },
   {
    "duration": 46,
    "start_time": "2021-10-06T18:13:36.062Z"
   },
   {
    "duration": 6,
    "start_time": "2021-10-06T18:19:30.210Z"
   },
   {
    "duration": 12,
    "start_time": "2021-10-06T18:19:30.219Z"
   },
   {
    "duration": 167,
    "start_time": "2021-10-06T18:19:30.233Z"
   },
   {
    "duration": 9,
    "start_time": "2021-10-06T18:19:30.403Z"
   },
   {
    "duration": 659,
    "start_time": "2021-10-06T18:19:30.415Z"
   },
   {
    "duration": 5,
    "start_time": "2021-10-06T18:19:31.077Z"
   },
   {
    "duration": 5,
    "start_time": "2021-10-06T18:19:34.357Z"
   },
   {
    "duration": 692,
    "start_time": "2021-10-06T18:19:39.312Z"
   },
   {
    "duration": 1497,
    "start_time": "2021-10-06T18:19:43.881Z"
   },
   {
    "duration": 5,
    "start_time": "2021-10-06T18:20:02.390Z"
   },
   {
    "duration": 9883,
    "start_time": "2021-10-06T18:20:03.454Z"
   },
   {
    "duration": 730,
    "start_time": "2021-10-06T18:20:13.340Z"
   },
   {
    "duration": 6,
    "start_time": "2021-10-06T18:20:42.153Z"
   },
   {
    "duration": 6,
    "start_time": "2021-10-06T18:20:45.429Z"
   },
   {
    "duration": 6,
    "start_time": "2021-10-06T18:20:48.393Z"
   },
   {
    "duration": 5,
    "start_time": "2021-10-06T18:20:55.721Z"
   },
   {
    "duration": 10,
    "start_time": "2021-10-06T18:20:55.729Z"
   },
   {
    "duration": 141,
    "start_time": "2021-10-06T18:20:55.742Z"
   },
   {
    "duration": 9,
    "start_time": "2021-10-06T18:20:55.885Z"
   },
   {
    "duration": 648,
    "start_time": "2021-10-06T18:20:55.896Z"
   },
   {
    "duration": 6,
    "start_time": "2021-10-06T18:20:56.547Z"
   },
   {
    "duration": 10,
    "start_time": "2021-10-06T18:20:56.555Z"
   },
   {
    "duration": 9,
    "start_time": "2021-10-06T18:20:56.567Z"
   },
   {
    "duration": 7,
    "start_time": "2021-10-06T18:21:17.844Z"
   },
   {
    "duration": 5,
    "start_time": "2021-10-06T18:21:24.701Z"
   },
   {
    "duration": 9866,
    "start_time": "2021-10-06T18:21:24.988Z"
   },
   {
    "duration": 735,
    "start_time": "2021-10-06T18:21:34.857Z"
   },
   {
    "duration": 1620,
    "start_time": "2021-10-06T18:21:45.072Z"
   },
   {
    "duration": 7,
    "start_time": "2021-10-06T18:21:46.694Z"
   },
   {
    "duration": 148,
    "start_time": "2021-10-06T18:21:46.704Z"
   },
   {
    "duration": 14,
    "start_time": "2021-10-06T18:21:46.855Z"
   },
   {
    "duration": 660,
    "start_time": "2021-10-06T18:21:46.872Z"
   },
   {
    "duration": 8,
    "start_time": "2021-10-06T18:21:47.535Z"
   },
   {
    "duration": 7,
    "start_time": "2021-10-06T18:21:47.546Z"
   },
   {
    "duration": 9843,
    "start_time": "2021-10-06T18:21:47.558Z"
   },
   {
    "duration": 742,
    "start_time": "2021-10-06T18:21:57.404Z"
   },
   {
    "duration": 240,
    "start_time": "2021-10-06T18:21:58.149Z"
   },
   {
    "duration": 28,
    "start_time": "2021-10-06T18:21:58.391Z"
   },
   {
    "duration": 8,
    "start_time": "2021-10-06T18:21:58.422Z"
   },
   {
    "duration": 6,
    "start_time": "2021-10-06T18:21:58.433Z"
   },
   {
    "duration": 22333,
    "start_time": "2021-10-06T18:21:58.442Z"
   },
   {
    "duration": 43,
    "start_time": "2021-10-06T18:22:20.777Z"
   },
   {
    "duration": 2184,
    "start_time": "2021-10-06T18:22:42.600Z"
   },
   {
    "duration": 12,
    "start_time": "2021-10-06T18:22:44.787Z"
   },
   {
    "duration": 151,
    "start_time": "2021-10-06T18:22:44.802Z"
   },
   {
    "duration": 13,
    "start_time": "2021-10-06T18:22:44.955Z"
   },
   {
    "duration": 666,
    "start_time": "2021-10-06T18:22:44.971Z"
   },
   {
    "duration": 6,
    "start_time": "2021-10-06T18:22:45.639Z"
   },
   {
    "duration": 10,
    "start_time": "2021-10-06T18:22:45.647Z"
   },
   {
    "duration": 9985,
    "start_time": "2021-10-06T18:22:45.660Z"
   },
   {
    "duration": 757,
    "start_time": "2021-10-06T18:22:55.648Z"
   },
   {
    "duration": 245,
    "start_time": "2021-10-06T18:22:56.408Z"
   },
   {
    "duration": 23,
    "start_time": "2021-10-06T18:22:56.655Z"
   },
   {
    "duration": 26,
    "start_time": "2021-10-06T18:22:56.681Z"
   },
   {
    "duration": 11,
    "start_time": "2021-10-06T18:22:56.710Z"
   },
   {
    "duration": 18317,
    "start_time": "2021-10-06T18:22:56.724Z"
   },
   {
    "duration": 34,
    "start_time": "2021-10-06T18:23:15.043Z"
   },
   {
    "duration": 1655,
    "start_time": "2021-10-09T12:39:19.660Z"
   },
   {
    "duration": 6,
    "start_time": "2021-10-09T12:39:22.626Z"
   },
   {
    "duration": 218,
    "start_time": "2021-10-09T12:39:23.248Z"
   },
   {
    "duration": 13,
    "start_time": "2021-10-09T12:39:23.982Z"
   },
   {
    "duration": 9,
    "start_time": "2021-10-09T12:39:24.287Z"
   },
   {
    "duration": 642,
    "start_time": "2021-10-09T12:39:25.973Z"
   },
   {
    "duration": 2964,
    "start_time": "2021-10-09T12:39:30.039Z"
   },
   {
    "duration": 3097,
    "start_time": "2021-10-09T12:41:36.183Z"
   },
   {
    "duration": 3249,
    "start_time": "2021-10-09T12:41:46.974Z"
   },
   {
    "duration": 3223,
    "start_time": "2021-10-09T12:42:47.445Z"
   },
   {
    "duration": 2384,
    "start_time": "2021-10-09T12:44:25.054Z"
   },
   {
    "duration": 3189,
    "start_time": "2021-10-09T12:44:55.095Z"
   },
   {
    "duration": 3142,
    "start_time": "2021-10-09T12:45:01.671Z"
   },
   {
    "duration": 3190,
    "start_time": "2021-10-09T12:45:09.723Z"
   },
   {
    "duration": 3210,
    "start_time": "2021-10-09T12:45:18.870Z"
   },
   {
    "duration": 2492,
    "start_time": "2021-10-09T12:46:30.277Z"
   },
   {
    "duration": 2392,
    "start_time": "2021-10-09T12:46:55.952Z"
   },
   {
    "duration": 993,
    "start_time": "2021-10-09T12:47:17.127Z"
   },
   {
    "duration": 3092,
    "start_time": "2021-10-09T12:47:32.167Z"
   },
   {
    "duration": 1287,
    "start_time": "2021-10-09T12:50:41.998Z"
   },
   {
    "duration": 890,
    "start_time": "2021-10-09T12:50:59.330Z"
   },
   {
    "duration": 423,
    "start_time": "2021-10-09T12:51:14.492Z"
   },
   {
    "duration": 420,
    "start_time": "2021-10-09T12:51:27.527Z"
   },
   {
    "duration": 441,
    "start_time": "2021-10-09T12:51:46.898Z"
   },
   {
    "duration": 432,
    "start_time": "2021-10-09T12:51:59.745Z"
   },
   {
    "duration": 519,
    "start_time": "2021-10-09T12:54:41.245Z"
   },
   {
    "duration": 436,
    "start_time": "2021-10-09T12:57:26.928Z"
   },
   {
    "duration": 419,
    "start_time": "2021-10-09T12:57:57.138Z"
   },
   {
    "duration": 457,
    "start_time": "2021-10-09T12:58:02.467Z"
   },
   {
    "duration": 444,
    "start_time": "2021-10-09T12:58:07.699Z"
   },
   {
    "duration": 531,
    "start_time": "2021-10-09T12:59:26.784Z"
   },
   {
    "duration": 271,
    "start_time": "2021-10-09T13:00:27.049Z"
   },
   {
    "duration": 267,
    "start_time": "2021-10-09T13:00:42.844Z"
   },
   {
    "duration": 598,
    "start_time": "2021-10-09T13:00:54.289Z"
   },
   {
    "duration": 505,
    "start_time": "2021-10-09T13:01:13.186Z"
   },
   {
    "duration": 511,
    "start_time": "2021-10-09T13:01:27.822Z"
   },
   {
    "duration": 129,
    "start_time": "2021-10-09T13:02:23.453Z"
   },
   {
    "duration": 519,
    "start_time": "2021-10-09T13:02:50.558Z"
   },
   {
    "duration": 500,
    "start_time": "2021-10-09T13:03:02.296Z"
   },
   {
    "duration": 443,
    "start_time": "2021-10-09T13:03:16.577Z"
   },
   {
    "duration": 6,
    "start_time": "2021-10-09T13:03:20.404Z"
   },
   {
    "duration": 21,
    "start_time": "2021-10-09T13:03:20.413Z"
   },
   {
    "duration": 179,
    "start_time": "2021-10-09T13:03:20.437Z"
   },
   {
    "duration": 10,
    "start_time": "2021-10-09T13:03:20.619Z"
   },
   {
    "duration": 14,
    "start_time": "2021-10-09T13:03:20.632Z"
   },
   {
    "duration": 671,
    "start_time": "2021-10-09T13:03:20.649Z"
   },
   {
    "duration": 3172,
    "start_time": "2021-10-09T13:03:21.322Z"
   },
   {
    "duration": 460,
    "start_time": "2021-10-09T13:03:24.497Z"
   },
   {
    "duration": 436,
    "start_time": "2021-10-09T13:03:50.519Z"
   },
   {
    "duration": 431,
    "start_time": "2021-10-09T13:04:21.127Z"
   },
   {
    "duration": 98,
    "start_time": "2021-10-09T13:22:49.428Z"
   },
   {
    "duration": 1576,
    "start_time": "2021-10-09T13:27:30.526Z"
   },
   {
    "duration": 5,
    "start_time": "2021-10-09T13:27:32.105Z"
   },
   {
    "duration": 146,
    "start_time": "2021-10-09T13:27:32.113Z"
   },
   {
    "duration": 13,
    "start_time": "2021-10-09T13:27:32.262Z"
   },
   {
    "duration": 23,
    "start_time": "2021-10-09T13:27:32.277Z"
   },
   {
    "duration": 877,
    "start_time": "2021-10-09T13:27:32.302Z"
   },
   {
    "duration": 449,
    "start_time": "2021-10-09T13:27:33.182Z"
   },
   {
    "duration": -11,
    "start_time": "2021-10-09T13:27:33.645Z"
   },
   {
    "duration": -29,
    "start_time": "2021-10-09T13:27:33.665Z"
   },
   {
    "duration": -32,
    "start_time": "2021-10-09T13:27:33.669Z"
   },
   {
    "duration": -34,
    "start_time": "2021-10-09T13:27:33.673Z"
   },
   {
    "duration": -36,
    "start_time": "2021-10-09T13:27:33.676Z"
   },
   {
    "duration": -37,
    "start_time": "2021-10-09T13:27:33.678Z"
   },
   {
    "duration": -38,
    "start_time": "2021-10-09T13:27:33.681Z"
   },
   {
    "duration": -41,
    "start_time": "2021-10-09T13:27:33.685Z"
   },
   {
    "duration": -44,
    "start_time": "2021-10-09T13:27:33.690Z"
   },
   {
    "duration": 6,
    "start_time": "2021-10-09T13:27:59.526Z"
   },
   {
    "duration": 7,
    "start_time": "2021-10-09T13:27:59.535Z"
   },
   {
    "duration": 140,
    "start_time": "2021-10-09T13:27:59.545Z"
   },
   {
    "duration": 10,
    "start_time": "2021-10-09T13:27:59.689Z"
   },
   {
    "duration": 9,
    "start_time": "2021-10-09T13:27:59.701Z"
   },
   {
    "duration": 665,
    "start_time": "2021-10-09T13:27:59.713Z"
   },
   {
    "duration": 3189,
    "start_time": "2021-10-09T13:28:00.381Z"
   },
   {
    "duration": 457,
    "start_time": "2021-10-09T13:28:03.573Z"
   },
   {
    "duration": 6,
    "start_time": "2021-10-09T13:28:04.032Z"
   },
   {
    "duration": 234,
    "start_time": "2021-10-09T13:28:04.040Z"
   },
   {
    "duration": 30,
    "start_time": "2021-10-09T13:28:04.276Z"
   },
   {
    "duration": 506,
    "start_time": "2021-10-09T13:28:04.308Z"
   },
   {
    "duration": 8,
    "start_time": "2021-10-09T13:28:04.817Z"
   },
   {
    "duration": 3014,
    "start_time": "2021-10-09T13:28:04.827Z"
   },
   {
    "duration": 12565,
    "start_time": "2021-10-09T13:28:24.746Z"
   },
   {
    "duration": 6,
    "start_time": "2021-10-09T13:28:50.777Z"
   },
   {
    "duration": 13,
    "start_time": "2021-10-09T13:28:50.786Z"
   },
   {
    "duration": 127,
    "start_time": "2021-10-09T13:28:50.801Z"
   },
   {
    "duration": 8,
    "start_time": "2021-10-09T13:28:50.931Z"
   },
   {
    "duration": 10,
    "start_time": "2021-10-09T13:28:50.942Z"
   },
   {
    "duration": 869,
    "start_time": "2021-10-09T13:28:50.954Z"
   },
   {
    "duration": 6,
    "start_time": "2021-10-09T13:28:56.599Z"
   },
   {
    "duration": 318,
    "start_time": "2021-10-09T13:28:57.223Z"
   },
   {
    "duration": 52,
    "start_time": "2021-10-09T13:28:59.706Z"
   },
   {
    "duration": 2445,
    "start_time": "2021-10-09T13:29:02.625Z"
   },
   {
    "duration": 8,
    "start_time": "2021-10-09T13:29:12.909Z"
   },
   {
    "duration": 6272,
    "start_time": "2021-10-09T13:29:14.833Z"
   },
   {
    "duration": 2013,
    "start_time": "2021-10-09T13:31:10.074Z"
   },
   {
    "duration": 5,
    "start_time": "2021-10-09T13:31:12.090Z"
   },
   {
    "duration": 149,
    "start_time": "2021-10-09T13:31:12.097Z"
   },
   {
    "duration": 14,
    "start_time": "2021-10-09T13:31:12.248Z"
   },
   {
    "duration": 11,
    "start_time": "2021-10-09T13:31:12.264Z"
   },
   {
    "duration": 690,
    "start_time": "2021-10-09T13:31:12.278Z"
   },
   {
    "duration": 3351,
    "start_time": "2021-10-09T13:31:12.971Z"
   },
   {
    "duration": 494,
    "start_time": "2021-10-09T13:31:16.327Z"
   },
   {
    "duration": 8,
    "start_time": "2021-10-09T13:31:16.824Z"
   },
   {
    "duration": 253,
    "start_time": "2021-10-09T13:31:16.835Z"
   },
   {
    "duration": 31,
    "start_time": "2021-10-09T13:31:17.091Z"
   },
   {
    "duration": 532,
    "start_time": "2021-10-09T13:31:17.124Z"
   },
   {
    "duration": 9,
    "start_time": "2021-10-09T13:31:17.659Z"
   },
   {
    "duration": 3056,
    "start_time": "2021-10-09T13:31:17.671Z"
   },
   {
    "duration": 63678,
    "start_time": "2021-10-09T13:31:20.729Z"
   },
   {
    "duration": 45777,
    "start_time": "2021-10-09T13:32:24.410Z"
   },
   {
    "duration": 94,
    "start_time": "2021-10-09T13:40:23.301Z"
   }
  ],
  "kernelspec": {
   "display_name": "Python 3",
   "language": "python",
   "name": "python3"
  },
  "language_info": {
   "codemirror_mode": {
    "name": "ipython",
    "version": 3
   },
   "file_extension": ".py",
   "mimetype": "text/x-python",
   "name": "python",
   "nbconvert_exporter": "python",
   "pygments_lexer": "ipython3",
   "version": "3.8.8"
  },
  "toc": {
   "base_numbering": 1,
   "nav_menu": {},
   "number_sections": true,
   "sideBar": false,
   "skip_h1_title": true,
   "title_cell": "Содержание",
   "title_sidebar": "Contents",
   "toc_cell": false,
   "toc_position": {
    "height": "47px",
    "left": "1119px",
    "top": "110px",
    "width": "159px"
   },
   "toc_section_display": true,
   "toc_window_display": false
  }
 },
 "nbformat": 4,
 "nbformat_minor": 2
}
