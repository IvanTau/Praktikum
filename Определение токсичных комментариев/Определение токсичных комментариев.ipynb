{
 "cells": [
  {
   "cell_type": "markdown",
   "metadata": {
    "toc": true
   },
   "source": [
    "<h1>Содержание<span class=\"tocSkip\"></span></h1>\n",
    "<div class=\"toc\"><ul class=\"toc-item\"><li><span><a href=\"#Подготовка-данных\" data-toc-modified-id=\"Подготовка-данных-1\"><span class=\"toc-item-num\">1&nbsp;&nbsp;</span>Подготовка данных</a></span></li><li><span><a href=\"#Обучение-и-тестирование\" data-toc-modified-id=\"Обучение-и-тестирование-2\"><span class=\"toc-item-num\">2&nbsp;&nbsp;</span>Обучение и тестирование</a></span></li><li><span><a href=\"#Выводы\" data-toc-modified-id=\"Выводы-3\"><span class=\"toc-item-num\">3&nbsp;&nbsp;</span>Выводы</a></span></li></ul></div>"
   ]
  },
  {
   "cell_type": "markdown",
   "metadata": {
    "id": "pvz5UiaEpqLY"
   },
   "source": [
    "# Проект для «Викишоп»"
   ]
  },
  {
   "cell_type": "markdown",
   "metadata": {
    "id": "-OJ-GIr4pqLa"
   },
   "source": [
    "Интернет-магазин «Викишоп» запускает новый сервис. Теперь пользователи могут редактировать и дополнять описания товаров, как в вики-сообществах. То есть клиенты предлагают свои правки и комментируют изменения других. Магазину нужен инструмент, который будет искать токсичные комментарии и отправлять их на модерацию. \n",
    "\n",
    "Обучите модель классифицировать комментарии на позитивные и негативные. В вашем распоряжении набор данных с разметкой о токсичности правок.\n",
    "\n",
    "Постройте модель со значением метрики качества *F1* не меньше 0.75. \n",
    "\n",
    "**Инструкция по выполнению проекта**\n",
    "\n",
    "1. Загрузите и подготовьте данные.\n",
    "2. Обучите разные модели. \n",
    "3. Сделайте выводы.\n",
    "\n",
    "Для выполнения проекта применять *BERT* необязательно, но вы можете попробовать.\n",
    "\n",
    "**Описание данных**\n",
    "\n",
    "Данные находятся в файле `toxic_comments.csv`. Столбец *text* в нём содержит текст комментария, а *toxic* — целевой признак."
   ]
  },
  {
   "cell_type": "markdown",
   "metadata": {
    "id": "47KDhqk4pqLc"
   },
   "source": [
    "## Подготовка данных"
   ]
  },
  {
   "cell_type": "code",
   "execution_count": 1,
   "metadata": {
    "id": "iLyECidfpqLg"
   },
   "outputs": [],
   "source": [
    "import numpy as np\n",
    "import pandas as pd\n",
    "import re\n",
    "import matplotlib.pyplot as plt\n",
    "import seaborn as sns\n",
    "\n",
    "from tqdm import notebook\n",
    "\n",
    "from sklearn.linear_model import LogisticRegression\n",
    "from lightgbm import LGBMClassifier\n",
    "from sklearn.metrics import f1_score, confusion_matrix\n",
    "from sklearn.model_selection import train_test_split, GridSearchCV, StratifiedKFold\n",
    "\n",
    "import nltk\n",
    "from nltk.stem import WordNetLemmatizer \n",
    "from nltk.corpus import wordnet\n",
    "from nltk.corpus import stopwords as nltk_stopwords\n",
    "from sklearn.feature_extraction.text import TfidfVectorizer\n",
    "\n",
    "import warnings\n",
    "warnings.filterwarnings(\"ignore\")"
   ]
  },
  {
   "cell_type": "code",
   "execution_count": 2,
   "metadata": {
    "id": "UxtLVhtvpqLh"
   },
   "outputs": [],
   "source": [
    "data = pd.read_csv('/datasets/toxic_comments.csv')"
   ]
  },
  {
   "cell_type": "code",
   "execution_count": 3,
   "metadata": {
    "colab": {
     "base_uri": "https://localhost:8080/",
     "height": 204
    },
    "id": "0m25Hp-Qi_Hu",
    "outputId": "23635978-a286-4c79-8ace-784bc5aeac15"
   },
   "outputs": [
    {
     "data": {
      "text/html": [
       "<div>\n",
       "<style scoped>\n",
       "    .dataframe tbody tr th:only-of-type {\n",
       "        vertical-align: middle;\n",
       "    }\n",
       "\n",
       "    .dataframe tbody tr th {\n",
       "        vertical-align: top;\n",
       "    }\n",
       "\n",
       "    .dataframe thead th {\n",
       "        text-align: right;\n",
       "    }\n",
       "</style>\n",
       "<table border=\"1\" class=\"dataframe\">\n",
       "  <thead>\n",
       "    <tr style=\"text-align: right;\">\n",
       "      <th></th>\n",
       "      <th>text</th>\n",
       "      <th>toxic</th>\n",
       "    </tr>\n",
       "  </thead>\n",
       "  <tbody>\n",
       "    <tr>\n",
       "      <th>0</th>\n",
       "      <td>Explanation\\nWhy the edits made under my usern...</td>\n",
       "      <td>0</td>\n",
       "    </tr>\n",
       "    <tr>\n",
       "      <th>1</th>\n",
       "      <td>D'aww! He matches this background colour I'm s...</td>\n",
       "      <td>0</td>\n",
       "    </tr>\n",
       "    <tr>\n",
       "      <th>2</th>\n",
       "      <td>Hey man, I'm really not trying to edit war. It...</td>\n",
       "      <td>0</td>\n",
       "    </tr>\n",
       "    <tr>\n",
       "      <th>3</th>\n",
       "      <td>\"\\nMore\\nI can't make any real suggestions on ...</td>\n",
       "      <td>0</td>\n",
       "    </tr>\n",
       "    <tr>\n",
       "      <th>4</th>\n",
       "      <td>You, sir, are my hero. Any chance you remember...</td>\n",
       "      <td>0</td>\n",
       "    </tr>\n",
       "  </tbody>\n",
       "</table>\n",
       "</div>"
      ],
      "text/plain": [
       "                                                text  toxic\n",
       "0  Explanation\\nWhy the edits made under my usern...      0\n",
       "1  D'aww! He matches this background colour I'm s...      0\n",
       "2  Hey man, I'm really not trying to edit war. It...      0\n",
       "3  \"\\nMore\\nI can't make any real suggestions on ...      0\n",
       "4  You, sir, are my hero. Any chance you remember...      0"
      ]
     },
     "execution_count": 3,
     "metadata": {},
     "output_type": "execute_result"
    }
   ],
   "source": [
    "data.head()"
   ]
  },
  {
   "cell_type": "code",
   "execution_count": 4,
   "metadata": {
    "colab": {
     "base_uri": "https://localhost:8080/"
    },
    "id": "Yxm7S7A_pSA7",
    "outputId": "fd1139a2-c062-48ad-b7aa-786398b43037"
   },
   "outputs": [
    {
     "name": "stdout",
     "output_type": "stream",
     "text": [
      "<class 'pandas.core.frame.DataFrame'>\n",
      "RangeIndex: 159571 entries, 0 to 159570\n",
      "Data columns (total 2 columns):\n",
      " #   Column  Non-Null Count   Dtype \n",
      "---  ------  --------------   ----- \n",
      " 0   text    159571 non-null  object\n",
      " 1   toxic   159571 non-null  int64 \n",
      "dtypes: int64(1), object(1)\n",
      "memory usage: 2.4+ MB\n"
     ]
    }
   ],
   "source": [
    "data.info()"
   ]
  },
  {
   "cell_type": "code",
   "execution_count": 5,
   "metadata": {
    "colab": {
     "base_uri": "https://localhost:8080/"
    },
    "id": "lY1xagO9pcbn",
    "outputId": "62e45de7-9a7a-4fcc-83b4-c73bc2e18461"
   },
   "outputs": [
    {
     "name": "stdout",
     "output_type": "stream",
     "text": [
      "Количество дубликатов: 0\n"
     ]
    }
   ],
   "source": [
    "print('Количество дубликатов:', data.duplicated().sum())"
   ]
  },
  {
   "cell_type": "code",
   "execution_count": 6,
   "metadata": {
    "colab": {
     "base_uri": "https://localhost:8080/"
    },
    "id": "xwKKBnWMp3F9",
    "outputId": "3b0573a0-004a-4f67-f385-3931fbfb959a"
   },
   "outputs": [
    {
     "data": {
      "text/plain": [
       "0    0.898321\n",
       "1    0.101679\n",
       "Name: toxic, dtype: float64"
      ]
     },
     "execution_count": 6,
     "metadata": {},
     "output_type": "execute_result"
    }
   ],
   "source": [
    "data['toxic'].value_counts(normalize=True)"
   ]
  },
  {
   "cell_type": "markdown",
   "metadata": {
    "id": "6vAF5h5ip-a6"
   },
   "source": [
    "Пропусков и дубликатов нет, присутствует сильный дисбаланс классов, в тексте присутствуют ненужные символы.\n",
    "\n",
    "Приступим к обработке."
   ]
  },
  {
   "cell_type": "code",
   "execution_count": 7,
   "metadata": {
    "id": "RkKyLVTcpqLi"
   },
   "outputs": [],
   "source": [
    "# Функция оставляет в тексте только буквы\n",
    "def regex_cleaning(row):\n",
    "    return \" \".join(re.sub(r'[^a-zA-Z]', ' ', row).split())\n",
    "\n",
    "data['text'] = data['text'].apply(regex_cleaning)"
   ]
  },
  {
   "cell_type": "markdown",
   "metadata": {
    "id": "3n4YDsCbrpPI"
   },
   "source": [
    "Проведем лемматизацию текста с использованием POS-тегов для WordNet"
   ]
  },
  {
   "cell_type": "code",
   "execution_count": 8,
   "metadata": {
    "id": "EDbs9_GdRjwn"
   },
   "outputs": [],
   "source": [
    "nltk.download('averaged_perceptron_tagger')\n",
    "nltk.download('wordnet')\n",
    "nltk.download('punkt')\n",
    "nltk.download('stopwords')"
   ]
  },
  {
   "cell_type": "code",
   "execution_count": 9,
   "metadata": {
    "id": "fyejr6oGTstM"
   },
   "outputs": [],
   "source": [
    "lemmatizer = WordNetLemmatizer()\n",
    "\n",
    "def get_wordnet_pos(word):\n",
    "    tag = nltk.pos_tag([word])[0][1][0].upper()\n",
    "    tag_dict = {\"J\": wordnet.ADJ,\n",
    "                \"N\": wordnet.NOUN,\n",
    "                \"V\": wordnet.VERB,\n",
    "                \"R\": wordnet.ADV}\n",
    "\n",
    "    return tag_dict.get(tag, wordnet.NOUN)\n",
    "\n",
    "def lemmatize(row):\n",
    "    return \" \".join([lemmatizer.lemmatize(sent, get_wordnet_pos(sent)) for sent in nltk.word_tokenize(row)])"
   ]
  },
  {
   "cell_type": "markdown",
   "metadata": {},
   "source": [
    "Лемматизация занимает где-то 20 минут, потому загружаю заранее обработанный текст с репозитория, чтобы не тратить время снова при запуске."
   ]
  },
  {
   "cell_type": "code",
   "execution_count": 10,
   "metadata": {
    "colab": {
     "base_uri": "https://localhost:8080/"
    },
    "id": "xrKmB0fqTsxA",
    "outputId": "7d399e94-2509-4f71-c8bd-3069365983ae"
   },
   "outputs": [],
   "source": [
    "#data['lemm_text'] = data['text'].apply(lemmatize)\n",
    "url = 'https://github.com/IvanTau/Praktikum/blob/main/%D0%9E%D0%BF%D1%80%D0%B5%D0%B4%D0%B5%D0%BB%D0%B5%D0%BD%D0%B8%D0%B5%20%D1%82%D0%BE%D0%BA%D1%81%D0%B8%D1%87%D0%BD%D1%8B%D1%85%20%D0%BA%D0%BE%D0%BC%D0%BC%D0%B5%D0%BD%D1%82%D0%B0%D1%80%D0%B8%D0%B5%D0%B2/toxic_data_lemm.csv?raw=true'\n",
    "data['lemm_text'] = pd.read_csv(url)"
   ]
  },
  {
   "cell_type": "code",
   "execution_count": 11,
   "metadata": {
    "colab": {
     "base_uri": "https://localhost:8080/",
     "height": 204
    },
    "id": "YDN1vhL4TszD",
    "outputId": "80dbe487-7ec6-4269-8d85-f7e0daae4aad"
   },
   "outputs": [
    {
     "data": {
      "text/html": [
       "<div>\n",
       "<style scoped>\n",
       "    .dataframe tbody tr th:only-of-type {\n",
       "        vertical-align: middle;\n",
       "    }\n",
       "\n",
       "    .dataframe tbody tr th {\n",
       "        vertical-align: top;\n",
       "    }\n",
       "\n",
       "    .dataframe thead th {\n",
       "        text-align: right;\n",
       "    }\n",
       "</style>\n",
       "<table border=\"1\" class=\"dataframe\">\n",
       "  <thead>\n",
       "    <tr style=\"text-align: right;\">\n",
       "      <th></th>\n",
       "      <th>text</th>\n",
       "      <th>toxic</th>\n",
       "      <th>lemm_text</th>\n",
       "    </tr>\n",
       "  </thead>\n",
       "  <tbody>\n",
       "    <tr>\n",
       "      <th>0</th>\n",
       "      <td>Explanation Why the edits made under my userna...</td>\n",
       "      <td>0</td>\n",
       "      <td>Explanation Why the edits make under my userna...</td>\n",
       "    </tr>\n",
       "    <tr>\n",
       "      <th>1</th>\n",
       "      <td>D aww He matches this background colour I m se...</td>\n",
       "      <td>0</td>\n",
       "      <td>D aww He match this background colour I m seem...</td>\n",
       "    </tr>\n",
       "    <tr>\n",
       "      <th>2</th>\n",
       "      <td>Hey man I m really not trying to edit war It s...</td>\n",
       "      <td>0</td>\n",
       "      <td>Hey man I m really not try to edit war It s ju...</td>\n",
       "    </tr>\n",
       "    <tr>\n",
       "      <th>3</th>\n",
       "      <td>More I can t make any real suggestions on impr...</td>\n",
       "      <td>0</td>\n",
       "      <td>More I can t make any real suggestion on impro...</td>\n",
       "    </tr>\n",
       "    <tr>\n",
       "      <th>4</th>\n",
       "      <td>You sir are my hero Any chance you remember wh...</td>\n",
       "      <td>0</td>\n",
       "      <td>You sir be my hero Any chance you remember wha...</td>\n",
       "    </tr>\n",
       "  </tbody>\n",
       "</table>\n",
       "</div>"
      ],
      "text/plain": [
       "                                                text  toxic  \\\n",
       "0  Explanation Why the edits made under my userna...      0   \n",
       "1  D aww He matches this background colour I m se...      0   \n",
       "2  Hey man I m really not trying to edit war It s...      0   \n",
       "3  More I can t make any real suggestions on impr...      0   \n",
       "4  You sir are my hero Any chance you remember wh...      0   \n",
       "\n",
       "                                           lemm_text  \n",
       "0  Explanation Why the edits make under my userna...  \n",
       "1  D aww He match this background colour I m seem...  \n",
       "2  Hey man I m really not try to edit war It s ju...  \n",
       "3  More I can t make any real suggestion on impro...  \n",
       "4  You sir be my hero Any chance you remember wha...  "
      ]
     },
     "execution_count": 11,
     "metadata": {},
     "output_type": "execute_result"
    }
   ],
   "source": [
    "data.head()"
   ]
  },
  {
   "cell_type": "markdown",
   "metadata": {
    "id": "mXxqf9mmdhia"
   },
   "source": [
    "Выделим выборки для обучения."
   ]
  },
  {
   "cell_type": "code",
   "execution_count": 12,
   "metadata": {
    "id": "zs1rbBwHfj31"
   },
   "outputs": [],
   "source": [
    "X_train, X_test, y_train, y_test = train_test_split(data['lemm_text'], \n",
    "                                                    data['toxic'], \n",
    "                                                    stratify=data['toxic'], \n",
    "                                                    test_size=0.2, \n",
    "                                                    random_state=42)\n",
    "X_train = X_train.values.astype('U')\n",
    "X_test = X_test.values.astype('U')"
   ]
  },
  {
   "cell_type": "markdown",
   "metadata": {
    "id": "JY4RgZAOrpPM"
   },
   "source": [
    "Проведем векторизацию текста, удалив стоп-слова."
   ]
  },
  {
   "cell_type": "code",
   "execution_count": 13,
   "metadata": {
    "id": "BVoHPAhhhaEe"
   },
   "outputs": [],
   "source": [
    "stopwords = set(nltk_stopwords.words('english'))\n",
    "counter = TfidfVectorizer(stop_words=stopwords)\n",
    "counter.fit(X_train)\n",
    "tfidf_train = counter.transform(X_train)\n",
    "tfidf_test = counter.transform(X_test)"
   ]
  },
  {
   "cell_type": "markdown",
   "metadata": {
    "id": "U7jZ8W2XpqLp"
   },
   "source": [
    "## Обучение и тестирование\n",
    "\n",
    "Подбор гиперпараметров моделей был сделан ранее через GridSeachCV, этот процесс занимает много времени на таком большом датасете, потому ниже представлено обучение и тестирование моделей уже с лучшими параметрами."
   ]
  },
  {
   "cell_type": "code",
   "execution_count": 14,
   "metadata": {
    "id": "yb5eQre7qgHp"
   },
   "outputs": [],
   "source": [
    "def grid_train_test(model, params):\n",
    "    \"\"\"Подбор гиперпараметров\"\"\"\n",
    "    skf = StratifiedKFold(3, random_state=42, shuffle=True)\n",
    "    grid = GridSearchCV(model, params, n_jobs=-1, cv=skf, scoring='f1')\n",
    "    grid.fit(tfidf_train, y_train)\n",
    "    preds = grid.predict(tfidf_test)\n",
    "\n",
    "    print('Параметры лучшей модели:', grid.best_params_)\n",
    "    print('F1 лучшей модели:', round(f1_score(y_test, preds), 3))\n",
    "\n",
    "    conf_matrix(preds)\n",
    "\n",
    "sns.set(style='darkgrid', font_scale=1.2)\n",
    "def conf_matrix(preds, y=y_test):\n",
    "    \"\"\"Вывод матрицы ошибок\"\"\"\n",
    "    sns.heatmap(confusion_matrix(y_test, preds), annot=True)\n",
    "    plt.title('Матрица ошибок для предсказаний')\n",
    "    plt.xlabel('Предсказания')\n",
    "    plt.ylabel('Ответы')\n",
    "\n",
    "def fit_test(model):\n",
    "    \"\"\"Обучение и тест модели с подобранными параметрами\"\"\"\n",
    "    model.fit(tfidf_train, y_train)\n",
    "    preds = model.predict(tfidf_test)\n",
    "    print('F1 модели:', round(f1_score(y_test, preds), 3))\n",
    "    conf_matrix(preds)"
   ]
  },
  {
   "cell_type": "code",
   "execution_count": 16,
   "metadata": {
    "colab": {
     "base_uri": "https://localhost:8080/",
     "height": 340
    },
    "id": "kLuXrzm6pqLq",
    "outputId": "51e092b9-9e9f-4821-db5b-0caa9ec3709d"
   },
   "outputs": [
    {
     "name": "stdout",
     "output_type": "stream",
     "text": [
      "F1 модели: 0.753\n"
     ]
    },
    {
     "data": {
      "image/png": "[encoded data removed]",
      "text/plain": [
       "<Figure size 432x288 with 2 Axes>"
      ]
     },
     "metadata": {},
     "output_type": "display_data"
    }
   ],
   "source": [
    "# Логистическая Регрессия\n",
    "# Гиперпараметры были подобраны ранее\n",
    "fit_test(LogisticRegression(random_state=42, \n",
    "                            class_weight='balanced',\n",
    "                            C=10,\n",
    "                            penalty='l2',\n",
    "                            solver='newton-cg'))"
   ]
  },
  {
   "cell_type": "code",
   "execution_count": 17,
   "metadata": {
    "colab": {
     "base_uri": "https://localhost:8080/",
     "height": 323
    },
    "id": "a2L8Co0WDja4",
    "outputId": "9d9aee6e-eb02-4dd4-8904-ce19d73948bb"
   },
   "outputs": [
    {
     "name": "stdout",
     "output_type": "stream",
     "text": [
      "F1 модели: 0.766\n"
     ]
    },
    {
     "data": {
      "image/png": "[encoded data removed]",
      "text/plain": [
       "<Figure size 432x288 with 2 Axes>"
      ]
     },
     "metadata": {},
     "output_type": "display_data"
    }
   ],
   "source": [
    "# LGBM классификатор\n",
    "# Гиперпараметры были подобраны ранее\n",
    "fit_test(LGBMClassifier(boosting_type='goss', \n",
    "                        n_estimators=250, \n",
    "                        learning_rate=0.2))"
   ]
  },
  {
   "cell_type": "markdown",
   "metadata": {
    "id": "-_outeUWpqLr"
   },
   "source": [
    "## Выводы"
   ]
  },
  {
   "cell_type": "markdown",
   "metadata": {
    "id": "CQva1grua7qx"
   },
   "source": [
    "Была проведена работа по лемматизации и векторизации текста с дальнейшим подбором моделей для предсказания токсичности. Хорошую точность показала модель LGBM с F1-мерой 0.766, но ее обучение занимает некоторое время. Быстрее нее работает Логистическая Регрессия с F1 0.753. \n",
    "\n",
    "Выбирать модель стоит исходя из требований к скорости работы. Рискну предположить, что для подобного проекта высокая скорость обучения не требуется, потому стоит выбрать LGBM."
   ]
  }
 ],
 "metadata": {
  "ExecuteTimeLog": [
   {
    "duration": 1509,
    "start_time": "2021-10-15T14:44:05.797Z"
   },
   {
    "duration": 1978,
    "start_time": "2021-10-15T14:44:18.086Z"
   },
   {
    "duration": 17,
    "start_time": "2021-10-15T14:44:23.180Z"
   },
   {
    "duration": 33,
    "start_time": "2021-10-15T14:46:54.597Z"
   },
   {
    "duration": 251,
    "start_time": "2021-10-15T14:48:16.636Z"
   },
   {
    "duration": 13,
    "start_time": "2021-10-15T14:48:22.649Z"
   },
   {
    "duration": 16,
    "start_time": "2021-10-15T14:48:27.958Z"
   },
   {
    "duration": 222,
    "start_time": "2021-10-15T14:48:50.413Z"
   },
   {
    "duration": 4,
    "start_time": "2021-10-15T14:50:33.392Z"
   },
   {
    "duration": 2173,
    "start_time": "2021-10-15T14:51:01.582Z"
   },
   {
    "duration": 5,
    "start_time": "2021-10-15T14:51:20.348Z"
   },
   {
    "duration": 5,
    "start_time": "2021-10-15T14:51:23.751Z"
   },
   {
    "duration": 5,
    "start_time": "2021-10-15T14:51:28.641Z"
   },
   {
    "duration": 5,
    "start_time": "2021-10-15T14:51:31.929Z"
   },
   {
    "duration": 5,
    "start_time": "2021-10-15T14:52:12.219Z"
   },
   {
    "duration": 13,
    "start_time": "2021-10-15T14:53:15.909Z"
   },
   {
    "duration": 5,
    "start_time": "2021-10-15T14:54:02.237Z"
   },
   {
    "duration": 9159,
    "start_time": "2021-10-15T15:04:59.657Z"
   },
   {
    "duration": 13,
    "start_time": "2021-10-15T15:05:22.115Z"
   },
   {
    "duration": 8,
    "start_time": "2021-10-15T15:05:27.338Z"
   },
   {
    "duration": 9,
    "start_time": "2021-10-15T15:05:29.612Z"
   },
   {
    "duration": 6509,
    "start_time": "2021-10-15T15:05:33.713Z"
   },
   {
    "duration": 7,
    "start_time": "2021-10-15T15:05:43.728Z"
   },
   {
    "duration": 15,
    "start_time": "2021-10-15T15:06:04.975Z"
   },
   {
    "duration": 5,
    "start_time": "2021-10-15T15:06:30.255Z"
   },
   {
    "duration": 6,
    "start_time": "2021-10-15T15:06:35.200Z"
   },
   {
    "duration": 6,
    "start_time": "2021-10-15T15:06:41.274Z"
   },
   {
    "duration": 5,
    "start_time": "2021-10-15T15:06:45.641Z"
   },
   {
    "duration": 5,
    "start_time": "2021-10-15T15:06:51.632Z"
   },
   {
    "duration": 7,
    "start_time": "2021-10-15T15:07:05.777Z"
   },
   {
    "duration": 5,
    "start_time": "2021-10-15T15:07:11.646Z"
   },
   {
    "duration": 5,
    "start_time": "2021-10-15T15:07:23.629Z"
   },
   {
    "duration": 5,
    "start_time": "2021-10-15T15:07:29.006Z"
   },
   {
    "duration": 3723,
    "start_time": "2021-10-15T15:08:00.419Z"
   },
   {
    "duration": 6298,
    "start_time": "2021-10-15T15:09:32.413Z"
   },
   {
    "duration": 821,
    "start_time": "2021-10-15T15:10:08.915Z"
   },
   {
    "duration": 821,
    "start_time": "2021-10-15T15:10:16.640Z"
   },
   {
    "duration": 86027,
    "start_time": "2021-10-15T15:11:01.548Z"
   },
   {
    "duration": 268,
    "start_time": "2021-10-15T15:13:23.554Z"
   },
   {
    "duration": 4162,
    "start_time": "2021-10-15T15:13:34.834Z"
   },
   {
    "duration": 1998,
    "start_time": "2021-10-15T15:13:39.955Z"
   },
   {
    "duration": 7399,
    "start_time": "2021-10-15T15:13:41.956Z"
   },
   {
    "duration": 835,
    "start_time": "2021-10-15T15:15:03.334Z"
   },
   {
    "duration": 503,
    "start_time": "2021-10-15T15:15:17.555Z"
   },
   {
    "duration": 307,
    "start_time": "2021-10-15T15:15:41.326Z"
   },
   {
    "duration": 4028,
    "start_time": "2021-10-15T15:15:49.421Z"
   },
   {
    "duration": 294,
    "start_time": "2021-10-15T15:16:13.963Z"
   },
   {
    "duration": 1660,
    "start_time": "2021-10-15T15:17:06.863Z"
   },
   {
    "duration": 1828,
    "start_time": "2021-10-15T15:17:08.525Z"
   },
   {
    "duration": 267,
    "start_time": "2021-10-15T15:17:10.356Z"
   },
   {
    "duration": 3,
    "start_time": "2021-10-15T15:17:10.626Z"
   },
   {
    "duration": 65,
    "start_time": "2021-10-15T15:17:10.632Z"
   },
   {
    "duration": 2129,
    "start_time": "2021-10-15T15:17:10.700Z"
   },
   {
    "duration": 457,
    "start_time": "2021-10-15T15:17:42.984Z"
   }
  ],
  "colab": {
   "collapsed_sections": [],
   "name": "Определение_токсичных_комментариев_ipynb_ (1).ipynb",
   "provenance": []
  },
  "kernelspec": {
   "display_name": "Python 3",
   "language": "python",
   "name": "python3"
  },
  "language_info": {
   "codemirror_mode": {
    "name": "ipython",
    "version": 3
   },
   "file_extension": ".py",
   "mimetype": "text/x-python",
   "name": "python",
   "nbconvert_exporter": "python",
   "pygments_lexer": "ipython3",
   "version": "3.8.8"
  },
  "toc": {
   "base_numbering": 1,
   "nav_menu": {},
   "number_sections": true,
   "sideBar": true,
   "skip_h1_title": true,
   "title_cell": "Содержание",
   "title_sidebar": "Contents",
   "toc_cell": true,
   "toc_position": {
    "height": "calc(100% - 180px)",
    "left": "10px",
    "top": "150px",
    "width": "302.391px"
   },
   "toc_section_display": true,
   "toc_window_display": true
  }
 },
 "nbformat": 4,
 "nbformat_minor": 1
}
