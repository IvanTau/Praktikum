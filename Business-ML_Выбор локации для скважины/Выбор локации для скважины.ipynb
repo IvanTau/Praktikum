{
 "cells": [
  {
   "cell_type": "markdown",
   "metadata": {},
   "source": [
    "# Выбор локации для скважины"
   ]
  },
  {
   "cell_type": "markdown",
   "metadata": {},
   "source": [
    "Допустим, вы работаете в добывающей компании «ГлавРосГосНефть». Нужно решить, где бурить новую скважину.\n",
    "\n",
    "Вам предоставлены пробы нефти в трёх регионах: в каждом 10 000 месторождений, где измерили качество нефти и объём её запасов. Постройте модель машинного обучения, которая поможет определить регион, где добыча принесёт наибольшую прибыль. Проанализируйте возможную прибыль и риски техникой *Bootstrap.*\n",
    "\n",
    "Шаги для выбора локации:\n",
    "\n",
    "- В избранном регионе ищут месторождения, для каждого определяют значения признаков;\n",
    "- Строят модель и оценивают объём запасов;\n",
    "- Выбирают месторождения с самым высокими оценками значений. Количество месторождений зависит от бюджета компании и стоимости разработки одной скважины;\n",
    "- Прибыль равна суммарной прибыли отобранных месторождений."
   ]
  },
  {
   "cell_type": "markdown",
   "metadata": {},
   "source": [
    "## Загрузка и исследование данных"
   ]
  },
  {
   "cell_type": "code",
   "execution_count": 1,
   "metadata": {},
   "outputs": [],
   "source": [
    "import pandas as pd\n",
    "import numpy as np\n",
    "import seaborn as sns\n",
    "import matplotlib.pyplot as plt\n",
    "\n",
    "from sklearn.linear_model import LinearRegression\n",
    "from sklearn.dummy import DummyRegressor\n",
    "\n",
    "from sklearn.model_selection import train_test_split, GridSearchCV\n",
    "\n",
    "from sklearn.preprocessing import StandardScaler\n",
    "\n",
    "from sklearn.metrics import mean_squared_error"
   ]
  },
  {
   "cell_type": "code",
   "execution_count": 2,
   "metadata": {},
   "outputs": [],
   "source": [
    "data_0 = pd.read_csv('https://code.s3.yandex.net/datasets/geo_data_0.csv')\n",
    "data_1 = pd.read_csv('https://code.s3.yandex.net/datasets/geo_data_1.csv')\n",
    "data_2 = pd.read_csv('https://code.s3.yandex.net/datasets/geo_data_2.csv')"
   ]
  },
  {
   "cell_type": "code",
   "execution_count": 3,
   "metadata": {},
   "outputs": [],
   "source": [
    "data_0.name = 'Первый регион'\n",
    "data_1.name = 'Второй регион'\n",
    "data_2.name = 'Третий регион'\n",
    "\n",
    "data_list = [data_0, data_1, data_2]"
   ]
  },
  {
   "cell_type": "code",
   "execution_count": 4,
   "metadata": {
    "scrolled": true
   },
   "outputs": [
    {
     "name": "stdout",
     "output_type": "stream",
     "text": [
      "Первый регион\n"
     ]
    },
    {
     "data": {
      "text/html": [
       "<div>\n",
       "<style scoped>\n",
       "    .dataframe tbody tr th:only-of-type {\n",
       "        vertical-align: middle;\n",
       "    }\n",
       "\n",
       "    .dataframe tbody tr th {\n",
       "        vertical-align: top;\n",
       "    }\n",
       "\n",
       "    .dataframe thead th {\n",
       "        text-align: right;\n",
       "    }\n",
       "</style>\n",
       "<table border=\"1\" class=\"dataframe\">\n",
       "  <thead>\n",
       "    <tr style=\"text-align: right;\">\n",
       "      <th></th>\n",
       "      <th>id</th>\n",
       "      <th>f0</th>\n",
       "      <th>f1</th>\n",
       "      <th>f2</th>\n",
       "      <th>product</th>\n",
       "    </tr>\n",
       "  </thead>\n",
       "  <tbody>\n",
       "    <tr>\n",
       "      <td>75044</td>\n",
       "      <td>ykpiP</td>\n",
       "      <td>0.744622</td>\n",
       "      <td>0.775133</td>\n",
       "      <td>-1.975299</td>\n",
       "      <td>24.248122</td>\n",
       "    </tr>\n",
       "    <tr>\n",
       "      <td>74795</td>\n",
       "      <td>8HvcH</td>\n",
       "      <td>0.079191</td>\n",
       "      <td>0.933330</td>\n",
       "      <td>0.324976</td>\n",
       "      <td>60.045728</td>\n",
       "    </tr>\n",
       "  </tbody>\n",
       "</table>\n",
       "</div>"
      ],
      "text/plain": [
       "          id        f0        f1        f2    product\n",
       "75044  ykpiP  0.744622  0.775133 -1.975299  24.248122\n",
       "74795  8HvcH  0.079191  0.933330  0.324976  60.045728"
      ]
     },
     "metadata": {},
     "output_type": "display_data"
    },
    {
     "name": "stdout",
     "output_type": "stream",
     "text": [
      "Второй регион\n"
     ]
    },
    {
     "data": {
      "text/html": [
       "<div>\n",
       "<style scoped>\n",
       "    .dataframe tbody tr th:only-of-type {\n",
       "        vertical-align: middle;\n",
       "    }\n",
       "\n",
       "    .dataframe tbody tr th {\n",
       "        vertical-align: top;\n",
       "    }\n",
       "\n",
       "    .dataframe thead th {\n",
       "        text-align: right;\n",
       "    }\n",
       "</style>\n",
       "<table border=\"1\" class=\"dataframe\">\n",
       "  <thead>\n",
       "    <tr style=\"text-align: right;\">\n",
       "      <th></th>\n",
       "      <th>id</th>\n",
       "      <th>f0</th>\n",
       "      <th>f1</th>\n",
       "      <th>f2</th>\n",
       "      <th>product</th>\n",
       "    </tr>\n",
       "  </thead>\n",
       "  <tbody>\n",
       "    <tr>\n",
       "      <td>89004</td>\n",
       "      <td>rAdkN</td>\n",
       "      <td>2.745242</td>\n",
       "      <td>-0.99140</td>\n",
       "      <td>3.009049</td>\n",
       "      <td>80.859783</td>\n",
       "    </tr>\n",
       "    <tr>\n",
       "      <td>43150</td>\n",
       "      <td>UVf9u</td>\n",
       "      <td>-13.453952</td>\n",
       "      <td>-5.69928</td>\n",
       "      <td>0.999757</td>\n",
       "      <td>30.132364</td>\n",
       "    </tr>\n",
       "  </tbody>\n",
       "</table>\n",
       "</div>"
      ],
      "text/plain": [
       "          id         f0       f1        f2    product\n",
       "89004  rAdkN   2.745242 -0.99140  3.009049  80.859783\n",
       "43150  UVf9u -13.453952 -5.69928  0.999757  30.132364"
      ]
     },
     "metadata": {},
     "output_type": "display_data"
    },
    {
     "name": "stdout",
     "output_type": "stream",
     "text": [
      "Третий регион\n"
     ]
    },
    {
     "data": {
      "text/html": [
       "<div>\n",
       "<style scoped>\n",
       "    .dataframe tbody tr th:only-of-type {\n",
       "        vertical-align: middle;\n",
       "    }\n",
       "\n",
       "    .dataframe tbody tr th {\n",
       "        vertical-align: top;\n",
       "    }\n",
       "\n",
       "    .dataframe thead th {\n",
       "        text-align: right;\n",
       "    }\n",
       "</style>\n",
       "<table border=\"1\" class=\"dataframe\">\n",
       "  <thead>\n",
       "    <tr style=\"text-align: right;\">\n",
       "      <th></th>\n",
       "      <th>id</th>\n",
       "      <th>f0</th>\n",
       "      <th>f1</th>\n",
       "      <th>f2</th>\n",
       "      <th>product</th>\n",
       "    </tr>\n",
       "  </thead>\n",
       "  <tbody>\n",
       "    <tr>\n",
       "      <td>5834</td>\n",
       "      <td>Cwg2J</td>\n",
       "      <td>-1.390135</td>\n",
       "      <td>0.202985</td>\n",
       "      <td>2.193131</td>\n",
       "      <td>5.184790</td>\n",
       "    </tr>\n",
       "    <tr>\n",
       "      <td>36459</td>\n",
       "      <td>Wtlsd</td>\n",
       "      <td>-0.574247</td>\n",
       "      <td>-3.129824</td>\n",
       "      <td>-1.425648</td>\n",
       "      <td>127.157436</td>\n",
       "    </tr>\n",
       "  </tbody>\n",
       "</table>\n",
       "</div>"
      ],
      "text/plain": [
       "          id        f0        f1        f2     product\n",
       "5834   Cwg2J -1.390135  0.202985  2.193131    5.184790\n",
       "36459  Wtlsd -0.574247 -3.129824 -1.425648  127.157436"
      ]
     },
     "metadata": {},
     "output_type": "display_data"
    }
   ],
   "source": [
    "for data in data_list:\n",
    "    print(data.name)\n",
    "    display(data.sample(n=2))"
   ]
  },
  {
   "cell_type": "code",
   "execution_count": 5,
   "metadata": {
    "scrolled": true
   },
   "outputs": [
    {
     "name": "stdout",
     "output_type": "stream",
     "text": [
      "Первый регион\n",
      "Кол-во дубликатов: 0, Кол-во NaN: 0\n",
      "Типы данных:\n",
      "id          object\n",
      "f0         float64\n",
      "f1         float64\n",
      "f2         float64\n",
      "product    float64\n",
      "dtype: object \n",
      "\n",
      "Второй регион\n",
      "Кол-во дубликатов: 0, Кол-во NaN: 0\n",
      "Типы данных:\n",
      "id          object\n",
      "f0         float64\n",
      "f1         float64\n",
      "f2         float64\n",
      "product    float64\n",
      "dtype: object \n",
      "\n",
      "Третий регион\n",
      "Кол-во дубликатов: 0, Кол-во NaN: 0\n",
      "Типы данных:\n",
      "id          object\n",
      "f0         float64\n",
      "f1         float64\n",
      "f2         float64\n",
      "product    float64\n",
      "dtype: object \n",
      "\n"
     ]
    }
   ],
   "source": [
    "for data in data_list:\n",
    "    print(data.name)\n",
    "    print(f'Кол-во дубликатов: {data.duplicated().sum()}, Кол-во NaN: {data.isna().sum().sum()}')\n",
    "    print('Типы данных:')\n",
    "    print(data.dtypes, '\\n')"
   ]
  },
  {
   "cell_type": "code",
   "execution_count": 6,
   "metadata": {
    "scrolled": true
   },
   "outputs": [
    {
     "data": {
      "text/html": [
       "<div>\n",
       "<style scoped>\n",
       "    .dataframe tbody tr th:only-of-type {\n",
       "        vertical-align: middle;\n",
       "    }\n",
       "\n",
       "    .dataframe tbody tr th {\n",
       "        vertical-align: top;\n",
       "    }\n",
       "\n",
       "    .dataframe thead th {\n",
       "        text-align: right;\n",
       "    }\n",
       "</style>\n",
       "<table border=\"1\" class=\"dataframe\">\n",
       "  <thead>\n",
       "    <tr style=\"text-align: right;\">\n",
       "      <th></th>\n",
       "      <th>f0</th>\n",
       "      <th>f1</th>\n",
       "      <th>f2</th>\n",
       "      <th>product</th>\n",
       "    </tr>\n",
       "  </thead>\n",
       "  <tbody>\n",
       "    <tr>\n",
       "      <td>count</td>\n",
       "      <td>100000.000000</td>\n",
       "      <td>100000.000000</td>\n",
       "      <td>100000.000000</td>\n",
       "      <td>100000.000000</td>\n",
       "    </tr>\n",
       "    <tr>\n",
       "      <td>mean</td>\n",
       "      <td>0.500419</td>\n",
       "      <td>0.250143</td>\n",
       "      <td>2.502647</td>\n",
       "      <td>92.500000</td>\n",
       "    </tr>\n",
       "    <tr>\n",
       "      <td>std</td>\n",
       "      <td>0.871832</td>\n",
       "      <td>0.504433</td>\n",
       "      <td>3.248248</td>\n",
       "      <td>44.288691</td>\n",
       "    </tr>\n",
       "    <tr>\n",
       "      <td>min</td>\n",
       "      <td>-1.408605</td>\n",
       "      <td>-0.848218</td>\n",
       "      <td>-12.088328</td>\n",
       "      <td>0.000000</td>\n",
       "    </tr>\n",
       "    <tr>\n",
       "      <td>25%</td>\n",
       "      <td>-0.072580</td>\n",
       "      <td>-0.200881</td>\n",
       "      <td>0.287748</td>\n",
       "      <td>56.497507</td>\n",
       "    </tr>\n",
       "    <tr>\n",
       "      <td>50%</td>\n",
       "      <td>0.502360</td>\n",
       "      <td>0.250252</td>\n",
       "      <td>2.515969</td>\n",
       "      <td>91.849972</td>\n",
       "    </tr>\n",
       "    <tr>\n",
       "      <td>75%</td>\n",
       "      <td>1.073581</td>\n",
       "      <td>0.700646</td>\n",
       "      <td>4.715088</td>\n",
       "      <td>128.564089</td>\n",
       "    </tr>\n",
       "    <tr>\n",
       "      <td>max</td>\n",
       "      <td>2.362331</td>\n",
       "      <td>1.343769</td>\n",
       "      <td>16.003790</td>\n",
       "      <td>185.364347</td>\n",
       "    </tr>\n",
       "  </tbody>\n",
       "</table>\n",
       "</div>"
      ],
      "text/plain": [
       "                  f0             f1             f2        product\n",
       "count  100000.000000  100000.000000  100000.000000  100000.000000\n",
       "mean        0.500419       0.250143       2.502647      92.500000\n",
       "std         0.871832       0.504433       3.248248      44.288691\n",
       "min        -1.408605      -0.848218     -12.088328       0.000000\n",
       "25%        -0.072580      -0.200881       0.287748      56.497507\n",
       "50%         0.502360       0.250252       2.515969      91.849972\n",
       "75%         1.073581       0.700646       4.715088     128.564089\n",
       "max         2.362331       1.343769      16.003790     185.364347"
      ]
     },
     "metadata": {},
     "output_type": "display_data"
    },
    {
     "data": {
      "text/html": [
       "<div>\n",
       "<style scoped>\n",
       "    .dataframe tbody tr th:only-of-type {\n",
       "        vertical-align: middle;\n",
       "    }\n",
       "\n",
       "    .dataframe tbody tr th {\n",
       "        vertical-align: top;\n",
       "    }\n",
       "\n",
       "    .dataframe thead th {\n",
       "        text-align: right;\n",
       "    }\n",
       "</style>\n",
       "<table border=\"1\" class=\"dataframe\">\n",
       "  <thead>\n",
       "    <tr style=\"text-align: right;\">\n",
       "      <th></th>\n",
       "      <th>f0</th>\n",
       "      <th>f1</th>\n",
       "      <th>f2</th>\n",
       "      <th>product</th>\n",
       "    </tr>\n",
       "  </thead>\n",
       "  <tbody>\n",
       "    <tr>\n",
       "      <td>count</td>\n",
       "      <td>100000.000000</td>\n",
       "      <td>100000.000000</td>\n",
       "      <td>100000.000000</td>\n",
       "      <td>100000.000000</td>\n",
       "    </tr>\n",
       "    <tr>\n",
       "      <td>mean</td>\n",
       "      <td>1.141296</td>\n",
       "      <td>-4.796579</td>\n",
       "      <td>2.494541</td>\n",
       "      <td>68.825000</td>\n",
       "    </tr>\n",
       "    <tr>\n",
       "      <td>std</td>\n",
       "      <td>8.965932</td>\n",
       "      <td>5.119872</td>\n",
       "      <td>1.703572</td>\n",
       "      <td>45.944423</td>\n",
       "    </tr>\n",
       "    <tr>\n",
       "      <td>min</td>\n",
       "      <td>-31.609576</td>\n",
       "      <td>-26.358598</td>\n",
       "      <td>-0.018144</td>\n",
       "      <td>0.000000</td>\n",
       "    </tr>\n",
       "    <tr>\n",
       "      <td>25%</td>\n",
       "      <td>-6.298551</td>\n",
       "      <td>-8.267985</td>\n",
       "      <td>1.000021</td>\n",
       "      <td>26.953261</td>\n",
       "    </tr>\n",
       "    <tr>\n",
       "      <td>50%</td>\n",
       "      <td>1.153055</td>\n",
       "      <td>-4.813172</td>\n",
       "      <td>2.011479</td>\n",
       "      <td>57.085625</td>\n",
       "    </tr>\n",
       "    <tr>\n",
       "      <td>75%</td>\n",
       "      <td>8.621015</td>\n",
       "      <td>-1.332816</td>\n",
       "      <td>3.999904</td>\n",
       "      <td>107.813044</td>\n",
       "    </tr>\n",
       "    <tr>\n",
       "      <td>max</td>\n",
       "      <td>29.421755</td>\n",
       "      <td>18.734063</td>\n",
       "      <td>5.019721</td>\n",
       "      <td>137.945408</td>\n",
       "    </tr>\n",
       "  </tbody>\n",
       "</table>\n",
       "</div>"
      ],
      "text/plain": [
       "                  f0             f1             f2        product\n",
       "count  100000.000000  100000.000000  100000.000000  100000.000000\n",
       "mean        1.141296      -4.796579       2.494541      68.825000\n",
       "std         8.965932       5.119872       1.703572      45.944423\n",
       "min       -31.609576     -26.358598      -0.018144       0.000000\n",
       "25%        -6.298551      -8.267985       1.000021      26.953261\n",
       "50%         1.153055      -4.813172       2.011479      57.085625\n",
       "75%         8.621015      -1.332816       3.999904     107.813044\n",
       "max        29.421755      18.734063       5.019721     137.945408"
      ]
     },
     "metadata": {},
     "output_type": "display_data"
    },
    {
     "data": {
      "text/html": [
       "<div>\n",
       "<style scoped>\n",
       "    .dataframe tbody tr th:only-of-type {\n",
       "        vertical-align: middle;\n",
       "    }\n",
       "\n",
       "    .dataframe tbody tr th {\n",
       "        vertical-align: top;\n",
       "    }\n",
       "\n",
       "    .dataframe thead th {\n",
       "        text-align: right;\n",
       "    }\n",
       "</style>\n",
       "<table border=\"1\" class=\"dataframe\">\n",
       "  <thead>\n",
       "    <tr style=\"text-align: right;\">\n",
       "      <th></th>\n",
       "      <th>f0</th>\n",
       "      <th>f1</th>\n",
       "      <th>f2</th>\n",
       "      <th>product</th>\n",
       "    </tr>\n",
       "  </thead>\n",
       "  <tbody>\n",
       "    <tr>\n",
       "      <td>count</td>\n",
       "      <td>100000.000000</td>\n",
       "      <td>100000.000000</td>\n",
       "      <td>100000.000000</td>\n",
       "      <td>100000.000000</td>\n",
       "    </tr>\n",
       "    <tr>\n",
       "      <td>mean</td>\n",
       "      <td>0.002023</td>\n",
       "      <td>-0.002081</td>\n",
       "      <td>2.495128</td>\n",
       "      <td>95.000000</td>\n",
       "    </tr>\n",
       "    <tr>\n",
       "      <td>std</td>\n",
       "      <td>1.732045</td>\n",
       "      <td>1.730417</td>\n",
       "      <td>3.473445</td>\n",
       "      <td>44.749921</td>\n",
       "    </tr>\n",
       "    <tr>\n",
       "      <td>min</td>\n",
       "      <td>-8.760004</td>\n",
       "      <td>-7.084020</td>\n",
       "      <td>-11.970335</td>\n",
       "      <td>0.000000</td>\n",
       "    </tr>\n",
       "    <tr>\n",
       "      <td>25%</td>\n",
       "      <td>-1.162288</td>\n",
       "      <td>-1.174820</td>\n",
       "      <td>0.130359</td>\n",
       "      <td>59.450441</td>\n",
       "    </tr>\n",
       "    <tr>\n",
       "      <td>50%</td>\n",
       "      <td>0.009424</td>\n",
       "      <td>-0.009482</td>\n",
       "      <td>2.484236</td>\n",
       "      <td>94.925613</td>\n",
       "    </tr>\n",
       "    <tr>\n",
       "      <td>75%</td>\n",
       "      <td>1.158535</td>\n",
       "      <td>1.163678</td>\n",
       "      <td>4.858794</td>\n",
       "      <td>130.595027</td>\n",
       "    </tr>\n",
       "    <tr>\n",
       "      <td>max</td>\n",
       "      <td>7.238262</td>\n",
       "      <td>7.844801</td>\n",
       "      <td>16.739402</td>\n",
       "      <td>190.029838</td>\n",
       "    </tr>\n",
       "  </tbody>\n",
       "</table>\n",
       "</div>"
      ],
      "text/plain": [
       "                  f0             f1             f2        product\n",
       "count  100000.000000  100000.000000  100000.000000  100000.000000\n",
       "mean        0.002023      -0.002081       2.495128      95.000000\n",
       "std         1.732045       1.730417       3.473445      44.749921\n",
       "min        -8.760004      -7.084020     -11.970335       0.000000\n",
       "25%        -1.162288      -1.174820       0.130359      59.450441\n",
       "50%         0.009424      -0.009482       2.484236      94.925613\n",
       "75%         1.158535       1.163678       4.858794     130.595027\n",
       "max         7.238262       7.844801      16.739402     190.029838"
      ]
     },
     "metadata": {},
     "output_type": "display_data"
    }
   ],
   "source": [
    "for data in data_list:\n",
    "    display(data.describe())"
   ]
  },
  {
   "cell_type": "markdown",
   "metadata": {},
   "source": [
    "### Предобработка данных"
   ]
  },
  {
   "cell_type": "markdown",
   "metadata": {},
   "source": [
    "- В датасетах не выявлено нулевых значений и дубликатов.\n",
    "- Признаки стоит привести к единому масштабу.\n",
    "- Нужно удалить столбцы с ID скважин - модели эта информация не нужна.\n",
    "\n",
    "\n",
    "- Проверять корреляцию и удалять столбцы с признаками не будем, так как в условиях задачи указано, что все признаки значимы."
   ]
  },
  {
   "cell_type": "code",
   "execution_count": 7,
   "metadata": {
    "scrolled": true
   },
   "outputs": [
    {
     "data": {
      "text/html": [
       "<div>\n",
       "<style scoped>\n",
       "    .dataframe tbody tr th:only-of-type {\n",
       "        vertical-align: middle;\n",
       "    }\n",
       "\n",
       "    .dataframe tbody tr th {\n",
       "        vertical-align: top;\n",
       "    }\n",
       "\n",
       "    .dataframe thead th {\n",
       "        text-align: right;\n",
       "    }\n",
       "</style>\n",
       "<table border=\"1\" class=\"dataframe\">\n",
       "  <thead>\n",
       "    <tr style=\"text-align: right;\">\n",
       "      <th></th>\n",
       "      <th>f0</th>\n",
       "      <th>f1</th>\n",
       "      <th>f2</th>\n",
       "      <th>product</th>\n",
       "    </tr>\n",
       "  </thead>\n",
       "  <tbody>\n",
       "    <tr>\n",
       "      <td>11485</td>\n",
       "      <td>-0.6533</td>\n",
       "      <td>0.614343</td>\n",
       "      <td>-3.367193</td>\n",
       "      <td>36.700202</td>\n",
       "    </tr>\n",
       "  </tbody>\n",
       "</table>\n",
       "</div>"
      ],
      "text/plain": [
       "           f0        f1        f2    product\n",
       "11485 -0.6533  0.614343 -3.367193  36.700202"
      ]
     },
     "metadata": {},
     "output_type": "display_data"
    },
    {
     "data": {
      "text/html": [
       "<div>\n",
       "<style scoped>\n",
       "    .dataframe tbody tr th:only-of-type {\n",
       "        vertical-align: middle;\n",
       "    }\n",
       "\n",
       "    .dataframe tbody tr th {\n",
       "        vertical-align: top;\n",
       "    }\n",
       "\n",
       "    .dataframe thead th {\n",
       "        text-align: right;\n",
       "    }\n",
       "</style>\n",
       "<table border=\"1\" class=\"dataframe\">\n",
       "  <thead>\n",
       "    <tr style=\"text-align: right;\">\n",
       "      <th></th>\n",
       "      <th>f0</th>\n",
       "      <th>f1</th>\n",
       "      <th>f2</th>\n",
       "      <th>product</th>\n",
       "    </tr>\n",
       "  </thead>\n",
       "  <tbody>\n",
       "    <tr>\n",
       "      <td>91569</td>\n",
       "      <td>3.266312</td>\n",
       "      <td>-14.328337</td>\n",
       "      <td>2.002933</td>\n",
       "      <td>53.906522</td>\n",
       "    </tr>\n",
       "  </tbody>\n",
       "</table>\n",
       "</div>"
      ],
      "text/plain": [
       "             f0         f1        f2    product\n",
       "91569  3.266312 -14.328337  2.002933  53.906522"
      ]
     },
     "metadata": {},
     "output_type": "display_data"
    },
    {
     "data": {
      "text/html": [
       "<div>\n",
       "<style scoped>\n",
       "    .dataframe tbody tr th:only-of-type {\n",
       "        vertical-align: middle;\n",
       "    }\n",
       "\n",
       "    .dataframe tbody tr th {\n",
       "        vertical-align: top;\n",
       "    }\n",
       "\n",
       "    .dataframe thead th {\n",
       "        text-align: right;\n",
       "    }\n",
       "</style>\n",
       "<table border=\"1\" class=\"dataframe\">\n",
       "  <thead>\n",
       "    <tr style=\"text-align: right;\">\n",
       "      <th></th>\n",
       "      <th>f0</th>\n",
       "      <th>f1</th>\n",
       "      <th>f2</th>\n",
       "      <th>product</th>\n",
       "    </tr>\n",
       "  </thead>\n",
       "  <tbody>\n",
       "    <tr>\n",
       "      <td>1323</td>\n",
       "      <td>2.464401</td>\n",
       "      <td>0.902874</td>\n",
       "      <td>-1.22256</td>\n",
       "      <td>117.710442</td>\n",
       "    </tr>\n",
       "  </tbody>\n",
       "</table>\n",
       "</div>"
      ],
      "text/plain": [
       "            f0        f1       f2     product\n",
       "1323  2.464401  0.902874 -1.22256  117.710442"
      ]
     },
     "metadata": {},
     "output_type": "display_data"
    }
   ],
   "source": [
    "# Удалим столбец 'id'\n",
    "data_0.drop(columns='id', inplace=True)\n",
    "data_1.drop(columns='id', inplace=True)\n",
    "data_2.drop(columns='id', inplace=True)\n",
    "\n",
    "for data in data_list:\n",
    "    display(data.sample(n=1))"
   ]
  },
  {
   "cell_type": "code",
   "execution_count": 8,
   "metadata": {},
   "outputs": [],
   "source": [
    "pd.options.mode.chained_assignment = None\n",
    "scaler = StandardScaler()\n",
    "numeric = ['f0', 'f1', 'f2']\n",
    "\n",
    "# Функция принимает на вход датасет и возвращает отмасштабированные выборки\n",
    "def data_split_scale(data):\n",
    "    features = data.drop(columns='product')\n",
    "    target = data['product']\n",
    "    \n",
    "    features_train, features_valid, target_train, target_valid = train_test_split(features, target,\n",
    "                                                                                  train_size=0.75,\n",
    "                                                                                  random_state=12345)\n",
    "    scaler.fit(features_train[numeric])\n",
    "    features_train[numeric] = scaler.transform(features_train[numeric])\n",
    "    features_valid[numeric] = scaler.transform(features_valid[numeric])\n",
    "    \n",
    "    return features_train, features_valid, target_train, target_valid"
   ]
  },
  {
   "cell_type": "markdown",
   "metadata": {},
   "source": [
    "## Обучение и проверка модели"
   ]
  },
  {
   "cell_type": "code",
   "execution_count": 9,
   "metadata": {},
   "outputs": [],
   "source": [
    "model = LinearRegression()\n",
    "\n",
    "# Функция проводит обучение и валидацию модели, возвращая предсказания, фактические значения и отклонение\n",
    "def model_train_valid(data):\n",
    "    features_train, features_valid, target_train, target_valid = data_split_scale(data)\n",
    "    \n",
    "    model.fit(features_train, target_train)\n",
    "    predictions = pd.Series(model.predict(features_valid), index=target_valid.index)\n",
    "    \n",
    "    rmse = mean_squared_error(target_valid, predictions) ** 0.5\n",
    "    \n",
    "    return predictions, target_valid, rmse"
   ]
  },
  {
   "cell_type": "code",
   "execution_count": 10,
   "metadata": {
    "scrolled": false
   },
   "outputs": [
    {
     "data": {
      "text/html": [
       "<div>\n",
       "<style scoped>\n",
       "    .dataframe tbody tr th:only-of-type {\n",
       "        vertical-align: middle;\n",
       "    }\n",
       "\n",
       "    .dataframe tbody tr th {\n",
       "        vertical-align: top;\n",
       "    }\n",
       "\n",
       "    .dataframe thead th {\n",
       "        text-align: right;\n",
       "    }\n",
       "</style>\n",
       "<table border=\"1\" class=\"dataframe\">\n",
       "  <thead>\n",
       "    <tr style=\"text-align: right;\">\n",
       "      <th></th>\n",
       "      <th>Первый регион</th>\n",
       "      <th>Второй регион</th>\n",
       "      <th>Третий регион</th>\n",
       "    </tr>\n",
       "  </thead>\n",
       "  <tbody>\n",
       "    <tr>\n",
       "      <td>Среднее предсказанных запасов</td>\n",
       "      <td>92.59</td>\n",
       "      <td>68.73</td>\n",
       "      <td>94.97</td>\n",
       "    </tr>\n",
       "    <tr>\n",
       "      <td>Среднее фактических запасов</td>\n",
       "      <td>92.08</td>\n",
       "      <td>68.72</td>\n",
       "      <td>94.88</td>\n",
       "    </tr>\n",
       "    <tr>\n",
       "      <td>RMSE модели</td>\n",
       "      <td>37.58</td>\n",
       "      <td>0.89</td>\n",
       "      <td>40.03</td>\n",
       "    </tr>\n",
       "  </tbody>\n",
       "</table>\n",
       "</div>"
      ],
      "text/plain": [
       "                               Первый регион  Второй регион  Третий регион\n",
       "Среднее предсказанных запасов          92.59          68.73          94.97\n",
       "Среднее фактических запасов            92.08          68.72          94.88\n",
       "RMSE модели                            37.58           0.89          40.03"
      ]
     },
     "execution_count": 10,
     "metadata": {},
     "output_type": "execute_result"
    }
   ],
   "source": [
    "# Датафрейм для вывода результатов модели по регионам\n",
    "model_results = pd.DataFrame(index=['Среднее предсказанных запасов', 'Среднее фактических запасов', 'RMSE модели'])\n",
    "\n",
    "# Применяем модель к данным по регионам\n",
    "pred_0, target_0, rmse_0 = model_train_valid(data_0)\n",
    "model_results[data_0.name] = [pred_0.mean(), target_0.mean(), rmse_0]\n",
    "\n",
    "pred_1, target_1, rmse_1 = model_train_valid(data_1)\n",
    "model_results[data_1.name] = [pred_1.mean(), target_1.mean(), rmse_1]\n",
    "\n",
    "pred_2, target_2, rmse_2 = model_train_valid(data_2)\n",
    "model_results[data_2.name] = [pred_2.mean(), target_2.mean(), rmse_2]\n",
    "\n",
    "pred_list = [pred_0, pred_1, pred_2]\n",
    "target_list = [target_0, target_1, target_2]\n",
    "\n",
    "model_results.round(2)"
   ]
  },
  {
   "cell_type": "markdown",
   "metadata": {},
   "source": [
    "**Вывод**\n",
    "\n",
    "Во втором регионе предсказанные запасы ниже остальных двух, но качество предсказаний модели гораздо выше. \n",
    "\n",
    "Первый и Третий регионы не сильно отличаются друг от друга как по средним запасам, так и по отклонению модели."
   ]
  },
  {
   "cell_type": "markdown",
   "metadata": {},
   "source": [
    "## Подготовка к расчёту прибыли"
   ]
  },
  {
   "cell_type": "code",
   "execution_count": 12,
   "metadata": {},
   "outputs": [],
   "source": [
    "REG_BUDGET = 10000000000 #10 мрлд. - Бюджет региона на разработку скважин\n",
    "EXPLORE_WELL_COUNT = 500 #Количество исследуемых скважин\n",
    "BEST_WELL_COUNT = 200 #Количество лучших скважин для разработки\n",
    "PROD_PRICE = 450000 #450 тыс. - Цена единицы продукта, который равен тысяче баррелей"
   ]
  },
  {
   "cell_type": "code",
   "execution_count": 13,
   "metadata": {
    "scrolled": true
   },
   "outputs": [
    {
     "name": "stdout",
     "output_type": "stream",
     "text": [
      "Бюджет на разработку одной скважины: 50000000\n",
      "Минимальный объем продукта для безубыточности скважины: 111.11\n"
     ]
    }
   ],
   "source": [
    "WELL_BUDGET = int(REG_BUDGET / BEST_WELL_COUNT)\n",
    "MIN_PROD_REQ = WELL_BUDGET / PROD_PRICE\n",
    "\n",
    "print('Бюджет на разработку одной скважины:', WELL_BUDGET)\n",
    "print('Минимальный объем продукта для безубыточности скважины:', round(MIN_PROD_REQ, 2))"
   ]
  },
  {
   "cell_type": "code",
   "execution_count": 14,
   "metadata": {},
   "outputs": [
    {
     "name": "stdout",
     "output_type": "stream",
     "text": [
      "Количество скважин, обеспечивающих безубыточность по регионам.\n",
      "Первый регион: 5388\n",
      "Второй регион: 4594\n",
      "Третий регион: 5234\n"
     ]
    }
   ],
   "source": [
    "print('Количество скважин, обеспечивающих безубыточность по регионам.')\n",
    "for i in range(0, 3):\n",
    "    print(f'{data_list[i].name}:', pred_list[i][pred_list[i] > MIN_PROD_REQ].sort_values(ascending=False).count())"
   ]
  },
  {
   "cell_type": "markdown",
   "metadata": {},
   "source": [
    "**Вывод**\n",
    "\n",
    "Как видно из минимального необходимого объема продукта, средие показания скважин по всем трем регионам не вытягивают их на уровень безубыточности. Однако количество безубыточных скважин намного превышает заданное количество в 200 скважин на регион."
   ]
  },
  {
   "cell_type": "markdown",
   "metadata": {},
   "source": [
    "## Расчёт прибыли и рисков "
   ]
  },
  {
   "cell_type": "code",
   "execution_count": 15,
   "metadata": {},
   "outputs": [],
   "source": [
    "# Функция принимает предсказанный объем продукта и возвращает прибыль\n",
    "def income(predictions, target):\n",
    "    best_predicted = predictions.sort_values(ascending=False)[: BEST_WELL_COUNT]\n",
    "    best_actual_sum = target.sort_values(ascending=False)[best_predicted.index].sum()\n",
    "    income = best_actual_sum * PROD_PRICE - REG_BUDGET\n",
    "    \n",
    "    return income"
   ]
  },
  {
   "cell_type": "code",
   "execution_count": 16,
   "metadata": {},
   "outputs": [],
   "source": [
    "state = np.random.RandomState(12345)\n",
    "sample_count = 1000\n",
    "\n",
    "# Функция использует технику бутстрепа для вычисления доверительного интервала и средней прибыли\n",
    "def bootstrap(predictions, target):\n",
    "    samples = []\n",
    "    for i in range(sample_count):\n",
    "        sample = predictions.sample(n=EXPLORE_WELL_COUNT, replace=True, random_state=state)\n",
    "        samples.append(income(sample, target))\n",
    "    samples = pd.Series(samples)\n",
    "    \n",
    "    mean_income = samples.mean() / 1000000 #Средняя прибыль в миллионах\n",
    "    loss_count = samples[samples < 0].count()\n",
    "    loss_risk = loss_count / sample_count * 100\n",
    "    \n",
    "    \n",
    "    lower = samples.quantile(0.025) / 1000000\n",
    "    upper = samples.quantile(0.975) / 1000000\n",
    "    \n",
    "    print(f' Средняя прибыль со скважины: {mean_income.round(2)} млн.') \n",
    "    print(f' Доверительный интервал между {lower.round(2)} млн. и {upper.round(2)} млн.')\n",
    "    print(f' Риск убытков: {loss_risk.round(2)}%')\n",
    "    \n",
    "    return ''"
   ]
  },
  {
   "cell_type": "code",
   "execution_count": 17,
   "metadata": {
    "scrolled": true
   },
   "outputs": [
    {
     "name": "stdout",
     "output_type": "stream",
     "text": [
      "Первый регион\n",
      " Средняя прибыль со скважины: 396.16 млн.\n",
      " Доверительный интервал между -111.22 млн. и 909.77 млн.\n",
      " Риск убытков: 6.9%\n",
      "\n",
      "Второй регион\n",
      " Средняя прибыль со скважины: 461.16 млн.\n",
      " Доверительный интервал между 78.05 млн. и 862.95 млн.\n",
      " Риск убытков: 0.7%\n",
      "\n",
      "Третий регион\n",
      " Средняя прибыль со скважины: 392.95 млн.\n",
      " Доверительный интервал между -112.23 млн. и 934.56 млн.\n",
      " Риск убытков: 6.5%\n",
      "\n"
     ]
    }
   ],
   "source": [
    "for i in range(0, 3):\n",
    "    print(data_list[i].name)\n",
    "    print(bootstrap(pred_list[i], target_list[i]))"
   ]
  },
  {
   "cell_type": "markdown",
   "metadata": {},
   "source": [
    "## Вывод\n",
    "\n",
    "В условиях задачи указан максимальный порог риска убытков в 2.5%. Только **второй регион** вписывается в это значение и у него так же самая высокая средняя прибыль со скважины. В его доверительном интервале вообще отсутствуют отрицательная прибыль. Выбор региона очевиден."
   ]
  }
 ],
 "metadata": {
  "ExecuteTimeLog": [
   {
    "duration": 311,
    "start_time": "2021-08-15T15:31:21.444Z"
   },
   {
    "duration": 1484,
    "start_time": "2021-08-15T15:31:33.107Z"
   },
   {
    "duration": 1225,
    "start_time": "2021-08-15T15:31:34.594Z"
   },
   {
    "duration": 4,
    "start_time": "2021-08-15T15:31:35.822Z"
   },
   {
    "duration": 63,
    "start_time": "2021-08-15T15:31:35.829Z"
   },
   {
    "duration": 227,
    "start_time": "2021-08-15T15:31:35.894Z"
   },
   {
    "duration": 156,
    "start_time": "2021-08-15T15:31:36.123Z"
   },
   {
    "duration": 48,
    "start_time": "2021-08-15T15:31:36.281Z"
   },
   {
    "duration": 7,
    "start_time": "2021-08-15T15:31:36.356Z"
   },
   {
    "duration": 11,
    "start_time": "2021-08-15T15:31:36.365Z"
   },
   {
    "duration": 480,
    "start_time": "2021-08-15T15:31:36.379Z"
   },
   {
    "duration": 93,
    "start_time": "2021-08-15T15:31:36.862Z"
   },
   {
    "duration": 6,
    "start_time": "2021-08-15T15:31:36.958Z"
   },
   {
    "duration": 13,
    "start_time": "2021-08-15T15:31:36.966Z"
   },
   {
    "duration": 21,
    "start_time": "2021-08-15T15:31:36.982Z"
   },
   {
    "duration": 4,
    "start_time": "2021-08-15T15:31:37.006Z"
   },
   {
    "duration": 50,
    "start_time": "2021-08-15T15:31:37.012Z"
   },
   {
    "duration": 3892,
    "start_time": "2021-08-15T15:31:37.064Z"
   },
   {
    "duration": 22,
    "start_time": "2021-08-15T15:31:40.958Z"
   },
   {
    "duration": 4,
    "start_time": "2021-08-15T16:04:44.323Z"
   },
   {
    "duration": 5,
    "start_time": "2021-08-15T16:07:50.198Z"
   },
   {
    "duration": 8,
    "start_time": "2021-08-15T16:08:48.669Z"
   },
   {
    "duration": 1953,
    "start_time": "2021-08-15T16:09:05.202Z"
   },
   {
    "duration": 1555,
    "start_time": "2021-08-15T16:09:12.021Z"
   },
   {
    "duration": 1335,
    "start_time": "2021-08-15T16:09:13.579Z"
   },
   {
    "duration": 6,
    "start_time": "2021-08-15T16:09:14.917Z"
   },
   {
    "duration": 64,
    "start_time": "2021-08-15T16:09:14.925Z"
   },
   {
    "duration": 234,
    "start_time": "2021-08-15T16:09:14.991Z"
   },
   {
    "duration": 153,
    "start_time": "2021-08-15T16:09:15.228Z"
   },
   {
    "duration": 70,
    "start_time": "2021-08-15T16:09:15.384Z"
   },
   {
    "duration": 6,
    "start_time": "2021-08-15T16:09:15.458Z"
   },
   {
    "duration": 5,
    "start_time": "2021-08-15T16:09:15.467Z"
   },
   {
    "duration": 582,
    "start_time": "2021-08-15T16:09:15.474Z"
   },
   {
    "duration": 3,
    "start_time": "2021-08-15T16:09:16.059Z"
   },
   {
    "duration": 21,
    "start_time": "2021-08-15T16:09:16.064Z"
   },
   {
    "duration": 8,
    "start_time": "2021-08-15T16:09:16.088Z"
   },
   {
    "duration": 25,
    "start_time": "2021-08-15T16:09:16.099Z"
   },
   {
    "duration": 4,
    "start_time": "2021-08-15T16:09:16.127Z"
   },
   {
    "duration": 25,
    "start_time": "2021-08-15T16:09:16.133Z"
   },
   {
    "duration": 2213,
    "start_time": "2021-08-15T16:09:16.161Z"
   },
   {
    "duration": 378,
    "start_time": "2021-08-15T16:09:17.998Z"
   },
   {
    "duration": 17,
    "start_time": "2021-08-15T16:11:29.457Z"
   },
   {
    "duration": 5,
    "start_time": "2021-08-15T16:11:46.756Z"
   },
   {
    "duration": 17,
    "start_time": "2021-08-15T16:11:46.968Z"
   },
   {
    "duration": 5,
    "start_time": "2021-08-15T16:11:59.231Z"
   },
   {
    "duration": 17,
    "start_time": "2021-08-15T16:11:59.460Z"
   },
   {
    "duration": 5,
    "start_time": "2021-08-15T16:12:07.010Z"
   },
   {
    "duration": 16,
    "start_time": "2021-08-15T16:12:07.986Z"
   },
   {
    "duration": 5,
    "start_time": "2021-08-15T16:12:26.842Z"
   },
   {
    "duration": 26,
    "start_time": "2021-08-15T16:12:27.059Z"
   },
   {
    "duration": 7,
    "start_time": "2021-08-15T16:13:48.832Z"
   },
   {
    "duration": 8,
    "start_time": "2021-08-15T16:13:57.122Z"
   },
   {
    "duration": 5,
    "start_time": "2021-08-15T16:15:42.502Z"
   },
   {
    "duration": 485,
    "start_time": "2021-08-15T16:15:42.975Z"
   },
   {
    "duration": 4,
    "start_time": "2021-08-15T16:15:54.571Z"
   },
   {
    "duration": 6,
    "start_time": "2021-08-15T16:15:55.179Z"
   },
   {
    "duration": 16,
    "start_time": "2021-08-15T16:15:56.427Z"
   },
   {
    "duration": 5,
    "start_time": "2021-08-15T16:15:59.829Z"
   },
   {
    "duration": 7,
    "start_time": "2021-08-15T16:16:01.378Z"
   },
   {
    "duration": 8,
    "start_time": "2021-08-15T16:16:05.530Z"
   },
   {
    "duration": 23,
    "start_time": "2021-08-15T16:16:26.112Z"
   },
   {
    "duration": 5,
    "start_time": "2021-08-15T16:16:35.653Z"
   },
   {
    "duration": 17,
    "start_time": "2021-08-15T16:16:35.866Z"
   },
   {
    "duration": 16,
    "start_time": "2021-08-15T16:16:43.599Z"
   },
   {
    "duration": 18,
    "start_time": "2021-08-15T16:16:59.576Z"
   },
   {
    "duration": 8,
    "start_time": "2021-08-15T16:17:12.766Z"
   },
   {
    "duration": 19633,
    "start_time": "2021-08-15T16:17:14.708Z"
   },
   {
    "duration": 8,
    "start_time": "2021-08-15T16:18:34.766Z"
   },
   {
    "duration": 7146,
    "start_time": "2021-08-15T16:18:36.984Z"
   },
   {
    "duration": 7,
    "start_time": "2021-08-15T16:18:53.989Z"
   },
   {
    "duration": 7234,
    "start_time": "2021-08-15T16:18:54.826Z"
   },
   {
    "duration": 7,
    "start_time": "2021-08-15T16:19:12.153Z"
   },
   {
    "duration": 19028,
    "start_time": "2021-08-15T16:19:12.553Z"
   },
   {
    "duration": 1530,
    "start_time": "2021-08-15T16:26:43.356Z"
   },
   {
    "duration": 1346,
    "start_time": "2021-08-15T16:26:44.889Z"
   },
   {
    "duration": 5,
    "start_time": "2021-08-15T16:26:46.238Z"
   },
   {
    "duration": 61,
    "start_time": "2021-08-15T16:26:46.245Z"
   },
   {
    "duration": 256,
    "start_time": "2021-08-15T16:26:46.308Z"
   },
   {
    "duration": 146,
    "start_time": "2021-08-15T16:26:46.566Z"
   },
   {
    "duration": 60,
    "start_time": "2021-08-15T16:26:46.715Z"
   },
   {
    "duration": 6,
    "start_time": "2021-08-15T16:26:46.778Z"
   },
   {
    "duration": 5,
    "start_time": "2021-08-15T16:26:46.789Z"
   },
   {
    "duration": 660,
    "start_time": "2021-08-15T16:26:46.797Z"
   },
   {
    "duration": 4,
    "start_time": "2021-08-15T16:26:47.459Z"
   },
   {
    "duration": 19,
    "start_time": "2021-08-15T16:26:47.466Z"
   },
   {
    "duration": 25,
    "start_time": "2021-08-15T16:26:47.487Z"
   },
   {
    "duration": 37,
    "start_time": "2021-08-15T16:26:47.515Z"
   },
   {
    "duration": 7,
    "start_time": "2021-08-15T16:26:47.554Z"
   },
   {
    "duration": 23,
    "start_time": "2021-08-15T16:26:47.563Z"
   },
   {
    "duration": 18968,
    "start_time": "2021-08-15T16:26:47.589Z"
   },
   {
    "duration": 23,
    "start_time": "2021-08-15T16:27:06.560Z"
   },
   {
    "duration": 87,
    "start_time": "2021-08-15T16:28:15.039Z"
   },
   {
    "duration": 6,
    "start_time": "2021-08-15T20:43:05.410Z"
   }
  ],
  "kernelspec": {
   "display_name": "Python 3",
   "language": "python",
   "name": "python3"
  },
  "language_info": {
   "codemirror_mode": {
    "name": "ipython",
    "version": 3
   },
   "file_extension": ".py",
   "mimetype": "text/x-python",
   "name": "python",
   "nbconvert_exporter": "python",
   "pygments_lexer": "ipython3",
   "version": "3.8.8"
  },
  "toc": {
   "base_numbering": 1,
   "nav_menu": {},
   "number_sections": true,
   "sideBar": true,
   "skip_h1_title": true,
   "title_cell": "Table of Contents",
   "title_sidebar": "Contents",
   "toc_cell": false,
   "toc_position": {},
   "toc_section_display": true,
   "toc_window_display": false
  }
 },
 "nbformat": 4,
 "nbformat_minor": 2
}
