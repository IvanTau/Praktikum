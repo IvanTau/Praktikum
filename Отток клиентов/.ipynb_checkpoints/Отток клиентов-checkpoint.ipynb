{
 "cells": [
  {
   "cell_type": "markdown",
   "metadata": {
    "toc": true
   },
   "source": [
    "<h1>Содержание<span class=\"tocSkip\"></span></h1>\n",
    "<div class=\"toc\"><ul class=\"toc-item\"><li><span><a href=\"#Подготовка-данных\" data-toc-modified-id=\"Подготовка-данных-1\"><span class=\"toc-item-num\">1&nbsp;&nbsp;</span>Подготовка данных</a></span><ul class=\"toc-item\"><li><span><a href=\"#Изучение-датасета\" data-toc-modified-id=\"Изучение-датасета-1.1\"><span class=\"toc-item-num\">1.1&nbsp;&nbsp;</span>Изучение датасета</a></span></li><li><span><a href=\"#Предобработка-данных\" data-toc-modified-id=\"Предобработка-данных-1.2\"><span class=\"toc-item-num\">1.2&nbsp;&nbsp;</span>Предобработка данных</a></span></li></ul></li><li><span><a href=\"#Исследование-задачи\" data-toc-modified-id=\"Исследование-задачи-2\"><span class=\"toc-item-num\">2&nbsp;&nbsp;</span>Исследование задачи</a></span></li><li><span><a href=\"#Борьба-с-дисбалансом\" data-toc-modified-id=\"Борьба-с-дисбалансом-3\"><span class=\"toc-item-num\">3&nbsp;&nbsp;</span>Борьба с дисбалансом</a></span><ul class=\"toc-item\"><li><span><a href=\"#Upsampling\" data-toc-modified-id=\"Upsampling-3.1\"><span class=\"toc-item-num\">3.1&nbsp;&nbsp;</span>Upsampling</a></span></li><li><span><a href=\"#Downsampling\" data-toc-modified-id=\"Downsampling-3.2\"><span class=\"toc-item-num\">3.2&nbsp;&nbsp;</span>Downsampling</a></span></li><li><span><a href=\"#Class-Weights\" data-toc-modified-id=\"Class-Weights-3.3\"><span class=\"toc-item-num\">3.3&nbsp;&nbsp;</span>Class Weights</a></span></li></ul></li><li><span><a href=\"#Вывод\" data-toc-modified-id=\"Вывод-4\"><span class=\"toc-item-num\">4&nbsp;&nbsp;</span>Вывод</a></span></li></ul></div>"
   ]
  },
  {
   "cell_type": "markdown",
   "metadata": {},
   "source": [
    "# Отток клиентов"
   ]
  },
  {
   "cell_type": "markdown",
   "metadata": {},
   "source": [
    "Из «Бета-Банка» стали уходить клиенты. Каждый месяц. Немного, но заметно. Банковские маркетологи посчитали: сохранять текущих клиентов дешевле, чем привлекать новых.\n",
    "\n",
    "Нужно спрогнозировать, уйдёт клиент из банка в ближайшее время или нет. Вам предоставлены исторические данные о поведении клиентов и расторжении договоров с банком. \n",
    "\n",
    "Постройте модель с предельно большим значением *F1*-меры. Чтобы сдать проект успешно, нужно довести метрику до 0.59. Проверьте *F1*-меру на тестовой выборке самостоятельно.\n",
    "\n",
    "Дополнительно измеряйте *AUC-ROC*, сравнивайте её значение с *F1*-мерой.\n",
    "\n",
    "Источник данных: [https://www.kaggle.com/barelydedicated/bank-customer-churn-modeling](https://www.kaggle.com/barelydedicated/bank-customer-churn-modeling)"
   ]
  },
  {
   "cell_type": "markdown",
   "metadata": {},
   "source": [
    "## Подготовка данных\n",
    "### Изучение датасета"
   ]
  },
  {
   "cell_type": "code",
   "execution_count": 1,
   "metadata": {},
   "outputs": [],
   "source": [
    "import pandas as pd\n",
    "import seaborn as sns\n",
    "import matplotlib.pyplot as plt\n",
    "import numpy as np\n",
    "\n",
    "from sklearn.tree import DecisionTreeClassifier\n",
    "from sklearn.ensemble import RandomForestClassifier\n",
    "from sklearn.linear_model import LogisticRegression\n",
    "from sklearn.dummy import DummyClassifier\n",
    "\n",
    "from sklearn.metrics import f1_score, recall_score, precision_score, accuracy_score, roc_auc_score, roc_curve\n",
    "\n",
    "from sklearn.model_selection import train_test_split, StratifiedKFold, GridSearchCV\n",
    "\n",
    "from sklearn.preprocessing import StandardScaler\n",
    "\n",
    "from sklearn.utils import shuffle"
   ]
  },
  {
   "cell_type": "code",
   "execution_count": 2,
   "metadata": {},
   "outputs": [],
   "source": [
    "data_raw = pd.read_csv('/datasets/Churn.csv')"
   ]
  },
  {
   "cell_type": "code",
   "execution_count": 3,
   "metadata": {},
   "outputs": [
    {
     "data": {
      "text/html": [
       "<div>\n",
       "<style scoped>\n",
       "    .dataframe tbody tr th:only-of-type {\n",
       "        vertical-align: middle;\n",
       "    }\n",
       "\n",
       "    .dataframe tbody tr th {\n",
       "        vertical-align: top;\n",
       "    }\n",
       "\n",
       "    .dataframe thead th {\n",
       "        text-align: right;\n",
       "    }\n",
       "</style>\n",
       "<table border=\"1\" class=\"dataframe\">\n",
       "  <thead>\n",
       "    <tr style=\"text-align: right;\">\n",
       "      <th></th>\n",
       "      <th>RowNumber</th>\n",
       "      <th>CustomerId</th>\n",
       "      <th>Surname</th>\n",
       "      <th>CreditScore</th>\n",
       "      <th>Geography</th>\n",
       "      <th>Gender</th>\n",
       "      <th>Age</th>\n",
       "      <th>Tenure</th>\n",
       "      <th>Balance</th>\n",
       "      <th>NumOfProducts</th>\n",
       "      <th>HasCrCard</th>\n",
       "      <th>IsActiveMember</th>\n",
       "      <th>EstimatedSalary</th>\n",
       "      <th>Exited</th>\n",
       "    </tr>\n",
       "  </thead>\n",
       "  <tbody>\n",
       "    <tr>\n",
       "      <td>0</td>\n",
       "      <td>1</td>\n",
       "      <td>15634602</td>\n",
       "      <td>Hargrave</td>\n",
       "      <td>619</td>\n",
       "      <td>France</td>\n",
       "      <td>Female</td>\n",
       "      <td>42</td>\n",
       "      <td>2.0</td>\n",
       "      <td>0.00</td>\n",
       "      <td>1</td>\n",
       "      <td>1</td>\n",
       "      <td>1</td>\n",
       "      <td>101348.88</td>\n",
       "      <td>1</td>\n",
       "    </tr>\n",
       "    <tr>\n",
       "      <td>1</td>\n",
       "      <td>2</td>\n",
       "      <td>15647311</td>\n",
       "      <td>Hill</td>\n",
       "      <td>608</td>\n",
       "      <td>Spain</td>\n",
       "      <td>Female</td>\n",
       "      <td>41</td>\n",
       "      <td>1.0</td>\n",
       "      <td>83807.86</td>\n",
       "      <td>1</td>\n",
       "      <td>0</td>\n",
       "      <td>1</td>\n",
       "      <td>112542.58</td>\n",
       "      <td>0</td>\n",
       "    </tr>\n",
       "    <tr>\n",
       "      <td>2</td>\n",
       "      <td>3</td>\n",
       "      <td>15619304</td>\n",
       "      <td>Onio</td>\n",
       "      <td>502</td>\n",
       "      <td>France</td>\n",
       "      <td>Female</td>\n",
       "      <td>42</td>\n",
       "      <td>8.0</td>\n",
       "      <td>159660.80</td>\n",
       "      <td>3</td>\n",
       "      <td>1</td>\n",
       "      <td>0</td>\n",
       "      <td>113931.57</td>\n",
       "      <td>1</td>\n",
       "    </tr>\n",
       "  </tbody>\n",
       "</table>\n",
       "</div>"
      ],
      "text/plain": [
       "   RowNumber  CustomerId   Surname  CreditScore Geography  Gender  Age  \\\n",
       "0          1    15634602  Hargrave          619    France  Female   42   \n",
       "1          2    15647311      Hill          608     Spain  Female   41   \n",
       "2          3    15619304      Onio          502    France  Female   42   \n",
       "\n",
       "   Tenure    Balance  NumOfProducts  HasCrCard  IsActiveMember  \\\n",
       "0     2.0       0.00              1          1               1   \n",
       "1     1.0   83807.86              1          0               1   \n",
       "2     8.0  159660.80              3          1               0   \n",
       "\n",
       "   EstimatedSalary  Exited  \n",
       "0        101348.88       1  \n",
       "1        112542.58       0  \n",
       "2        113931.57       1  "
      ]
     },
     "execution_count": 3,
     "metadata": {},
     "output_type": "execute_result"
    }
   ],
   "source": [
    "# Общий вгляд на датасет\n",
    "data_raw.head(3)"
   ]
  },
  {
   "cell_type": "code",
   "execution_count": 4,
   "metadata": {
    "scrolled": true
   },
   "outputs": [
    {
     "data": {
      "text/html": [
       "<div>\n",
       "<style scoped>\n",
       "    .dataframe tbody tr th:only-of-type {\n",
       "        vertical-align: middle;\n",
       "    }\n",
       "\n",
       "    .dataframe tbody tr th {\n",
       "        vertical-align: top;\n",
       "    }\n",
       "\n",
       "    .dataframe thead th {\n",
       "        text-align: right;\n",
       "    }\n",
       "</style>\n",
       "<table border=\"1\" class=\"dataframe\">\n",
       "  <thead>\n",
       "    <tr style=\"text-align: right;\">\n",
       "      <th></th>\n",
       "      <th>RowNumber</th>\n",
       "      <th>CustomerId</th>\n",
       "      <th>CreditScore</th>\n",
       "      <th>Age</th>\n",
       "      <th>Tenure</th>\n",
       "      <th>Balance</th>\n",
       "      <th>NumOfProducts</th>\n",
       "      <th>HasCrCard</th>\n",
       "      <th>IsActiveMember</th>\n",
       "      <th>EstimatedSalary</th>\n",
       "      <th>Exited</th>\n",
       "    </tr>\n",
       "  </thead>\n",
       "  <tbody>\n",
       "    <tr>\n",
       "      <td>count</td>\n",
       "      <td>10000.00000</td>\n",
       "      <td>1.000000e+04</td>\n",
       "      <td>10000.000000</td>\n",
       "      <td>10000.000000</td>\n",
       "      <td>9091.000000</td>\n",
       "      <td>10000.000000</td>\n",
       "      <td>10000.000000</td>\n",
       "      <td>10000.00000</td>\n",
       "      <td>10000.000000</td>\n",
       "      <td>10000.000000</td>\n",
       "      <td>10000.000000</td>\n",
       "    </tr>\n",
       "    <tr>\n",
       "      <td>mean</td>\n",
       "      <td>5000.50000</td>\n",
       "      <td>1.569094e+07</td>\n",
       "      <td>650.528800</td>\n",
       "      <td>38.921800</td>\n",
       "      <td>4.997690</td>\n",
       "      <td>76485.889288</td>\n",
       "      <td>1.530200</td>\n",
       "      <td>0.70550</td>\n",
       "      <td>0.515100</td>\n",
       "      <td>100090.239881</td>\n",
       "      <td>0.203700</td>\n",
       "    </tr>\n",
       "    <tr>\n",
       "      <td>std</td>\n",
       "      <td>2886.89568</td>\n",
       "      <td>7.193619e+04</td>\n",
       "      <td>96.653299</td>\n",
       "      <td>10.487806</td>\n",
       "      <td>2.894723</td>\n",
       "      <td>62397.405202</td>\n",
       "      <td>0.581654</td>\n",
       "      <td>0.45584</td>\n",
       "      <td>0.499797</td>\n",
       "      <td>57510.492818</td>\n",
       "      <td>0.402769</td>\n",
       "    </tr>\n",
       "    <tr>\n",
       "      <td>min</td>\n",
       "      <td>1.00000</td>\n",
       "      <td>1.556570e+07</td>\n",
       "      <td>350.000000</td>\n",
       "      <td>18.000000</td>\n",
       "      <td>0.000000</td>\n",
       "      <td>0.000000</td>\n",
       "      <td>1.000000</td>\n",
       "      <td>0.00000</td>\n",
       "      <td>0.000000</td>\n",
       "      <td>11.580000</td>\n",
       "      <td>0.000000</td>\n",
       "    </tr>\n",
       "    <tr>\n",
       "      <td>25%</td>\n",
       "      <td>2500.75000</td>\n",
       "      <td>1.562853e+07</td>\n",
       "      <td>584.000000</td>\n",
       "      <td>32.000000</td>\n",
       "      <td>2.000000</td>\n",
       "      <td>0.000000</td>\n",
       "      <td>1.000000</td>\n",
       "      <td>0.00000</td>\n",
       "      <td>0.000000</td>\n",
       "      <td>51002.110000</td>\n",
       "      <td>0.000000</td>\n",
       "    </tr>\n",
       "    <tr>\n",
       "      <td>50%</td>\n",
       "      <td>5000.50000</td>\n",
       "      <td>1.569074e+07</td>\n",
       "      <td>652.000000</td>\n",
       "      <td>37.000000</td>\n",
       "      <td>5.000000</td>\n",
       "      <td>97198.540000</td>\n",
       "      <td>1.000000</td>\n",
       "      <td>1.00000</td>\n",
       "      <td>1.000000</td>\n",
       "      <td>100193.915000</td>\n",
       "      <td>0.000000</td>\n",
       "    </tr>\n",
       "    <tr>\n",
       "      <td>75%</td>\n",
       "      <td>7500.25000</td>\n",
       "      <td>1.575323e+07</td>\n",
       "      <td>718.000000</td>\n",
       "      <td>44.000000</td>\n",
       "      <td>7.000000</td>\n",
       "      <td>127644.240000</td>\n",
       "      <td>2.000000</td>\n",
       "      <td>1.00000</td>\n",
       "      <td>1.000000</td>\n",
       "      <td>149388.247500</td>\n",
       "      <td>0.000000</td>\n",
       "    </tr>\n",
       "    <tr>\n",
       "      <td>max</td>\n",
       "      <td>10000.00000</td>\n",
       "      <td>1.581569e+07</td>\n",
       "      <td>850.000000</td>\n",
       "      <td>92.000000</td>\n",
       "      <td>10.000000</td>\n",
       "      <td>250898.090000</td>\n",
       "      <td>4.000000</td>\n",
       "      <td>1.00000</td>\n",
       "      <td>1.000000</td>\n",
       "      <td>199992.480000</td>\n",
       "      <td>1.000000</td>\n",
       "    </tr>\n",
       "  </tbody>\n",
       "</table>\n",
       "</div>"
      ],
      "text/plain": [
       "         RowNumber    CustomerId   CreditScore           Age       Tenure  \\\n",
       "count  10000.00000  1.000000e+04  10000.000000  10000.000000  9091.000000   \n",
       "mean    5000.50000  1.569094e+07    650.528800     38.921800     4.997690   \n",
       "std     2886.89568  7.193619e+04     96.653299     10.487806     2.894723   \n",
       "min        1.00000  1.556570e+07    350.000000     18.000000     0.000000   \n",
       "25%     2500.75000  1.562853e+07    584.000000     32.000000     2.000000   \n",
       "50%     5000.50000  1.569074e+07    652.000000     37.000000     5.000000   \n",
       "75%     7500.25000  1.575323e+07    718.000000     44.000000     7.000000   \n",
       "max    10000.00000  1.581569e+07    850.000000     92.000000    10.000000   \n",
       "\n",
       "             Balance  NumOfProducts    HasCrCard  IsActiveMember  \\\n",
       "count   10000.000000   10000.000000  10000.00000    10000.000000   \n",
       "mean    76485.889288       1.530200      0.70550        0.515100   \n",
       "std     62397.405202       0.581654      0.45584        0.499797   \n",
       "min         0.000000       1.000000      0.00000        0.000000   \n",
       "25%         0.000000       1.000000      0.00000        0.000000   \n",
       "50%     97198.540000       1.000000      1.00000        1.000000   \n",
       "75%    127644.240000       2.000000      1.00000        1.000000   \n",
       "max    250898.090000       4.000000      1.00000        1.000000   \n",
       "\n",
       "       EstimatedSalary        Exited  \n",
       "count     10000.000000  10000.000000  \n",
       "mean     100090.239881      0.203700  \n",
       "std       57510.492818      0.402769  \n",
       "min          11.580000      0.000000  \n",
       "25%       51002.110000      0.000000  \n",
       "50%      100193.915000      0.000000  \n",
       "75%      149388.247500      0.000000  \n",
       "max      199992.480000      1.000000  "
      ]
     },
     "execution_count": 4,
     "metadata": {},
     "output_type": "execute_result"
    }
   ],
   "source": [
    "# Описательные статистики\n",
    "data_raw.describe()"
   ]
  },
  {
   "cell_type": "code",
   "execution_count": 5,
   "metadata": {
    "scrolled": false
   },
   "outputs": [
    {
     "name": "stdout",
     "output_type": "stream",
     "text": [
      "<class 'pandas.core.frame.DataFrame'>\n",
      "RangeIndex: 10000 entries, 0 to 9999\n",
      "Data columns (total 14 columns):\n",
      "RowNumber          10000 non-null int64\n",
      "CustomerId         10000 non-null int64\n",
      "Surname            10000 non-null object\n",
      "CreditScore        10000 non-null int64\n",
      "Geography          10000 non-null object\n",
      "Gender             10000 non-null object\n",
      "Age                10000 non-null int64\n",
      "Tenure             9091 non-null float64\n",
      "Balance            10000 non-null float64\n",
      "NumOfProducts      10000 non-null int64\n",
      "HasCrCard          10000 non-null int64\n",
      "IsActiveMember     10000 non-null int64\n",
      "EstimatedSalary    10000 non-null float64\n",
      "Exited             10000 non-null int64\n",
      "dtypes: float64(3), int64(8), object(3)\n",
      "memory usage: 1.1+ MB\n"
     ]
    }
   ],
   "source": [
    "# Проверка типов данных и наличие NaN-значений\n",
    "data_raw.info()"
   ]
  },
  {
   "cell_type": "code",
   "execution_count": 6,
   "metadata": {
    "scrolled": true
   },
   "outputs": [
    {
     "name": "stdout",
     "output_type": "stream",
     "text": [
      "Количество дубликатов: 0\n"
     ]
    }
   ],
   "source": [
    "# Проверка на дубликаты\n",
    "print('Количество дубликатов:', data_raw.duplicated().sum())"
   ]
  },
  {
   "cell_type": "code",
   "execution_count": 7,
   "metadata": {
    "scrolled": false
   },
   "outputs": [
    {
     "data": {
      "image/png": "[encoded data removed]",
      "text/plain": [
       "<Figure size 360x288 with 2 Axes>"
      ]
     },
     "metadata": {
      "needs_background": "light"
     },
     "output_type": "display_data"
    }
   ],
   "source": [
    "# Проверим наличие корреляции между столбцами\n",
    "plt.figure(figsize=(5, 4))\n",
    "sns.heatmap(data_raw.corr())\n",
    "plt.title('График корреляции между признаками')\n",
    "\n",
    "plt.show()"
   ]
  },
  {
   "cell_type": "markdown",
   "metadata": {},
   "source": [
    "Значительная корреляция отсуствует"
   ]
  },
  {
   "cell_type": "code",
   "execution_count": 8,
   "metadata": {
    "scrolled": true
   },
   "outputs": [
    {
     "data": {
      "text/html": [
       "<div>\n",
       "<style scoped>\n",
       "    .dataframe tbody tr th:only-of-type {\n",
       "        vertical-align: middle;\n",
       "    }\n",
       "\n",
       "    .dataframe tbody tr th {\n",
       "        vertical-align: top;\n",
       "    }\n",
       "\n",
       "    .dataframe thead th {\n",
       "        text-align: right;\n",
       "    }\n",
       "</style>\n",
       "<table border=\"1\" class=\"dataframe\">\n",
       "  <thead>\n",
       "    <tr style=\"text-align: right;\">\n",
       "      <th></th>\n",
       "      <th>Gender</th>\n",
       "    </tr>\n",
       "  </thead>\n",
       "  <tbody>\n",
       "    <tr>\n",
       "      <td>Male</td>\n",
       "      <td>5457</td>\n",
       "    </tr>\n",
       "    <tr>\n",
       "      <td>Female</td>\n",
       "      <td>4543</td>\n",
       "    </tr>\n",
       "  </tbody>\n",
       "</table>\n",
       "</div>"
      ],
      "text/plain": [
       "        Gender\n",
       "Male      5457\n",
       "Female    4543"
      ]
     },
     "metadata": {},
     "output_type": "display_data"
    },
    {
     "data": {
      "text/html": [
       "<div>\n",
       "<style scoped>\n",
       "    .dataframe tbody tr th:only-of-type {\n",
       "        vertical-align: middle;\n",
       "    }\n",
       "\n",
       "    .dataframe tbody tr th {\n",
       "        vertical-align: top;\n",
       "    }\n",
       "\n",
       "    .dataframe thead th {\n",
       "        text-align: right;\n",
       "    }\n",
       "</style>\n",
       "<table border=\"1\" class=\"dataframe\">\n",
       "  <thead>\n",
       "    <tr style=\"text-align: right;\">\n",
       "      <th></th>\n",
       "      <th>Geography</th>\n",
       "    </tr>\n",
       "  </thead>\n",
       "  <tbody>\n",
       "    <tr>\n",
       "      <td>France</td>\n",
       "      <td>5014</td>\n",
       "    </tr>\n",
       "    <tr>\n",
       "      <td>Germany</td>\n",
       "      <td>2509</td>\n",
       "    </tr>\n",
       "    <tr>\n",
       "      <td>Spain</td>\n",
       "      <td>2477</td>\n",
       "    </tr>\n",
       "  </tbody>\n",
       "</table>\n",
       "</div>"
      ],
      "text/plain": [
       "         Geography\n",
       "France        5014\n",
       "Germany       2509\n",
       "Spain         2477"
      ]
     },
     "metadata": {},
     "output_type": "display_data"
    }
   ],
   "source": [
    "# Взглянем на уникальные значеия двух строковых столбцов\n",
    "display(data_raw['Gender'].value_counts().to_frame())\n",
    "display(data_raw['Geography'].value_counts().to_frame())"
   ]
  },
  {
   "cell_type": "markdown",
   "metadata": {},
   "source": [
    "Список действий при предобработке:\n",
    "- Удалить *RowNumber*, *CustomerId* и *Surname* за ненадобностью\n",
    "- Перевести *Geography* и *Gender* в числовой вид.\n",
    "- Привести столбцы к одному масштабу.\n",
    "- Привести названия столбцов к camelCase.\n",
    "- Удалить в столбце *Tenure* отсутствующие значения."
   ]
  },
  {
   "cell_type": "markdown",
   "metadata": {},
   "source": [
    "### Предобработка данных"
   ]
  },
  {
   "cell_type": "code",
   "execution_count": 9,
   "metadata": {},
   "outputs": [],
   "source": [
    "data = data_raw.copy()\n",
    "\n",
    "# Удалим ненужные столбцы\n",
    "data = data.drop(columns=['RowNumber', 'CustomerId', 'Surname'])"
   ]
  },
  {
   "cell_type": "code",
   "execution_count": 10,
   "metadata": {},
   "outputs": [],
   "source": [
    "# Приводим названия столбцов к camelCase\n",
    "for column in data.columns:\n",
    "    new_column = column[0].lower() + column[1:]\n",
    "    data = data.rename(columns={column: new_column})"
   ]
  },
  {
   "cell_type": "markdown",
   "metadata": {},
   "source": [
    "Я решил удалить NaN-значения, чтобы не заполнять данные искусственно заполненными значениями и не вводить модели в заблуждение.\n",
    "Возможно присутствие NaN вызвано ошибками при сборе информации."
   ]
  },
  {
   "cell_type": "code",
   "execution_count": 11,
   "metadata": {},
   "outputs": [],
   "source": [
    "# Удалим отсутствующие значения\n",
    "data.dropna(axis=0, inplace=True)\n",
    "data = data.reset_index(drop=True)"
   ]
  },
  {
   "cell_type": "code",
   "execution_count": 12,
   "metadata": {},
   "outputs": [],
   "source": [
    "# Переводим столбцы в числовой вид\n",
    "data = pd.get_dummies(data, drop_first=True)"
   ]
  },
  {
   "cell_type": "code",
   "execution_count": 13,
   "metadata": {},
   "outputs": [],
   "source": [
    "# Переведем типы данных на менее объемные, чтобы облегчить датасет - модель будет тренироваться чуточку быстрее\n",
    "for column in data.columns:\n",
    "    if data[column].dtype == 'float64':\n",
    "        data[column] = data[column].astype('float32')\n",
    "    else:\n",
    "        data[column] = data[column].astype('uint8')\n",
    "        "
   ]
  },
  {
   "cell_type": "code",
   "execution_count": 14,
   "metadata": {
    "scrolled": false
   },
   "outputs": [
    {
     "data": {
      "text/html": [
       "<div>\n",
       "<style scoped>\n",
       "    .dataframe tbody tr th:only-of-type {\n",
       "        vertical-align: middle;\n",
       "    }\n",
       "\n",
       "    .dataframe tbody tr th {\n",
       "        vertical-align: top;\n",
       "    }\n",
       "\n",
       "    .dataframe thead th {\n",
       "        text-align: right;\n",
       "    }\n",
       "</style>\n",
       "<table border=\"1\" class=\"dataframe\">\n",
       "  <thead>\n",
       "    <tr style=\"text-align: right;\">\n",
       "      <th></th>\n",
       "      <th>creditScore</th>\n",
       "      <th>age</th>\n",
       "      <th>tenure</th>\n",
       "      <th>balance</th>\n",
       "      <th>numOfProducts</th>\n",
       "      <th>hasCrCard</th>\n",
       "      <th>isActiveMember</th>\n",
       "      <th>estimatedSalary</th>\n",
       "      <th>exited</th>\n",
       "      <th>geography_Germany</th>\n",
       "      <th>geography_Spain</th>\n",
       "      <th>gender_Male</th>\n",
       "    </tr>\n",
       "  </thead>\n",
       "  <tbody>\n",
       "    <tr>\n",
       "      <td>0</td>\n",
       "      <td>107</td>\n",
       "      <td>42</td>\n",
       "      <td>2.0</td>\n",
       "      <td>0.000000</td>\n",
       "      <td>1</td>\n",
       "      <td>1</td>\n",
       "      <td>1</td>\n",
       "      <td>101348.882812</td>\n",
       "      <td>1</td>\n",
       "      <td>0</td>\n",
       "      <td>0</td>\n",
       "      <td>0</td>\n",
       "    </tr>\n",
       "    <tr>\n",
       "      <td>1</td>\n",
       "      <td>96</td>\n",
       "      <td>41</td>\n",
       "      <td>1.0</td>\n",
       "      <td>83807.859375</td>\n",
       "      <td>1</td>\n",
       "      <td>0</td>\n",
       "      <td>1</td>\n",
       "      <td>112542.578125</td>\n",
       "      <td>0</td>\n",
       "      <td>0</td>\n",
       "      <td>1</td>\n",
       "      <td>0</td>\n",
       "    </tr>\n",
       "    <tr>\n",
       "      <td>2</td>\n",
       "      <td>246</td>\n",
       "      <td>42</td>\n",
       "      <td>8.0</td>\n",
       "      <td>159660.796875</td>\n",
       "      <td>3</td>\n",
       "      <td>1</td>\n",
       "      <td>0</td>\n",
       "      <td>113931.570312</td>\n",
       "      <td>1</td>\n",
       "      <td>0</td>\n",
       "      <td>0</td>\n",
       "      <td>0</td>\n",
       "    </tr>\n",
       "  </tbody>\n",
       "</table>\n",
       "</div>"
      ],
      "text/plain": [
       "   creditScore  age  tenure        balance  numOfProducts  hasCrCard  \\\n",
       "0          107   42     2.0       0.000000              1          1   \n",
       "1           96   41     1.0   83807.859375              1          0   \n",
       "2          246   42     8.0  159660.796875              3          1   \n",
       "\n",
       "   isActiveMember  estimatedSalary  exited  geography_Germany  \\\n",
       "0               1    101348.882812       1                  0   \n",
       "1               1    112542.578125       0                  0   \n",
       "2               0    113931.570312       1                  0   \n",
       "\n",
       "   geography_Spain  gender_Male  \n",
       "0                0            0  \n",
       "1                1            0  \n",
       "2                0            0  "
      ]
     },
     "metadata": {},
     "output_type": "display_data"
    },
    {
     "name": "stdout",
     "output_type": "stream",
     "text": [
      "<class 'pandas.core.frame.DataFrame'>\n",
      "RangeIndex: 9091 entries, 0 to 9090\n",
      "Data columns (total 12 columns):\n",
      "creditScore          9091 non-null uint8\n",
      "age                  9091 non-null uint8\n",
      "tenure               9091 non-null float32\n",
      "balance              9091 non-null float32\n",
      "numOfProducts        9091 non-null uint8\n",
      "hasCrCard            9091 non-null uint8\n",
      "isActiveMember       9091 non-null uint8\n",
      "estimatedSalary      9091 non-null float32\n",
      "exited               9091 non-null uint8\n",
      "geography_Germany    9091 non-null uint8\n",
      "geography_Spain      9091 non-null uint8\n",
      "gender_Male          9091 non-null uint8\n",
      "dtypes: float32(3), uint8(9)\n",
      "memory usage: 186.6 KB\n"
     ]
    }
   ],
   "source": [
    "# Проверяем сделанные изменения\n",
    "display(data.head(3))\n",
    "data.info()"
   ]
  },
  {
   "cell_type": "markdown",
   "metadata": {},
   "source": [
    "## Исследование задачи"
   ]
  },
  {
   "cell_type": "code",
   "execution_count": 15,
   "metadata": {},
   "outputs": [
    {
     "data": {
      "text/html": [
       "<div>\n",
       "<style scoped>\n",
       "    .dataframe tbody tr th:only-of-type {\n",
       "        vertical-align: middle;\n",
       "    }\n",
       "\n",
       "    .dataframe tbody tr th {\n",
       "        vertical-align: top;\n",
       "    }\n",
       "\n",
       "    .dataframe thead th {\n",
       "        text-align: right;\n",
       "    }\n",
       "</style>\n",
       "<table border=\"1\" class=\"dataframe\">\n",
       "  <thead>\n",
       "    <tr style=\"text-align: right;\">\n",
       "      <th></th>\n",
       "      <th>Баланс классов</th>\n",
       "    </tr>\n",
       "  </thead>\n",
       "  <tbody>\n",
       "    <tr>\n",
       "      <td>0</td>\n",
       "      <td>0.8</td>\n",
       "    </tr>\n",
       "    <tr>\n",
       "      <td>1</td>\n",
       "      <td>0.2</td>\n",
       "    </tr>\n",
       "  </tbody>\n",
       "</table>\n",
       "</div>"
      ],
      "text/plain": [
       "   Баланс классов\n",
       "0             0.8\n",
       "1             0.2"
      ]
     },
     "execution_count": 15,
     "metadata": {},
     "output_type": "execute_result"
    }
   ],
   "source": [
    "# Взглянем на балансировку классов\n",
    "(data['exited'].value_counts(normalize=True)\n",
    " .round(2)\n",
    " .to_frame()\n",
    " .rename(columns={'exited': 'Баланс классов'}))"
   ]
  },
  {
   "cell_type": "markdown",
   "metadata": {},
   "source": [
    "Как мы видим, присутствует дисбаланс классов. Попробуем обучить модель без учета дисбаланса."
   ]
  },
  {
   "cell_type": "code",
   "execution_count": 16,
   "metadata": {
    "scrolled": true
   },
   "outputs": [
    {
     "data": {
      "text/html": [
       "<div>\n",
       "<style scoped>\n",
       "    .dataframe tbody tr th:only-of-type {\n",
       "        vertical-align: middle;\n",
       "    }\n",
       "\n",
       "    .dataframe tbody tr th {\n",
       "        vertical-align: top;\n",
       "    }\n",
       "\n",
       "    .dataframe thead th {\n",
       "        text-align: right;\n",
       "    }\n",
       "</style>\n",
       "<table border=\"1\" class=\"dataframe\">\n",
       "  <thead>\n",
       "    <tr style=\"text-align: right;\">\n",
       "      <th></th>\n",
       "      <th>Обучающая</th>\n",
       "    </tr>\n",
       "  </thead>\n",
       "  <tbody>\n",
       "    <tr>\n",
       "      <td>0</td>\n",
       "      <td>0.8</td>\n",
       "    </tr>\n",
       "    <tr>\n",
       "      <td>1</td>\n",
       "      <td>0.2</td>\n",
       "    </tr>\n",
       "  </tbody>\n",
       "</table>\n",
       "</div>"
      ],
      "text/plain": [
       "   Обучающая\n",
       "0        0.8\n",
       "1        0.2"
      ]
     },
     "metadata": {},
     "output_type": "display_data"
    },
    {
     "data": {
      "text/html": [
       "<div>\n",
       "<style scoped>\n",
       "    .dataframe tbody tr th:only-of-type {\n",
       "        vertical-align: middle;\n",
       "    }\n",
       "\n",
       "    .dataframe tbody tr th {\n",
       "        vertical-align: top;\n",
       "    }\n",
       "\n",
       "    .dataframe thead th {\n",
       "        text-align: right;\n",
       "    }\n",
       "</style>\n",
       "<table border=\"1\" class=\"dataframe\">\n",
       "  <thead>\n",
       "    <tr style=\"text-align: right;\">\n",
       "      <th></th>\n",
       "      <th>Тестовая</th>\n",
       "    </tr>\n",
       "  </thead>\n",
       "  <tbody>\n",
       "    <tr>\n",
       "      <td>0</td>\n",
       "      <td>0.8</td>\n",
       "    </tr>\n",
       "    <tr>\n",
       "      <td>1</td>\n",
       "      <td>0.2</td>\n",
       "    </tr>\n",
       "  </tbody>\n",
       "</table>\n",
       "</div>"
      ],
      "text/plain": [
       "   Тестовая\n",
       "0       0.8\n",
       "1       0.2"
      ]
     },
     "metadata": {},
     "output_type": "display_data"
    }
   ],
   "source": [
    "# Разделение датасета на тренировочную и тестовую выборки\n",
    "features = data.drop(columns='exited')\n",
    "target = data['exited']\n",
    "\n",
    "features_train, features_test, target_train, target_test = train_test_split(features, target, test_size=0.2,\n",
    "                                                                            random_state=12345,\n",
    "                                                                            stratify=target)\n",
    "\n",
    "# Приводим столбцы к одному масштабу\n",
    "pd.options.mode.chained_assignment = None\n",
    "scaler = StandardScaler()\n",
    "\n",
    "numeric = ['creditScore', 'age', 'tenure', 'balance', 'numOfProducts', 'estimatedSalary']\n",
    "\n",
    "scaler.fit(features_train[numeric])\n",
    "features_train[numeric] = scaler.transform(features_train[numeric])\n",
    "features_test[numeric] = scaler.transform(features_test[numeric])\n",
    "\n",
    "#Проверяем стратификацию целевого признака\n",
    "display(target_train.value_counts(normalize=True).round(2).to_frame().rename(columns={'exited': 'Обучающая'}))\n",
    "display(target_test.value_counts(normalize=True).round(2).to_frame().rename(columns={'exited': 'Тестовая'}))"
   ]
  },
  {
   "cell_type": "code",
   "execution_count": 17,
   "metadata": {},
   "outputs": [],
   "source": [
    "# Функция для подбора гиперпараметров и вывода метрик лучших моделей\n",
    "# УКАЗАТЬ ФИЧИ И ТАРГЕТ!\n",
    "def model_train_test(model, params, n_jobs=1, features=features_train, target=target_train):\n",
    "    # Стратифицированный сплиттер для кросс-валидации\n",
    "    skf = StratifiedKFold(n_splits=5, shuffle=True, random_state=12345)\n",
    "    \n",
    "    # Подбор лучших параметров для модели, проведение кросс-валидации\n",
    "    grid = GridSearchCV(model, params, scoring='f1', cv=skf)\n",
    "    grid.fit(features, target)\n",
    "    best_model = grid.best_estimator_\n",
    "    \n",
    "    # Проверка модели на тестовой выборке\n",
    "    predictions = best_model.predict(features_test)\n",
    "    prediction_ones = best_model.predict_proba(features_test)[:, 1]\n",
    "    \n",
    "    # Расчитываем метрики и присваиваем им имена\n",
    "    recall = recall_score(target_test, predictions).round(3)\n",
    "    precision = precision_score(target_test, predictions).round(3)\n",
    "    f1 = f1_score(target_test, predictions).round(3)\n",
    "    roc_auc = roc_auc_score(target_test, prediction_ones).round(3)\n",
    "    \n",
    "    # Составляем список метрик для будущего использования в таблице моделей\n",
    "    model_metrics = [recall, precision, f1, roc_auc]\n",
    "    fpr, tpr, thresholds = roc_curve(target_test, prediction_ones)\n",
    "    \n",
    "    print('Параметры лучшей модели:', grid.best_params_)\n",
    "    \n",
    "    return fpr, tpr, model_metrics"
   ]
  },
  {
   "cell_type": "code",
   "execution_count": 18,
   "metadata": {},
   "outputs": [],
   "source": [
    "# Датафрейм для вывода метрик моделей\n",
    "\n",
    "models_stats = pd.DataFrame(index=['Полнота', 'Точность', 'F1-мера', 'AUC-ROC'])"
   ]
  },
  {
   "cell_type": "code",
   "execution_count": 19,
   "metadata": {
    "scrolled": true
   },
   "outputs": [
    {
     "name": "stdout",
     "output_type": "stream",
     "text": [
      "Параметры лучшей модели: {'C': 100, 'penalty': 'l2', 'solver': 'newton-cg'}\n"
     ]
    }
   ],
   "source": [
    "# Обучим модель без учета дисбаланса\n",
    "model = LogisticRegression(random_state=12345)\n",
    "params = {'solver': ['newton-cg', 'lbfgs', 'liblinear'],\n",
    "          'penalty': ['l2'],\n",
    "          'C': [100, 10, 1.0, 0.1, 0.01]\n",
    "         }\n",
    "\n",
    "fpr00, tpr00, models_stats['Лог_Рег дисбаланс'] = model_train_test(model, params)"
   ]
  },
  {
   "cell_type": "code",
   "execution_count": 20,
   "metadata": {},
   "outputs": [],
   "source": [
    "# Случайная модель\n",
    "dummy = DummyClassifier(strategy='uniform', random_state=12345)\n",
    "dummy.fit(features_train, target_train)\n",
    "dummy_predictions = dummy.predict(features_test)\n",
    "dummy_ones = dummy.predict_proba(features_test)[:, 1]\n",
    "\n",
    "models_stats['Случайная'] = [recall_score(target_test, dummy_predictions).round(3),\n",
    "                            precision_score(target_test, dummy_predictions).round(3),\n",
    "                            f1_score(target_test, dummy_predictions).round(3),\n",
    "                            roc_auc_score(target_test, dummy_ones).round(3)]\n",
    "dfpr, dtpr, thresholds = roc_curve(target_test, dummy_ones)"
   ]
  },
  {
   "cell_type": "markdown",
   "metadata": {},
   "source": [
    "**Вывод:**\n",
    "\n",
    "Как мы видим, f1-мера нашей модели без учета дисбаланса мала из-за низкой полноты, случайная модель выдает большую полноту, но меньшую точность. AUC-ROC оказался выше случайной модели, значит при разных значениях порога модель угадывает истинно-положительные классы лучше случайной."
   ]
  },
  {
   "cell_type": "markdown",
   "metadata": {},
   "source": [
    "## Борьба с дисбалансом"
   ]
  },
  {
   "cell_type": "markdown",
   "metadata": {},
   "source": [
    "### Upsampling"
   ]
  },
  {
   "cell_type": "code",
   "execution_count": 21,
   "metadata": {},
   "outputs": [],
   "source": [
    "# Функция для увеличения выборки\n",
    "\n",
    "def upsample(features, target, repeat):\n",
    "    features_zeros = features[target == 0]\n",
    "    features_ones = features[target == 1]\n",
    "    target_zeros = target[target == 0]\n",
    "    target_ones = target[target == 1]\n",
    "\n",
    "    features_upsampled = pd.concat([features_zeros] + [features_ones] * repeat)\n",
    "    target_upsampled = pd.concat([target_zeros] + [target_ones] * repeat)\n",
    "    \n",
    "    features_upsampled, target_upsampled = shuffle(features_upsampled, target_upsampled, random_state=12345)\n",
    "    \n",
    "    return features_upsampled, target_upsampled"
   ]
  },
  {
   "cell_type": "code",
   "execution_count": 22,
   "metadata": {},
   "outputs": [
    {
     "data": {
      "text/html": [
       "<div>\n",
       "<style scoped>\n",
       "    .dataframe tbody tr th:only-of-type {\n",
       "        vertical-align: middle;\n",
       "    }\n",
       "\n",
       "    .dataframe tbody tr th {\n",
       "        vertical-align: top;\n",
       "    }\n",
       "\n",
       "    .dataframe thead th {\n",
       "        text-align: right;\n",
       "    }\n",
       "</style>\n",
       "<table border=\"1\" class=\"dataframe\">\n",
       "  <thead>\n",
       "    <tr style=\"text-align: right;\">\n",
       "      <th></th>\n",
       "      <th>Баланс классов</th>\n",
       "    </tr>\n",
       "  </thead>\n",
       "  <tbody>\n",
       "    <tr>\n",
       "      <td>1</td>\n",
       "      <td>0.51</td>\n",
       "    </tr>\n",
       "    <tr>\n",
       "      <td>0</td>\n",
       "      <td>0.49</td>\n",
       "    </tr>\n",
       "  </tbody>\n",
       "</table>\n",
       "</div>"
      ],
      "text/plain": [
       "   Баланс классов\n",
       "1            0.51\n",
       "0            0.49"
      ]
     },
     "metadata": {},
     "output_type": "display_data"
    }
   ],
   "source": [
    "features_up, target_up = upsample(features_train, target_train, 4)\n",
    "\n",
    "#Проверяем стратификацию целевого признака\n",
    "display(target_up.value_counts(normalize=True).round(2).to_frame().rename(columns={'exited': 'Баланс классов'}))"
   ]
  },
  {
   "cell_type": "code",
   "execution_count": 23,
   "metadata": {},
   "outputs": [
    {
     "name": "stdout",
     "output_type": "stream",
     "text": [
      "Параметры лучшей модели: {'C': 0.01, 'penalty': 'l2', 'solver': 'newton-cg'}\n"
     ]
    }
   ],
   "source": [
    "# Проверим модель после увеличения выборки\n",
    "\n",
    "model = LogisticRegression(random_state=12345)\n",
    "params = {'solver': ['newton-cg', 'lbfgs', 'liblinear'],\n",
    "          'penalty': ['l2'],\n",
    "          'C': [100, 10, 1.0, 0.1, 0.01]\n",
    "         }\n",
    "\n",
    "fpr01, tpr01, models_stats['Лог_Рег UP'] = model_train_test(model, params, features=features_up, target=target_up)"
   ]
  },
  {
   "cell_type": "markdown",
   "metadata": {},
   "source": [
    "### Downsampling"
   ]
  },
  {
   "cell_type": "code",
   "execution_count": 24,
   "metadata": {},
   "outputs": [],
   "source": [
    "# Функция для уменьшения выборки\n",
    "\n",
    "def downsample(features, target, fraction):\n",
    "    features_zeros = features[target == 0]\n",
    "    features_ones = features[target == 1]\n",
    "    target_zeros = target[target == 0]\n",
    "    target_ones = target[target == 1]\n",
    "\n",
    "    features_downsampled = pd.concat(\n",
    "        [features_zeros.sample(frac=fraction, random_state=12345)] + [features_ones])\n",
    "    target_downsampled = pd.concat(\n",
    "        [target_zeros.sample(frac=fraction, random_state=12345)] + [target_ones])\n",
    "    \n",
    "    features_downsampled, target_downsampled = shuffle(\n",
    "        features_downsampled, target_downsampled, random_state=12345)\n",
    "    \n",
    "    return features_downsampled, target_downsampled"
   ]
  },
  {
   "cell_type": "code",
   "execution_count": 32,
   "metadata": {},
   "outputs": [
    {
     "data": {
      "text/html": [
       "<div>\n",
       "<style scoped>\n",
       "    .dataframe tbody tr th:only-of-type {\n",
       "        vertical-align: middle;\n",
       "    }\n",
       "\n",
       "    .dataframe tbody tr th {\n",
       "        vertical-align: top;\n",
       "    }\n",
       "\n",
       "    .dataframe thead th {\n",
       "        text-align: right;\n",
       "    }\n",
       "</style>\n",
       "<table border=\"1\" class=\"dataframe\">\n",
       "  <thead>\n",
       "    <tr style=\"text-align: right;\">\n",
       "      <th></th>\n",
       "      <th>Баланс классов</th>\n",
       "    </tr>\n",
       "  </thead>\n",
       "  <tbody>\n",
       "    <tr>\n",
       "      <td>1</td>\n",
       "      <td>0.56</td>\n",
       "    </tr>\n",
       "    <tr>\n",
       "      <td>0</td>\n",
       "      <td>0.44</td>\n",
       "    </tr>\n",
       "  </tbody>\n",
       "</table>\n",
       "</div>"
      ],
      "text/plain": [
       "   Баланс классов\n",
       "1            0.56\n",
       "0            0.44"
      ]
     },
     "metadata": {},
     "output_type": "display_data"
    }
   ],
   "source": [
    "features_down, target_down = downsample(features_train, target_train, 0.2)\n",
    "\n",
    "#Проверяем стратификацию целевого признака\n",
    "display(target_down.value_counts(normalize=True).round(2).to_frame().rename(columns={'exited': 'Баланс классов'}))"
   ]
  },
  {
   "cell_type": "code",
   "execution_count": 26,
   "metadata": {},
   "outputs": [
    {
     "name": "stdout",
     "output_type": "stream",
     "text": [
      "Параметры лучшей модели: {'C': 0.01, 'penalty': 'l2', 'solver': 'newton-cg'}\n"
     ]
    }
   ],
   "source": [
    "# Проверим модель после уменьшения выборки\n",
    "\n",
    "model = LogisticRegression(random_state=12345)\n",
    "params = {'solver': ['newton-cg', 'lbfgs', 'liblinear'],\n",
    "          'penalty': ['l2'],\n",
    "          'C': [100, 10, 1.0, 0.1, 0.01]\n",
    "         }\n",
    "\n",
    "fpr02, tpr02, models_stats['Лог_Рег DOWN'] = model_train_test(model, params, features=features_down, target=target_down)"
   ]
  },
  {
   "cell_type": "markdown",
   "metadata": {},
   "source": [
    "### Class Weights\n",
    "Проверим модель с балансировкой классов и протестируем другие модели"
   ]
  },
  {
   "cell_type": "code",
   "execution_count": 27,
   "metadata": {},
   "outputs": [
    {
     "name": "stdout",
     "output_type": "stream",
     "text": [
      "Параметры лучшей модели: {'C': 0.01, 'penalty': 'l2', 'solver': 'liblinear'}\n"
     ]
    }
   ],
   "source": [
    "# Обучим логистическую регрессию с учетом дисбаланса\n",
    "model = LogisticRegression(random_state=12345, class_weight='balanced')\n",
    "params = {'solver': ['newton-cg', 'lbfgs', 'liblinear'],\n",
    "          'penalty': ['l2'],\n",
    "          'C': [100, 10, 1.0, 0.1, 0.01]\n",
    "         }\n",
    "\n",
    "fpr1, tpr1, models_stats['Лог_Рег'] = model_train_test(model, params)"
   ]
  },
  {
   "cell_type": "code",
   "execution_count": 28,
   "metadata": {
    "scrolled": false
   },
   "outputs": [
    {
     "name": "stdout",
     "output_type": "stream",
     "text": [
      "Параметры лучшей модели: {'criterion': 'gini', 'max_depth': 7, 'splitter': 'best'}\n"
     ]
    }
   ],
   "source": [
    "# Проверим дерево решений\n",
    "model = DecisionTreeClassifier(random_state=12345, class_weight='balanced')\n",
    "params = {'max_depth': range(1, 21, 1),\n",
    "          'criterion': ['gini', 'entropy'],\n",
    "          'splitter': ['best', 'random']\n",
    "          }\n",
    "fpr2, tpr2, models_stats['Дерево'] = model_train_test(model, params)"
   ]
  },
  {
   "cell_type": "code",
   "execution_count": 29,
   "metadata": {},
   "outputs": [
    {
     "name": "stdout",
     "output_type": "stream",
     "text": [
      "Параметры лучшей модели: {'criterion': 'entropy', 'max_depth': 8, 'n_estimators': 90}\n"
     ]
    }
   ],
   "source": [
    "# Проверим случайный лес\n",
    "model = RandomForestClassifier(random_state=12345, class_weight='balanced')\n",
    "params = {'n_estimators': range(80, 110, 10),\n",
    "          'max_depth': range(2, 10, 2),\n",
    "          'criterion': ['gini', 'entropy']\n",
    "          }\n",
    "fpr3, tpr3, models_stats['Случ_Лес'] = model_train_test(model, params, n_jobs=4)"
   ]
  },
  {
   "cell_type": "code",
   "execution_count": 30,
   "metadata": {
    "scrolled": true
   },
   "outputs": [
    {
     "data": {
      "text/html": [
       "<div>\n",
       "<style scoped>\n",
       "    .dataframe tbody tr th:only-of-type {\n",
       "        vertical-align: middle;\n",
       "    }\n",
       "\n",
       "    .dataframe tbody tr th {\n",
       "        vertical-align: top;\n",
       "    }\n",
       "\n",
       "    .dataframe thead th {\n",
       "        text-align: right;\n",
       "    }\n",
       "</style>\n",
       "<table border=\"1\" class=\"dataframe\">\n",
       "  <thead>\n",
       "    <tr style=\"text-align: right;\">\n",
       "      <th></th>\n",
       "      <th>Лог_Рег дисбаланс</th>\n",
       "      <th>Случайная</th>\n",
       "      <th>Лог_Рег UP</th>\n",
       "      <th>Лог_Рег DOWN</th>\n",
       "      <th>Лог_Рег</th>\n",
       "      <th>Дерево</th>\n",
       "      <th>Случ_Лес</th>\n",
       "    </tr>\n",
       "  </thead>\n",
       "  <tbody>\n",
       "    <tr>\n",
       "      <td>Полнота</td>\n",
       "      <td>0.253</td>\n",
       "      <td>0.469</td>\n",
       "      <td>0.717</td>\n",
       "      <td>0.809</td>\n",
       "      <td>0.701</td>\n",
       "      <td>0.755</td>\n",
       "      <td>0.704</td>\n",
       "    </tr>\n",
       "    <tr>\n",
       "      <td>Точность</td>\n",
       "      <td>0.627</td>\n",
       "      <td>0.190</td>\n",
       "      <td>0.377</td>\n",
       "      <td>0.330</td>\n",
       "      <td>0.387</td>\n",
       "      <td>0.468</td>\n",
       "      <td>0.555</td>\n",
       "    </tr>\n",
       "    <tr>\n",
       "      <td>F1-мера</td>\n",
       "      <td>0.361</td>\n",
       "      <td>0.270</td>\n",
       "      <td>0.494</td>\n",
       "      <td>0.468</td>\n",
       "      <td>0.499</td>\n",
       "      <td>0.578</td>\n",
       "      <td>0.621</td>\n",
       "    </tr>\n",
       "    <tr>\n",
       "      <td>AUC-ROC</td>\n",
       "      <td>0.778</td>\n",
       "      <td>0.500</td>\n",
       "      <td>0.779</td>\n",
       "      <td>0.775</td>\n",
       "      <td>0.779</td>\n",
       "      <td>0.848</td>\n",
       "      <td>0.866</td>\n",
       "    </tr>\n",
       "  </tbody>\n",
       "</table>\n",
       "</div>"
      ],
      "text/plain": [
       "          Лог_Рег дисбаланс  Случайная  Лог_Рег UP  Лог_Рег DOWN  Лог_Рег  \\\n",
       "Полнота               0.253      0.469       0.717         0.809    0.701   \n",
       "Точность              0.627      0.190       0.377         0.330    0.387   \n",
       "F1-мера               0.361      0.270       0.494         0.468    0.499   \n",
       "AUC-ROC               0.778      0.500       0.779         0.775    0.779   \n",
       "\n",
       "          Дерево  Случ_Лес  \n",
       "Полнота    0.755     0.704  \n",
       "Точность   0.468     0.555  \n",
       "F1-мера    0.578     0.621  \n",
       "AUC-ROC    0.848     0.866  "
      ]
     },
     "execution_count": 30,
     "metadata": {},
     "output_type": "execute_result"
    }
   ],
   "source": [
    "# Вывод метрик по всем моделям\n",
    "\n",
    "models_stats"
   ]
  },
  {
   "cell_type": "code",
   "execution_count": 31,
   "metadata": {},
   "outputs": [
    {
     "data": {
      "image/png": "[encoded data removed]",
      "text/plain": [
       "<Figure size 432x432 with 1 Axes>"
      ]
     },
     "metadata": {
      "needs_background": "light"
     },
     "output_type": "display_data"
    }
   ],
   "source": [
    "plt.figure(figsize=(6, 6))\n",
    "plt.plot(fpr00, tpr00)\n",
    "plt.plot(fpr01, tpr01)\n",
    "plt.plot(fpr02, tpr02)\n",
    "plt.plot(fpr1, tpr1)\n",
    "plt.plot(fpr2, tpr2)\n",
    "plt.plot(fpr3, tpr3)\n",
    "plt.plot(dfpr, dtpr)\n",
    "plt.xlim([0.0, 1.0])\n",
    "plt.ylim([0.0, 1.0])\n",
    "plt.xlabel('False Positive Rate')\n",
    "plt.ylabel('True Positive Rate')\n",
    "plt.title('ROC-кривые разных моделей')\n",
    "plt.legend(['Лог. Регрессия дисбаланс', 'Лог. Регрессия UP', 'Лог. Регрессия UP', 'Лог. Регрессия', 'Дерево решений', 'Случайный лес', 'Случайная'])\n",
    "plt.show()"
   ]
  },
  {
   "cell_type": "markdown",
   "metadata": {},
   "source": [
    "## Вывод\n",
    "\n",
    "В результате проведенной работы были обучены и протестированны три модели классификаторов. \n",
    "\n",
    "Лучшей моделью оказался **Случайный лес** на **90** деревьев глубиной **8** с энтропийным критерием деления.\n",
    "\n",
    "F1-мера моей модели **превосходит** меру случайного подбора в **2** раза (0.621), AUC-ROC в **1.7** раз (0.866)."
   ]
  }
 ],
 "metadata": {
  "ExecuteTimeLog": [
   {
    "duration": 850,
    "start_time": "2021-07-31T08:17:39.840Z"
   },
   {
    "duration": 138,
    "start_time": "2021-07-31T08:17:59.416Z"
   },
   {
    "duration": 85,
    "start_time": "2021-07-31T08:53:04.828Z"
   },
   {
    "duration": 102,
    "start_time": "2021-07-31T08:54:45.103Z"
   },
   {
    "duration": 14,
    "start_time": "2021-07-31T08:54:57.644Z"
   },
   {
    "duration": 370,
    "start_time": "2021-07-31T08:55:07.103Z"
   },
   {
    "duration": 7,
    "start_time": "2021-07-31T08:55:12.119Z"
   },
   {
    "duration": 11,
    "start_time": "2021-07-31T08:55:21.150Z"
   },
   {
    "duration": 270,
    "start_time": "2021-07-31T08:56:58.934Z"
   },
   {
    "duration": 7,
    "start_time": "2021-07-31T08:57:21.047Z"
   },
   {
    "duration": 71,
    "start_time": "2021-07-31T08:58:02.839Z"
   },
   {
    "duration": 9,
    "start_time": "2021-07-31T09:01:53.092Z"
   },
   {
    "duration": 8,
    "start_time": "2021-07-31T09:01:59.671Z"
   },
   {
    "duration": 9,
    "start_time": "2021-07-31T09:02:08.003Z"
   },
   {
    "duration": 9,
    "start_time": "2021-07-31T09:02:27.993Z"
   },
   {
    "duration": 8,
    "start_time": "2021-07-31T09:02:43.336Z"
   },
   {
    "duration": 8,
    "start_time": "2021-07-31T09:02:48.271Z"
   },
   {
    "duration": 10,
    "start_time": "2021-07-31T09:03:36.661Z"
   },
   {
    "duration": 152,
    "start_time": "2021-07-31T09:04:23.861Z"
   },
   {
    "duration": 26,
    "start_time": "2021-07-31T09:04:29.599Z"
   },
   {
    "duration": 16,
    "start_time": "2021-07-31T09:04:42.028Z"
   },
   {
    "duration": 61,
    "start_time": "2021-07-31T09:05:38.268Z"
   },
   {
    "duration": 12,
    "start_time": "2021-07-31T09:09:29.013Z"
   },
   {
    "duration": 4,
    "start_time": "2021-07-31T09:19:13.172Z"
   },
   {
    "duration": 326,
    "start_time": "2021-07-31T10:45:09.252Z"
   },
   {
    "duration": 887,
    "start_time": "2021-07-31T10:45:08.695Z"
   },
   {
    "duration": 687,
    "start_time": "2021-07-31T10:45:16.012Z"
   },
   {
    "duration": 113,
    "start_time": "2021-07-31T10:45:16.702Z"
   },
   {
    "duration": 29,
    "start_time": "2021-07-31T10:45:16.822Z"
   },
   {
    "duration": 81,
    "start_time": "2021-07-31T10:45:16.855Z"
   },
   {
    "duration": 376,
    "start_time": "2021-07-31T10:45:16.940Z"
   },
   {
    "duration": 11,
    "start_time": "2021-07-31T10:45:24.044Z"
   },
   {
    "duration": 4,
    "start_time": "2021-07-31T10:48:24.550Z"
   },
   {
    "duration": 33,
    "start_time": "2021-07-31T10:48:40.631Z"
   },
   {
    "duration": 4,
    "start_time": "2021-07-31T10:48:46.569Z"
   },
   {
    "duration": 268,
    "start_time": "2021-07-31T10:53:42.482Z"
   },
   {
    "duration": 18,
    "start_time": "2021-07-31T10:54:35.551Z"
   },
   {
    "duration": 15,
    "start_time": "2021-07-31T10:54:39.337Z"
   },
   {
    "duration": 15,
    "start_time": "2021-07-31T10:55:16.724Z"
   },
   {
    "duration": 3,
    "start_time": "2021-07-31T10:55:25.767Z"
   },
   {
    "duration": 234,
    "start_time": "2021-07-31T10:55:58.387Z"
   },
   {
    "duration": 6,
    "start_time": "2021-07-31T10:56:15.434Z"
   },
   {
    "duration": 14,
    "start_time": "2021-07-31T10:56:20.296Z"
   },
   {
    "duration": 8,
    "start_time": "2021-07-31T10:56:30.488Z"
   },
   {
    "duration": 9,
    "start_time": "2021-07-31T10:56:42.059Z"
   },
   {
    "duration": 689,
    "start_time": "2021-07-31T10:56:52.726Z"
   },
   {
    "duration": 71,
    "start_time": "2021-07-31T10:56:53.418Z"
   },
   {
    "duration": 25,
    "start_time": "2021-07-31T10:56:53.492Z"
   },
   {
    "duration": 72,
    "start_time": "2021-07-31T10:56:53.519Z"
   },
   {
    "duration": 10,
    "start_time": "2021-07-31T10:56:53.593Z"
   },
   {
    "duration": 14,
    "start_time": "2021-07-31T10:56:53.605Z"
   },
   {
    "duration": 4,
    "start_time": "2021-07-31T10:56:53.622Z"
   },
   {
    "duration": 5,
    "start_time": "2021-07-31T10:56:53.628Z"
   },
   {
    "duration": 49,
    "start_time": "2021-07-31T10:56:53.635Z"
   },
   {
    "duration": 8,
    "start_time": "2021-07-31T10:57:21.216Z"
   },
   {
    "duration": 703,
    "start_time": "2021-07-31T10:58:12.766Z"
   },
   {
    "duration": 72,
    "start_time": "2021-07-31T10:58:13.471Z"
   },
   {
    "duration": 26,
    "start_time": "2021-07-31T10:58:13.546Z"
   },
   {
    "duration": 58,
    "start_time": "2021-07-31T10:58:13.575Z"
   },
   {
    "duration": 12,
    "start_time": "2021-07-31T10:58:13.635Z"
   },
   {
    "duration": 37,
    "start_time": "2021-07-31T10:58:13.650Z"
   },
   {
    "duration": 4,
    "start_time": "2021-07-31T10:58:13.689Z"
   },
   {
    "duration": 4,
    "start_time": "2021-07-31T10:58:13.697Z"
   },
   {
    "duration": 7,
    "start_time": "2021-07-31T10:58:13.704Z"
   },
   {
    "duration": 104,
    "start_time": "2021-07-31T10:58:37.964Z"
   },
   {
    "duration": 361,
    "start_time": "2021-07-31T10:59:10.243Z"
   },
   {
    "duration": 302,
    "start_time": "2021-07-31T10:59:15.360Z"
   },
   {
    "duration": 4,
    "start_time": "2021-07-31T11:00:06.240Z"
   },
   {
    "duration": 6,
    "start_time": "2021-07-31T11:00:24.271Z"
   },
   {
    "duration": 4,
    "start_time": "2021-07-31T11:01:30.057Z"
   },
   {
    "duration": 6,
    "start_time": "2021-07-31T11:01:52.959Z"
   },
   {
    "duration": 6413,
    "start_time": "2021-07-31T11:02:21.834Z"
   },
   {
    "duration": 6297,
    "start_time": "2021-07-31T11:02:30.388Z"
   },
   {
    "duration": 6470,
    "start_time": "2021-07-31T11:02:48.897Z"
   },
   {
    "duration": 17,
    "start_time": "2021-07-31T11:02:57.227Z"
   },
   {
    "duration": 6,
    "start_time": "2021-07-31T11:04:16.815Z"
   },
   {
    "duration": 9,
    "start_time": "2021-07-31T11:05:49.771Z"
   },
   {
    "duration": 14,
    "start_time": "2021-07-31T11:06:14.939Z"
   },
   {
    "duration": 13,
    "start_time": "2021-07-31T11:08:40.605Z"
   },
   {
    "duration": 12,
    "start_time": "2021-07-31T11:08:49.768Z"
   },
   {
    "duration": 11,
    "start_time": "2021-07-31T11:08:57.964Z"
   },
   {
    "duration": 16,
    "start_time": "2021-07-31T11:09:12.121Z"
   },
   {
    "duration": 19,
    "start_time": "2021-07-31T11:09:21.197Z"
   },
   {
    "duration": 21,
    "start_time": "2021-07-31T11:09:35.004Z"
   },
   {
    "duration": 16,
    "start_time": "2021-07-31T11:09:43.159Z"
   },
   {
    "duration": 18,
    "start_time": "2021-07-31T11:09:54.024Z"
   },
   {
    "duration": 321,
    "start_time": "2021-07-31T11:10:01.822Z"
   },
   {
    "duration": 11,
    "start_time": "2021-07-31T11:11:10.739Z"
   },
   {
    "duration": 10,
    "start_time": "2021-07-31T11:11:25.455Z"
   },
   {
    "duration": 11,
    "start_time": "2021-07-31T11:11:31.370Z"
   },
   {
    "duration": 237,
    "start_time": "2021-07-31T11:13:11.728Z"
   },
   {
    "duration": 10,
    "start_time": "2021-07-31T11:13:17.808Z"
   },
   {
    "duration": 15,
    "start_time": "2021-07-31T11:13:36.895Z"
   },
   {
    "duration": 19,
    "start_time": "2021-07-31T11:13:41.161Z"
   },
   {
    "duration": 18,
    "start_time": "2021-07-31T11:13:57.454Z"
   },
   {
    "duration": 4,
    "start_time": "2021-07-31T11:16:11.756Z"
   },
   {
    "duration": 31,
    "start_time": "2021-07-31T11:26:57.149Z"
   },
   {
    "duration": 5,
    "start_time": "2021-07-31T11:27:03.722Z"
   },
   {
    "duration": 28,
    "start_time": "2021-07-31T11:28:34.999Z"
   },
   {
    "duration": 747,
    "start_time": "2021-07-31T11:28:53.692Z"
   },
   {
    "duration": 81,
    "start_time": "2021-07-31T11:28:54.442Z"
   },
   {
    "duration": 53,
    "start_time": "2021-07-31T11:28:54.531Z"
   },
   {
    "duration": 65,
    "start_time": "2021-07-31T11:28:54.587Z"
   },
   {
    "duration": 38,
    "start_time": "2021-07-31T11:28:54.655Z"
   },
   {
    "duration": 18,
    "start_time": "2021-07-31T11:28:54.696Z"
   },
   {
    "duration": 21,
    "start_time": "2021-07-31T11:28:54.717Z"
   },
   {
    "duration": 42,
    "start_time": "2021-07-31T11:28:54.741Z"
   },
   {
    "duration": 5,
    "start_time": "2021-07-31T11:28:54.786Z"
   },
   {
    "duration": 14,
    "start_time": "2021-07-31T11:28:54.794Z"
   },
   {
    "duration": 11,
    "start_time": "2021-07-31T11:28:54.811Z"
   },
   {
    "duration": 7014,
    "start_time": "2021-07-31T11:28:54.824Z"
   },
   {
    "duration": 743,
    "start_time": "2021-07-31T11:29:01.099Z"
   },
   {
    "duration": 4,
    "start_time": "2021-07-31T11:31:47.449Z"
   },
   {
    "duration": 35,
    "start_time": "2021-07-31T11:31:47.883Z"
   },
   {
    "duration": 34,
    "start_time": "2021-07-31T11:32:01.802Z"
   },
   {
    "duration": 37,
    "start_time": "2021-07-31T11:32:16.465Z"
   },
   {
    "duration": 312,
    "start_time": "2021-07-31T11:33:04.463Z"
   },
   {
    "duration": 6,
    "start_time": "2021-07-31T11:35:39.172Z"
   },
   {
    "duration": 50,
    "start_time": "2021-07-31T11:37:27.093Z"
   },
   {
    "duration": 669,
    "start_time": "2021-07-31T11:37:57.703Z"
   },
   {
    "duration": 68,
    "start_time": "2021-07-31T11:37:58.374Z"
   },
   {
    "duration": 27,
    "start_time": "2021-07-31T11:37:58.446Z"
   },
   {
    "duration": 68,
    "start_time": "2021-07-31T11:37:58.477Z"
   },
   {
    "duration": 13,
    "start_time": "2021-07-31T11:37:58.549Z"
   },
   {
    "duration": 29,
    "start_time": "2021-07-31T11:37:58.565Z"
   },
   {
    "duration": 20,
    "start_time": "2021-07-31T11:37:58.596Z"
   },
   {
    "duration": 4,
    "start_time": "2021-07-31T11:37:58.621Z"
   },
   {
    "duration": 92,
    "start_time": "2021-07-31T11:37:58.628Z"
   },
   {
    "duration": 6,
    "start_time": "2021-07-31T11:37:58.723Z"
   },
   {
    "duration": 7080,
    "start_time": "2021-07-31T11:37:58.732Z"
   },
   {
    "duration": 953,
    "start_time": "2021-07-31T11:38:04.862Z"
   },
   {
    "duration": 6,
    "start_time": "2021-07-31T11:39:30.264Z"
   },
   {
    "duration": 3,
    "start_time": "2021-07-31T11:39:31.518Z"
   },
   {
    "duration": 328,
    "start_time": "2021-07-31T11:40:09.905Z"
   },
   {
    "duration": 707,
    "start_time": "2021-07-31T11:40:14.248Z"
   },
   {
    "duration": 82,
    "start_time": "2021-07-31T11:40:14.958Z"
   },
   {
    "duration": 28,
    "start_time": "2021-07-31T11:40:15.043Z"
   },
   {
    "duration": 64,
    "start_time": "2021-07-31T11:40:15.074Z"
   },
   {
    "duration": 12,
    "start_time": "2021-07-31T11:40:15.141Z"
   },
   {
    "duration": 41,
    "start_time": "2021-07-31T11:40:15.155Z"
   },
   {
    "duration": 19,
    "start_time": "2021-07-31T11:40:15.200Z"
   },
   {
    "duration": 407,
    "start_time": "2021-07-31T11:40:15.222Z"
   },
   {
    "duration": 965,
    "start_time": "2021-07-31T11:40:14.667Z"
   },
   {
    "duration": 963,
    "start_time": "2021-07-31T11:40:14.670Z"
   },
   {
    "duration": 962,
    "start_time": "2021-07-31T11:40:14.673Z"
   },
   {
    "duration": 960,
    "start_time": "2021-07-31T11:40:14.676Z"
   },
   {
    "duration": 7,
    "start_time": "2021-07-31T11:40:20.418Z"
   },
   {
    "duration": 45,
    "start_time": "2021-07-31T11:40:22.590Z"
   },
   {
    "duration": 6,
    "start_time": "2021-07-31T11:40:33.514Z"
   },
   {
    "duration": 9,
    "start_time": "2021-07-31T11:40:34.379Z"
   },
   {
    "duration": 4,
    "start_time": "2021-07-31T11:40:34.999Z"
   },
   {
    "duration": 42,
    "start_time": "2021-07-31T11:40:39.771Z"
   },
   {
    "duration": 7,
    "start_time": "2021-07-31T11:41:06.297Z"
   },
   {
    "duration": 25,
    "start_time": "2021-07-31T11:41:06.548Z"
   },
   {
    "duration": 5,
    "start_time": "2021-07-31T11:41:06.908Z"
   },
   {
    "duration": 7,
    "start_time": "2021-07-31T11:41:07.232Z"
   },
   {
    "duration": 3,
    "start_time": "2021-07-31T11:41:07.530Z"
   },
   {
    "duration": 6,
    "start_time": "2021-07-31T11:41:31.297Z"
   },
   {
    "duration": 696,
    "start_time": "2021-07-31T12:08:29.213Z"
   },
   {
    "duration": 121,
    "start_time": "2021-07-31T12:08:29.912Z"
   },
   {
    "duration": 27,
    "start_time": "2021-07-31T12:08:30.036Z"
   },
   {
    "duration": 70,
    "start_time": "2021-07-31T12:08:30.065Z"
   },
   {
    "duration": 11,
    "start_time": "2021-07-31T12:08:30.138Z"
   },
   {
    "duration": 37,
    "start_time": "2021-07-31T12:08:30.151Z"
   },
   {
    "duration": 23,
    "start_time": "2021-07-31T12:08:30.191Z"
   },
   {
    "duration": 8,
    "start_time": "2021-07-31T12:08:30.219Z"
   },
   {
    "duration": 72,
    "start_time": "2021-07-31T12:08:30.230Z"
   },
   {
    "duration": 8,
    "start_time": "2021-07-31T12:08:30.304Z"
   },
   {
    "duration": 9,
    "start_time": "2021-07-31T12:08:30.315Z"
   },
   {
    "duration": 5,
    "start_time": "2021-07-31T12:08:30.326Z"
   },
   {
    "duration": 31,
    "start_time": "2021-07-31T12:10:59.683Z"
   },
   {
    "duration": 31,
    "start_time": "2021-07-31T12:11:35.090Z"
   },
   {
    "duration": 960,
    "start_time": "2021-07-31T12:11:42.201Z"
   },
   {
    "duration": 83,
    "start_time": "2021-07-31T12:11:43.164Z"
   },
   {
    "duration": 27,
    "start_time": "2021-07-31T12:11:43.249Z"
   },
   {
    "duration": 65,
    "start_time": "2021-07-31T12:11:43.279Z"
   },
   {
    "duration": 12,
    "start_time": "2021-07-31T12:11:43.346Z"
   },
   {
    "duration": 32,
    "start_time": "2021-07-31T12:11:43.360Z"
   },
   {
    "duration": 19,
    "start_time": "2021-07-31T12:11:43.395Z"
   },
   {
    "duration": 8,
    "start_time": "2021-07-31T12:11:43.418Z"
   },
   {
    "duration": 77,
    "start_time": "2021-07-31T12:11:43.430Z"
   },
   {
    "duration": 6,
    "start_time": "2021-07-31T12:11:43.510Z"
   },
   {
    "duration": 7,
    "start_time": "2021-07-31T12:11:43.518Z"
   },
   {
    "duration": 28,
    "start_time": "2021-07-31T12:11:43.527Z"
   },
   {
    "duration": 29,
    "start_time": "2021-07-31T12:12:25.138Z"
   },
   {
    "duration": 13,
    "start_time": "2021-07-31T12:12:40.087Z"
   },
   {
    "duration": 23,
    "start_time": "2021-07-31T12:12:42.295Z"
   },
   {
    "duration": 24,
    "start_time": "2021-07-31T12:12:56.714Z"
   },
   {
    "duration": 751,
    "start_time": "2021-07-31T12:13:12.706Z"
   },
   {
    "duration": 81,
    "start_time": "2021-07-31T12:13:13.460Z"
   },
   {
    "duration": 26,
    "start_time": "2021-07-31T12:13:13.544Z"
   },
   {
    "duration": 82,
    "start_time": "2021-07-31T12:13:13.573Z"
   },
   {
    "duration": 24,
    "start_time": "2021-07-31T12:13:13.658Z"
   },
   {
    "duration": 22,
    "start_time": "2021-07-31T12:13:13.687Z"
   },
   {
    "duration": 27,
    "start_time": "2021-07-31T12:13:13.712Z"
   },
   {
    "duration": 41,
    "start_time": "2021-07-31T12:13:13.742Z"
   },
   {
    "duration": 30,
    "start_time": "2021-07-31T12:13:13.789Z"
   },
   {
    "duration": 6,
    "start_time": "2021-07-31T12:13:13.823Z"
   },
   {
    "duration": 16,
    "start_time": "2021-07-31T12:13:13.833Z"
   },
   {
    "duration": 33,
    "start_time": "2021-07-31T12:13:13.852Z"
   },
   {
    "duration": 33,
    "start_time": "2021-07-31T12:13:13.888Z"
   },
   {
    "duration": 7008,
    "start_time": "2021-07-31T12:16:35.603Z"
   },
   {
    "duration": 940,
    "start_time": "2021-07-31T12:16:41.678Z"
   },
   {
    "duration": 788,
    "start_time": "2021-07-31T12:17:07.090Z"
   },
   {
    "duration": 72,
    "start_time": "2021-07-31T12:17:07.883Z"
   },
   {
    "duration": 29,
    "start_time": "2021-07-31T12:17:07.958Z"
   },
   {
    "duration": 66,
    "start_time": "2021-07-31T12:17:07.990Z"
   },
   {
    "duration": 35,
    "start_time": "2021-07-31T12:17:08.059Z"
   },
   {
    "duration": 18,
    "start_time": "2021-07-31T12:17:08.099Z"
   },
   {
    "duration": 19,
    "start_time": "2021-07-31T12:17:08.119Z"
   },
   {
    "duration": 11,
    "start_time": "2021-07-31T12:17:08.182Z"
   },
   {
    "duration": 24,
    "start_time": "2021-07-31T12:17:08.197Z"
   },
   {
    "duration": 6,
    "start_time": "2021-07-31T12:17:08.223Z"
   },
   {
    "duration": 10,
    "start_time": "2021-07-31T12:17:08.231Z"
   },
   {
    "duration": 59,
    "start_time": "2021-07-31T12:17:08.243Z"
   },
   {
    "duration": 18,
    "start_time": "2021-07-31T12:17:08.305Z"
   },
   {
    "duration": 15,
    "start_time": "2021-07-31T12:18:48.070Z"
   },
   {
    "duration": 10,
    "start_time": "2021-07-31T12:19:21.745Z"
   },
   {
    "duration": 16,
    "start_time": "2021-07-31T12:32:43.271Z"
   },
   {
    "duration": 10,
    "start_time": "2021-07-31T12:33:00.522Z"
   },
   {
    "duration": 20,
    "start_time": "2021-07-31T12:33:04.275Z"
   },
   {
    "duration": 13,
    "start_time": "2021-07-31T12:33:08.562Z"
   },
   {
    "duration": 11,
    "start_time": "2021-07-31T12:33:19.211Z"
   },
   {
    "duration": 11,
    "start_time": "2021-07-31T12:33:47.433Z"
   },
   {
    "duration": 12,
    "start_time": "2021-07-31T12:33:50.107Z"
   },
   {
    "duration": 13,
    "start_time": "2021-07-31T12:34:01.064Z"
   },
   {
    "duration": 13,
    "start_time": "2021-07-31T12:37:21.029Z"
   },
   {
    "duration": 16,
    "start_time": "2021-07-31T12:37:25.194Z"
   },
   {
    "duration": 18,
    "start_time": "2021-07-31T12:37:42.495Z"
   },
   {
    "duration": 8,
    "start_time": "2021-07-31T12:38:23.262Z"
   },
   {
    "duration": 12,
    "start_time": "2021-07-31T12:38:26.399Z"
   },
   {
    "duration": 16,
    "start_time": "2021-07-31T12:39:07.602Z"
   },
   {
    "duration": 14,
    "start_time": "2021-07-31T12:39:23.076Z"
   },
   {
    "duration": 14,
    "start_time": "2021-07-31T12:39:32.426Z"
   },
   {
    "duration": 768,
    "start_time": "2021-07-31T12:49:01.711Z"
   },
   {
    "duration": 80,
    "start_time": "2021-07-31T12:49:02.483Z"
   },
   {
    "duration": 34,
    "start_time": "2021-07-31T12:49:02.567Z"
   },
   {
    "duration": 61,
    "start_time": "2021-07-31T12:49:02.604Z"
   },
   {
    "duration": 17,
    "start_time": "2021-07-31T12:49:02.685Z"
   },
   {
    "duration": 22,
    "start_time": "2021-07-31T12:49:02.706Z"
   },
   {
    "duration": 27,
    "start_time": "2021-07-31T12:49:02.731Z"
   },
   {
    "duration": 32,
    "start_time": "2021-07-31T12:49:02.761Z"
   },
   {
    "duration": 49,
    "start_time": "2021-07-31T12:49:02.801Z"
   },
   {
    "duration": 25,
    "start_time": "2021-07-31T12:49:02.853Z"
   },
   {
    "duration": 23,
    "start_time": "2021-07-31T12:49:02.881Z"
   },
   {
    "duration": 29,
    "start_time": "2021-07-31T12:49:02.908Z"
   },
   {
    "duration": 17,
    "start_time": "2021-07-31T12:49:02.939Z"
   },
   {
    "duration": 32,
    "start_time": "2021-07-31T12:49:02.959Z"
   },
   {
    "duration": 29,
    "start_time": "2021-07-31T12:49:02.994Z"
   },
   {
    "duration": 996,
    "start_time": "2021-07-31T12:52:40.529Z"
   },
   {
    "duration": 4,
    "start_time": "2021-07-31T12:52:53.155Z"
   },
   {
    "duration": 59,
    "start_time": "2021-07-31T12:54:12.180Z"
   },
   {
    "duration": 228,
    "start_time": "2021-07-31T13:03:46.510Z"
   },
   {
    "duration": 1194,
    "start_time": "2021-07-31T13:03:58.405Z"
   },
   {
    "duration": 1225,
    "start_time": "2021-07-31T13:04:55.038Z"
   },
   {
    "duration": 1265,
    "start_time": "2021-07-31T13:05:02.786Z"
   },
   {
    "duration": 2755,
    "start_time": "2021-07-31T13:05:11.490Z"
   },
   {
    "duration": 1363,
    "start_time": "2021-07-31T13:05:16.991Z"
   },
   {
    "duration": 1248,
    "start_time": "2021-07-31T13:05:26.873Z"
   },
   {
    "duration": 585,
    "start_time": "2021-07-31T13:05:36.953Z"
   },
   {
    "duration": 582,
    "start_time": "2021-07-31T13:05:59.922Z"
   },
   {
    "duration": 562,
    "start_time": "2021-07-31T13:06:09.533Z"
   },
   {
    "duration": 610,
    "start_time": "2021-07-31T13:07:24.771Z"
   },
   {
    "duration": 515,
    "start_time": "2021-07-31T13:07:38.687Z"
   },
   {
    "duration": 520,
    "start_time": "2021-07-31T13:08:18.216Z"
   },
   {
    "duration": 30,
    "start_time": "2021-07-31T13:09:25.184Z"
   },
   {
    "duration": 4,
    "start_time": "2021-07-31T13:11:25.974Z"
   },
   {
    "duration": 93,
    "start_time": "2021-07-31T13:18:12.113Z"
   },
   {
    "duration": 14,
    "start_time": "2021-07-31T13:18:25.460Z"
   },
   {
    "duration": 13,
    "start_time": "2021-07-31T13:18:51.342Z"
   },
   {
    "duration": 19,
    "start_time": "2021-07-31T13:19:01.104Z"
   },
   {
    "duration": 16,
    "start_time": "2021-07-31T13:19:17.438Z"
   },
   {
    "duration": 21,
    "start_time": "2021-07-31T13:19:26.296Z"
   },
   {
    "duration": 28,
    "start_time": "2021-07-31T13:19:35.080Z"
   },
   {
    "duration": 21,
    "start_time": "2021-07-31T13:19:52.938Z"
   },
   {
    "duration": 22,
    "start_time": "2021-07-31T13:20:07.045Z"
   },
   {
    "duration": 24,
    "start_time": "2021-07-31T13:20:21.634Z"
   },
   {
    "duration": 26,
    "start_time": "2021-07-31T13:21:09.419Z"
   },
   {
    "duration": 29,
    "start_time": "2021-07-31T13:21:16.106Z"
   },
   {
    "duration": 26,
    "start_time": "2021-07-31T13:21:29.670Z"
   },
   {
    "duration": 22,
    "start_time": "2021-07-31T13:21:52.438Z"
   },
   {
    "duration": 4,
    "start_time": "2021-07-31T13:36:46.555Z"
   },
   {
    "duration": 483,
    "start_time": "2021-07-31T13:37:53.878Z"
   },
   {
    "duration": 122,
    "start_time": "2021-07-31T13:38:23.563Z"
   },
   {
    "duration": 93,
    "start_time": "2021-07-31T13:39:32.794Z"
   },
   {
    "duration": 5,
    "start_time": "2021-07-31T13:41:21.904Z"
   },
   {
    "duration": 5,
    "start_time": "2021-07-31T13:42:35.876Z"
   },
   {
    "duration": 126,
    "start_time": "2021-07-31T13:46:03.568Z"
   },
   {
    "duration": 147,
    "start_time": "2021-07-31T13:46:51.448Z"
   },
   {
    "duration": 176,
    "start_time": "2021-07-31T13:47:15.109Z"
   },
   {
    "duration": 93,
    "start_time": "2021-07-31T13:48:05.499Z"
   },
   {
    "duration": 116,
    "start_time": "2021-07-31T13:59:08.179Z"
   },
   {
    "duration": 133,
    "start_time": "2021-07-31T13:59:12.356Z"
   },
   {
    "duration": 150,
    "start_time": "2021-07-31T13:59:17.839Z"
   },
   {
    "duration": 5,
    "start_time": "2021-07-31T14:02:25.332Z"
   },
   {
    "duration": 11,
    "start_time": "2021-07-31T14:04:38.657Z"
   },
   {
    "duration": 103,
    "start_time": "2021-07-31T14:07:15.889Z"
   },
   {
    "duration": 13,
    "start_time": "2021-07-31T14:07:17.862Z"
   },
   {
    "duration": 1546,
    "start_time": "2021-08-01T15:25:52.973Z"
   },
   {
    "duration": 192,
    "start_time": "2021-08-01T15:25:54.524Z"
   },
   {
    "duration": 21,
    "start_time": "2021-08-01T15:25:54.723Z"
   },
   {
    "duration": 72,
    "start_time": "2021-08-01T15:25:54.746Z"
   },
   {
    "duration": 12,
    "start_time": "2021-08-01T15:25:54.820Z"
   },
   {
    "duration": 15,
    "start_time": "2021-08-01T15:25:54.834Z"
   },
   {
    "duration": 517,
    "start_time": "2021-08-01T15:25:54.885Z"
   },
   {
    "duration": 19,
    "start_time": "2021-08-01T15:25:55.405Z"
   },
   {
    "duration": 6,
    "start_time": "2021-08-01T15:25:55.427Z"
   },
   {
    "duration": 51,
    "start_time": "2021-08-01T15:25:55.436Z"
   },
   {
    "duration": 6,
    "start_time": "2021-08-01T15:25:55.489Z"
   },
   {
    "duration": 11,
    "start_time": "2021-08-01T15:25:55.497Z"
   },
   {
    "duration": 12,
    "start_time": "2021-08-01T15:25:55.511Z"
   },
   {
    "duration": 21,
    "start_time": "2021-08-01T15:25:55.525Z"
   },
   {
    "duration": 46,
    "start_time": "2021-08-01T15:25:55.549Z"
   },
   {
    "duration": 24,
    "start_time": "2021-08-01T15:25:55.598Z"
   },
   {
    "duration": 167,
    "start_time": "2021-08-01T15:25:55.624Z"
   },
   {
    "duration": 104,
    "start_time": "2021-08-01T15:25:55.796Z"
   },
   {
    "duration": 171,
    "start_time": "2021-08-01T15:27:18.817Z"
   },
   {
    "duration": 869,
    "start_time": "2021-08-01T15:28:02.517Z"
   },
   {
    "duration": 12810,
    "start_time": "2021-08-01T15:28:15.383Z"
   },
   {
    "duration": 142,
    "start_time": "2021-08-01T15:30:04.094Z"
   },
   {
    "duration": 14722,
    "start_time": "2021-08-01T15:30:07.665Z"
   },
   {
    "duration": 1868,
    "start_time": "2021-08-01T15:30:36.033Z"
   },
   {
    "duration": 1954,
    "start_time": "2021-08-01T15:31:03.132Z"
   },
   {
    "duration": 841,
    "start_time": "2021-08-01T15:31:36.652Z"
   },
   {
    "duration": 138,
    "start_time": "2021-08-01T15:32:00.149Z"
   },
   {
    "duration": 12,
    "start_time": "2021-08-01T15:32:09.311Z"
   },
   {
    "duration": 543,
    "start_time": "2021-08-01T15:36:35.163Z"
   },
   {
    "duration": 5,
    "start_time": "2021-08-01T15:36:44.531Z"
   },
   {
    "duration": 393,
    "start_time": "2021-08-01T15:36:49.445Z"
   },
   {
    "duration": 456,
    "start_time": "2021-08-01T15:37:03.681Z"
   },
   {
    "duration": 383,
    "start_time": "2021-08-01T15:37:30.941Z"
   },
   {
    "duration": 114,
    "start_time": "2021-08-01T15:37:54.981Z"
   },
   {
    "duration": 13,
    "start_time": "2021-08-01T15:37:55.309Z"
   },
   {
    "duration": 467,
    "start_time": "2021-08-01T15:37:55.751Z"
   },
   {
    "duration": 116,
    "start_time": "2021-08-01T15:39:03.272Z"
   },
   {
    "duration": 12,
    "start_time": "2021-08-01T15:39:21.779Z"
   },
   {
    "duration": 253,
    "start_time": "2021-08-01T15:39:35.380Z"
   },
   {
    "duration": 267,
    "start_time": "2021-08-01T15:40:13.865Z"
   },
   {
    "duration": 108,
    "start_time": "2021-08-01T15:40:45.081Z"
   },
   {
    "duration": 13,
    "start_time": "2021-08-01T15:40:45.586Z"
   },
   {
    "duration": 262,
    "start_time": "2021-08-01T15:40:46.926Z"
   },
   {
    "duration": 154,
    "start_time": "2021-08-01T15:41:03.133Z"
   },
   {
    "duration": 13,
    "start_time": "2021-08-01T15:41:03.387Z"
   },
   {
    "duration": 259,
    "start_time": "2021-08-01T15:41:03.610Z"
   },
   {
    "duration": 29,
    "start_time": "2021-08-01T15:41:21.713Z"
   },
   {
    "duration": 30,
    "start_time": "2021-08-01T15:42:06.976Z"
   },
   {
    "duration": 31,
    "start_time": "2021-08-01T15:42:17.255Z"
   },
   {
    "duration": 13,
    "start_time": "2021-08-01T15:42:50.494Z"
   },
   {
    "duration": 34,
    "start_time": "2021-08-01T15:43:03.305Z"
   },
   {
    "duration": 250,
    "start_time": "2021-08-01T15:44:31.456Z"
   },
   {
    "duration": 271,
    "start_time": "2021-08-01T15:44:53.351Z"
   },
   {
    "duration": 260,
    "start_time": "2021-08-01T15:45:04.230Z"
   },
   {
    "duration": 13,
    "start_time": "2021-08-01T15:45:23.416Z"
   },
   {
    "duration": 261,
    "start_time": "2021-08-01T15:45:50.036Z"
   },
   {
    "duration": 5,
    "start_time": "2021-08-01T15:48:15.667Z"
   },
   {
    "duration": 112,
    "start_time": "2021-08-01T15:48:40.084Z"
   },
   {
    "duration": 14,
    "start_time": "2021-08-01T15:48:52.200Z"
   },
   {
    "duration": 314,
    "start_time": "2021-08-01T15:49:49.272Z"
   },
   {
    "duration": 133,
    "start_time": "2021-08-01T15:50:00.858Z"
   },
   {
    "duration": 18,
    "start_time": "2021-08-01T15:50:47.567Z"
   },
   {
    "duration": 21,
    "start_time": "2021-08-01T15:52:04.459Z"
   },
   {
    "duration": 291,
    "start_time": "2021-08-01T15:52:40.994Z"
   },
   {
    "duration": 259,
    "start_time": "2021-08-01T15:52:47.328Z"
   },
   {
    "duration": 209,
    "start_time": "2021-08-01T15:52:57.678Z"
   },
   {
    "duration": 257,
    "start_time": "2021-08-01T15:53:05.129Z"
   },
   {
    "duration": 231,
    "start_time": "2021-08-01T15:53:15.955Z"
   },
   {
    "duration": 23,
    "start_time": "2021-08-01T15:54:02.307Z"
   },
   {
    "duration": 14,
    "start_time": "2021-08-01T15:59:27.085Z"
   },
   {
    "duration": 22,
    "start_time": "2021-08-01T15:59:32.691Z"
   },
   {
    "duration": 30,
    "start_time": "2021-08-01T16:03:25.958Z"
   },
   {
    "duration": 112,
    "start_time": "2021-08-01T16:05:38.476Z"
   },
   {
    "duration": 6,
    "start_time": "2021-08-01T16:05:38.857Z"
   },
   {
    "duration": 32,
    "start_time": "2021-08-01T16:05:40.764Z"
   },
   {
    "duration": 266,
    "start_time": "2021-08-01T16:05:42.641Z"
   },
   {
    "duration": 34,
    "start_time": "2021-08-01T16:10:50.938Z"
   },
   {
    "duration": 127,
    "start_time": "2021-08-01T16:22:14.761Z"
   },
   {
    "duration": 7,
    "start_time": "2021-08-01T16:22:15.420Z"
   },
   {
    "duration": 32,
    "start_time": "2021-08-01T16:22:16.574Z"
   },
   {
    "duration": 261,
    "start_time": "2021-08-01T16:22:18.343Z"
   },
   {
    "duration": 72,
    "start_time": "2021-08-01T16:22:47.537Z"
   },
   {
    "duration": 8,
    "start_time": "2021-08-01T16:22:47.786Z"
   },
   {
    "duration": 33,
    "start_time": "2021-08-01T16:22:47.965Z"
   },
   {
    "duration": 272,
    "start_time": "2021-08-01T16:22:48.198Z"
   },
   {
    "duration": 4,
    "start_time": "2021-08-01T16:28:39.588Z"
   },
   {
    "duration": 5,
    "start_time": "2021-08-01T16:28:48.163Z"
   },
   {
    "duration": 19,
    "start_time": "2021-08-01T16:28:51.527Z"
   },
   {
    "duration": 11,
    "start_time": "2021-08-01T16:29:07.130Z"
   },
   {
    "duration": 12,
    "start_time": "2021-08-01T16:29:24.904Z"
   },
   {
    "duration": 13,
    "start_time": "2021-08-01T16:30:13.481Z"
   },
   {
    "duration": 5,
    "start_time": "2021-08-01T16:31:48.701Z"
   },
   {
    "duration": 5,
    "start_time": "2021-08-01T16:31:51.713Z"
   },
   {
    "duration": 5,
    "start_time": "2021-08-01T16:31:56.893Z"
   },
   {
    "duration": 4,
    "start_time": "2021-08-01T16:31:59.516Z"
   },
   {
    "duration": 4,
    "start_time": "2021-08-01T16:32:09.514Z"
   },
   {
    "duration": 4,
    "start_time": "2021-08-01T16:32:19.280Z"
   },
   {
    "duration": 254,
    "start_time": "2021-08-01T16:35:55.132Z"
   },
   {
    "duration": 427,
    "start_time": "2021-08-01T16:38:52.893Z"
   },
   {
    "duration": 6,
    "start_time": "2021-08-01T16:39:01.380Z"
   },
   {
    "duration": 68,
    "start_time": "2021-08-01T16:39:04.931Z"
   },
   {
    "duration": 7,
    "start_time": "2021-08-01T16:44:43.365Z"
   },
   {
    "duration": 136,
    "start_time": "2021-08-01T16:50:43.432Z"
   },
   {
    "duration": 5,
    "start_time": "2021-08-01T16:51:05.478Z"
   },
   {
    "duration": 491,
    "start_time": "2021-08-01T16:59:38.709Z"
   },
   {
    "duration": 5,
    "start_time": "2021-08-01T17:00:03.690Z"
   },
   {
    "duration": 1554,
    "start_time": "2021-08-01T17:00:12.266Z"
   },
   {
    "duration": 191,
    "start_time": "2021-08-01T17:00:13.822Z"
   },
   {
    "duration": 23,
    "start_time": "2021-08-01T17:00:14.016Z"
   },
   {
    "duration": 71,
    "start_time": "2021-08-01T17:00:14.042Z"
   },
   {
    "duration": 11,
    "start_time": "2021-08-01T17:00:14.116Z"
   },
   {
    "duration": 30,
    "start_time": "2021-08-01T17:00:14.130Z"
   },
   {
    "duration": 541,
    "start_time": "2021-08-01T17:00:14.162Z"
   },
   {
    "duration": 18,
    "start_time": "2021-08-01T17:00:14.706Z"
   },
   {
    "duration": 18,
    "start_time": "2021-08-01T17:00:14.727Z"
   },
   {
    "duration": 39,
    "start_time": "2021-08-01T17:00:14.747Z"
   },
   {
    "duration": 6,
    "start_time": "2021-08-01T17:00:14.789Z"
   },
   {
    "duration": 11,
    "start_time": "2021-08-01T17:00:14.798Z"
   },
   {
    "duration": 20,
    "start_time": "2021-08-01T17:00:14.812Z"
   },
   {
    "duration": 22,
    "start_time": "2021-08-01T17:00:14.835Z"
   },
   {
    "duration": 16,
    "start_time": "2021-08-01T17:00:14.886Z"
   },
   {
    "duration": 34,
    "start_time": "2021-08-01T17:00:14.904Z"
   },
   {
    "duration": 149,
    "start_time": "2021-08-01T17:00:14.941Z"
   },
   {
    "duration": 98,
    "start_time": "2021-08-01T17:00:15.094Z"
   },
   {
    "duration": 97,
    "start_time": "2021-08-01T17:00:15.196Z"
   },
   {
    "duration": 270,
    "start_time": "2021-08-01T17:00:15.295Z"
   },
   {
    "duration": 217,
    "start_time": "2021-08-01T17:00:15.568Z"
   },
   {
    "duration": 5432,
    "start_time": "2021-08-01T17:00:15.787Z"
   },
   {
    "duration": 6,
    "start_time": "2021-08-01T17:00:21.224Z"
   },
   {
    "duration": 6,
    "start_time": "2021-08-01T17:00:51.575Z"
   },
   {
    "duration": 6,
    "start_time": "2021-08-01T17:01:59.075Z"
   },
   {
    "duration": 5907,
    "start_time": "2021-08-01T17:02:55.493Z"
   },
   {
    "duration": 5978,
    "start_time": "2021-08-01T17:03:57.724Z"
   },
   {
    "duration": 7,
    "start_time": "2021-08-01T17:04:11.814Z"
   },
   {
    "duration": 21,
    "start_time": "2021-08-01T17:04:24.445Z"
   },
   {
    "duration": 295,
    "start_time": "2021-08-01T17:05:13.454Z"
   },
   {
    "duration": 845,
    "start_time": "2021-08-01T17:05:19.994Z"
   },
   {
    "duration": 280,
    "start_time": "2021-08-01T17:06:40.595Z"
   },
   {
    "duration": 345,
    "start_time": "2021-08-01T17:06:48.751Z"
   },
   {
    "duration": 1545,
    "start_time": "2021-08-01T17:06:59.309Z"
   },
   {
    "duration": 143,
    "start_time": "2021-08-01T17:07:00.858Z"
   },
   {
    "duration": 23,
    "start_time": "2021-08-01T17:07:01.004Z"
   },
   {
    "duration": 83,
    "start_time": "2021-08-01T17:07:01.031Z"
   },
   {
    "duration": 12,
    "start_time": "2021-08-01T17:07:01.116Z"
   },
   {
    "duration": 24,
    "start_time": "2021-08-01T17:07:01.131Z"
   },
   {
    "duration": 542,
    "start_time": "2021-08-01T17:07:01.157Z"
   },
   {
    "duration": 19,
    "start_time": "2021-08-01T17:07:01.703Z"
   },
   {
    "duration": 7,
    "start_time": "2021-08-01T17:07:01.726Z"
   },
   {
    "duration": 56,
    "start_time": "2021-08-01T17:07:01.736Z"
   },
   {
    "duration": 6,
    "start_time": "2021-08-01T17:07:01.795Z"
   },
   {
    "duration": 11,
    "start_time": "2021-08-01T17:07:01.804Z"
   },
   {
    "duration": 21,
    "start_time": "2021-08-01T17:07:01.818Z"
   },
   {
    "duration": 44,
    "start_time": "2021-08-01T17:07:01.842Z"
   },
   {
    "duration": 14,
    "start_time": "2021-08-01T17:07:01.889Z"
   },
   {
    "duration": 50,
    "start_time": "2021-08-01T17:07:01.906Z"
   },
   {
    "duration": 130,
    "start_time": "2021-08-01T17:07:01.959Z"
   },
   {
    "duration": 94,
    "start_time": "2021-08-01T17:07:02.093Z"
   },
   {
    "duration": 59,
    "start_time": "2021-08-01T17:07:02.190Z"
   },
   {
    "duration": 269,
    "start_time": "2021-08-01T17:07:02.252Z"
   },
   {
    "duration": 175,
    "start_time": "2021-08-01T17:07:02.523Z"
   },
   {
    "duration": 5543,
    "start_time": "2021-08-01T17:07:02.784Z"
   },
   {
    "duration": 20,
    "start_time": "2021-08-01T17:07:08.330Z"
   },
   {
    "duration": 317,
    "start_time": "2021-08-01T17:07:09.843Z"
   },
   {
    "duration": 401,
    "start_time": "2021-08-01T17:08:00.000Z"
   },
   {
    "duration": 1532,
    "start_time": "2021-08-01T17:08:05.212Z"
   },
   {
    "duration": 139,
    "start_time": "2021-08-01T17:08:06.746Z"
   },
   {
    "duration": 22,
    "start_time": "2021-08-01T17:08:06.888Z"
   },
   {
    "duration": 82,
    "start_time": "2021-08-01T17:08:06.913Z"
   },
   {
    "duration": 13,
    "start_time": "2021-08-01T17:08:06.997Z"
   },
   {
    "duration": 21,
    "start_time": "2021-08-01T17:08:07.012Z"
   },
   {
    "duration": 554,
    "start_time": "2021-08-01T17:08:07.035Z"
   },
   {
    "duration": 25,
    "start_time": "2021-08-01T17:08:07.594Z"
   },
   {
    "duration": 27,
    "start_time": "2021-08-01T17:08:07.624Z"
   },
   {
    "duration": 40,
    "start_time": "2021-08-01T17:08:07.653Z"
   },
   {
    "duration": 15,
    "start_time": "2021-08-01T17:08:07.695Z"
   },
   {
    "duration": 14,
    "start_time": "2021-08-01T17:08:07.713Z"
   },
   {
    "duration": 13,
    "start_time": "2021-08-01T17:08:07.730Z"
   },
   {
    "duration": 40,
    "start_time": "2021-08-01T17:08:07.746Z"
   },
   {
    "duration": 15,
    "start_time": "2021-08-01T17:08:07.788Z"
   },
   {
    "duration": 39,
    "start_time": "2021-08-01T17:08:07.806Z"
   },
   {
    "duration": 141,
    "start_time": "2021-08-01T17:08:07.848Z"
   },
   {
    "duration": 93,
    "start_time": "2021-08-01T17:08:07.998Z"
   },
   {
    "duration": 118,
    "start_time": "2021-08-01T17:08:08.095Z"
   },
   {
    "duration": 328,
    "start_time": "2021-08-01T17:08:08.216Z"
   },
   {
    "duration": 146,
    "start_time": "2021-08-01T17:08:08.547Z"
   },
   {
    "duration": 5475,
    "start_time": "2021-08-01T17:08:08.697Z"
   },
   {
    "duration": 24,
    "start_time": "2021-08-01T17:08:14.186Z"
   },
   {
    "duration": 5762,
    "start_time": "2021-08-01T17:09:04.542Z"
   },
   {
    "duration": 153,
    "start_time": "2021-08-01T17:10:11.841Z"
   },
   {
    "duration": 5585,
    "start_time": "2021-08-01T17:15:39.283Z"
   },
   {
    "duration": 367880,
    "start_time": "2021-08-01T17:16:16.307Z"
   },
   {
    "duration": 116,
    "start_time": "2021-08-01T17:22:24.190Z"
   },
   {
    "duration": 5,
    "start_time": "2021-08-01T17:35:10.248Z"
   },
   {
    "duration": 5185,
    "start_time": "2021-08-01T17:35:36.178Z"
   },
   {
    "duration": 21,
    "start_time": "2021-08-01T17:35:42.126Z"
   },
   {
    "duration": 138,
    "start_time": "2021-08-01T17:36:44.110Z"
   },
   {
    "duration": 5,
    "start_time": "2021-08-01T17:36:55.608Z"
   },
   {
    "duration": 628,
    "start_time": "2021-08-01T17:37:06.031Z"
   },
   {
    "duration": 9,
    "start_time": "2021-08-01T17:37:26.284Z"
   },
   {
    "duration": 5191,
    "start_time": "2021-08-01T17:37:58.466Z"
   },
   {
    "duration": 5,
    "start_time": "2021-08-01T17:38:47.771Z"
   },
   {
    "duration": 5218,
    "start_time": "2021-08-01T17:40:55.203Z"
   },
   {
    "duration": 1626,
    "start_time": "2021-08-02T17:02:34.345Z"
   },
   {
    "duration": 252,
    "start_time": "2021-08-02T17:02:35.974Z"
   },
   {
    "duration": 21,
    "start_time": "2021-08-02T17:02:36.229Z"
   },
   {
    "duration": 62,
    "start_time": "2021-08-02T17:02:36.253Z"
   },
   {
    "duration": 11,
    "start_time": "2021-08-02T17:02:36.317Z"
   },
   {
    "duration": 16,
    "start_time": "2021-08-02T17:02:36.330Z"
   },
   {
    "duration": 667,
    "start_time": "2021-08-02T17:02:36.349Z"
   },
   {
    "duration": 19,
    "start_time": "2021-08-02T17:02:37.020Z"
   },
   {
    "duration": 6,
    "start_time": "2021-08-02T17:02:37.043Z"
   },
   {
    "duration": 48,
    "start_time": "2021-08-02T17:02:37.052Z"
   },
   {
    "duration": 5,
    "start_time": "2021-08-02T17:02:37.103Z"
   },
   {
    "duration": 9,
    "start_time": "2021-08-02T17:02:37.111Z"
   },
   {
    "duration": 27,
    "start_time": "2021-08-02T17:02:37.124Z"
   },
   {
    "duration": 39,
    "start_time": "2021-08-02T17:02:37.154Z"
   },
   {
    "duration": 13,
    "start_time": "2021-08-02T17:02:37.196Z"
   },
   {
    "duration": 33,
    "start_time": "2021-08-02T17:02:37.211Z"
   },
   {
    "duration": 141,
    "start_time": "2021-08-02T17:02:37.247Z"
   },
   {
    "duration": 98,
    "start_time": "2021-08-02T17:02:37.391Z"
   },
   {
    "duration": 106,
    "start_time": "2021-08-02T17:02:37.492Z"
   },
   {
    "duration": 312,
    "start_time": "2021-08-02T17:02:37.600Z"
   },
   {
    "duration": 373,
    "start_time": "2021-08-02T17:02:37.914Z"
   },
   {
    "duration": 5587,
    "start_time": "2021-08-02T17:02:38.290Z"
   },
   {
    "duration": 98172,
    "start_time": "2021-08-02T17:02:43.881Z"
   },
   {
    "duration": 106,
    "start_time": "2021-08-02T17:04:22.055Z"
   },
   {
    "duration": 6086,
    "start_time": "2021-08-02T17:05:42.080Z"
   },
   {
    "duration": 5608,
    "start_time": "2021-08-02T17:06:03.687Z"
   },
   {
    "duration": 97230,
    "start_time": "2021-08-02T17:06:26.023Z"
   },
   {
    "duration": 117,
    "start_time": "2021-08-02T17:08:03.374Z"
   },
   {
    "duration": 1530,
    "start_time": "2021-08-02T18:50:33.904Z"
   },
   {
    "duration": 120,
    "start_time": "2021-08-02T18:50:35.437Z"
   },
   {
    "duration": 22,
    "start_time": "2021-08-02T18:50:35.561Z"
   },
   {
    "duration": 63,
    "start_time": "2021-08-02T18:50:35.586Z"
   },
   {
    "duration": 25,
    "start_time": "2021-08-02T18:50:35.651Z"
   },
   {
    "duration": 16,
    "start_time": "2021-08-02T18:50:35.678Z"
   },
   {
    "duration": 595,
    "start_time": "2021-08-02T18:50:35.697Z"
   },
   {
    "duration": 20,
    "start_time": "2021-08-02T18:50:36.295Z"
   },
   {
    "duration": 7,
    "start_time": "2021-08-02T18:50:36.318Z"
   },
   {
    "duration": 54,
    "start_time": "2021-08-02T18:50:36.327Z"
   },
   {
    "duration": 6,
    "start_time": "2021-08-02T18:50:36.383Z"
   },
   {
    "duration": 7,
    "start_time": "2021-08-02T18:50:36.391Z"
   },
   {
    "duration": 14,
    "start_time": "2021-08-02T18:50:36.401Z"
   },
   {
    "duration": 18,
    "start_time": "2021-08-02T18:50:36.417Z"
   },
   {
    "duration": 13,
    "start_time": "2021-08-02T18:50:36.468Z"
   },
   {
    "duration": 33,
    "start_time": "2021-08-02T18:50:36.483Z"
   },
   {
    "duration": 101,
    "start_time": "2021-08-02T18:50:36.518Z"
   },
   {
    "duration": 50,
    "start_time": "2021-08-02T18:50:36.622Z"
   },
   {
    "duration": 119,
    "start_time": "2021-08-02T18:50:36.676Z"
   },
   {
    "duration": 322,
    "start_time": "2021-08-02T18:50:36.797Z"
   },
   {
    "duration": 246,
    "start_time": "2021-08-02T18:50:37.122Z"
   },
   {
    "duration": 398,
    "start_time": "2021-08-02T18:50:37.370Z"
   },
   {
    "duration": 282,
    "start_time": "2021-08-02T18:50:37.489Z"
   },
   {
    "duration": 279,
    "start_time": "2021-08-02T18:50:37.493Z"
   },
   {
    "duration": 1561,
    "start_time": "2021-08-02T18:50:54.258Z"
   },
   {
    "duration": 82,
    "start_time": "2021-08-02T18:50:55.821Z"
   },
   {
    "duration": 25,
    "start_time": "2021-08-02T18:50:55.906Z"
   },
   {
    "duration": 73,
    "start_time": "2021-08-02T18:50:55.934Z"
   },
   {
    "duration": 14,
    "start_time": "2021-08-02T18:50:56.010Z"
   },
   {
    "duration": 42,
    "start_time": "2021-08-02T18:50:56.027Z"
   },
   {
    "duration": 531,
    "start_time": "2021-08-02T18:50:56.072Z"
   },
   {
    "duration": 20,
    "start_time": "2021-08-02T18:50:56.609Z"
   },
   {
    "duration": 36,
    "start_time": "2021-08-02T18:50:56.633Z"
   },
   {
    "duration": 22,
    "start_time": "2021-08-02T18:50:56.672Z"
   },
   {
    "duration": 7,
    "start_time": "2021-08-02T18:50:56.696Z"
   },
   {
    "duration": 7,
    "start_time": "2021-08-02T18:50:56.706Z"
   },
   {
    "duration": 7,
    "start_time": "2021-08-02T18:50:56.715Z"
   },
   {
    "duration": 59,
    "start_time": "2021-08-02T18:50:56.724Z"
   },
   {
    "duration": 13,
    "start_time": "2021-08-02T18:50:56.785Z"
   },
   {
    "duration": 67,
    "start_time": "2021-08-02T18:50:56.801Z"
   },
   {
    "duration": 494,
    "start_time": "2021-08-02T18:50:56.871Z"
   },
   {
    "duration": 252,
    "start_time": "2021-08-02T18:50:57.116Z"
   },
   {
    "duration": 250,
    "start_time": "2021-08-02T18:50:57.120Z"
   },
   {
    "duration": 248,
    "start_time": "2021-08-02T18:50:57.123Z"
   },
   {
    "duration": 248,
    "start_time": "2021-08-02T18:50:57.125Z"
   },
   {
    "duration": 246,
    "start_time": "2021-08-02T18:50:57.128Z"
   },
   {
    "duration": 246,
    "start_time": "2021-08-02T18:50:57.130Z"
   },
   {
    "duration": 244,
    "start_time": "2021-08-02T18:50:57.133Z"
   },
   {
    "duration": 15,
    "start_time": "2021-08-02T18:51:58.269Z"
   },
   {
    "duration": 15,
    "start_time": "2021-08-02T18:52:12.141Z"
   },
   {
    "duration": 13,
    "start_time": "2021-08-02T18:54:19.232Z"
   },
   {
    "duration": 19,
    "start_time": "2021-08-02T18:54:19.979Z"
   },
   {
    "duration": 34,
    "start_time": "2021-08-02T18:55:47.813Z"
   },
   {
    "duration": 19,
    "start_time": "2021-08-02T18:56:33.280Z"
   },
   {
    "duration": 24,
    "start_time": "2021-08-02T18:56:35.343Z"
   },
   {
    "duration": 1650,
    "start_time": "2021-08-02T18:57:50.921Z"
   },
   {
    "duration": 94,
    "start_time": "2021-08-02T18:57:52.574Z"
   },
   {
    "duration": 34,
    "start_time": "2021-08-02T18:57:52.673Z"
   },
   {
    "duration": 78,
    "start_time": "2021-08-02T18:57:52.710Z"
   },
   {
    "duration": 12,
    "start_time": "2021-08-02T18:57:52.791Z"
   },
   {
    "duration": 15,
    "start_time": "2021-08-02T18:57:52.806Z"
   },
   {
    "duration": 538,
    "start_time": "2021-08-02T18:57:52.824Z"
   },
   {
    "duration": 21,
    "start_time": "2021-08-02T18:57:53.369Z"
   },
   {
    "duration": 8,
    "start_time": "2021-08-02T18:57:53.393Z"
   },
   {
    "duration": 21,
    "start_time": "2021-08-02T18:57:53.404Z"
   },
   {
    "duration": 9,
    "start_time": "2021-08-02T18:57:53.470Z"
   },
   {
    "duration": 10,
    "start_time": "2021-08-02T18:57:53.482Z"
   },
   {
    "duration": 30,
    "start_time": "2021-08-02T18:57:53.495Z"
   },
   {
    "duration": 61,
    "start_time": "2021-08-02T18:57:53.528Z"
   },
   {
    "duration": 14,
    "start_time": "2021-08-02T18:57:53.592Z"
   },
   {
    "duration": 63,
    "start_time": "2021-08-02T18:57:53.608Z"
   },
   {
    "duration": 97,
    "start_time": "2021-08-02T18:57:53.674Z"
   },
   {
    "duration": 94,
    "start_time": "2021-08-02T18:57:53.775Z"
   },
   {
    "duration": 127,
    "start_time": "2021-08-02T18:57:53.873Z"
   },
   {
    "duration": 497,
    "start_time": "2021-08-02T18:57:54.003Z"
   },
   {
    "duration": 270,
    "start_time": "2021-08-02T18:57:54.503Z"
   },
   {
    "duration": 6498,
    "start_time": "2021-08-02T18:57:54.777Z"
   },
   {
    "duration": 10,
    "start_time": "2021-08-02T18:58:01.279Z"
   },
   {
    "duration": 40,
    "start_time": "2021-08-02T18:58:01.292Z"
   },
   {
    "duration": 7,
    "start_time": "2021-08-02T18:59:19.140Z"
   },
   {
    "duration": 10,
    "start_time": "2021-08-02T19:02:14.126Z"
   },
   {
    "duration": 9,
    "start_time": "2021-08-02T19:02:57.612Z"
   },
   {
    "duration": 406,
    "start_time": "2021-08-02T19:03:00.505Z"
   },
   {
    "duration": 6,
    "start_time": "2021-08-02T19:03:12.723Z"
   },
   {
    "duration": 1586,
    "start_time": "2021-08-02T19:03:31.646Z"
   },
   {
    "duration": 71,
    "start_time": "2021-08-02T19:03:33.236Z"
   },
   {
    "duration": 21,
    "start_time": "2021-08-02T19:03:33.310Z"
   },
   {
    "duration": 66,
    "start_time": "2021-08-02T19:03:33.335Z"
   },
   {
    "duration": 12,
    "start_time": "2021-08-02T19:03:33.404Z"
   },
   {
    "duration": 16,
    "start_time": "2021-08-02T19:03:33.418Z"
   },
   {
    "duration": 543,
    "start_time": "2021-08-02T19:03:33.436Z"
   },
   {
    "duration": 20,
    "start_time": "2021-08-02T19:03:33.982Z"
   },
   {
    "duration": 9,
    "start_time": "2021-08-02T19:03:34.008Z"
   },
   {
    "duration": 62,
    "start_time": "2021-08-02T19:03:34.020Z"
   },
   {
    "duration": 7,
    "start_time": "2021-08-02T19:03:34.085Z"
   },
   {
    "duration": 9,
    "start_time": "2021-08-02T19:03:34.094Z"
   },
   {
    "duration": 34,
    "start_time": "2021-08-02T19:03:34.106Z"
   },
   {
    "duration": 33,
    "start_time": "2021-08-02T19:03:34.143Z"
   },
   {
    "duration": 19,
    "start_time": "2021-08-02T19:03:34.179Z"
   },
   {
    "duration": 14,
    "start_time": "2021-08-02T19:03:34.201Z"
   },
   {
    "duration": 71,
    "start_time": "2021-08-02T19:03:34.218Z"
   },
   {
    "duration": 105,
    "start_time": "2021-08-02T19:03:34.292Z"
   },
   {
    "duration": 98,
    "start_time": "2021-08-02T19:03:34.469Z"
   },
   {
    "duration": 33,
    "start_time": "2021-08-02T19:03:34.570Z"
   },
   {
    "duration": 329,
    "start_time": "2021-08-02T19:03:34.605Z"
   },
   {
    "duration": 236,
    "start_time": "2021-08-02T19:03:34.937Z"
   },
   {
    "duration": 5905,
    "start_time": "2021-08-02T19:03:35.176Z"
   },
   {
    "duration": 8,
    "start_time": "2021-08-02T19:03:41.084Z"
   },
   {
    "duration": 23,
    "start_time": "2021-08-02T19:03:41.094Z"
   },
   {
    "duration": 12,
    "start_time": "2021-08-02T19:07:35.452Z"
   },
   {
    "duration": 12,
    "start_time": "2021-08-02T19:07:53.981Z"
   },
   {
    "duration": 415,
    "start_time": "2021-08-02T19:07:55.613Z"
   },
   {
    "duration": 1842,
    "start_time": "2021-08-02T19:08:44.785Z"
   },
   {
    "duration": 109,
    "start_time": "2021-08-02T19:08:46.630Z"
   },
   {
    "duration": 25,
    "start_time": "2021-08-02T19:08:46.742Z"
   },
   {
    "duration": 63,
    "start_time": "2021-08-02T19:08:46.771Z"
   },
   {
    "duration": 37,
    "start_time": "2021-08-02T19:08:46.837Z"
   },
   {
    "duration": 16,
    "start_time": "2021-08-02T19:08:46.876Z"
   },
   {
    "duration": 583,
    "start_time": "2021-08-02T19:08:46.895Z"
   },
   {
    "duration": 20,
    "start_time": "2021-08-02T19:08:47.482Z"
   },
   {
    "duration": 7,
    "start_time": "2021-08-02T19:08:47.505Z"
   },
   {
    "duration": 58,
    "start_time": "2021-08-02T19:08:47.514Z"
   },
   {
    "duration": 5,
    "start_time": "2021-08-02T19:08:47.575Z"
   },
   {
    "duration": 8,
    "start_time": "2021-08-02T19:08:47.583Z"
   },
   {
    "duration": 30,
    "start_time": "2021-08-02T19:08:47.594Z"
   },
   {
    "duration": 46,
    "start_time": "2021-08-02T19:08:47.627Z"
   },
   {
    "duration": 25,
    "start_time": "2021-08-02T19:08:47.675Z"
   },
   {
    "duration": 13,
    "start_time": "2021-08-02T19:08:47.702Z"
   },
   {
    "duration": 73,
    "start_time": "2021-08-02T19:08:47.717Z"
   },
   {
    "duration": 81,
    "start_time": "2021-08-02T19:08:47.792Z"
   },
   {
    "duration": 96,
    "start_time": "2021-08-02T19:08:47.876Z"
   },
   {
    "duration": 32,
    "start_time": "2021-08-02T19:08:47.975Z"
   },
   {
    "duration": 372,
    "start_time": "2021-08-02T19:08:48.009Z"
   },
   {
    "duration": 185,
    "start_time": "2021-08-02T19:08:48.383Z"
   },
   {
    "duration": 6078,
    "start_time": "2021-08-02T19:08:48.572Z"
   },
   {
    "duration": 16,
    "start_time": "2021-08-02T19:08:54.653Z"
   },
   {
    "duration": 23,
    "start_time": "2021-08-02T19:08:54.671Z"
   },
   {
    "duration": 7,
    "start_time": "2021-08-02T19:09:25.835Z"
   },
   {
    "duration": 21,
    "start_time": "2021-08-02T19:09:26.127Z"
   },
   {
    "duration": 7,
    "start_time": "2021-08-02T19:09:27.183Z"
   },
   {
    "duration": 19,
    "start_time": "2021-08-02T19:09:27.557Z"
   },
   {
    "duration": 26,
    "start_time": "2021-08-02T19:09:28.129Z"
   },
   {
    "duration": 26,
    "start_time": "2021-08-02T19:09:28.157Z"
   },
   {
    "duration": 5,
    "start_time": "2021-08-02T19:11:40.752Z"
   },
   {
    "duration": 23,
    "start_time": "2021-08-02T19:11:41.670Z"
   },
   {
    "duration": 6,
    "start_time": "2021-08-02T19:12:28.741Z"
   },
   {
    "duration": 23,
    "start_time": "2021-08-02T19:12:29.007Z"
   },
   {
    "duration": 7,
    "start_time": "2021-08-02T19:13:19.969Z"
   },
   {
    "duration": 23,
    "start_time": "2021-08-02T19:13:20.645Z"
   },
   {
    "duration": 1515,
    "start_time": "2021-08-02T19:14:31.909Z"
   },
   {
    "duration": 93,
    "start_time": "2021-08-02T19:14:33.427Z"
   },
   {
    "duration": 23,
    "start_time": "2021-08-02T19:14:33.523Z"
   },
   {
    "duration": 63,
    "start_time": "2021-08-02T19:14:33.549Z"
   },
   {
    "duration": 10,
    "start_time": "2021-08-02T19:14:33.615Z"
   },
   {
    "duration": 19,
    "start_time": "2021-08-02T19:14:33.627Z"
   },
   {
    "duration": 636,
    "start_time": "2021-08-02T19:14:33.648Z"
   },
   {
    "duration": 19,
    "start_time": "2021-08-02T19:14:34.288Z"
   },
   {
    "duration": 7,
    "start_time": "2021-08-02T19:14:34.311Z"
   },
   {
    "duration": 54,
    "start_time": "2021-08-02T19:14:34.320Z"
   },
   {
    "duration": 6,
    "start_time": "2021-08-02T19:14:34.377Z"
   },
   {
    "duration": 20,
    "start_time": "2021-08-02T19:14:34.385Z"
   },
   {
    "duration": 25,
    "start_time": "2021-08-02T19:14:34.408Z"
   },
   {
    "duration": 36,
    "start_time": "2021-08-02T19:14:34.436Z"
   },
   {
    "duration": 25,
    "start_time": "2021-08-02T19:14:34.475Z"
   },
   {
    "duration": 13,
    "start_time": "2021-08-02T19:14:34.503Z"
   },
   {
    "duration": 69,
    "start_time": "2021-08-02T19:14:34.518Z"
   },
   {
    "duration": 80,
    "start_time": "2021-08-02T19:14:34.589Z"
   },
   {
    "duration": 92,
    "start_time": "2021-08-02T19:14:34.677Z"
   },
   {
    "duration": 32,
    "start_time": "2021-08-02T19:14:34.772Z"
   },
   {
    "duration": 317,
    "start_time": "2021-08-02T19:14:34.867Z"
   },
   {
    "duration": 187,
    "start_time": "2021-08-02T19:14:35.187Z"
   },
   {
    "duration": 5877,
    "start_time": "2021-08-02T19:14:35.382Z"
   },
   {
    "duration": 6,
    "start_time": "2021-08-02T19:14:41.267Z"
   },
   {
    "duration": 28,
    "start_time": "2021-08-02T19:14:41.276Z"
   },
   {
    "duration": 8,
    "start_time": "2021-08-02T19:15:34.820Z"
   },
   {
    "duration": 24,
    "start_time": "2021-08-02T19:15:35.822Z"
   },
   {
    "duration": 8,
    "start_time": "2021-08-02T19:15:45.701Z"
   },
   {
    "duration": 24,
    "start_time": "2021-08-02T19:15:46.259Z"
   },
   {
    "duration": 7,
    "start_time": "2021-08-02T19:15:52.978Z"
   },
   {
    "duration": 24,
    "start_time": "2021-08-02T19:15:53.751Z"
   },
   {
    "duration": 8,
    "start_time": "2021-08-02T19:16:07.500Z"
   },
   {
    "duration": 23,
    "start_time": "2021-08-02T19:16:07.991Z"
   },
   {
    "duration": 417,
    "start_time": "2021-08-02T19:18:03.462Z"
   },
   {
    "duration": 22,
    "start_time": "2021-08-02T19:18:06.855Z"
   },
   {
    "duration": 21,
    "start_time": "2021-08-02T19:18:14.935Z"
   },
   {
    "duration": 22,
    "start_time": "2021-08-02T19:18:26.531Z"
   },
   {
    "duration": 6,
    "start_time": "2021-08-02T19:18:59.895Z"
   },
   {
    "duration": 4,
    "start_time": "2021-08-02T19:19:09.866Z"
   },
   {
    "duration": 6,
    "start_time": "2021-08-02T19:19:17.498Z"
   },
   {
    "duration": 1796,
    "start_time": "2021-08-02T19:19:48.236Z"
   },
   {
    "duration": 90,
    "start_time": "2021-08-02T19:19:50.035Z"
   },
   {
    "duration": 24,
    "start_time": "2021-08-02T19:19:50.127Z"
   },
   {
    "duration": 67,
    "start_time": "2021-08-02T19:19:50.154Z"
   },
   {
    "duration": 13,
    "start_time": "2021-08-02T19:19:50.223Z"
   },
   {
    "duration": 36,
    "start_time": "2021-08-02T19:19:50.238Z"
   },
   {
    "duration": 510,
    "start_time": "2021-08-02T19:19:50.277Z"
   },
   {
    "duration": 23,
    "start_time": "2021-08-02T19:19:50.790Z"
   },
   {
    "duration": 7,
    "start_time": "2021-08-02T19:19:50.817Z"
   },
   {
    "duration": 57,
    "start_time": "2021-08-02T19:19:50.827Z"
   },
   {
    "duration": 5,
    "start_time": "2021-08-02T19:19:50.886Z"
   },
   {
    "duration": 37,
    "start_time": "2021-08-02T19:19:50.893Z"
   },
   {
    "duration": 35,
    "start_time": "2021-08-02T19:19:50.932Z"
   },
   {
    "duration": 3,
    "start_time": "2021-08-02T19:19:50.970Z"
   },
   {
    "duration": 40,
    "start_time": "2021-08-02T19:19:50.975Z"
   },
   {
    "duration": 26,
    "start_time": "2021-08-02T19:19:51.018Z"
   },
   {
    "duration": 43,
    "start_time": "2021-08-02T19:19:51.046Z"
   },
   {
    "duration": 75,
    "start_time": "2021-08-02T19:19:51.093Z"
   },
   {
    "duration": 10,
    "start_time": "2021-08-02T19:19:51.172Z"
   },
   {
    "duration": 110,
    "start_time": "2021-08-02T19:19:51.269Z"
   },
   {
    "duration": 424,
    "start_time": "2021-08-02T19:19:51.382Z"
   },
   {
    "duration": 79,
    "start_time": "2021-08-02T19:19:51.809Z"
   },
   {
    "duration": 6060,
    "start_time": "2021-08-02T19:19:51.967Z"
   },
   {
    "duration": 9,
    "start_time": "2021-08-02T19:19:58.030Z"
   },
   {
    "duration": 45,
    "start_time": "2021-08-02T19:19:58.042Z"
   },
   {
    "duration": 404,
    "start_time": "2021-08-02T19:21:27.332Z"
   },
   {
    "duration": 22,
    "start_time": "2021-08-02T19:21:28.560Z"
   },
   {
    "duration": 13,
    "start_time": "2021-08-02T19:21:49.159Z"
   },
   {
    "duration": 24,
    "start_time": "2021-08-02T19:21:50.478Z"
   },
   {
    "duration": 1546,
    "start_time": "2021-08-02T19:22:25.896Z"
   },
   {
    "duration": 87,
    "start_time": "2021-08-02T19:22:27.445Z"
   },
   {
    "duration": 21,
    "start_time": "2021-08-02T19:22:27.535Z"
   },
   {
    "duration": 65,
    "start_time": "2021-08-02T19:22:27.559Z"
   },
   {
    "duration": 14,
    "start_time": "2021-08-02T19:22:27.627Z"
   },
   {
    "duration": 35,
    "start_time": "2021-08-02T19:22:27.643Z"
   },
   {
    "duration": 530,
    "start_time": "2021-08-02T19:22:27.680Z"
   },
   {
    "duration": 19,
    "start_time": "2021-08-02T19:22:28.214Z"
   },
   {
    "duration": 6,
    "start_time": "2021-08-02T19:22:28.236Z"
   },
   {
    "duration": 20,
    "start_time": "2021-08-02T19:22:28.267Z"
   },
   {
    "duration": 6,
    "start_time": "2021-08-02T19:22:28.289Z"
   },
   {
    "duration": 19,
    "start_time": "2021-08-02T19:22:28.297Z"
   },
   {
    "duration": 61,
    "start_time": "2021-08-02T19:22:28.318Z"
   },
   {
    "duration": 3,
    "start_time": "2021-08-02T19:22:28.382Z"
   },
   {
    "duration": 30,
    "start_time": "2021-08-02T19:22:28.387Z"
   },
   {
    "duration": 15,
    "start_time": "2021-08-02T19:22:28.419Z"
   },
   {
    "duration": 36,
    "start_time": "2021-08-02T19:22:28.468Z"
   },
   {
    "duration": 65,
    "start_time": "2021-08-02T19:22:28.507Z"
   },
   {
    "duration": 98,
    "start_time": "2021-08-02T19:22:28.575Z"
   },
   {
    "duration": 121,
    "start_time": "2021-08-02T19:22:28.677Z"
   },
   {
    "duration": 319,
    "start_time": "2021-08-02T19:22:28.800Z"
   },
   {
    "duration": 157,
    "start_time": "2021-08-02T19:22:29.121Z"
   },
   {
    "duration": 6027,
    "start_time": "2021-08-02T19:22:29.372Z"
   },
   {
    "duration": 7,
    "start_time": "2021-08-02T19:22:35.401Z"
   },
   {
    "duration": 25,
    "start_time": "2021-08-02T19:22:35.411Z"
   },
   {
    "duration": 13,
    "start_time": "2021-08-02T19:26:06.486Z"
   },
   {
    "duration": 24,
    "start_time": "2021-08-02T19:26:10.119Z"
   },
   {
    "duration": 1598,
    "start_time": "2021-08-02T19:26:24.528Z"
   },
   {
    "duration": 86,
    "start_time": "2021-08-02T19:26:26.129Z"
   },
   {
    "duration": 22,
    "start_time": "2021-08-02T19:26:26.217Z"
   },
   {
    "duration": 66,
    "start_time": "2021-08-02T19:26:26.241Z"
   },
   {
    "duration": 13,
    "start_time": "2021-08-02T19:26:26.309Z"
   },
   {
    "duration": 16,
    "start_time": "2021-08-02T19:26:26.324Z"
   },
   {
    "duration": 554,
    "start_time": "2021-08-02T19:26:26.342Z"
   },
   {
    "duration": 20,
    "start_time": "2021-08-02T19:26:26.900Z"
   },
   {
    "duration": 5,
    "start_time": "2021-08-02T19:26:26.923Z"
   },
   {
    "duration": 49,
    "start_time": "2021-08-02T19:26:26.931Z"
   },
   {
    "duration": 5,
    "start_time": "2021-08-02T19:26:26.982Z"
   },
   {
    "duration": 21,
    "start_time": "2021-08-02T19:26:26.990Z"
   },
   {
    "duration": 24,
    "start_time": "2021-08-02T19:26:27.014Z"
   },
   {
    "duration": 36,
    "start_time": "2021-08-02T19:26:27.040Z"
   },
   {
    "duration": 29,
    "start_time": "2021-08-02T19:26:27.078Z"
   },
   {
    "duration": 15,
    "start_time": "2021-08-02T19:26:27.110Z"
   },
   {
    "duration": 66,
    "start_time": "2021-08-02T19:26:27.128Z"
   },
   {
    "duration": 72,
    "start_time": "2021-08-02T19:26:27.197Z"
   },
   {
    "duration": 97,
    "start_time": "2021-08-02T19:26:27.272Z"
   },
   {
    "duration": 118,
    "start_time": "2021-08-02T19:26:27.373Z"
   },
   {
    "duration": 326,
    "start_time": "2021-08-02T19:26:27.493Z"
   },
   {
    "duration": 245,
    "start_time": "2021-08-02T19:26:27.821Z"
   },
   {
    "duration": 5800,
    "start_time": "2021-08-02T19:26:28.071Z"
   },
   {
    "duration": 8,
    "start_time": "2021-08-02T19:26:33.873Z"
   },
   {
    "duration": 23,
    "start_time": "2021-08-02T19:26:33.883Z"
   },
   {
    "duration": 2829,
    "start_time": "2021-08-02T19:31:38.339Z"
   },
   {
    "duration": 2832,
    "start_time": "2021-08-02T19:31:51.442Z"
   },
   {
    "duration": 95686,
    "start_time": "2021-08-02T19:32:31.307Z"
   },
   {
    "duration": 116,
    "start_time": "2021-08-02T19:34:06.996Z"
   },
   {
    "duration": 259126,
    "start_time": "2021-08-02T19:40:25.163Z"
   },
   {
    "duration": 142,
    "start_time": "2021-08-02T19:44:44.292Z"
   },
   {
    "duration": 1594,
    "start_time": "2021-08-04T06:37:56.864Z"
   },
   {
    "duration": 282,
    "start_time": "2021-08-04T06:37:58.461Z"
   },
   {
    "duration": 24,
    "start_time": "2021-08-04T06:37:58.746Z"
   },
   {
    "duration": 67,
    "start_time": "2021-08-04T06:37:58.773Z"
   },
   {
    "duration": 15,
    "start_time": "2021-08-04T06:37:58.843Z"
   },
   {
    "duration": 43,
    "start_time": "2021-08-04T06:37:58.861Z"
   },
   {
    "duration": 507,
    "start_time": "2021-08-04T06:37:58.907Z"
   },
   {
    "duration": 19,
    "start_time": "2021-08-04T06:37:59.418Z"
   },
   {
    "duration": 7,
    "start_time": "2021-08-04T06:37:59.440Z"
   },
   {
    "duration": 51,
    "start_time": "2021-08-04T06:37:59.449Z"
   },
   {
    "duration": 5,
    "start_time": "2021-08-04T06:37:59.503Z"
   },
   {
    "duration": 24,
    "start_time": "2021-08-04T06:37:59.511Z"
   },
   {
    "duration": 25,
    "start_time": "2021-08-04T06:37:59.538Z"
   },
   {
    "duration": 39,
    "start_time": "2021-08-04T06:37:59.565Z"
   },
   {
    "duration": 25,
    "start_time": "2021-08-04T06:37:59.607Z"
   },
   {
    "duration": 13,
    "start_time": "2021-08-04T06:37:59.634Z"
   },
   {
    "duration": 75,
    "start_time": "2021-08-04T06:37:59.649Z"
   },
   {
    "duration": 78,
    "start_time": "2021-08-04T06:37:59.726Z"
   },
   {
    "duration": 93,
    "start_time": "2021-08-04T06:37:59.808Z"
   },
   {
    "duration": 43,
    "start_time": "2021-08-04T06:37:59.904Z"
   },
   {
    "duration": 336,
    "start_time": "2021-08-04T06:37:59.949Z"
   },
   {
    "duration": 17,
    "start_time": "2021-08-04T06:38:00.287Z"
   },
   {
    "duration": 5094,
    "start_time": "2021-08-04T06:38:00.308Z"
   },
   {
    "duration": 5655,
    "start_time": "2021-08-04T06:38:05.405Z"
   },
   {
    "duration": 65494,
    "start_time": "2021-08-04T06:38:11.063Z"
   },
   {
    "duration": 12,
    "start_time": "2021-08-04T06:39:16.560Z"
   },
   {
    "duration": 369,
    "start_time": "2021-08-04T06:39:16.574Z"
   },
   {
    "duration": 1159,
    "start_time": "2021-08-07T07:12:45.338Z"
   },
   {
    "duration": 93,
    "start_time": "2021-08-07T07:12:46.498Z"
   },
   {
    "duration": 14,
    "start_time": "2021-08-07T07:12:46.593Z"
   },
   {
    "duration": 37,
    "start_time": "2021-08-07T07:12:46.609Z"
   },
   {
    "duration": 7,
    "start_time": "2021-08-07T07:12:46.648Z"
   },
   {
    "duration": 11,
    "start_time": "2021-08-07T07:12:46.657Z"
   },
   {
    "duration": 331,
    "start_time": "2021-08-07T07:12:46.669Z"
   },
   {
    "duration": 12,
    "start_time": "2021-08-07T07:12:47.003Z"
   },
   {
    "duration": 5,
    "start_time": "2021-08-07T07:12:47.016Z"
   },
   {
    "duration": 25,
    "start_time": "2021-08-07T07:12:47.022Z"
   },
   {
    "duration": 6,
    "start_time": "2021-08-07T07:12:47.049Z"
   },
   {
    "duration": 11,
    "start_time": "2021-08-07T07:12:47.056Z"
   },
   {
    "duration": 9,
    "start_time": "2021-08-07T07:12:47.068Z"
   },
   {
    "duration": 13,
    "start_time": "2021-08-07T07:12:47.079Z"
   },
   {
    "duration": 9,
    "start_time": "2021-08-07T07:12:47.093Z"
   },
   {
    "duration": 68,
    "start_time": "2021-08-07T07:12:47.103Z"
   },
   {
    "duration": 5,
    "start_time": "2021-08-07T07:12:47.172Z"
   },
   {
    "duration": 7,
    "start_time": "2021-08-07T07:12:47.178Z"
   },
   {
    "duration": 22354,
    "start_time": "2021-08-07T07:12:47.186Z"
   },
   {
    "duration": 11,
    "start_time": "2021-08-07T07:13:09.543Z"
   },
   {
    "duration": 4,
    "start_time": "2021-08-07T07:13:09.555Z"
   },
   {
    "duration": 22,
    "start_time": "2021-08-07T07:13:09.561Z"
   },
   {
    "duration": 26965,
    "start_time": "2021-08-07T07:13:09.585Z"
   },
   {
    "duration": 4,
    "start_time": "2021-08-07T07:13:36.642Z"
   },
   {
    "duration": 68,
    "start_time": "2021-08-07T07:13:36.647Z"
   },
   {
    "duration": 10527,
    "start_time": "2021-08-07T07:13:36.717Z"
   },
   {
    "duration": 20102,
    "start_time": "2021-08-07T07:13:47.340Z"
   },
   {
    "duration": 6462,
    "start_time": "2021-08-07T07:14:07.444Z"
   },
   {
    "duration": 36981,
    "start_time": "2021-08-07T07:14:13.908Z"
   },
   {
    "duration": 8,
    "start_time": "2021-08-07T07:14:50.891Z"
   },
   {
    "duration": 227,
    "start_time": "2021-08-07T07:14:50.901Z"
   },
   {
    "duration": 16,
    "start_time": "2021-08-07T07:21:12.406Z"
   }
  ],
  "kernelspec": {
   "display_name": "Python 3",
   "language": "python",
   "name": "python3"
  },
  "language_info": {
   "codemirror_mode": {
    "name": "ipython",
    "version": 3
   },
   "file_extension": ".py",
   "mimetype": "text/x-python",
   "name": "python",
   "nbconvert_exporter": "python",
   "pygments_lexer": "ipython3",
   "version": "3.8.8"
  },
  "toc": {
   "base_numbering": 1,
   "nav_menu": {},
   "number_sections": true,
   "sideBar": true,
   "skip_h1_title": true,
   "title_cell": "Содержание",
   "title_sidebar": "Contents",
   "toc_cell": true,
   "toc_position": {},
   "toc_section_display": true,
   "toc_window_display": false
  }
 },
 "nbformat": 4,
 "nbformat_minor": 2
}
