{
 "cells": [
  {
   "cell_type": "markdown",
   "metadata": {
    "id": "C5Y5b9FOVOkU"
   },
   "source": [
    "# Исследование надёжности заёмщиков\n",
    "\n",
    "Заказчик — кредитный отдел банка. Нужно разобраться, влияет ли семейное положение и количество детей клиента на факт погашения кредита в срок. Входные данные от банка — статистика о платёжеспособности клиентов.\n",
    "\n",
    "Результаты исследования будут учтены при построении модели **кредитного скоринга** — специальной системы, которая оценивает способность потенциального заёмщика вернуть кредит банку."
   ]
  },
  {
   "cell_type": "markdown",
   "metadata": {
    "id": "J7d4vLoJVOkV"
   },
   "source": [
    "## Шаг 1. Откройте файл с данными и изучите общую информацию"
   ]
  },
  {
   "cell_type": "code",
   "execution_count": null,
   "metadata": {
    "id": "iYIHGEMFVOkW",
    "outputId": "cb88c196-23af-4cac-b29e-cbcaecc1a9df"
   },
   "outputs": [
    {
     "data": {
      "text/html": [
       "<div>\n",
       "<style scoped>\n",
       "    .dataframe tbody tr th:only-of-type {\n",
       "        vertical-align: middle;\n",
       "    }\n",
       "\n",
       "    .dataframe tbody tr th {\n",
       "        vertical-align: top;\n",
       "    }\n",
       "\n",
       "    .dataframe thead th {\n",
       "        text-align: right;\n",
       "    }\n",
       "</style>\n",
       "<table border=\"1\" class=\"dataframe\">\n",
       "  <thead>\n",
       "    <tr style=\"text-align: right;\">\n",
       "      <th></th>\n",
       "      <th>children</th>\n",
       "      <th>days_employed</th>\n",
       "      <th>dob_years</th>\n",
       "      <th>education</th>\n",
       "      <th>education_id</th>\n",
       "      <th>family_status</th>\n",
       "      <th>family_status_id</th>\n",
       "      <th>gender</th>\n",
       "      <th>income_type</th>\n",
       "      <th>debt</th>\n",
       "      <th>total_income</th>\n",
       "      <th>purpose</th>\n",
       "    </tr>\n",
       "  </thead>\n",
       "  <tbody>\n",
       "    <tr>\n",
       "      <td>0</td>\n",
       "      <td>1</td>\n",
       "      <td>-8437.673028</td>\n",
       "      <td>42</td>\n",
       "      <td>высшее</td>\n",
       "      <td>0</td>\n",
       "      <td>женат / замужем</td>\n",
       "      <td>0</td>\n",
       "      <td>F</td>\n",
       "      <td>сотрудник</td>\n",
       "      <td>0</td>\n",
       "      <td>253875.639453</td>\n",
       "      <td>покупка жилья</td>\n",
       "    </tr>\n",
       "    <tr>\n",
       "      <td>1</td>\n",
       "      <td>1</td>\n",
       "      <td>-4024.803754</td>\n",
       "      <td>36</td>\n",
       "      <td>среднее</td>\n",
       "      <td>1</td>\n",
       "      <td>женат / замужем</td>\n",
       "      <td>0</td>\n",
       "      <td>F</td>\n",
       "      <td>сотрудник</td>\n",
       "      <td>0</td>\n",
       "      <td>112080.014102</td>\n",
       "      <td>приобретение автомобиля</td>\n",
       "    </tr>\n",
       "    <tr>\n",
       "      <td>2</td>\n",
       "      <td>0</td>\n",
       "      <td>-5623.422610</td>\n",
       "      <td>33</td>\n",
       "      <td>Среднее</td>\n",
       "      <td>1</td>\n",
       "      <td>женат / замужем</td>\n",
       "      <td>0</td>\n",
       "      <td>M</td>\n",
       "      <td>сотрудник</td>\n",
       "      <td>0</td>\n",
       "      <td>145885.952297</td>\n",
       "      <td>покупка жилья</td>\n",
       "    </tr>\n",
       "    <tr>\n",
       "      <td>3</td>\n",
       "      <td>3</td>\n",
       "      <td>-4124.747207</td>\n",
       "      <td>32</td>\n",
       "      <td>среднее</td>\n",
       "      <td>1</td>\n",
       "      <td>женат / замужем</td>\n",
       "      <td>0</td>\n",
       "      <td>M</td>\n",
       "      <td>сотрудник</td>\n",
       "      <td>0</td>\n",
       "      <td>267628.550329</td>\n",
       "      <td>дополнительное образование</td>\n",
       "    </tr>\n",
       "    <tr>\n",
       "      <td>4</td>\n",
       "      <td>0</td>\n",
       "      <td>340266.072047</td>\n",
       "      <td>53</td>\n",
       "      <td>среднее</td>\n",
       "      <td>1</td>\n",
       "      <td>гражданский брак</td>\n",
       "      <td>1</td>\n",
       "      <td>F</td>\n",
       "      <td>пенсионер</td>\n",
       "      <td>0</td>\n",
       "      <td>158616.077870</td>\n",
       "      <td>сыграть свадьбу</td>\n",
       "    </tr>\n",
       "  </tbody>\n",
       "</table>\n",
       "</div>"
      ],
      "text/plain": [
       "   children  days_employed  dob_years education  education_id  \\\n",
       "0         1   -8437.673028         42    высшее             0   \n",
       "1         1   -4024.803754         36   среднее             1   \n",
       "2         0   -5623.422610         33   Среднее             1   \n",
       "3         3   -4124.747207         32   среднее             1   \n",
       "4         0  340266.072047         53   среднее             1   \n",
       "\n",
       "      family_status  family_status_id gender income_type  debt   total_income  \\\n",
       "0   женат / замужем                 0      F   сотрудник     0  253875.639453   \n",
       "1   женат / замужем                 0      F   сотрудник     0  112080.014102   \n",
       "2   женат / замужем                 0      M   сотрудник     0  145885.952297   \n",
       "3   женат / замужем                 0      M   сотрудник     0  267628.550329   \n",
       "4  гражданский брак                 1      F   пенсионер     0  158616.077870   \n",
       "\n",
       "                      purpose  \n",
       "0               покупка жилья  \n",
       "1     приобретение автомобиля  \n",
       "2               покупка жилья  \n",
       "3  дополнительное образование  \n",
       "4             сыграть свадьбу  "
      ]
     },
     "execution_count": 1,
     "metadata": {},
     "output_type": "execute_result"
    }
   ],
   "source": [
    "#Импортируем библиотеки, создаем датафрейм из файла, смотрим первые 5 строк таблицы\n",
    "import pandas as pd\n",
    "from pymystem3 import Mystem\n",
    "data = pd.read_csv('/datasets/data.csv')\n",
    "data.head()"
   ]
  },
  {
   "cell_type": "code",
   "execution_count": null,
   "metadata": {
    "id": "KSKvqwvPVOkZ",
    "outputId": "bff101e5-b4e3-4572-d3da-ec67a57db7e8"
   },
   "outputs": [
    {
     "data": {
      "text/html": [
       "<div>\n",
       "<style scoped>\n",
       "    .dataframe tbody tr th:only-of-type {\n",
       "        vertical-align: middle;\n",
       "    }\n",
       "\n",
       "    .dataframe tbody tr th {\n",
       "        vertical-align: top;\n",
       "    }\n",
       "\n",
       "    .dataframe thead th {\n",
       "        text-align: right;\n",
       "    }\n",
       "</style>\n",
       "<table border=\"1\" class=\"dataframe\">\n",
       "  <thead>\n",
       "    <tr style=\"text-align: right;\">\n",
       "      <th></th>\n",
       "      <th>children</th>\n",
       "      <th>days_employed</th>\n",
       "      <th>dob_years</th>\n",
       "      <th>education_id</th>\n",
       "      <th>family_status_id</th>\n",
       "      <th>debt</th>\n",
       "      <th>total_income</th>\n",
       "    </tr>\n",
       "  </thead>\n",
       "  <tbody>\n",
       "    <tr>\n",
       "      <td>count</td>\n",
       "      <td>21525.000000</td>\n",
       "      <td>19351.000000</td>\n",
       "      <td>21525.000000</td>\n",
       "      <td>21525.000000</td>\n",
       "      <td>21525.000000</td>\n",
       "      <td>21525.000000</td>\n",
       "      <td>1.935100e+04</td>\n",
       "    </tr>\n",
       "    <tr>\n",
       "      <td>mean</td>\n",
       "      <td>0.538908</td>\n",
       "      <td>63046.497661</td>\n",
       "      <td>43.293380</td>\n",
       "      <td>0.817236</td>\n",
       "      <td>0.972544</td>\n",
       "      <td>0.080883</td>\n",
       "      <td>1.674223e+05</td>\n",
       "    </tr>\n",
       "    <tr>\n",
       "      <td>std</td>\n",
       "      <td>1.381587</td>\n",
       "      <td>140827.311974</td>\n",
       "      <td>12.574584</td>\n",
       "      <td>0.548138</td>\n",
       "      <td>1.420324</td>\n",
       "      <td>0.272661</td>\n",
       "      <td>1.029716e+05</td>\n",
       "    </tr>\n",
       "    <tr>\n",
       "      <td>min</td>\n",
       "      <td>-1.000000</td>\n",
       "      <td>-18388.949901</td>\n",
       "      <td>0.000000</td>\n",
       "      <td>0.000000</td>\n",
       "      <td>0.000000</td>\n",
       "      <td>0.000000</td>\n",
       "      <td>2.066726e+04</td>\n",
       "    </tr>\n",
       "    <tr>\n",
       "      <td>25%</td>\n",
       "      <td>0.000000</td>\n",
       "      <td>-2747.423625</td>\n",
       "      <td>33.000000</td>\n",
       "      <td>1.000000</td>\n",
       "      <td>0.000000</td>\n",
       "      <td>0.000000</td>\n",
       "      <td>1.030532e+05</td>\n",
       "    </tr>\n",
       "    <tr>\n",
       "      <td>50%</td>\n",
       "      <td>0.000000</td>\n",
       "      <td>-1203.369529</td>\n",
       "      <td>42.000000</td>\n",
       "      <td>1.000000</td>\n",
       "      <td>0.000000</td>\n",
       "      <td>0.000000</td>\n",
       "      <td>1.450179e+05</td>\n",
       "    </tr>\n",
       "    <tr>\n",
       "      <td>75%</td>\n",
       "      <td>1.000000</td>\n",
       "      <td>-291.095954</td>\n",
       "      <td>53.000000</td>\n",
       "      <td>1.000000</td>\n",
       "      <td>1.000000</td>\n",
       "      <td>0.000000</td>\n",
       "      <td>2.034351e+05</td>\n",
       "    </tr>\n",
       "    <tr>\n",
       "      <td>max</td>\n",
       "      <td>20.000000</td>\n",
       "      <td>401755.400475</td>\n",
       "      <td>75.000000</td>\n",
       "      <td>4.000000</td>\n",
       "      <td>4.000000</td>\n",
       "      <td>1.000000</td>\n",
       "      <td>2.265604e+06</td>\n",
       "    </tr>\n",
       "  </tbody>\n",
       "</table>\n",
       "</div>"
      ],
      "text/plain": [
       "           children  days_employed     dob_years  education_id  \\\n",
       "count  21525.000000   19351.000000  21525.000000  21525.000000   \n",
       "mean       0.538908   63046.497661     43.293380      0.817236   \n",
       "std        1.381587  140827.311974     12.574584      0.548138   \n",
       "min       -1.000000  -18388.949901      0.000000      0.000000   \n",
       "25%        0.000000   -2747.423625     33.000000      1.000000   \n",
       "50%        0.000000   -1203.369529     42.000000      1.000000   \n",
       "75%        1.000000    -291.095954     53.000000      1.000000   \n",
       "max       20.000000  401755.400475     75.000000      4.000000   \n",
       "\n",
       "       family_status_id          debt  total_income  \n",
       "count      21525.000000  21525.000000  1.935100e+04  \n",
       "mean           0.972544      0.080883  1.674223e+05  \n",
       "std            1.420324      0.272661  1.029716e+05  \n",
       "min            0.000000      0.000000  2.066726e+04  \n",
       "25%            0.000000      0.000000  1.030532e+05  \n",
       "50%            0.000000      0.000000  1.450179e+05  \n",
       "75%            1.000000      0.000000  2.034351e+05  \n",
       "max            4.000000      1.000000  2.265604e+06  "
      ]
     },
     "execution_count": 3,
     "metadata": {},
     "output_type": "execute_result"
    }
   ],
   "source": [
    "data.describe()"
   ]
  },
  {
   "cell_type": "markdown",
   "metadata": {
    "id": "-kEp45jzVOka"
   },
   "source": [
    "**Вывод**"
   ]
  },
  {
   "cell_type": "markdown",
   "metadata": {
    "id": "k0exzjrfVOkb"
   },
   "source": [
    "При изучении датасета были замечены проблемы:\n",
    "- в столбцах days_employed и total_income присутствуют отрицательные вещественные числа, а так же NaN-значения.\n",
    "- в столбце children присутствует отрицательное значение, а так же 76 человек имеют по 20 детей, что выбивается из остального списка.\n",
    "- dob_years имеет нулевые значения\n",
    "- строки в столбцеах education и family_status отличаются регистром\n",
    "- цели кредита в столбце purpose написаны вразнобой"
   ]
  },
  {
   "cell_type": "markdown",
   "metadata": {
    "id": "kzJop9x2VOkf"
   },
   "source": [
    "## Шаг 2. Предобработка данных"
   ]
  },
  {
   "cell_type": "markdown",
   "metadata": {
    "id": "0HOI8PfXVOkg"
   },
   "source": [
    "### Обработка пропусков"
   ]
  },
  {
   "cell_type": "code",
   "execution_count": null,
   "metadata": {
    "id": "ZTNsuch0VOkh",
    "outputId": "2827f84d-bbb0-4aa3-9ac4-d044964eca7b"
   },
   "outputs": [
    {
     "data": {
      "text/html": [
       "<div>\n",
       "<style scoped>\n",
       "    .dataframe tbody tr th:only-of-type {\n",
       "        vertical-align: middle;\n",
       "    }\n",
       "\n",
       "    .dataframe tbody tr th {\n",
       "        vertical-align: top;\n",
       "    }\n",
       "\n",
       "    .dataframe thead th {\n",
       "        text-align: right;\n",
       "    }\n",
       "</style>\n",
       "<table border=\"1\" class=\"dataframe\">\n",
       "  <thead>\n",
       "    <tr style=\"text-align: right;\">\n",
       "      <th></th>\n",
       "      <th>children</th>\n",
       "      <th>days_employed</th>\n",
       "      <th>dob_years</th>\n",
       "      <th>education_id</th>\n",
       "      <th>family_status_id</th>\n",
       "      <th>debt</th>\n",
       "      <th>total_income</th>\n",
       "    </tr>\n",
       "  </thead>\n",
       "  <tbody>\n",
       "    <tr>\n",
       "      <td>count</td>\n",
       "      <td>21525.000000</td>\n",
       "      <td>21525.000000</td>\n",
       "      <td>21525.000000</td>\n",
       "      <td>21525.000000</td>\n",
       "      <td>21525.000000</td>\n",
       "      <td>21525.000000</td>\n",
       "      <td>2.152500e+04</td>\n",
       "    </tr>\n",
       "    <tr>\n",
       "      <td>mean</td>\n",
       "      <td>0.538908</td>\n",
       "      <td>851.546834</td>\n",
       "      <td>43.492869</td>\n",
       "      <td>0.817236</td>\n",
       "      <td>0.972544</td>\n",
       "      <td>0.080883</td>\n",
       "      <td>1.652253e+05</td>\n",
       "    </tr>\n",
       "    <tr>\n",
       "      <td>std</td>\n",
       "      <td>1.381587</td>\n",
       "      <td>7007.842448</td>\n",
       "      <td>12.222265</td>\n",
       "      <td>0.548138</td>\n",
       "      <td>1.420324</td>\n",
       "      <td>0.272661</td>\n",
       "      <td>9.804367e+04</td>\n",
       "    </tr>\n",
       "    <tr>\n",
       "      <td>min</td>\n",
       "      <td>-1.000000</td>\n",
       "      <td>-18388.949901</td>\n",
       "      <td>19.000000</td>\n",
       "      <td>0.000000</td>\n",
       "      <td>0.000000</td>\n",
       "      <td>0.000000</td>\n",
       "      <td>2.066726e+04</td>\n",
       "    </tr>\n",
       "    <tr>\n",
       "      <td>25%</td>\n",
       "      <td>0.000000</td>\n",
       "      <td>-2570.047544</td>\n",
       "      <td>34.000000</td>\n",
       "      <td>1.000000</td>\n",
       "      <td>0.000000</td>\n",
       "      <td>0.000000</td>\n",
       "      <td>1.077982e+05</td>\n",
       "    </tr>\n",
       "    <tr>\n",
       "      <td>50%</td>\n",
       "      <td>0.000000</td>\n",
       "      <td>-1355.683356</td>\n",
       "      <td>43.000000</td>\n",
       "      <td>1.000000</td>\n",
       "      <td>0.000000</td>\n",
       "      <td>0.000000</td>\n",
       "      <td>1.425944e+05</td>\n",
       "    </tr>\n",
       "    <tr>\n",
       "      <td>75%</td>\n",
       "      <td>1.000000</td>\n",
       "      <td>-316.240646</td>\n",
       "      <td>53.000000</td>\n",
       "      <td>1.000000</td>\n",
       "      <td>1.000000</td>\n",
       "      <td>0.000000</td>\n",
       "      <td>1.955499e+05</td>\n",
       "    </tr>\n",
       "    <tr>\n",
       "      <td>max</td>\n",
       "      <td>20.000000</td>\n",
       "      <td>16739.808353</td>\n",
       "      <td>75.000000</td>\n",
       "      <td>4.000000</td>\n",
       "      <td>4.000000</td>\n",
       "      <td>1.000000</td>\n",
       "      <td>2.265604e+06</td>\n",
       "    </tr>\n",
       "  </tbody>\n",
       "</table>\n",
       "</div>"
      ],
      "text/plain": [
       "           children  days_employed     dob_years  education_id  \\\n",
       "count  21525.000000   21525.000000  21525.000000  21525.000000   \n",
       "mean       0.538908     851.546834     43.492869      0.817236   \n",
       "std        1.381587    7007.842448     12.222265      0.548138   \n",
       "min       -1.000000  -18388.949901     19.000000      0.000000   \n",
       "25%        0.000000   -2570.047544     34.000000      1.000000   \n",
       "50%        0.000000   -1355.683356     43.000000      1.000000   \n",
       "75%        1.000000    -316.240646     53.000000      1.000000   \n",
       "max       20.000000   16739.808353     75.000000      4.000000   \n",
       "\n",
       "       family_status_id          debt  total_income  \n",
       "count      21525.000000  21525.000000  2.152500e+04  \n",
       "mean           0.972544      0.080883  1.652253e+05  \n",
       "std            1.420324      0.272661  9.804367e+04  \n",
       "min            0.000000      0.000000  2.066726e+04  \n",
       "25%            0.000000      0.000000  1.077982e+05  \n",
       "50%            0.000000      0.000000  1.425944e+05  \n",
       "75%            1.000000      0.000000  1.955499e+05  \n",
       "max            4.000000      1.000000  2.265604e+06  "
      ]
     },
     "execution_count": 4,
     "metadata": {},
     "output_type": "execute_result"
    }
   ],
   "source": [
    "#заполняем пропуски в столбце зарплат медианными значениями типов занятости\n",
    "med_salary = data.groupby('income_type')['total_income'].transform('median')\n",
    "data['total_income'] = data['total_income'].fillna(med_salary)\n",
    "#функция переводит часы в дни у соответствующих значений столбца с рабочими днями\n",
    "def hours_to_days(row):\n",
    "    if row > 320000:\n",
    "        return row / 24\n",
    "    return row\n",
    "data['days_employed'] = data['days_employed'].apply(hours_to_days)\n",
    "\n",
    "#заполняем пропуски в столбце рабочих дней медианными значениями типов занятости\n",
    "med_days = data.groupby('income_type')['days_employed'].transform('median')\n",
    "data['days_employed'] = data['days_employed'].fillna(med_days)\n",
    "\n",
    "#меняем неопределенное значение пола на самое распространенное в датасете\n",
    "data.replace('XNA', 'F', inplace = True)\n",
    "\n",
    "#заменяем нулевые значения возраста на медианные значения различных семейных статусов\n",
    "med_age = data.groupby('family_status')['dob_years'].transform('median')\n",
    "data['dob_years'].replace(0, med_age, inplace = True)\n",
    "\n",
    "data.describe()"
   ]
  },
  {
   "cell_type": "markdown",
   "metadata": {
    "id": "sOOQpVSaVOkk"
   },
   "source": [
    "**Вывод**"
   ]
  },
  {
   "cell_type": "markdown",
   "metadata": {
    "id": "KtP_NOhcVOkl"
   },
   "source": [
    "Нулевой доход у пенсионеров и студентов возможен в реальности, в остальных случаях люди либо предпочли не указывать доход, либо произошла ошибка при записи в датасет."
   ]
  },
  {
   "cell_type": "markdown",
   "metadata": {
    "id": "khYPBMwKVOko"
   },
   "source": [
    "### Замена типа данных"
   ]
  },
  {
   "cell_type": "code",
   "execution_count": null,
   "metadata": {
    "id": "IuOQMz2fVOko",
    "outputId": "e619359a-8a17-422a-bb9b-33498b8d59e0"
   },
   "outputs": [
    {
     "name": "stdout",
     "output_type": "stream",
     "text": [
      "<class 'pandas.core.frame.DataFrame'>\n",
      "RangeIndex: 21525 entries, 0 to 21524\n",
      "Data columns (total 12 columns):\n",
      "children            21525 non-null int64\n",
      "days_employed       21525 non-null int64\n",
      "dob_years           21525 non-null int64\n",
      "education           21525 non-null object\n",
      "education_id        21525 non-null int64\n",
      "family_status       21525 non-null object\n",
      "family_status_id    21525 non-null int64\n",
      "gender              21525 non-null object\n",
      "income_type         21525 non-null object\n",
      "debt                21525 non-null int64\n",
      "total_income        21525 non-null int64\n",
      "purpose             21525 non-null object\n",
      "dtypes: int64(7), object(5)\n",
      "memory usage: 2.0+ MB\n"
     ]
    }
   ],
   "source": [
    "#Меняем float на int и переводим отрицательные числа в положительные\n",
    "data['days_employed'] = data['days_employed'].astype('int').abs()\n",
    "data['total_income'] = data['total_income'].astype('int')\n",
    "data['children'] = data['children'].abs()\n",
    "#здесь же заодно обрабатываем выброс в 20 детей у нескольких людей\n",
    "data['children'].replace(20, 2, inplace = True)\n",
    "data.info()"
   ]
  },
  {
   "cell_type": "markdown",
   "metadata": {
    "id": "-vh2VH9qVOkp"
   },
   "source": [
    "**Вывод**"
   ]
  },
  {
   "cell_type": "markdown",
   "metadata": {
    "id": "NUMyvWxOVOkp"
   },
   "source": [
    "Проверка показала успешную замену типов данных"
   ]
  },
  {
   "cell_type": "markdown",
   "metadata": {
    "id": "d8bQzDL0VOkq"
   },
   "source": [
    "### Обработка дубликатов"
   ]
  },
  {
   "cell_type": "code",
   "execution_count": null,
   "metadata": {
    "id": "AlPFtbtXVOkr",
    "outputId": "a9b3588a-c1de-42fe-94d6-a2bdd0fe12a5"
   },
   "outputs": [
    {
     "data": {
      "text/plain": [
       "0"
      ]
     },
     "execution_count": 6,
     "metadata": {},
     "output_type": "execute_result"
    }
   ],
   "source": [
    "#Просматриваем количество дубликатов в датасете\n",
    "data.duplicated().sum()\n",
    "#Переводим строки в нижний регистр, в столбце education это избавит от дубликатов,\n",
    "#в столбце family_status приведет написание к одному стандарту\n",
    "data['education'] = data['education'].str.lower()\n",
    "data['family_status'] = data['family_status'].str.lower()\n",
    "#удаляем дубликаты\n",
    "data = data.drop_duplicates().reset_index(drop = True)\n",
    "#проверяем\n",
    "data.duplicated().sum()"
   ]
  },
  {
   "cell_type": "markdown",
   "metadata": {
    "id": "x_f_kCRiVOkr"
   },
   "source": [
    "**Вывод**"
   ]
  },
  {
   "cell_type": "markdown",
   "metadata": {
    "id": "b5n76dgkVOkv"
   },
   "source": [
    "Возможно, датасет составлялся из нескольких таблиц, в которых данные записывались по-разному. Это могло послужить причиной появления строк в разном регистре."
   ]
  },
  {
   "cell_type": "markdown",
   "metadata": {
    "id": "LtGnJXT7VOkx"
   },
   "source": [
    "### Лемматизация"
   ]
  },
  {
   "cell_type": "code",
   "execution_count": null,
   "metadata": {
    "id": "7JvflEwpVOky",
    "outputId": "8ca04545-cd7d-4e5c-b12d-55f830d026d9"
   },
   "outputs": [
    {
     "data": {
      "text/plain": [
       "недвижимость    6351\n",
       "жилье           4460\n",
       "автомобиль      4306\n",
       "образование     4013\n",
       "свадьба         2323\n",
       "Name: purpose, dtype: int64"
      ]
     },
     "execution_count": 7,
     "metadata": {},
     "output_type": "execute_result"
    }
   ],
   "source": [
    "# Создаем функицю, которая лемматизирует строки в полученном столбце и проверяет\n",
    "# совпадает ли слово с строке одному из слов в списке\n",
    "# если да, то данная строка заменяется на совпадающее слово\n",
    "# если ни одно слово не совпадает со списком, вылезет ошибка, которая заставит расширить список целей\n",
    "m = Mystem()\n",
    "\n",
    "def lemmas(row):\n",
    "    lemma = m.lemmatize(row)\n",
    "    purposes = [\"жилье\", \"недвижимость\", \"образование\", \"автомобиль\", \"свадьба\"]\n",
    "    for word in lemma:\n",
    "        if word in purposes:\n",
    "            return word\n",
    "    raise ValueError('Цель не из списка')\n",
    "# Проверяем цели\n",
    "data['purpose'] = data['purpose'].apply(lemmas)\n",
    "data['purpose'].value_counts()"
   ]
  },
  {
   "cell_type": "markdown",
   "metadata": {
    "id": "U_Y7YtqmVOkz"
   },
   "source": [
    "**Вывод**"
   ]
  },
  {
   "cell_type": "markdown",
   "metadata": {
    "id": "XX9OmLSqVOk0"
   },
   "source": [
    "Лемматизация показала, что 50 процентов клиентов берут кредит для операций с недвижимостью и жильем"
   ]
  },
  {
   "cell_type": "markdown",
   "metadata": {
    "id": "qHxvvuOEVOk0"
   },
   "source": [
    "### Категоризация данных"
   ]
  },
  {
   "cell_type": "markdown",
   "metadata": {
    "id": "GEtKHiEHVOk1"
   },
   "source": [
    "**Вывод**"
   ]
  },
  {
   "cell_type": "markdown",
   "metadata": {
    "id": "Z6iogXUlVOk1"
   },
   "source": [
    "Категоризацию я сделал в последующих шагах, там, где это требовалось для ответа на вопросы."
   ]
  },
  {
   "cell_type": "markdown",
   "metadata": {
    "id": "jpj3j_0qVOk2"
   },
   "source": [
    "## Шаг 3. Ответьте на вопросы"
   ]
  },
  {
   "cell_type": "markdown",
   "metadata": {
    "id": "UmgTwGffVOk3"
   },
   "source": [
    "- Есть ли зависимость между наличием детей и возвратом кредита в срок?"
   ]
  },
  {
   "cell_type": "code",
   "execution_count": null,
   "metadata": {
    "id": "X9mTHAG3VOk3",
    "outputId": "d8a40100-d729-40c8-99e7-8ee7d080a358"
   },
   "outputs": [
    {
     "data": {
      "text/plain": [
       "have_children\n",
       "Малодетная семья     0.092654\n",
       "Многодетная семья    0.081579\n",
       "Нет детей            0.075444\n",
       "Name: debt, dtype: float64"
      ]
     },
     "execution_count": 8,
     "metadata": {},
     "output_type": "execute_result"
    }
   ],
   "source": [
    "#создаем словарь из данных по детям и долгам\n",
    "children_data = data[['children', 'debt']].copy()\n",
    "#создаем функцию, которая опеределяет есть ли дети у человека или нет\n",
    "def have_children(row):\n",
    "    if row == 0:\n",
    "        return 'Нет детей'\n",
    "    if 1 <= row <= 2:\n",
    "        return 'Малодетная семья'\n",
    "    if row >= 3:\n",
    "        return 'Многодетная семья'\n",
    "#создаем новый столбец для категоризации людей по наличию детей с применением новой функции\n",
    "children_data['have_children'] = children_data['children'].apply(have_children)\n",
    "#вычисляем долю должников с детьми и без из общего количества людей с детьми и без\n",
    "children_data.groupby('have_children')['debt'].sum() / children_data.groupby('have_children')['debt'].count()"
   ]
  },
  {
   "cell_type": "markdown",
   "metadata": {
    "id": "JxsNxhxfVOk4"
   },
   "source": [
    "**Вывод**"
   ]
  },
  {
   "cell_type": "markdown",
   "metadata": {
    "id": "XujUyZmDVOk4"
   },
   "source": [
    "Люди, в семье которых от 1 до 2 детей, чаще остальных задерживают выплаты"
   ]
  },
  {
   "cell_type": "markdown",
   "metadata": {
    "id": "rIcayHWgVOk6"
   },
   "source": [
    "- Есть ли зависимость между семейным положением и возвратом кредита в срок?"
   ]
  },
  {
   "cell_type": "code",
   "execution_count": null,
   "metadata": {
    "id": "vVK3t4bFVOk6",
    "outputId": "af793f14-4d70-44af-f92c-26c0db7a30ab"
   },
   "outputs": [
    {
     "data": {
      "text/plain": [
       "family_status\n",
       "в разводе                0.071130\n",
       "вдовец / вдова           0.065693\n",
       "гражданский брак         0.093494\n",
       "женат / замужем          0.075452\n",
       "не женат / не замужем    0.097509\n",
       "Name: debt, dtype: float64"
      ]
     },
     "execution_count": 9,
     "metadata": {},
     "output_type": "execute_result"
    }
   ],
   "source": [
    "#вычисляем  долю должников из общего количества людей с группировкой по семейному статусу\n",
    "data.groupby('family_status')['debt'].sum() / data.groupby('family_status')['debt'].count()"
   ]
  },
  {
   "cell_type": "markdown",
   "metadata": {
    "id": "eVYDtwhTVOk7"
   },
   "source": [
    "**Вывод**"
   ]
  },
  {
   "cell_type": "markdown",
   "metadata": {
    "id": "5v8IAENiVOk8"
   },
   "source": [
    "Холостяки и люди в гражданском браке чаще всего задержвают выплаты по кредитам"
   ]
  },
  {
   "cell_type": "markdown",
   "metadata": {
    "id": "vFFBv9a5VOk9"
   },
   "source": [
    "- Есть ли зависимость между уровнем дохода и возвратом кредита в срок?"
   ]
  },
  {
   "cell_type": "code",
   "execution_count": null,
   "metadata": {
    "id": "MvErp0O9VOk9",
    "outputId": "9b41f4e6-cc34-486d-bba3-138b771175f7"
   },
   "outputs": [
    {
     "data": {
      "text/plain": [
       "income_labels\n",
       "низкий           0.079605\n",
       "средний          0.088171\n",
       "выше среднего    0.085366\n",
       "высокий          0.071415\n",
       "Name: debt, dtype: float64"
      ]
     },
     "execution_count": 10,
     "metadata": {},
     "output_type": "execute_result"
    }
   ],
   "source": [
    "#создаем словарь с данными о доходах и долгах\n",
    "income_data = data[['total_income', 'debt']].copy()\n",
    "#создаем новый столбец, где делим доходы клиентов на 4 квартиля и присваиваем каждому квартилю название\n",
    "income_data['income_labels'] = pd.qcut(income_data['total_income'], 4, labels=['низкий', 'средний', 'выше среднего', 'высокий'])\n",
    "#вычисляем долю должников\n",
    "income_data.groupby('income_labels')['debt'].sum() / income_data.groupby('income_labels')['debt'].count()"
   ]
  },
  {
   "cell_type": "markdown",
   "metadata": {
    "id": "Lrh_dW_iVOk_"
   },
   "source": [
    "**Вывод**"
   ]
  },
  {
   "cell_type": "markdown",
   "metadata": {
    "id": "3d0r-vtCVOk_"
   },
   "source": [
    "Люди со средним доходом чаще всего задерживают выплаты"
   ]
  },
  {
   "cell_type": "markdown",
   "metadata": {
    "id": "UoGWaASgVOlB"
   },
   "source": [
    "- Как разные цели кредита влияют на его возврат в срок?"
   ]
  },
  {
   "cell_type": "code",
   "execution_count": null,
   "metadata": {
    "id": "ekun14s7VOlB",
    "outputId": "7eccce04-9878-4822-fd10-6e9ff7b95703"
   },
   "outputs": [
    {
     "data": {
      "text/plain": [
       "purpose\n",
       "автомобиль      0.093590\n",
       "жилье           0.069058\n",
       "недвижимость    0.074634\n",
       "образование     0.092200\n",
       "свадьба         0.080069\n",
       "Name: debt, dtype: float64"
      ]
     },
     "execution_count": 12,
     "metadata": {},
     "output_type": "execute_result"
    }
   ],
   "source": [
    "#вычисляем  долю должников из общего количества людей с группировкой по целям кредита\n",
    "data.groupby('purpose')['debt'].sum() / data.groupby('purpose')['debt'].count()"
   ]
  },
  {
   "cell_type": "markdown",
   "metadata": {
    "id": "hHwlL7RFVOlC"
   },
   "source": [
    "**Вывод**"
   ]
  },
  {
   "cell_type": "markdown",
   "metadata": {
    "id": "AiuBJjOWVOlD"
   },
   "source": [
    "Люди, берущие кредит на авто и образование, чаще других задержвают выплаты по кредитам"
   ]
  },
  {
   "cell_type": "markdown",
   "metadata": {
    "id": "Gzo8SklnVOlE"
   },
   "source": [
    "## Шаг 4. Общий вывод"
   ]
  },
  {
   "cell_type": "markdown",
   "metadata": {
    "id": "-8Q6ngy9VOlE"
   },
   "source": [
    "Отвечая на отдельные вопросы, делать какие-то определенные выводы о вероятности возврата кредита в срок нельзя. Все эти факторы должны рассматриваться вместе, потому что, как выяснилось, даже люди с огромным доходом часто задерживают выплаты, в то время, как люди с детьми - нет, хотя ребенок является огромной финансовой нагрузкой."
   ]
  }
 ],
 "metadata": {
  "colab": {
   "name": "Исследование надёжности заёмщиков(Предобработка данных).ipynb",
   "provenance": []
  },
  "kernelspec": {
   "display_name": "Python 3",
   "language": "python",
   "name": "python3"
  },
  "language_info": {
   "codemirror_mode": {
    "name": "ipython",
    "version": 3
   },
   "file_extension": ".py",
   "mimetype": "text/x-python",
   "name": "python",
   "nbconvert_exporter": "python",
   "pygments_lexer": "ipython3",
   "version": "3.8.8"
  },
  "toc": {
   "base_numbering": 1,
   "nav_menu": {},
   "number_sections": true,
   "sideBar": true,
   "skip_h1_title": true,
   "title_cell": "Table of Contents",
   "title_sidebar": "Contents",
   "toc_cell": false,
   "toc_position": {},
   "toc_section_display": true,
   "toc_window_display": false
  }
 },
 "nbformat": 4,
 "nbformat_minor": 1
}
