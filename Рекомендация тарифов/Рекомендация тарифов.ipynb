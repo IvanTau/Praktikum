{
 "cells": [
  {
   "cell_type": "markdown",
   "metadata": {},
   "source": [
    "# Рекомендация тарифов"
   ]
  },
  {
   "cell_type": "markdown",
   "metadata": {},
   "source": [
    "В вашем распоряжении данные о поведении клиентов, которые уже перешли на эти тарифы (из проекта курса «Статистический анализ данных»). Нужно построить модель для задачи классификации, которая выберет подходящий тариф. Предобработка данных не понадобится — вы её уже сделали.\n",
    "\n",
    "Постройте модель с максимально большим значением *accuracy*. Чтобы сдать проект успешно, нужно довести долю правильных ответов по крайней мере до 0.75. Проверьте *accuracy* на тестовой выборке самостоятельно."
   ]
  },
  {
   "cell_type": "markdown",
   "metadata": {},
   "source": [
    "## Откройте и изучите файл"
   ]
  },
  {
   "cell_type": "code",
   "execution_count": 1,
   "metadata": {},
   "outputs": [],
   "source": [
    "import pandas as pd\n",
    "import seaborn as sns\n",
    "import matplotlib.pyplot as plt\n",
    "\n",
    "import sklearn\n",
    "from sklearn.tree import DecisionTreeClassifier\n",
    "from sklearn.ensemble import RandomForestClassifier\n",
    "from sklearn.linear_model import LogisticRegression\n",
    "from sklearn.dummy import DummyClassifier\n",
    "\n",
    "from sklearn.model_selection import train_test_split\n",
    "from sklearn.metrics import accuracy_score\n",
    "from sklearn.model_selection import GridSearchCV\n",
    "from sklearn.model_selection import StratifiedKFold\n",
    "\n",
    "data = pd.read_csv('https://code.s3.yandex.net/datasets/users_behavior.csv')"
   ]
  },
  {
   "cell_type": "code",
   "execution_count": 2,
   "metadata": {},
   "outputs": [
    {
     "name": "stdout",
     "output_type": "stream",
     "text": [
      "Выведем первые 5 строк датасета:\n"
     ]
    },
    {
     "data": {
      "text/html": [
       "<div>\n",
       "<style scoped>\n",
       "    .dataframe tbody tr th:only-of-type {\n",
       "        vertical-align: middle;\n",
       "    }\n",
       "\n",
       "    .dataframe tbody tr th {\n",
       "        vertical-align: top;\n",
       "    }\n",
       "\n",
       "    .dataframe thead th {\n",
       "        text-align: right;\n",
       "    }\n",
       "</style>\n",
       "<table border=\"1\" class=\"dataframe\">\n",
       "  <thead>\n",
       "    <tr style=\"text-align: right;\">\n",
       "      <th></th>\n",
       "      <th>calls</th>\n",
       "      <th>minutes</th>\n",
       "      <th>messages</th>\n",
       "      <th>mb_used</th>\n",
       "      <th>is_ultra</th>\n",
       "    </tr>\n",
       "  </thead>\n",
       "  <tbody>\n",
       "    <tr>\n",
       "      <td>0</td>\n",
       "      <td>40.0</td>\n",
       "      <td>311.90</td>\n",
       "      <td>83.0</td>\n",
       "      <td>19915.42</td>\n",
       "      <td>0</td>\n",
       "    </tr>\n",
       "    <tr>\n",
       "      <td>1</td>\n",
       "      <td>85.0</td>\n",
       "      <td>516.75</td>\n",
       "      <td>56.0</td>\n",
       "      <td>22696.96</td>\n",
       "      <td>0</td>\n",
       "    </tr>\n",
       "    <tr>\n",
       "      <td>2</td>\n",
       "      <td>77.0</td>\n",
       "      <td>467.66</td>\n",
       "      <td>86.0</td>\n",
       "      <td>21060.45</td>\n",
       "      <td>0</td>\n",
       "    </tr>\n",
       "    <tr>\n",
       "      <td>3</td>\n",
       "      <td>106.0</td>\n",
       "      <td>745.53</td>\n",
       "      <td>81.0</td>\n",
       "      <td>8437.39</td>\n",
       "      <td>1</td>\n",
       "    </tr>\n",
       "    <tr>\n",
       "      <td>4</td>\n",
       "      <td>66.0</td>\n",
       "      <td>418.74</td>\n",
       "      <td>1.0</td>\n",
       "      <td>14502.75</td>\n",
       "      <td>0</td>\n",
       "    </tr>\n",
       "  </tbody>\n",
       "</table>\n",
       "</div>"
      ],
      "text/plain": [
       "   calls  minutes  messages   mb_used  is_ultra\n",
       "0   40.0   311.90      83.0  19915.42         0\n",
       "1   85.0   516.75      56.0  22696.96         0\n",
       "2   77.0   467.66      86.0  21060.45         0\n",
       "3  106.0   745.53      81.0   8437.39         1\n",
       "4   66.0   418.74       1.0  14502.75         0"
      ]
     },
     "metadata": {},
     "output_type": "display_data"
    },
    {
     "name": "stdout",
     "output_type": "stream",
     "text": [
      "\n",
      "Посмотрим на описательные статистики:\n"
     ]
    },
    {
     "data": {
      "text/html": [
       "<div>\n",
       "<style scoped>\n",
       "    .dataframe tbody tr th:only-of-type {\n",
       "        vertical-align: middle;\n",
       "    }\n",
       "\n",
       "    .dataframe tbody tr th {\n",
       "        vertical-align: top;\n",
       "    }\n",
       "\n",
       "    .dataframe thead th {\n",
       "        text-align: right;\n",
       "    }\n",
       "</style>\n",
       "<table border=\"1\" class=\"dataframe\">\n",
       "  <thead>\n",
       "    <tr style=\"text-align: right;\">\n",
       "      <th></th>\n",
       "      <th>calls</th>\n",
       "      <th>minutes</th>\n",
       "      <th>messages</th>\n",
       "      <th>mb_used</th>\n",
       "      <th>is_ultra</th>\n",
       "    </tr>\n",
       "  </thead>\n",
       "  <tbody>\n",
       "    <tr>\n",
       "      <td>count</td>\n",
       "      <td>3214.000000</td>\n",
       "      <td>3214.000000</td>\n",
       "      <td>3214.000000</td>\n",
       "      <td>3214.000000</td>\n",
       "      <td>3214.000000</td>\n",
       "    </tr>\n",
       "    <tr>\n",
       "      <td>mean</td>\n",
       "      <td>63.038892</td>\n",
       "      <td>438.208787</td>\n",
       "      <td>38.281269</td>\n",
       "      <td>17207.673836</td>\n",
       "      <td>0.306472</td>\n",
       "    </tr>\n",
       "    <tr>\n",
       "      <td>std</td>\n",
       "      <td>33.236368</td>\n",
       "      <td>234.569872</td>\n",
       "      <td>36.148326</td>\n",
       "      <td>7570.968246</td>\n",
       "      <td>0.461100</td>\n",
       "    </tr>\n",
       "    <tr>\n",
       "      <td>min</td>\n",
       "      <td>0.000000</td>\n",
       "      <td>0.000000</td>\n",
       "      <td>0.000000</td>\n",
       "      <td>0.000000</td>\n",
       "      <td>0.000000</td>\n",
       "    </tr>\n",
       "    <tr>\n",
       "      <td>25%</td>\n",
       "      <td>40.000000</td>\n",
       "      <td>274.575000</td>\n",
       "      <td>9.000000</td>\n",
       "      <td>12491.902500</td>\n",
       "      <td>0.000000</td>\n",
       "    </tr>\n",
       "    <tr>\n",
       "      <td>50%</td>\n",
       "      <td>62.000000</td>\n",
       "      <td>430.600000</td>\n",
       "      <td>30.000000</td>\n",
       "      <td>16943.235000</td>\n",
       "      <td>0.000000</td>\n",
       "    </tr>\n",
       "    <tr>\n",
       "      <td>75%</td>\n",
       "      <td>82.000000</td>\n",
       "      <td>571.927500</td>\n",
       "      <td>57.000000</td>\n",
       "      <td>21424.700000</td>\n",
       "      <td>1.000000</td>\n",
       "    </tr>\n",
       "    <tr>\n",
       "      <td>max</td>\n",
       "      <td>244.000000</td>\n",
       "      <td>1632.060000</td>\n",
       "      <td>224.000000</td>\n",
       "      <td>49745.730000</td>\n",
       "      <td>1.000000</td>\n",
       "    </tr>\n",
       "  </tbody>\n",
       "</table>\n",
       "</div>"
      ],
      "text/plain": [
       "             calls      minutes     messages       mb_used     is_ultra\n",
       "count  3214.000000  3214.000000  3214.000000   3214.000000  3214.000000\n",
       "mean     63.038892   438.208787    38.281269  17207.673836     0.306472\n",
       "std      33.236368   234.569872    36.148326   7570.968246     0.461100\n",
       "min       0.000000     0.000000     0.000000      0.000000     0.000000\n",
       "25%      40.000000   274.575000     9.000000  12491.902500     0.000000\n",
       "50%      62.000000   430.600000    30.000000  16943.235000     0.000000\n",
       "75%      82.000000   571.927500    57.000000  21424.700000     1.000000\n",
       "max     244.000000  1632.060000   224.000000  49745.730000     1.000000"
      ]
     },
     "metadata": {},
     "output_type": "display_data"
    },
    {
     "name": "stdout",
     "output_type": "stream",
     "text": [
      "\n",
      "Проверим типы данных и наличие NaN-значений:\n",
      "<class 'pandas.core.frame.DataFrame'>\n",
      "RangeIndex: 3214 entries, 0 to 3213\n",
      "Data columns (total 5 columns):\n",
      "calls       3214 non-null float64\n",
      "minutes     3214 non-null float64\n",
      "messages    3214 non-null float64\n",
      "mb_used     3214 non-null float64\n",
      "is_ultra    3214 non-null int64\n",
      "dtypes: float64(4), int64(1)\n",
      "memory usage: 125.7 KB\n"
     ]
    },
    {
     "data": {
      "text/plain": [
       "None"
      ]
     },
     "metadata": {},
     "output_type": "display_data"
    },
    {
     "name": "stdout",
     "output_type": "stream",
     "text": [
      "Количество дубликатов в датасете: 0\n",
      "\n",
      "Количество пользователей на каждом тарифе:\n",
      "0    2229\n",
      "1     985\n",
      "Name: is_ultra, dtype: int64\n"
     ]
    }
   ],
   "source": [
    "print('Выведем первые 5 строк датасета:')\n",
    "display(data.head())\n",
    "\n",
    "print('\\nПосмотрим на описательные статистики:')\n",
    "display(data.describe())\n",
    "\n",
    "print('\\nПроверим типы данных и наличие NaN-значений:')\n",
    "display(data.info())\n",
    "\n",
    "print('Количество дубликатов в датасете:', data.duplicated().sum())\n",
    "\n",
    "print('\\nКоличество пользователей на каждом тарифе:')\n",
    "print(data.is_ultra.value_counts())"
   ]
  },
  {
   "cell_type": "markdown",
   "metadata": {},
   "source": [
    "### Проверим корреляцию признаков"
   ]
  },
  {
   "cell_type": "code",
   "execution_count": 3,
   "metadata": {},
   "outputs": [
    {
     "data": {
      "image/png": "[encoded data removed]",
      "text/plain": [
       "<Figure size 432x288 with 2 Axes>"
      ]
     },
     "metadata": {
      "needs_background": "light"
     },
     "output_type": "display_data"
    }
   ],
   "source": [
    "sns.heatmap(data.corr(), annot=True)\n",
    "plt.title('График корреляции между признаками')\n",
    "plt.show()"
   ]
  },
  {
   "cell_type": "markdown",
   "metadata": {},
   "source": [
    "**Вывод:** В датасете действительно наблюдается корреляция между звонками и минутами. Ниже попробуем избавиться от столбца со звонками и посмотрим что это даст в модели. По-сути, столбец с количеством звонков вообще не несет какой-либо ценности в данном проекте, так что можем избавиться от него в любом случае."
   ]
  },
  {
   "cell_type": "code",
   "execution_count": 4,
   "metadata": {
    "scrolled": false
   },
   "outputs": [],
   "source": [
    "data = data.drop(columns='calls')"
   ]
  },
  {
   "cell_type": "markdown",
   "metadata": {},
   "source": [
    "В остальном данные представляются мне вполне годными для работы."
   ]
  },
  {
   "cell_type": "markdown",
   "metadata": {},
   "source": [
    "## Разбейте данные на выборки"
   ]
  },
  {
   "cell_type": "code",
   "execution_count": 5,
   "metadata": {},
   "outputs": [
    {
     "name": "stdout",
     "output_type": "stream",
     "text": [
      "Размер обучающей выборки: (1928, 3) (1928,)\n",
      "Размер валидационной выборки: (643, 3) (643,)\n",
      "Размер тестовой выборки: (643, 3) (643,)\n"
     ]
    }
   ],
   "source": [
    "# Разделим данные на выборки в соотношении 60, 20, 20\n",
    "data_train, data_temp = train_test_split(data, train_size=0.6, random_state=12345, stratify=data.is_ultra)\n",
    "data_valid, data_test = train_test_split(data_temp, train_size=0.5, random_state=12345, stratify=data_temp.is_ultra)\n",
    "\n",
    "# Выделим признаки и цели\n",
    "features_train = data_train.drop(columns='is_ultra')\n",
    "features_valid = data_valid.drop(columns='is_ultra')\n",
    "features_test = data_test.drop(columns='is_ultra')\n",
    "target_train = data_train.is_ultra\n",
    "target_valid = data_valid.is_ultra\n",
    "target_test = data_test.is_ultra\n",
    "\n",
    "print('Размер обучающей выборки:', features_train.shape, target_train.shape)\n",
    "print('Размер валидационной выборки:', features_valid.shape, target_valid.shape)\n",
    "print('Размер тестовой выборки:', features_test.shape, target_test.shape)"
   ]
  },
  {
   "cell_type": "markdown",
   "metadata": {},
   "source": [
    "## Исследуйте модели\n",
    "\n",
    "Проверять будем три модели: Дерево решений, Случайный лес и Логистическую регрессию"
   ]
  },
  {
   "cell_type": "code",
   "execution_count": 6,
   "metadata": {},
   "outputs": [],
   "source": [
    "models = [DecisionTreeClassifier, RandomForestClassifier, LogisticRegression]\n",
    "best_model = None\n",
    "best_result = 0\n",
    "\n",
    "# Проверим качество моделей в цикле\n",
    "for model in models:\n",
    "    if model == DecisionTreeClassifier:\n",
    "        for depth in range(1, 11):\n",
    "            model = DecisionTreeClassifier(max_depth=depth, random_state=12345) # Дерево решений\n",
    "            model.fit(features_train, target_train)\n",
    "            result = model.score(features_valid, target_valid)\n",
    "            \n",
    "            if result > best_result:\n",
    "                best_model = model\n",
    "                best_result = result\n",
    "            \n",
    "    elif model == RandomForestClassifier:\n",
    "        for depth in range(1, 11):\n",
    "            for estimators in range(10, 30,):\n",
    "                model = RandomForestClassifier(random_state=12345, n_estimators=estimators, max_depth=depth) # Случайный лес\n",
    "                model.fit(features_train, target_train)\n",
    "                result = model.score(features_valid, target_valid)\n",
    "            \n",
    "                if result > best_result:\n",
    "                    best_model = model\n",
    "                    best_result = result\n",
    "                \n",
    "    else:\n",
    "        model = LogisticRegression(random_state=12345, solver='lbfgs') # Логистическая регрессия\n",
    "        model.fit(features_train, target_train) \n",
    "        result = model.score(features_valid, target_valid)\n",
    "        \n",
    "        if result > best_result:\n",
    "                best_model = model\n",
    "                best_result = result"
   ]
  },
  {
   "cell_type": "code",
   "execution_count": 7,
   "metadata": {
    "scrolled": true
   },
   "outputs": [
    {
     "name": "stdout",
     "output_type": "stream",
     "text": [
      "Лучшая модель: RandomForestClassifier(bootstrap=True, class_weight=None, criterion='gini',\n",
      "                       max_depth=10, max_features='auto', max_leaf_nodes=None,\n",
      "                       min_impurity_decrease=0.0, min_impurity_split=None,\n",
      "                       min_samples_leaf=1, min_samples_split=2,\n",
      "                       min_weight_fraction_leaf=0.0, n_estimators=23,\n",
      "                       n_jobs=None, oob_score=False, random_state=12345,\n",
      "                       verbose=0, warm_start=False)\n",
      "Лучший результат 0.815\n"
     ]
    }
   ],
   "source": [
    "print('Лучшая модель:', best_model)\n",
    "print('Лучший результат', best_result.round(3))"
   ]
  },
  {
   "cell_type": "markdown",
   "metadata": {},
   "source": [
    "Как мы видим, лучшей моделью оказался **Случайный лес** в **21** дерево глубиной **10**"
   ]
  },
  {
   "cell_type": "markdown",
   "metadata": {},
   "source": [
    "## Проверьте модель на тестовой выборке"
   ]
  },
  {
   "cell_type": "code",
   "execution_count": 8,
   "metadata": {},
   "outputs": [
    {
     "data": {
      "text/plain": [
       "RandomForestClassifier(bootstrap=True, class_weight=None, criterion='gini',\n",
       "                       max_depth=10, max_features='auto', max_leaf_nodes=None,\n",
       "                       min_impurity_decrease=0.0, min_impurity_split=None,\n",
       "                       min_samples_leaf=1, min_samples_split=2,\n",
       "                       min_weight_fraction_leaf=0.0, n_estimators=23,\n",
       "                       n_jobs=None, oob_score=False, random_state=12345,\n",
       "                       verbose=0, warm_start=False)"
      ]
     },
     "execution_count": 8,
     "metadata": {},
     "output_type": "execute_result"
    }
   ],
   "source": [
    "# Добавим валидационную выборку в обучающую для улучшения качества обучения\n",
    "features_train = features_train.append(features_valid)\n",
    "target_train = target_train.append(target_valid)\n",
    "best_model.fit(features_train, target_train)"
   ]
  },
  {
   "cell_type": "code",
   "execution_count": 9,
   "metadata": {},
   "outputs": [
    {
     "name": "stdout",
     "output_type": "stream",
     "text": [
      "Точность модели на тестовой выборке: 0.838\n"
     ]
    }
   ],
   "source": [
    "predictions_test = best_model.predict(features_test)\n",
    "best_score = accuracy_score(target_test, predictions_test)\n",
    "print('Точность модели на тестовой выборке:', best_score.round(3))"
   ]
  },
  {
   "cell_type": "markdown",
   "metadata": {},
   "source": [
    "## (бонус) Проверьте модели на адекватность"
   ]
  },
  {
   "cell_type": "markdown",
   "metadata": {},
   "source": [
    "Для проверки модели на адекватность предположим, что мы создали дамми-модель, которая рекомендует тариф Смарт всем пользователям."
   ]
  },
  {
   "cell_type": "code",
   "execution_count": 10,
   "metadata": {},
   "outputs": [
    {
     "data": {
      "text/plain": [
       "0.6936236391912908"
      ]
     },
     "execution_count": 10,
     "metadata": {},
     "output_type": "execute_result"
    }
   ],
   "source": [
    "dummy = DummyClassifier(strategy='most_frequent', random_state=0).fit(features_train, target_train)\n",
    "dummy.score(features_test, target_test)"
   ]
  },
  {
   "cell_type": "markdown",
   "metadata": {},
   "source": [
    "Точность дамми-модели составила 69%, наша модель выдает 83.8% - тест на адекватность сдан!"
   ]
  },
  {
   "cell_type": "markdown",
   "metadata": {},
   "source": [
    "## Вывод\n",
    "\n",
    "Для системы рекомендаций тарифов была построена модель Случайного леса размером в 23 дерева, обладающая точностью в **83.8%**. \n",
    "\n",
    "Точность рекомендаций не очень высока, но вполне приемлема для начального этапа работы системы. С ростом объема данных точность модели будет расти"
   ]
  }
 ],
 "metadata": {
  "ExecuteTimeLog": [
   {
    "duration": 660,
    "start_time": "2021-07-16T17:42:43.730Z"
   },
   {
    "duration": 87,
    "start_time": "2021-07-16T17:42:46.792Z"
   },
   {
    "duration": 51,
    "start_time": "2021-07-16T17:42:56.481Z"
   },
   {
    "duration": 67,
    "start_time": "2021-07-16T17:43:13.111Z"
   },
   {
    "duration": 21,
    "start_time": "2021-07-16T17:43:52.312Z"
   },
   {
    "duration": 53,
    "start_time": "2021-07-16T17:43:54.922Z"
   },
   {
    "duration": 30,
    "start_time": "2021-07-16T17:43:55.657Z"
   },
   {
    "duration": 6739,
    "start_time": "2021-07-16T17:44:25.392Z"
   },
   {
    "duration": 6808,
    "start_time": "2021-07-16T17:44:34.443Z"
   },
   {
    "duration": 22,
    "start_time": "2021-07-16T17:44:49.522Z"
   },
   {
    "duration": 18,
    "start_time": "2021-07-16T17:45:42.552Z"
   },
   {
    "duration": 18,
    "start_time": "2021-07-16T17:45:50.789Z"
   },
   {
    "duration": 23,
    "start_time": "2021-07-16T17:46:05.159Z"
   },
   {
    "duration": 23,
    "start_time": "2021-07-16T17:46:47.070Z"
   },
   {
    "duration": 25,
    "start_time": "2021-07-16T17:46:55.554Z"
   },
   {
    "duration": 304,
    "start_time": "2021-07-16T17:47:02.532Z"
   },
   {
    "duration": 22,
    "start_time": "2021-07-16T17:47:14.716Z"
   },
   {
    "duration": 24,
    "start_time": "2021-07-16T17:48:01.770Z"
   },
   {
    "duration": 24,
    "start_time": "2021-07-16T17:48:09.365Z"
   },
   {
    "duration": 24,
    "start_time": "2021-07-16T17:48:19.724Z"
   },
   {
    "duration": 25,
    "start_time": "2021-07-16T17:48:34.175Z"
   },
   {
    "duration": 106,
    "start_time": "2021-07-16T17:48:44.104Z"
   },
   {
    "duration": 24,
    "start_time": "2021-07-16T17:48:50.616Z"
   },
   {
    "duration": 25,
    "start_time": "2021-07-16T17:48:56.908Z"
   },
   {
    "duration": 23,
    "start_time": "2021-07-16T17:49:02.100Z"
   },
   {
    "duration": 551,
    "start_time": "2021-07-16T17:52:18.281Z"
   },
   {
    "duration": 3,
    "start_time": "2021-07-16T18:11:52.218Z"
   },
   {
    "duration": 6,
    "start_time": "2021-07-16T18:11:56.800Z"
   },
   {
    "duration": 12,
    "start_time": "2021-07-16T18:12:02.786Z"
   },
   {
    "duration": 7,
    "start_time": "2021-07-16T18:18:19.438Z"
   },
   {
    "duration": 10,
    "start_time": "2021-07-16T18:19:42.841Z"
   },
   {
    "duration": 1140,
    "start_time": "2021-07-16T18:19:47.811Z"
   },
   {
    "duration": 32,
    "start_time": "2021-07-16T18:19:48.953Z"
   },
   {
    "duration": 9,
    "start_time": "2021-07-16T18:19:48.987Z"
   },
   {
    "duration": 9,
    "start_time": "2021-07-16T18:21:15.381Z"
   },
   {
    "duration": 1042,
    "start_time": "2021-07-16T18:24:16.076Z"
   },
   {
    "duration": 28,
    "start_time": "2021-07-16T18:24:17.120Z"
   },
   {
    "duration": 8,
    "start_time": "2021-07-16T18:24:17.150Z"
   },
   {
    "duration": 10,
    "start_time": "2021-07-16T18:24:38.301Z"
   },
   {
    "duration": 53,
    "start_time": "2021-07-16T18:26:09.392Z"
   },
   {
    "duration": 56,
    "start_time": "2021-07-16T18:28:26.006Z"
   },
   {
    "duration": 364,
    "start_time": "2021-07-16T18:38:29.674Z"
   },
   {
    "duration": 1132,
    "start_time": "2021-07-16T18:38:49.953Z"
   },
   {
    "duration": 30,
    "start_time": "2021-07-16T18:38:51.087Z"
   },
   {
    "duration": 10,
    "start_time": "2021-07-16T18:38:51.123Z"
   },
   {
    "duration": 353,
    "start_time": "2021-07-16T18:38:51.135Z"
   },
   {
    "duration": 194,
    "start_time": "2021-07-16T18:39:02.344Z"
   },
   {
    "duration": 192,
    "start_time": "2021-07-16T18:40:01.634Z"
   },
   {
    "duration": 196,
    "start_time": "2021-07-16T18:42:06.762Z"
   },
   {
    "duration": 212,
    "start_time": "2021-07-16T18:42:54.444Z"
   },
   {
    "duration": 734,
    "start_time": "2021-07-16T18:42:59.912Z"
   },
   {
    "duration": 675,
    "start_time": "2021-07-16T18:43:10.688Z"
   },
   {
    "duration": 3811,
    "start_time": "2021-07-16T18:43:20.769Z"
   },
   {
    "duration": 15009,
    "start_time": "2021-07-16T18:44:13.842Z"
   },
   {
    "duration": 59148,
    "start_time": "2021-07-16T18:44:43.633Z"
   },
   {
    "duration": 36827,
    "start_time": "2021-07-16T18:48:32.976Z"
   },
   {
    "duration": 74654,
    "start_time": "2021-07-16T18:49:46.095Z"
   },
   {
    "duration": 58408,
    "start_time": "2021-07-16T18:51:23.504Z"
   },
   {
    "duration": 58717,
    "start_time": "2021-07-16T18:53:47.626Z"
   },
   {
    "duration": 4,
    "start_time": "2021-07-16T18:54:46.345Z"
   },
   {
    "duration": 4,
    "start_time": "2021-07-16T18:56:11.850Z"
   },
   {
    "duration": 3,
    "start_time": "2021-07-16T18:56:18.055Z"
   },
   {
    "duration": 4,
    "start_time": "2021-07-16T18:56:21.226Z"
   },
   {
    "duration": 267,
    "start_time": "2021-07-16T19:01:41.819Z"
   },
   {
    "duration": 271,
    "start_time": "2021-07-16T19:01:50.858Z"
   },
   {
    "duration": 4,
    "start_time": "2021-07-16T19:01:58.944Z"
   },
   {
    "duration": 9,
    "start_time": "2021-07-16T19:04:51.494Z"
   },
   {
    "duration": 69647,
    "start_time": "2021-07-16T19:04:53.415Z"
   },
   {
    "duration": 4,
    "start_time": "2021-07-16T19:06:03.064Z"
   },
   {
    "duration": 7,
    "start_time": "2021-07-16T19:08:39.417Z"
   },
   {
    "duration": 138,
    "start_time": "2021-07-16T19:10:47.576Z"
   },
   {
    "duration": 25,
    "start_time": "2021-07-16T19:10:50.378Z"
   },
   {
    "duration": 10,
    "start_time": "2021-07-16T19:10:54.069Z"
   },
   {
    "duration": 48,
    "start_time": "2021-07-16T19:14:07.394Z"
   },
   {
    "duration": 51,
    "start_time": "2021-07-16T19:14:11.771Z"
   },
   {
    "duration": 6,
    "start_time": "2021-07-16T19:18:15.195Z"
   },
   {
    "duration": 9,
    "start_time": "2021-07-16T19:18:24.920Z"
   },
   {
    "duration": 15,
    "start_time": "2021-07-16T19:19:24.026Z"
   },
   {
    "duration": 10,
    "start_time": "2021-07-16T19:19:33.829Z"
   },
   {
    "duration": 10,
    "start_time": "2021-07-16T19:19:52.831Z"
   },
   {
    "duration": 10,
    "start_time": "2021-07-16T19:19:56.565Z"
   },
   {
    "duration": 131,
    "start_time": "2021-07-16T19:23:24.221Z"
   },
   {
    "duration": 107,
    "start_time": "2021-07-16T19:23:47.182Z"
   },
   {
    "duration": 54,
    "start_time": "2021-07-16T19:24:26.899Z"
   },
   {
    "duration": 4,
    "start_time": "2021-07-16T19:24:30.741Z"
   },
   {
    "duration": 663,
    "start_time": "2021-07-16T19:24:51.972Z"
   },
   {
    "duration": 5,
    "start_time": "2021-07-16T19:24:52.667Z"
   },
   {
    "duration": 80950,
    "start_time": "2021-07-16T19:25:14.086Z"
   },
   {
    "duration": 4,
    "start_time": "2021-07-16T19:26:35.041Z"
   },
   {
    "duration": 5,
    "start_time": "2021-07-16T19:26:59.616Z"
   },
   {
    "duration": 73,
    "start_time": "2021-07-16T19:27:09.499Z"
   },
   {
    "duration": 4,
    "start_time": "2021-07-16T19:27:11.476Z"
   },
   {
    "duration": 6,
    "start_time": "2021-07-16T19:27:20.162Z"
   },
   {
    "duration": 4640,
    "start_time": "2021-07-16T19:28:30.952Z"
   },
   {
    "duration": 4,
    "start_time": "2021-07-16T19:28:35.594Z"
   },
   {
    "duration": 10,
    "start_time": "2021-07-16T19:28:51.085Z"
   },
   {
    "duration": 6,
    "start_time": "2021-07-16T19:36:16.703Z"
   },
   {
    "duration": 10,
    "start_time": "2021-07-16T19:37:28.433Z"
   },
   {
    "duration": 4,
    "start_time": "2021-07-16T19:37:57.979Z"
   },
   {
    "duration": 4,
    "start_time": "2021-07-16T19:38:06.344Z"
   },
   {
    "duration": 9,
    "start_time": "2021-07-16T19:38:28.119Z"
   },
   {
    "duration": 9,
    "start_time": "2021-07-16T19:38:33.302Z"
   },
   {
    "duration": 276,
    "start_time": "2021-07-16T19:39:18.462Z"
   },
   {
    "duration": 305,
    "start_time": "2021-07-16T19:39:36.888Z"
   },
   {
    "duration": 265,
    "start_time": "2021-07-16T19:39:54.803Z"
   },
   {
    "duration": 11,
    "start_time": "2021-07-16T19:40:00.692Z"
   },
   {
    "duration": 275,
    "start_time": "2021-07-16T19:40:16.901Z"
   },
   {
    "duration": 281,
    "start_time": "2021-07-16T19:40:22.375Z"
   },
   {
    "duration": 4,
    "start_time": "2021-07-16T19:40:39.607Z"
   },
   {
    "duration": 12,
    "start_time": "2021-07-16T19:41:33.533Z"
   },
   {
    "duration": 5,
    "start_time": "2021-07-16T19:41:35.813Z"
   },
   {
    "duration": 100,
    "start_time": "2021-07-16T19:41:37.039Z"
   },
   {
    "duration": 4,
    "start_time": "2021-07-16T19:41:43.769Z"
   },
   {
    "duration": 3,
    "start_time": "2021-07-16T19:42:01.351Z"
   },
   {
    "duration": 3,
    "start_time": "2021-07-16T19:42:30.138Z"
   },
   {
    "duration": 4,
    "start_time": "2021-07-16T19:42:40.212Z"
   },
   {
    "duration": 4,
    "start_time": "2021-07-16T19:43:05.994Z"
   },
   {
    "duration": 4,
    "start_time": "2021-07-16T19:43:23.583Z"
   },
   {
    "duration": 3,
    "start_time": "2021-07-16T19:45:08.420Z"
   },
   {
    "duration": 9,
    "start_time": "2021-07-16T19:47:36.008Z"
   },
   {
    "duration": 9,
    "start_time": "2021-07-16T19:47:54.776Z"
   },
   {
    "duration": 11,
    "start_time": "2021-07-16T19:48:37.059Z"
   },
   {
    "duration": 443053,
    "start_time": "2021-07-16T19:54:24.750Z"
   },
   {
    "duration": 3,
    "start_time": "2021-07-16T20:01:47.805Z"
   },
   {
    "duration": 29,
    "start_time": "2021-07-16T20:01:47.812Z"
   },
   {
    "duration": 30,
    "start_time": "2021-07-16T20:01:47.845Z"
   },
   {
    "duration": 1189,
    "start_time": "2021-07-16T20:02:50.085Z"
   },
   {
    "duration": 39,
    "start_time": "2021-07-16T20:02:51.276Z"
   },
   {
    "duration": 11,
    "start_time": "2021-07-16T20:02:51.320Z"
   },
   {
    "duration": 4568,
    "start_time": "2021-07-16T20:02:51.333Z"
   },
   {
    "duration": 6,
    "start_time": "2021-07-16T20:02:55.903Z"
   },
   {
    "duration": 10,
    "start_time": "2021-07-16T20:02:55.910Z"
   },
   {
    "duration": 23,
    "start_time": "2021-07-16T20:02:55.922Z"
   },
   {
    "duration": 6,
    "start_time": "2021-07-16T20:02:55.947Z"
   },
   {
    "duration": 1562,
    "start_time": "2021-07-16T21:28:33.967Z"
   },
   {
    "duration": 59,
    "start_time": "2021-07-16T21:28:35.531Z"
   },
   {
    "duration": 16,
    "start_time": "2021-07-16T21:28:35.592Z"
   },
   {
    "duration": 7462,
    "start_time": "2021-07-16T21:28:35.610Z"
   },
   {
    "duration": 15,
    "start_time": "2021-07-16T21:28:43.074Z"
   },
   {
    "duration": 17,
    "start_time": "2021-07-16T21:28:43.091Z"
   },
   {
    "duration": 7,
    "start_time": "2021-07-16T21:28:43.111Z"
   },
   {
    "duration": 7,
    "start_time": "2021-07-16T21:28:43.121Z"
   },
   {
    "duration": 364,
    "start_time": "2021-07-19T17:47:36.238Z"
   },
   {
    "duration": 1464,
    "start_time": "2021-07-19T17:47:40.128Z"
   },
   {
    "duration": 67,
    "start_time": "2021-07-19T17:47:41.595Z"
   },
   {
    "duration": 53,
    "start_time": "2021-07-19T17:48:21.293Z"
   },
   {
    "duration": 56,
    "start_time": "2021-07-19T17:48:32.050Z"
   },
   {
    "duration": 53,
    "start_time": "2021-07-19T17:49:13.468Z"
   },
   {
    "duration": 51,
    "start_time": "2021-07-19T17:49:40.457Z"
   },
   {
    "duration": 57,
    "start_time": "2021-07-19T17:50:29.944Z"
   },
   {
    "duration": 56,
    "start_time": "2021-07-19T17:50:44.438Z"
   },
   {
    "duration": 396,
    "start_time": "2021-07-19T17:50:58.383Z"
   },
   {
    "duration": 56,
    "start_time": "2021-07-19T17:51:07.580Z"
   },
   {
    "duration": 55,
    "start_time": "2021-07-19T17:51:13.234Z"
   },
   {
    "duration": 59,
    "start_time": "2021-07-19T17:51:27.768Z"
   },
   {
    "duration": 59,
    "start_time": "2021-07-19T17:51:48.814Z"
   },
   {
    "duration": 54,
    "start_time": "2021-07-19T17:51:53.518Z"
   },
   {
    "duration": 53,
    "start_time": "2021-07-19T17:51:58.176Z"
   },
   {
    "duration": 54,
    "start_time": "2021-07-19T17:52:43.697Z"
   },
   {
    "duration": 53,
    "start_time": "2021-07-19T17:53:43.299Z"
   },
   {
    "duration": 54,
    "start_time": "2021-07-19T17:53:51.554Z"
   },
   {
    "duration": 53,
    "start_time": "2021-07-19T17:54:03.768Z"
   },
   {
    "duration": 49,
    "start_time": "2021-07-19T17:54:22.992Z"
   },
   {
    "duration": 62,
    "start_time": "2021-07-19T17:54:31.891Z"
   },
   {
    "duration": 56,
    "start_time": "2021-07-19T17:54:51.049Z"
   },
   {
    "duration": 15,
    "start_time": "2021-07-19T18:01:26.236Z"
   },
   {
    "duration": 263,
    "start_time": "2021-07-19T18:04:07.465Z"
   },
   {
    "duration": 470,
    "start_time": "2021-07-19T18:04:30.418Z"
   },
   {
    "duration": 464,
    "start_time": "2021-07-19T18:04:38.040Z"
   },
   {
    "duration": 498,
    "start_time": "2021-07-19T18:05:07.364Z"
   },
   {
    "duration": 279,
    "start_time": "2021-07-19T18:16:47.068Z"
   },
   {
    "duration": 10,
    "start_time": "2021-07-19T18:16:52.741Z"
   },
   {
    "duration": 8,
    "start_time": "2021-07-19T18:16:59.888Z"
   },
   {
    "duration": 8,
    "start_time": "2021-07-19T18:17:32.820Z"
   },
   {
    "duration": 87,
    "start_time": "2021-07-19T18:24:03.321Z"
   },
   {
    "duration": 1574,
    "start_time": "2021-07-19T18:24:24.757Z"
   },
   {
    "duration": 63,
    "start_time": "2021-07-19T18:24:26.334Z"
   },
   {
    "duration": 456,
    "start_time": "2021-07-19T18:24:26.401Z"
   },
   {
    "duration": 14,
    "start_time": "2021-07-19T18:24:26.860Z"
   },
   {
    "duration": 2160,
    "start_time": "2021-07-19T18:24:26.877Z"
   },
   {
    "duration": 7,
    "start_time": "2021-07-19T18:24:29.039Z"
   },
   {
    "duration": 23,
    "start_time": "2021-07-19T18:24:29.048Z"
   },
   {
    "duration": 26,
    "start_time": "2021-07-19T18:24:29.075Z"
   },
   {
    "duration": 5,
    "start_time": "2021-07-19T18:24:29.103Z"
   },
   {
    "duration": 9,
    "start_time": "2021-07-19T18:24:29.110Z"
   },
   {
    "duration": 10,
    "start_time": "2021-07-19T18:26:22.105Z"
   },
   {
    "duration": 9,
    "start_time": "2021-07-19T18:26:38.694Z"
   },
   {
    "duration": 429,
    "start_time": "2021-07-19T18:26:52.068Z"
   },
   {
    "duration": 9,
    "start_time": "2021-07-19T18:27:10.920Z"
   },
   {
    "duration": 93,
    "start_time": "2021-07-19T18:33:40.141Z"
   },
   {
    "duration": 99,
    "start_time": "2021-07-19T18:35:34.068Z"
   },
   {
    "duration": 276,
    "start_time": "2021-07-19T18:38:56.672Z"
   },
   {
    "duration": 17,
    "start_time": "2021-07-19T19:29:57.480Z"
   },
   {
    "duration": 18,
    "start_time": "2021-07-19T19:30:07.497Z"
   },
   {
    "duration": 25,
    "start_time": "2021-07-19T19:30:14.294Z"
   },
   {
    "duration": 27,
    "start_time": "2021-07-19T19:30:47.094Z"
   },
   {
    "duration": 301,
    "start_time": "2021-07-19T19:30:49.647Z"
   },
   {
    "duration": 19,
    "start_time": "2021-07-19T19:31:03.254Z"
   },
   {
    "duration": 19,
    "start_time": "2021-07-19T19:31:52.039Z"
   },
   {
    "duration": 20,
    "start_time": "2021-07-19T19:32:05.140Z"
   },
   {
    "duration": 20,
    "start_time": "2021-07-19T19:32:34.869Z"
   },
   {
    "duration": 112,
    "start_time": "2021-07-19T19:32:41.942Z"
   },
   {
    "duration": 22,
    "start_time": "2021-07-19T19:32:46.037Z"
   },
   {
    "duration": 18,
    "start_time": "2021-07-19T19:32:53.730Z"
   },
   {
    "duration": 20,
    "start_time": "2021-07-19T19:33:18.014Z"
   },
   {
    "duration": 27,
    "start_time": "2021-07-19T19:34:11.305Z"
   },
   {
    "duration": 39534,
    "start_time": "2021-07-19T19:37:16.994Z"
   },
   {
    "duration": 8,
    "start_time": "2021-07-19T19:38:02.032Z"
   },
   {
    "duration": 16,
    "start_time": "2021-07-19T19:44:29.946Z"
   },
   {
    "duration": 15,
    "start_time": "2021-07-19T19:44:35.463Z"
   },
   {
    "duration": 19,
    "start_time": "2021-07-19T19:45:11.979Z"
   },
   {
    "duration": 246,
    "start_time": "2021-07-19T19:47:34.788Z"
   },
   {
    "duration": 19,
    "start_time": "2021-07-19T19:47:41.712Z"
   },
   {
    "duration": 20,
    "start_time": "2021-07-19T19:47:49.191Z"
   },
   {
    "duration": 16,
    "start_time": "2021-07-19T19:47:51.749Z"
   },
   {
    "duration": 5,
    "start_time": "2021-07-19T19:48:39.667Z"
   },
   {
    "duration": 25,
    "start_time": "2021-07-19T19:48:44.607Z"
   },
   {
    "duration": 36212,
    "start_time": "2021-07-19T19:48:51.324Z"
   },
   {
    "duration": 6,
    "start_time": "2021-07-19T19:49:27.539Z"
   },
   {
    "duration": 114,
    "start_time": "2021-07-19T19:49:27.548Z"
   },
   {
    "duration": 16,
    "start_time": "2021-07-19T19:49:27.664Z"
   },
   {
    "duration": 108,
    "start_time": "2021-07-19T19:50:25.806Z"
   },
   {
    "duration": 22,
    "start_time": "2021-07-19T19:50:26.738Z"
   },
   {
    "duration": 122,
    "start_time": "2021-07-19T19:50:29.511Z"
   },
   {
    "duration": 22,
    "start_time": "2021-07-19T19:50:29.936Z"
   },
   {
    "duration": 123,
    "start_time": "2021-07-19T19:50:32.463Z"
   },
   {
    "duration": 20,
    "start_time": "2021-07-19T19:50:32.589Z"
   },
   {
    "duration": 13,
    "start_time": "2021-07-19T19:50:35.665Z"
   },
   {
    "duration": 16,
    "start_time": "2021-07-19T19:50:37.532Z"
   },
   {
    "duration": 16,
    "start_time": "2021-07-19T19:50:38.308Z"
   },
   {
    "duration": 148,
    "start_time": "2021-07-19T19:50:39.212Z"
   },
   {
    "duration": 15,
    "start_time": "2021-07-19T19:50:39.396Z"
   },
   {
    "duration": 18,
    "start_time": "2021-07-19T19:50:45.705Z"
   },
   {
    "duration": 155,
    "start_time": "2021-07-19T19:51:37.567Z"
   },
   {
    "duration": 13,
    "start_time": "2021-07-19T19:51:37.866Z"
   },
   {
    "duration": 9,
    "start_time": "2021-07-19T19:54:22.086Z"
   },
   {
    "duration": 9,
    "start_time": "2021-07-19T19:54:23.594Z"
   },
   {
    "duration": 10,
    "start_time": "2021-07-19T19:54:41.212Z"
   },
   {
    "duration": 5,
    "start_time": "2021-07-19T20:03:52.030Z"
   },
   {
    "duration": 302,
    "start_time": "2021-07-19T20:10:55.210Z"
   },
   {
    "duration": 294,
    "start_time": "2021-07-19T20:12:20.225Z"
   },
   {
    "duration": 280,
    "start_time": "2021-07-19T20:14:40.469Z"
   },
   {
    "duration": 7,
    "start_time": "2021-07-19T20:14:49.657Z"
   },
   {
    "duration": 1802,
    "start_time": "2021-07-20T18:23:25.505Z"
   },
   {
    "duration": 81,
    "start_time": "2021-07-20T18:23:27.310Z"
   },
   {
    "duration": 546,
    "start_time": "2021-07-20T18:23:27.394Z"
   },
   {
    "duration": 19,
    "start_time": "2021-07-20T18:23:27.943Z"
   },
   {
    "duration": 36,
    "start_time": "2021-07-20T18:23:27.966Z"
   },
   {
    "duration": 35936,
    "start_time": "2021-07-20T18:23:28.005Z"
   },
   {
    "duration": 14,
    "start_time": "2021-07-20T18:24:03.944Z"
   },
   {
    "duration": 124,
    "start_time": "2021-07-20T18:24:03.963Z"
   },
   {
    "duration": 12,
    "start_time": "2021-07-20T18:24:04.090Z"
   },
   {
    "duration": 25,
    "start_time": "2021-07-20T18:24:04.104Z"
   },
   {
    "duration": 32,
    "start_time": "2021-07-20T18:24:04.150Z"
   },
   {
    "duration": 138,
    "start_time": "2021-07-20T18:29:40.909Z"
   },
   {
    "duration": 10,
    "start_time": "2021-07-20T18:29:47.639Z"
   },
   {
    "duration": 13,
    "start_time": "2021-07-20T18:30:32.663Z"
   },
   {
    "duration": 11,
    "start_time": "2021-07-20T18:32:02.096Z"
   },
   {
    "duration": 17,
    "start_time": "2021-07-20T18:32:52.182Z"
   },
   {
    "duration": 546,
    "start_time": "2021-07-20T18:33:18.257Z"
   },
   {
    "duration": 1758,
    "start_time": "2021-07-20T18:44:17.569Z"
   },
   {
    "duration": 70,
    "start_time": "2021-07-20T18:44:19.330Z"
   },
   {
    "duration": 627,
    "start_time": "2021-07-20T18:44:19.403Z"
   },
   {
    "duration": 5,
    "start_time": "2021-07-20T18:44:20.033Z"
   },
   {
    "duration": 40,
    "start_time": "2021-07-20T18:44:20.041Z"
   },
   {
    "duration": 34416,
    "start_time": "2021-07-20T18:44:20.084Z"
   },
   {
    "duration": 8,
    "start_time": "2021-07-20T18:44:54.503Z"
   },
   {
    "duration": 131,
    "start_time": "2021-07-20T18:44:54.516Z"
   },
   {
    "duration": 26,
    "start_time": "2021-07-20T18:44:54.650Z"
   },
   {
    "duration": 10,
    "start_time": "2021-07-20T18:44:54.680Z"
   },
   {
    "duration": 11,
    "start_time": "2021-07-20T18:44:54.693Z"
   },
   {
    "duration": 15,
    "start_time": "2021-07-20T18:44:54.706Z"
   },
   {
    "duration": 497,
    "start_time": "2021-07-20T18:44:54.723Z"
   },
   {
    "duration": 2198,
    "start_time": "2021-07-20T18:46:27.697Z"
   },
   {
    "duration": -961,
    "start_time": "2021-07-20T18:46:30.860Z"
   },
   {
    "duration": 10,
    "start_time": "2021-07-20T18:46:50.947Z"
   },
   {
    "duration": 5,
    "start_time": "2021-07-20T18:46:52.265Z"
   },
   {
    "duration": 1933,
    "start_time": "2021-07-20T18:47:02.833Z"
   },
   {
    "duration": 5,
    "start_time": "2021-07-20T18:47:04.835Z"
   },
   {
    "duration": 3453,
    "start_time": "2021-07-20T18:47:50.313Z"
   },
   {
    "duration": 6,
    "start_time": "2021-07-20T18:49:04.477Z"
   },
   {
    "duration": 7,
    "start_time": "2021-07-20T18:49:10.454Z"
   },
   {
    "duration": 16,
    "start_time": "2021-07-20T18:50:46.365Z"
   },
   {
    "duration": 16,
    "start_time": "2021-07-20T18:50:53.244Z"
   },
   {
    "duration": 2698,
    "start_time": "2021-07-20T18:51:38.898Z"
   },
   {
    "duration": 5499,
    "start_time": "2021-07-20T18:51:55.903Z"
   },
   {
    "duration": 14,
    "start_time": "2021-07-20T18:52:30.786Z"
   },
   {
    "duration": 3564,
    "start_time": "2021-07-20T18:52:47.566Z"
   },
   {
    "duration": 17,
    "start_time": "2021-07-20T18:52:58.549Z"
   },
   {
    "duration": 3658,
    "start_time": "2021-07-20T18:53:04.786Z"
   },
   {
    "duration": 2279,
    "start_time": "2021-07-20T18:53:56.942Z"
   },
   {
    "duration": 18,
    "start_time": "2021-07-20T18:54:41.163Z"
   },
   {
    "duration": 11,
    "start_time": "2021-07-20T18:56:08.874Z"
   },
   {
    "duration": 9,
    "start_time": "2021-07-20T18:56:09.477Z"
   },
   {
    "duration": 4345,
    "start_time": "2021-07-20T18:56:10.767Z"
   },
   {
    "duration": 3,
    "start_time": "2021-07-20T18:56:15.115Z"
   },
   {
    "duration": 33,
    "start_time": "2021-07-20T18:56:15.121Z"
   },
   {
    "duration": 17,
    "start_time": "2021-07-20T18:57:36.253Z"
   },
   {
    "duration": 1870,
    "start_time": "2021-07-20T18:57:36.955Z"
   },
   {
    "duration": -955,
    "start_time": "2021-07-20T18:57:39.782Z"
   },
   {
    "duration": 10,
    "start_time": "2021-07-20T18:58:18.643Z"
   },
   {
    "duration": 3475,
    "start_time": "2021-07-20T18:58:19.106Z"
   },
   {
    "duration": 14,
    "start_time": "2021-07-20T18:58:33.443Z"
   },
   {
    "duration": 8,
    "start_time": "2021-07-20T18:58:33.657Z"
   },
   {
    "duration": 2185,
    "start_time": "2021-07-20T18:58:41.877Z"
   },
   {
    "duration": 4,
    "start_time": "2021-07-20T18:58:44.067Z"
   },
   {
    "duration": 20,
    "start_time": "2021-07-20T18:58:57.592Z"
   },
   {
    "duration": 10,
    "start_time": "2021-07-20T18:59:10.944Z"
   },
   {
    "duration": 4,
    "start_time": "2021-07-20T18:59:11.260Z"
   },
   {
    "duration": 2055,
    "start_time": "2021-07-20T18:59:11.660Z"
   },
   {
    "duration": 1907,
    "start_time": "2021-07-20T18:59:57.319Z"
   },
   {
    "duration": 79,
    "start_time": "2021-07-20T18:59:59.229Z"
   },
   {
    "duration": 523,
    "start_time": "2021-07-20T18:59:59.312Z"
   },
   {
    "duration": 5,
    "start_time": "2021-07-20T18:59:59.838Z"
   },
   {
    "duration": 50,
    "start_time": "2021-07-20T18:59:59.846Z"
   },
   {
    "duration": 12384,
    "start_time": "2021-07-20T18:59:59.898Z"
   },
   {
    "duration": 7,
    "start_time": "2021-07-20T19:00:12.287Z"
   },
   {
    "duration": 124,
    "start_time": "2021-07-20T19:00:12.298Z"
   },
   {
    "duration": 14,
    "start_time": "2021-07-20T19:00:12.425Z"
   },
   {
    "duration": 24,
    "start_time": "2021-07-20T19:00:12.458Z"
   },
   {
    "duration": 15,
    "start_time": "2021-07-20T19:00:12.484Z"
   },
   {
    "duration": 24,
    "start_time": "2021-07-20T19:00:12.502Z"
   },
   {
    "duration": 2103,
    "start_time": "2021-07-20T19:00:12.528Z"
   },
   {
    "duration": 4,
    "start_time": "2021-07-20T19:00:14.633Z"
   },
   {
    "duration": 20,
    "start_time": "2021-07-20T19:00:14.656Z"
   },
   {
    "duration": 10,
    "start_time": "2021-07-20T19:02:22.934Z"
   },
   {
    "duration": 4,
    "start_time": "2021-07-20T19:02:23.245Z"
   },
   {
    "duration": 2011,
    "start_time": "2021-07-20T19:02:32.645Z"
   },
   {
    "duration": 7,
    "start_time": "2021-07-20T19:02:34.660Z"
   },
   {
    "duration": 16,
    "start_time": "2021-07-20T19:02:34.671Z"
   },
   {
    "duration": 15,
    "start_time": "2021-07-20T19:05:17.778Z"
   },
   {
    "duration": 4,
    "start_time": "2021-07-20T19:05:18.213Z"
   },
   {
    "duration": 1620,
    "start_time": "2021-07-20T19:05:20.198Z"
   },
   {
    "duration": 12,
    "start_time": "2021-07-20T19:07:27.670Z"
   },
   {
    "duration": 4,
    "start_time": "2021-07-20T19:07:28.022Z"
   },
   {
    "duration": 1505,
    "start_time": "2021-07-20T19:07:28.432Z"
   },
   {
    "duration": 5,
    "start_time": "2021-07-20T19:08:21.876Z"
   },
   {
    "duration": 12,
    "start_time": "2021-07-20T19:08:22.239Z"
   },
   {
    "duration": 8,
    "start_time": "2021-07-20T19:11:53.969Z"
   },
   {
    "duration": 8,
    "start_time": "2021-07-20T19:12:11.995Z"
   },
   {
    "duration": 17,
    "start_time": "2021-07-20T19:12:17.153Z"
   },
   {
    "duration": 6,
    "start_time": "2021-07-20T19:12:35.031Z"
   },
   {
    "duration": 1351,
    "start_time": "2021-07-20T19:12:38.960Z"
   },
   {
    "duration": 4,
    "start_time": "2021-07-20T19:12:43.704Z"
   },
   {
    "duration": 11,
    "start_time": "2021-07-20T19:12:44.383Z"
   },
   {
    "duration": 7,
    "start_time": "2021-07-20T19:12:50.589Z"
   },
   {
    "duration": 1397,
    "start_time": "2021-07-20T19:12:50.907Z"
   },
   {
    "duration": 3,
    "start_time": "2021-07-20T19:12:52.307Z"
   },
   {
    "duration": 13,
    "start_time": "2021-07-20T19:12:52.313Z"
   },
   {
    "duration": 14,
    "start_time": "2021-07-20T19:13:54.153Z"
   },
   {
    "duration": 7,
    "start_time": "2021-07-20T19:13:55.620Z"
   },
   {
    "duration": 8,
    "start_time": "2021-07-20T19:14:02.515Z"
   },
   {
    "duration": 11,
    "start_time": "2021-07-20T19:14:14.520Z"
   },
   {
    "duration": 9,
    "start_time": "2021-07-20T19:14:14.952Z"
   },
   {
    "duration": 7,
    "start_time": "2021-07-20T19:14:56.912Z"
   },
   {
    "duration": 10,
    "start_time": "2021-07-20T19:15:37.107Z"
   },
   {
    "duration": 7,
    "start_time": "2021-07-20T19:15:37.634Z"
   },
   {
    "duration": 13683,
    "start_time": "2021-07-20T19:15:40.118Z"
   },
   {
    "duration": 4,
    "start_time": "2021-07-20T19:15:55.878Z"
   },
   {
    "duration": 24,
    "start_time": "2021-07-20T19:15:56.146Z"
   },
   {
    "duration": 11,
    "start_time": "2021-07-20T19:16:32.716Z"
   },
   {
    "duration": 7,
    "start_time": "2021-07-20T19:16:33.197Z"
   },
   {
    "duration": 14,
    "start_time": "2021-07-20T19:16:50.512Z"
   },
   {
    "duration": 7,
    "start_time": "2021-07-20T19:16:50.905Z"
   },
   {
    "duration": 7,
    "start_time": "2021-07-20T19:17:00.176Z"
   },
   {
    "duration": 2360,
    "start_time": "2021-07-20T19:17:01.096Z"
   },
   {
    "duration": 4,
    "start_time": "2021-07-20T19:17:03.459Z"
   },
   {
    "duration": 40,
    "start_time": "2021-07-20T19:17:03.579Z"
   },
   {
    "duration": 6,
    "start_time": "2021-07-20T19:17:13.022Z"
   },
   {
    "duration": 4,
    "start_time": "2021-07-20T19:17:26.916Z"
   },
   {
    "duration": 2541,
    "start_time": "2021-07-20T19:17:27.566Z"
   },
   {
    "duration": 5,
    "start_time": "2021-07-20T19:17:30.110Z"
   },
   {
    "duration": 69,
    "start_time": "2021-07-20T19:17:30.119Z"
   },
   {
    "duration": 17,
    "start_time": "2021-07-20T19:17:44.466Z"
   },
   {
    "duration": 4,
    "start_time": "2021-07-20T19:17:44.848Z"
   },
   {
    "duration": 259,
    "start_time": "2021-07-20T19:17:45.289Z"
   },
   {
    "duration": 6,
    "start_time": "2021-07-20T19:17:46.070Z"
   },
   {
    "duration": 13,
    "start_time": "2021-07-20T19:17:46.852Z"
   },
   {
    "duration": 9,
    "start_time": "2021-07-20T19:18:15.092Z"
   },
   {
    "duration": 4,
    "start_time": "2021-07-20T19:18:15.546Z"
   },
   {
    "duration": 285,
    "start_time": "2021-07-20T19:18:15.924Z"
   },
   {
    "duration": 6,
    "start_time": "2021-07-20T19:18:16.402Z"
   },
   {
    "duration": 12,
    "start_time": "2021-07-20T19:18:16.957Z"
   },
   {
    "duration": 10,
    "start_time": "2021-07-20T19:19:30.622Z"
   },
   {
    "duration": 4,
    "start_time": "2021-07-20T19:19:30.952Z"
   },
   {
    "duration": 3072,
    "start_time": "2021-07-20T19:19:31.373Z"
   },
   {
    "duration": 7,
    "start_time": "2021-07-20T19:19:34.454Z"
   },
   {
    "duration": 23,
    "start_time": "2021-07-20T19:19:34.468Z"
   },
   {
    "duration": 10,
    "start_time": "2021-07-20T19:20:03.782Z"
   },
   {
    "duration": 4,
    "start_time": "2021-07-20T19:20:04.017Z"
   },
   {
    "duration": 14014,
    "start_time": "2021-07-20T19:20:04.274Z"
   },
   {
    "duration": 8,
    "start_time": "2021-07-20T19:20:18.291Z"
   },
   {
    "duration": 18,
    "start_time": "2021-07-20T19:20:18.303Z"
   },
   {
    "duration": 11,
    "start_time": "2021-07-20T19:23:43.632Z"
   },
   {
    "duration": 11,
    "start_time": "2021-07-20T19:24:03.272Z"
   },
   {
    "duration": 13,
    "start_time": "2021-07-20T19:25:45.611Z"
   },
   {
    "duration": 5,
    "start_time": "2021-07-20T19:25:56.760Z"
   },
   {
    "duration": 4,
    "start_time": "2021-07-20T19:25:58.635Z"
   },
   {
    "duration": 14143,
    "start_time": "2021-07-20T19:26:01.962Z"
   },
   {
    "duration": 6,
    "start_time": "2021-07-20T19:26:16.108Z"
   },
   {
    "duration": 14,
    "start_time": "2021-07-20T19:26:16.117Z"
   },
   {
    "duration": 57,
    "start_time": "2021-07-20T19:26:32.539Z"
   },
   {
    "duration": 60,
    "start_time": "2021-07-20T19:26:36.353Z"
   },
   {
    "duration": 8,
    "start_time": "2021-07-20T19:26:36.854Z"
   },
   {
    "duration": 14,
    "start_time": "2021-07-20T19:26:43.285Z"
   },
   {
    "duration": 14178,
    "start_time": "2021-07-20T19:26:55.663Z"
   },
   {
    "duration": 12,
    "start_time": "2021-07-20T19:27:09.844Z"
   },
   {
    "duration": 23,
    "start_time": "2021-07-20T19:27:09.860Z"
   },
   {
    "duration": 2784,
    "start_time": "2021-07-20T19:28:31.615Z"
   },
   {
    "duration": 79,
    "start_time": "2021-07-20T19:28:34.403Z"
   },
   {
    "duration": 502,
    "start_time": "2021-07-20T19:28:34.485Z"
   },
   {
    "duration": 6,
    "start_time": "2021-07-20T19:28:34.990Z"
   },
   {
    "duration": 28,
    "start_time": "2021-07-20T19:28:34.998Z"
   },
   {
    "duration": 12366,
    "start_time": "2021-07-20T19:28:35.028Z"
   },
   {
    "duration": 7,
    "start_time": "2021-07-20T19:28:47.397Z"
   },
   {
    "duration": 122,
    "start_time": "2021-07-20T19:28:47.408Z"
   },
   {
    "duration": 23,
    "start_time": "2021-07-20T19:28:47.533Z"
   },
   {
    "duration": 11,
    "start_time": "2021-07-20T19:28:47.558Z"
   },
   {
    "duration": 15,
    "start_time": "2021-07-20T19:28:47.572Z"
   },
   {
    "duration": 6,
    "start_time": "2021-07-20T19:28:47.589Z"
   },
   {
    "duration": 5,
    "start_time": "2021-07-20T19:28:47.598Z"
   },
   {
    "duration": 13820,
    "start_time": "2021-07-20T19:28:47.606Z"
   },
   {
    "duration": 6,
    "start_time": "2021-07-20T19:29:01.428Z"
   },
   {
    "duration": 39,
    "start_time": "2021-07-20T19:29:01.436Z"
   },
   {
    "duration": 5,
    "start_time": "2021-07-20T19:29:35.570Z"
   },
   {
    "duration": 13918,
    "start_time": "2021-07-20T19:29:36.777Z"
   },
   {
    "duration": 7,
    "start_time": "2021-07-20T19:30:04.702Z"
   },
   {
    "duration": 22,
    "start_time": "2021-07-20T19:30:12.526Z"
   },
   {
    "duration": 12,
    "start_time": "2021-07-20T19:33:15.183Z"
   },
   {
    "duration": 4,
    "start_time": "2021-07-20T19:33:16.688Z"
   },
   {
    "duration": 3,
    "start_time": "2021-07-20T19:33:18.893Z"
   },
   {
    "duration": 4,
    "start_time": "2021-07-20T19:33:19.353Z"
   },
   {
    "duration": 7,
    "start_time": "2021-07-20T19:33:20.049Z"
   },
   {
    "duration": 125,
    "start_time": "2021-07-20T19:33:32.391Z"
   },
   {
    "duration": 121,
    "start_time": "2021-07-20T19:33:47.892Z"
   },
   {
    "duration": 6,
    "start_time": "2021-07-20T19:33:49.093Z"
   },
   {
    "duration": 20,
    "start_time": "2021-07-20T19:33:49.742Z"
   },
   {
    "duration": 792,
    "start_time": "2021-07-20T19:41:40.310Z"
   },
   {
    "duration": 64,
    "start_time": "2021-07-20T19:41:50.921Z"
   },
   {
    "duration": 5,
    "start_time": "2021-07-20T19:41:52.145Z"
   },
   {
    "duration": 61,
    "start_time": "2021-07-20T19:42:06.604Z"
   },
   {
    "duration": 17,
    "start_time": "2021-07-20T19:42:28.861Z"
   },
   {
    "duration": 6,
    "start_time": "2021-07-20T19:42:29.249Z"
   },
   {
    "duration": 4,
    "start_time": "2021-07-20T19:42:29.914Z"
   },
   {
    "duration": 28025,
    "start_time": "2021-07-20T19:42:30.904Z"
   },
   {
    "duration": 22,
    "start_time": "2021-07-20T19:42:58.932Z"
   },
   {
    "duration": 28180,
    "start_time": "2021-07-20T19:44:16.043Z"
   },
   {
    "duration": 28113,
    "start_time": "2021-07-20T19:48:50.568Z"
   },
   {
    "duration": 13,
    "start_time": "2021-07-20T19:49:56.277Z"
   },
   {
    "duration": 4,
    "start_time": "2021-07-20T19:49:56.292Z"
   },
   {
    "duration": 14,
    "start_time": "2021-07-20T19:49:56.299Z"
   },
   {
    "duration": 28268,
    "start_time": "2021-07-20T19:49:56.315Z"
   },
   {
    "duration": 20,
    "start_time": "2021-07-20T19:50:24.585Z"
   },
   {
    "duration": 14,
    "start_time": "2021-07-20T19:50:57.249Z"
   },
   {
    "duration": 4,
    "start_time": "2021-07-20T19:50:57.512Z"
   },
   {
    "duration": 8,
    "start_time": "2021-07-20T19:50:57.769Z"
   },
   {
    "duration": 1712,
    "start_time": "2021-07-20T19:53:59.180Z"
   },
   {
    "duration": 76,
    "start_time": "2021-07-20T19:54:00.895Z"
   },
   {
    "duration": 515,
    "start_time": "2021-07-20T19:54:00.977Z"
   },
   {
    "duration": 5,
    "start_time": "2021-07-20T19:54:01.495Z"
   },
   {
    "duration": 26,
    "start_time": "2021-07-20T19:54:01.503Z"
   },
   {
    "duration": 16632,
    "start_time": "2021-07-20T19:54:01.531Z"
   },
   {
    "duration": 10,
    "start_time": "2021-07-20T19:54:18.168Z"
   },
   {
    "duration": 116,
    "start_time": "2021-07-20T19:54:18.182Z"
   },
   {
    "duration": 13,
    "start_time": "2021-07-20T19:54:18.301Z"
   },
   {
    "duration": 10,
    "start_time": "2021-07-20T19:54:18.317Z"
   },
   {
    "duration": 17,
    "start_time": "2021-07-20T19:54:18.357Z"
   },
   {
    "duration": 6,
    "start_time": "2021-07-20T19:54:18.376Z"
   },
   {
    "duration": 6,
    "start_time": "2021-07-20T19:54:18.385Z"
   },
   {
    "duration": 22008,
    "start_time": "2021-07-20T19:54:18.394Z"
   },
   {
    "duration": -974,
    "start_time": "2021-07-20T19:54:41.379Z"
   },
   {
    "duration": 12,
    "start_time": "2021-07-20T19:54:58.781Z"
   },
   {
    "duration": 5,
    "start_time": "2021-07-20T19:54:59.725Z"
   },
   {
    "duration": 8,
    "start_time": "2021-07-20T19:55:00.453Z"
   },
   {
    "duration": 1686,
    "start_time": "2021-07-20T19:57:20.592Z"
   },
   {
    "duration": 73,
    "start_time": "2021-07-20T19:57:22.281Z"
   },
   {
    "duration": 461,
    "start_time": "2021-07-20T19:57:22.357Z"
   },
   {
    "duration": 5,
    "start_time": "2021-07-20T19:57:22.821Z"
   },
   {
    "duration": 36,
    "start_time": "2021-07-20T19:57:22.828Z"
   },
   {
    "duration": 12094,
    "start_time": "2021-07-20T19:57:22.867Z"
   },
   {
    "duration": 7,
    "start_time": "2021-07-20T19:57:34.964Z"
   },
   {
    "duration": 118,
    "start_time": "2021-07-20T19:57:34.975Z"
   },
   {
    "duration": 16,
    "start_time": "2021-07-20T19:57:35.096Z"
   },
   {
    "duration": 47,
    "start_time": "2021-07-20T19:57:35.114Z"
   },
   {
    "duration": 36,
    "start_time": "2021-07-20T19:57:35.164Z"
   },
   {
    "duration": 18,
    "start_time": "2021-07-20T19:57:35.203Z"
   },
   {
    "duration": 18,
    "start_time": "2021-07-20T19:57:35.224Z"
   },
   {
    "duration": 22930,
    "start_time": "2021-07-20T19:57:35.245Z"
   },
   {
    "duration": 15,
    "start_time": "2021-07-20T19:57:58.178Z"
   },
   {
    "duration": 4,
    "start_time": "2021-07-20T19:58:45.960Z"
   },
   {
    "duration": 23041,
    "start_time": "2021-07-20T19:58:46.466Z"
   },
   {
    "duration": 4,
    "start_time": "2021-07-20T19:59:14.971Z"
   },
   {
    "duration": 4,
    "start_time": "2021-07-20T19:59:46.400Z"
   },
   {
    "duration": 32913,
    "start_time": "2021-07-20T19:59:46.408Z"
   },
   {
    "duration": 18,
    "start_time": "2021-07-20T20:00:19.324Z"
   },
   {
    "duration": 4,
    "start_time": "2021-07-20T20:00:24.777Z"
   },
   {
    "duration": 24640,
    "start_time": "2021-07-20T20:00:25.044Z"
   },
   {
    "duration": 17,
    "start_time": "2021-07-20T20:00:49.687Z"
   },
   {
    "duration": 4,
    "start_time": "2021-07-20T20:00:58.444Z"
   },
   {
    "duration": 47178,
    "start_time": "2021-07-20T20:00:58.565Z"
   },
   {
    "duration": 21,
    "start_time": "2021-07-20T20:01:45.746Z"
   },
   {
    "duration": 4,
    "start_time": "2021-07-20T20:01:50.020Z"
   },
   {
    "duration": 4,
    "start_time": "2021-07-20T20:01:50.541Z"
   },
   {
    "duration": 45665,
    "start_time": "2021-07-20T20:01:51.028Z"
   },
   {
    "duration": 4,
    "start_time": "2021-07-20T20:02:44.574Z"
   },
   {
    "duration": 4,
    "start_time": "2021-07-20T20:02:44.852Z"
   },
   {
    "duration": 5,
    "start_time": "2021-07-20T20:03:08.058Z"
   },
   {
    "duration": 8,
    "start_time": "2021-07-20T20:03:08.067Z"
   },
   {
    "duration": 22930,
    "start_time": "2021-07-20T20:03:08.078Z"
   },
   {
    "duration": 21,
    "start_time": "2021-07-20T20:03:31.011Z"
   },
   {
    "duration": 23,
    "start_time": "2021-07-20T20:03:49.582Z"
   },
   {
    "duration": 4,
    "start_time": "2021-07-20T20:04:48.814Z"
   },
   {
    "duration": 4,
    "start_time": "2021-07-20T20:04:49.428Z"
   },
   {
    "duration": 56949,
    "start_time": "2021-07-20T20:04:50.018Z"
   },
   {
    "duration": 18,
    "start_time": "2021-07-20T20:05:46.990Z"
   },
   {
    "duration": 13,
    "start_time": "2021-07-20T20:07:53.039Z"
   },
   {
    "duration": 4,
    "start_time": "2021-07-20T20:07:54.039Z"
   },
   {
    "duration": 4,
    "start_time": "2021-07-20T20:07:56.112Z"
   },
   {
    "duration": 46789,
    "start_time": "2021-07-20T20:07:56.684Z"
   },
   {
    "duration": 16,
    "start_time": "2021-07-20T20:08:43.476Z"
   },
   {
    "duration": 4,
    "start_time": "2021-07-20T20:09:27.442Z"
   },
   {
    "duration": 3,
    "start_time": "2021-07-20T20:09:27.684Z"
   },
   {
    "duration": 35124,
    "start_time": "2021-07-20T20:09:27.909Z"
   },
   {
    "duration": 597,
    "start_time": "2021-07-20T20:10:03.036Z"
   },
   {
    "duration": 16,
    "start_time": "2021-07-20T20:10:19.432Z"
   },
   {
    "duration": 5,
    "start_time": "2021-07-20T20:10:45.238Z"
   },
   {
    "duration": 4,
    "start_time": "2021-07-20T20:10:45.519Z"
   },
   {
    "duration": 79728,
    "start_time": "2021-07-20T20:10:45.774Z"
   },
   {
    "duration": 18,
    "start_time": "2021-07-20T20:12:05.505Z"
   },
   {
    "duration": 21,
    "start_time": "2021-07-20T20:12:14.011Z"
   },
   {
    "duration": 3,
    "start_time": "2021-07-20T20:12:25.440Z"
   },
   {
    "duration": 128862,
    "start_time": "2021-07-20T20:12:25.701Z"
   },
   {
    "duration": 6,
    "start_time": "2021-07-20T20:14:36.323Z"
   },
   {
    "duration": 73553,
    "start_time": "2021-07-20T20:14:36.635Z"
   },
   {
    "duration": 22,
    "start_time": "2021-07-20T20:15:56.036Z"
   },
   {
    "duration": 5,
    "start_time": "2021-07-20T20:16:01.493Z"
   },
   {
    "duration": 4,
    "start_time": "2021-07-20T20:16:02.058Z"
   },
   {
    "duration": 5419,
    "start_time": "2021-07-20T20:16:02.659Z"
   },
   {
    "duration": 4,
    "start_time": "2021-07-20T20:16:14.641Z"
   },
   {
    "duration": 4,
    "start_time": "2021-07-20T20:16:14.991Z"
   },
   {
    "duration": 5327,
    "start_time": "2021-07-20T20:16:15.335Z"
   },
   {
    "duration": 1713,
    "start_time": "2021-07-20T20:17:23.002Z"
   },
   {
    "duration": 65,
    "start_time": "2021-07-20T20:17:24.718Z"
   },
   {
    "duration": 513,
    "start_time": "2021-07-20T20:17:24.786Z"
   },
   {
    "duration": 5,
    "start_time": "2021-07-20T20:17:25.301Z"
   },
   {
    "duration": 38,
    "start_time": "2021-07-20T20:17:25.309Z"
   },
   {
    "duration": 11468,
    "start_time": "2021-07-20T20:17:25.349Z"
   },
   {
    "duration": 9,
    "start_time": "2021-07-20T20:17:36.819Z"
   },
   {
    "duration": 126,
    "start_time": "2021-07-20T20:17:36.832Z"
   },
   {
    "duration": 16,
    "start_time": "2021-07-20T20:17:36.961Z"
   },
   {
    "duration": 11,
    "start_time": "2021-07-20T20:17:36.980Z"
   }
  ],
  "kernelspec": {
   "display_name": "Python 3",
   "language": "python",
   "name": "python3"
  },
  "language_info": {
   "codemirror_mode": {
    "name": "ipython",
    "version": 3
   },
   "file_extension": ".py",
   "mimetype": "text/x-python",
   "name": "python",
   "nbconvert_exporter": "python",
   "pygments_lexer": "ipython3",
   "version": "3.8.8"
  },
  "toc": {
   "base_numbering": 1,
   "nav_menu": {},
   "number_sections": true,
   "sideBar": true,
   "skip_h1_title": true,
   "title_cell": "Table of Contents",
   "title_sidebar": "Contents",
   "toc_cell": false,
   "toc_position": {},
   "toc_section_display": true,
   "toc_window_display": false
  }
 },
 "nbformat": 4,
 "nbformat_minor": 2
}
