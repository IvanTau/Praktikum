{
 "cells": [
  {
   "cell_type": "markdown",
   "metadata": {},
   "source": [
    "# Определение стоимости автомобилей"
   ]
  },
  {
   "cell_type": "markdown",
   "metadata": {},
   "source": [
    "Сервис по продаже автомобилей с пробегом «Не бит, не крашен» разрабатывает приложение для привлечения новых клиентов. В нём можно быстро узнать рыночную стоимость своего автомобиля. В вашем распоряжении исторические данные: технические характеристики, комплектации и цены автомобилей. Вам нужно построить модель для определения стоимости. \n",
    "\n",
    "Заказчику важны:\n",
    "\n",
    "- качество предсказания;\n",
    "- скорость предсказания;\n",
    "- время обучения."
   ]
  },
  {
   "cell_type": "markdown",
   "metadata": {},
   "source": [
    "## Подготовка данных"
   ]
  },
  {
   "cell_type": "code",
   "execution_count": 68,
   "metadata": {},
   "outputs": [],
   "source": [
    "import pandas as pd\n",
    "import matplotlib.pyplot as plt\n",
    "import seaborn as sns\n",
    "import numpy as np\n",
    "\n",
    "from sklearn.preprocessing import OrdinalEncoder, StandardScaler, OneHotEncoder\n",
    "from sklearn.model_selection import train_test_split, GridSearchCV\n",
    "from sklearn.linear_model import LinearRegression\n",
    "from sklearn.metrics import mean_squared_error\n",
    "from sklearn.dummy import DummyRegressor\n",
    "from sklearn.ensemble import RandomForestRegressor\n",
    "\n",
    "from lightgbm import LGBMRegressor, plot_importance\n",
    "from catboost import CatBoostRegressor\n",
    "\n",
    "import warnings\n",
    "warnings.filterwarnings(\"ignore\")"
   ]
  },
  {
   "cell_type": "markdown",
   "metadata": {},
   "source": [
    "### Первый взгляд на данные"
   ]
  },
  {
   "cell_type": "code",
   "execution_count": 38,
   "metadata": {},
   "outputs": [],
   "source": [
    "data = pd.read_csv(r'D:\\\\PC\\Downloads\\autos.csv')\n",
    "#data = pd.read_csv('https://code.s3.yandex.net/datasets/autos.csv')"
   ]
  },
  {
   "cell_type": "code",
   "execution_count": 39,
   "metadata": {
    "scrolled": false
   },
   "outputs": [
    {
     "data": {},
     "execution_count": 39,
     "metadata": {},
     "output_type": "execute_result"
    }
   ],
   "source": [
    "data.sample(n=5)"
   ]
  },
  {
   "cell_type": "code",
   "execution_count": 40,
   "metadata": {},
   "outputs": [],
   "source": [
    "data.info()"
   ]
  },
  {
   "cell_type": "markdown",
   "metadata": {},
   "source": [
    "### Предобработка данных"
   ]
  },
  {
   "cell_type": "markdown",
   "metadata": {},
   "source": [
    "#### Ненужные столбцы"
   ]
  },
  {
   "cell_type": "markdown",
   "metadata": {},
   "source": [
    "В датасете присутствуют ненужные для нас столбцы, удалим их."
   ]
  },
  {
   "cell_type": "code",
   "execution_count": 41,
   "metadata": {},
   "outputs": [],
   "source": [
    "data = data.drop(columns=['DateCrawled', 'NumberOfPictures', 'LastSeen', 'DateCreated'])"
   ]
  },
  {
   "cell_type": "markdown",
   "metadata": {},
   "source": [
    "#### Дубликаты"
   ]
  },
  {
   "cell_type": "code",
   "execution_count": 42,
   "metadata": {
    "scrolled": true
   },
   "outputs": [],
   "source": [
    "# Проверка на дубликаты\n",
    "print('Кол-во дубликатов:', data.duplicated().sum())\n",
    "print(f'Доля дубликатов:   {round((data.duplicated().sum() / data.shape[0] * 100), 1)}%')"
   ]
  },
  {
   "cell_type": "markdown",
   "metadata": {},
   "source": [
    "В датасете представлены дубликаты данных, удалим их."
   ]
  },
  {
   "cell_type": "code",
   "execution_count": 43,
   "metadata": {
    "scrolled": true
   },
   "outputs": [],
   "source": [
    "data.drop_duplicates(inplace=True)\n",
    "print('Кол-во дубликатов:', data.duplicated().sum())"
   ]
  },
  {
   "cell_type": "markdown",
   "metadata": {},
   "source": [
    "**Примечание**\n",
    "\n",
    "При полном наборе столбцов в датасете, дубликатов всего 4 штуки. Найденные \"дубликаты\" скорее всего явлюятся разными объявлениями о разных машинах с одинаковыми характеристиками. Так же, возможно, некоторые объявления об одних и тех же машинах выкладывались несколько раз. Я решил их удалить, поскольку для модели они все равно по-сути являются одинаковыми. "
   ]
  },
  {
   "cell_type": "markdown",
   "metadata": {},
   "source": [
    "#### Выбросы"
   ]
  },
  {
   "cell_type": "code",
   "execution_count": 44,
   "metadata": {
    "scrolled": true
   },
   "outputs": [
    {
     "data": {},
     "execution_count": 44,
     "metadata": {},
     "output_type": "execute_result"
    }
   ],
   "source": [
    "data.describe()"
   ]
  },
  {
   "cell_type": "markdown",
   "metadata": {},
   "source": [
    "При исследовании описательных статистик можно заметить выбросы:"
   ]
  },
  {
   "cell_type": "code",
   "execution_count": 45,
   "metadata": {},
   "outputs": [
    {
     "data": {
      "image/png": "[encoded data removed]"
     },
     "metadata": {},
     "output_type": "display_data"
    },
    {
     "data": {
      "image/png": "[encoded data removed]"
     },
     "metadata": {},
     "output_type": "display_data"
    }
   ],
   "source": [
    "sns.set(style='darkgrid', palette='deep', font_scale=1.2)\n",
    "\n",
    "for column in ['RegistrationYear', 'Power']:\n",
    "    plt.figure(figsize=(17, 1))\n",
    "    sns.boxplot(data[column], color='c')\n",
    "    plt.show()"
   ]
  },
  {
   "cell_type": "markdown",
   "metadata": {},
   "source": [
    "Огромное количество выбросов по мощности и году регистрации, их придется удалить. Используем"
   ]
  },
  {
   "cell_type": "code",
   "execution_count": 46,
   "metadata": {},
   "outputs": [],
   "source": [
    "# Функция удаляет выбросы исходя из 1.5 интерквартильного размаха\n",
    "\n",
    "def remove_outlier(data, column):\n",
    "    q1 = data[column].quantile(0.25)\n",
    "    q3 = data[column].quantile(0.75)\n",
    "    iqr = q3 - q1\n",
    "    fence_low = q1 - 3 * iqr\n",
    "    fence_high = q3 + 3 * iqr\n",
    "    new_data = data.loc[(data[column] > fence_low) &\n",
    "                         (data[column] < fence_high)]\n",
    "    return new_data"
   ]
  },
  {
   "cell_type": "code",
   "execution_count": 47,
   "metadata": {
    "scrolled": true
   },
   "outputs": [],
   "source": [
    "data = remove_outlier(data, 'RegistrationYear')\n",
    "data = remove_outlier(data, 'Power')"
   ]
  },
  {
   "cell_type": "code",
   "execution_count": 48,
   "metadata": {
    "scrolled": false
   },
   "outputs": [
    {
     "data": {
      "image/png": "[encoded data removed]"
     },
     "metadata": {},
     "output_type": "display_data"
    },
    {
     "data": {
      "image/png": "[encoded data removed]"
     },
     "metadata": {},
     "output_type": "display_data"
    }
   ],
   "source": [
    "for column in ['RegistrationYear', 'Power']:\n",
    "    plt.figure(figsize=(17, 1))\n",
    "    sns.boxplot(data[column], color='c')\n",
    "    plt.show()"
   ]
  },
  {
   "cell_type": "markdown",
   "metadata": {},
   "source": [
    "#### Пропуски"
   ]
  },
  {
   "cell_type": "code",
   "execution_count": 49,
   "metadata": {},
   "outputs": [
    {
     "data": {},
     "execution_count": 49,
     "metadata": {},
     "output_type": "execute_result"
    }
   ],
   "source": [
    "# Выведем долю пропусков по столбцам\n",
    "nan_data = data.isna().sum() / data.shape[0] * 100\n",
    "nan_data[nan_data > 0]"
   ]
  },
  {
   "cell_type": "markdown",
   "metadata": {},
   "source": [
    "В столбце с информацией о ремонте пропуски скорее всего означают отрицательный ответ, сделаем замену на \"no\".\n",
    "\n",
    "В остальных столбцах пропуски придется удалить - замена их на other только снижает качество модели."
   ]
  },
  {
   "cell_type": "code",
   "execution_count": 50,
   "metadata": {
    "scrolled": true
   },
   "outputs": [
    {
     "data": {},
     "execution_count": 50,
     "metadata": {},
     "output_type": "execute_result"
    }
   ],
   "source": [
    "# Заполним пропуски и сделаем проверку\n",
    "data['NotRepaired'].fillna('no', inplace=True)\n",
    "data.dropna(inplace=True)\n",
    "#data.fillna('other', inplace=True)\n",
    "\n",
    "print('Кол-во пропусков:', data.isna().sum().sum())\n",
    "data.shape"
   ]
  },
  {
   "cell_type": "markdown",
   "metadata": {},
   "source": [
    "#### Почтовый индекс"
   ]
  },
  {
   "cell_type": "markdown",
   "metadata": {},
   "source": [
    "Попробуем использовать регион продажи в качестве категориального признака"
   ]
  },
  {
   "cell_type": "code",
   "execution_count": 51,
   "metadata": {},
   "outputs": [],
   "source": [
    "# Функция переводит индекс в строки и возвращает первые две цифры (регион)\n",
    "def postal_code(row):\n",
    "    row = str(row)\n",
    "    if len(row) < 5:\n",
    "        return int(row[:1])\n",
    "    else: return int(row[:2])"
   ]
  },
  {
   "cell_type": "code",
   "execution_count": 52,
   "metadata": {},
   "outputs": [],
   "source": [
    "data['PostalCode'] = data['PostalCode'].apply(postal_code)"
   ]
  },
  {
   "cell_type": "code",
   "execution_count": 53,
   "metadata": {
    "scrolled": true
   },
   "outputs": [
    {
     "data": {},
     "execution_count": 53,
     "metadata": {},
     "output_type": "execute_result"
    }
   ],
   "source": [
    "data.describe()"
   ]
  },
  {
   "cell_type": "code",
   "execution_count": 54,
   "metadata": {
    "scrolled": false
   },
   "outputs": [],
   "source": [
    "data.info()"
   ]
  },
  {
   "cell_type": "markdown",
   "metadata": {},
   "source": [
    "### Кодирование признаков и разделение выборок"
   ]
  },
  {
   "cell_type": "code",
   "execution_count": 55,
   "metadata": {
    "scrolled": true
   },
   "outputs": [
    {
     "data": {},
     "execution_count": 55,
     "metadata": {},
     "output_type": "execute_result"
    }
   ],
   "source": [
    "encoder = OrdinalEncoder()\n",
    "cats = ['VehicleType', 'Gearbox', 'Model', 'FuelType', 'Brand', 'NotRepaired']\n",
    "data[cats] = encoder.fit_transform(data[cats])\n",
    "#data[cats] = data[cats].astype('category')\n",
    "data.head(3)"
   ]
  },
  {
   "cell_type": "code",
   "execution_count": 56,
   "metadata": {},
   "outputs": [],
   "source": [
    "# Выделим выборки\n",
    "features = data.drop(columns='Price')\n",
    "target = data['Price']\n",
    "\n",
    "X_train, X_test, y_train, y_test = train_test_split(features, target, test_size=0.2, random_state=12345)\n",
    "\n",
    "for sample in [X_train, X_test, y_train, y_test]:\n",
    "    print(sample.shape)"
   ]
  },
  {
   "cell_type": "markdown",
   "metadata": {},
   "source": [
    "### Масштабирование"
   ]
  },
  {
   "cell_type": "code",
   "execution_count": 57,
   "metadata": {},
   "outputs": [],
   "source": [
    "#scaler = StandardScaler()\n",
    "#numeric = ['RegistrationYear', 'Power', 'Kilometer', 'RegistrationMonth']\n",
    "#numeric = X_train.columns\n",
    "#scaler.fit(X_train[numeric])\n",
    "#X_train[numeric] = scaler.transform(X_train[numeric])\n",
    "#X_test[numeric] = scaler.transform(X_test[numeric])"
   ]
  },
  {
   "cell_type": "markdown",
   "metadata": {},
   "source": [
    "## Обучение моделей"
   ]
  },
  {
   "cell_type": "code",
   "execution_count": 58,
   "metadata": {},
   "outputs": [],
   "source": [
    "rmse = lambda true, preds: mean_squared_error(true, preds) ** 0.5"
   ]
  },
  {
   "cell_type": "code",
   "execution_count": 59,
   "metadata": {},
   "outputs": [],
   "source": [
    "def draw_preds(preds, y=y_test):\n",
    "    plt.figure(figsize=(10, 5))\n",
    "    sns.distplot(y)\n",
    "    sns.distplot(preds)\n",
    "    plt.legend(['Ответы', 'Предсказания'])\n",
    "    plt.xlabel('Цена')\n",
    "    plt.title('Графики правильных ответов и предсказаний')\n",
    "    plt.show()"
   ]
  },
  {
   "cell_type": "code",
   "execution_count": 60,
   "metadata": {},
   "outputs": [],
   "source": [
    "def grid_train(model, params):\n",
    "    grid = GridSearchCV(model, params, n_jobs=-1, cv=2)\n",
    "    grid.fit(X_train, y_train)\n",
    "    preds = grid.predict(X_test)\n",
    "    print('Параметры лучшей модели', grid.best_params_)\n",
    "    return grid.best_estimator_"
   ]
  },
  {
   "cell_type": "code",
   "execution_count": 61,
   "metadata": {},
   "outputs": [],
   "source": [
    "def test_model(model, y_test=y_test):\n",
    "    preds = model.predict(X_test)\n",
    "    print('RMSE лучшей модели', round(rmse(y_test, preds), 2))\n",
    "    draw_preds(preds)"
   ]
  },
  {
   "cell_type": "code",
   "execution_count": 62,
   "metadata": {
    "scrolled": false
   },
   "outputs": [],
   "source": [
    "%%time\n",
    "# Линейная регрессия\n",
    "regression = grid_train(LinearRegression(), params={})"
   ]
  },
  {
   "cell_type": "code",
   "execution_count": 63,
   "metadata": {
    "scrolled": false
   },
   "outputs": [],
   "source": [
    "%%time\n",
    "# LightGBM\n",
    "# Лучшие параметры были найдены подбором через gridsearch, \n",
    "# зафиксировал их здесь сразу, чтобы не тратить время\n",
    "params = dict(n_estimators=[1000],\n",
    "             learning_rate=[0.1],\n",
    "             max_depth=[30],\n",
    "             num_leaves=[50])\n",
    "\n",
    "lgbm = grid_train(LGBMRegressor(random_state=12345), params)"
   ]
  },
  {
   "cell_type": "markdown",
   "metadata": {},
   "source": [
    "## Анализ моделей"
   ]
  },
  {
   "cell_type": "code",
   "execution_count": 64,
   "metadata": {
    "scrolled": false
   },
   "outputs": [
    {
     "data": {
      "image/png": "[encoded data removed]"
     },
     "metadata": {},
     "output_type": "display_data"
    }
   ],
   "source": [
    "%%time\n",
    "test_model(regression)"
   ]
  },
  {
   "cell_type": "code",
   "execution_count": 65,
   "metadata": {
    "scrolled": false
   },
   "outputs": [
    {
     "data": {
      "image/png": "[encoded data removed]"
     },
     "metadata": {},
     "output_type": "display_data"
    }
   ],
   "source": [
    "%%time\n",
    "test_model(lgbm)"
   ]
  },
  {
   "cell_type": "code",
   "execution_count": 77,
   "metadata": {
    "scrolled": true
   },
   "outputs": [
    {
     "data": {},
     "execution_count": 77,
     "metadata": {},
     "output_type": "execute_result"
    },
    {
     "data": {
      "image/png": "[encoded data removed]"
     },
     "metadata": {},
     "output_type": "display_data"
    }
   ],
   "source": [
    "# Проверим важность признаков\n",
    "plot_importance(lgbm, height=0.5)"
   ]
  },
  {
   "cell_type": "markdown",
   "metadata": {},
   "source": [
    "## Вывод\n",
    "\n",
    "В результате анализа работы различных моделей лучшей оказалась модель LightGBM с RMSE 1600, временем обучения и предсказаний 44 и 3 секунды соответственно. Самыми важными признаками для модели оказались мощность, год регистрации и регион(почтовый индекс) продавца.\n",
    "\n",
    "Так же были проанализированы модели линейной регрессии, случайного леса и регрессора CatBoost. Первая модель показала себя очень плохо в плане качества, остальные две обучались слишком долго и показали качество немного хуже LightGBM."
   ]
  }
 ],
 "metadata": {
  "ExecuteTimeLog": [
   {
    "duration": 753,
    "start_time": "2021-09-22T17:51:54.027Z"
   },
   {
    "duration": 2066,
    "start_time": "2021-09-22T17:52:14.335Z"
   },
   {
    "duration": 48,
    "start_time": "2021-09-22T17:52:18.593Z"
   },
   {
    "duration": 170,
    "start_time": "2021-09-22T17:54:48.760Z"
   },
   {
    "duration": 49,
    "start_time": "2021-09-22T17:55:30.909Z"
   },
   {
    "duration": 67,
    "start_time": "2021-09-22T17:56:18.111Z"
   },
   {
    "duration": 4,
    "start_time": "2021-09-22T17:58:43.450Z"
   },
   {
    "duration": 2080,
    "start_time": "2021-09-22T17:58:43.698Z"
   },
   {
    "duration": 48,
    "start_time": "2021-09-22T17:58:45.782Z"
   },
   {
    "duration": 640,
    "start_time": "2021-09-23T12:26:17.286Z"
   },
   {
    "duration": 3636,
    "start_time": "2021-09-23T12:26:18.189Z"
   },
   {
    "duration": 30,
    "start_time": "2021-09-23T12:26:21.827Z"
   },
   {
    "duration": 121,
    "start_time": "2021-09-23T12:26:45.095Z"
   },
   {
    "duration": 415,
    "start_time": "2021-09-23T12:27:51.617Z"
   },
   {
    "duration": 123,
    "start_time": "2021-09-23T12:28:06.558Z"
   },
   {
    "duration": 361,
    "start_time": "2021-09-23T12:29:03.257Z"
   },
   {
    "duration": 133,
    "start_time": "2021-09-23T12:29:07.291Z"
   },
   {
    "duration": 123,
    "start_time": "2021-09-23T12:29:12.411Z"
   },
   {
    "duration": 119,
    "start_time": "2021-09-23T12:29:27.530Z"
   },
   {
    "duration": 132,
    "start_time": "2021-09-23T12:31:38.954Z"
   },
   {
    "duration": 127,
    "start_time": "2021-09-23T12:31:43.611Z"
   },
   {
    "duration": 124,
    "start_time": "2021-09-23T12:31:47.752Z"
   },
   {
    "duration": 125,
    "start_time": "2021-09-23T12:31:57.973Z"
   },
   {
    "duration": 124,
    "start_time": "2021-09-23T12:32:03.204Z"
   },
   {
    "duration": 135,
    "start_time": "2021-09-23T12:32:21.167Z"
   },
   {
    "duration": 122,
    "start_time": "2021-09-23T12:33:26.030Z"
   },
   {
    "duration": 123,
    "start_time": "2021-09-23T12:33:46.774Z"
   },
   {
    "duration": 125,
    "start_time": "2021-09-23T12:34:16.131Z"
   },
   {
    "duration": 130,
    "start_time": "2021-09-23T12:34:25.774Z"
   },
   {
    "duration": 115,
    "start_time": "2021-09-23T12:35:05.480Z"
   },
   {
    "duration": 123,
    "start_time": "2021-09-23T12:35:31.532Z"
   },
   {
    "duration": 116,
    "start_time": "2021-09-23T12:35:35.195Z"
   },
   {
    "duration": 505,
    "start_time": "2021-09-23T12:36:05.093Z"
   },
   {
    "duration": 595,
    "start_time": "2021-09-23T12:36:08.260Z"
   },
   {
    "duration": 580,
    "start_time": "2021-09-23T12:36:12.124Z"
   },
   {
    "duration": 218,
    "start_time": "2021-09-23T12:36:20.490Z"
   },
   {
    "duration": 117,
    "start_time": "2021-09-23T13:05:41.965Z"
   },
   {
    "duration": 118,
    "start_time": "2021-09-23T13:05:47.351Z"
   },
   {
    "duration": 115,
    "start_time": "2021-09-23T13:05:58.137Z"
   },
   {
    "duration": 117,
    "start_time": "2021-09-23T13:06:04.141Z"
   },
   {
    "duration": 691,
    "start_time": "2021-09-23T13:06:14.360Z"
   },
   {
    "duration": 577,
    "start_time": "2021-09-23T13:06:19.283Z"
   },
   {
    "duration": 226,
    "start_time": "2021-09-23T13:06:28.271Z"
   },
   {
    "duration": 122,
    "start_time": "2021-09-23T13:07:03.355Z"
   },
   {
    "duration": 461,
    "start_time": "2021-09-23T13:07:11.871Z"
   },
   {
    "duration": 461,
    "start_time": "2021-09-23T13:07:21.107Z"
   },
   {
    "duration": 120,
    "start_time": "2021-09-23T13:07:44.609Z"
   },
   {
    "duration": 23,
    "start_time": "2021-09-23T13:08:45.102Z"
   },
   {
    "duration": 23,
    "start_time": "2021-09-23T13:08:49.558Z"
   },
   {
    "duration": 100,
    "start_time": "2021-09-23T13:09:36.981Z"
   },
   {
    "duration": 115,
    "start_time": "2021-09-23T13:11:50.508Z"
   },
   {
    "duration": 116,
    "start_time": "2021-09-23T13:11:57.522Z"
   },
   {
    "duration": 115,
    "start_time": "2021-09-23T13:12:05.749Z"
   },
   {
    "duration": 115,
    "start_time": "2021-09-23T13:12:17.794Z"
   },
   {
    "duration": 125,
    "start_time": "2021-09-23T13:12:53.180Z"
   },
   {
    "duration": 346,
    "start_time": "2021-09-23T13:13:13.884Z"
   },
   {
    "duration": 352,
    "start_time": "2021-09-23T13:13:27.834Z"
   },
   {
    "duration": 34,
    "start_time": "2021-09-23T13:13:32.252Z"
   },
   {
    "duration": 70,
    "start_time": "2021-09-23T13:14:23.237Z"
   },
   {
    "duration": 35,
    "start_time": "2021-09-23T13:14:38.079Z"
   },
   {
    "duration": 37,
    "start_time": "2021-09-23T13:14:46.432Z"
   },
   {
    "duration": 64,
    "start_time": "2021-09-23T13:15:01.467Z"
   },
   {
    "duration": 35,
    "start_time": "2021-09-23T13:15:14.267Z"
   },
   {
    "duration": 35,
    "start_time": "2021-09-23T13:15:22.092Z"
   },
   {
    "duration": 32,
    "start_time": "2021-09-23T13:15:31.290Z"
   },
   {
    "duration": 372,
    "start_time": "2021-09-23T13:16:16.033Z"
   },
   {
    "duration": 367,
    "start_time": "2021-09-23T13:16:21.939Z"
   },
   {
    "duration": 124,
    "start_time": "2021-09-23T13:16:24.949Z"
   },
   {
    "duration": 36,
    "start_time": "2021-09-23T13:16:33.964Z"
   },
   {
    "duration": 40,
    "start_time": "2021-09-23T13:16:39.347Z"
   },
   {
    "duration": 135,
    "start_time": "2021-09-23T13:19:04.575Z"
   },
   {
    "duration": 141,
    "start_time": "2021-09-23T13:19:13.540Z"
   },
   {
    "duration": 320,
    "start_time": "2021-09-23T13:19:31.682Z"
   },
   {
    "duration": 318,
    "start_time": "2021-09-23T13:19:42.399Z"
   },
   {
    "duration": 297,
    "start_time": "2021-09-23T13:19:48.372Z"
   },
   {
    "duration": 122,
    "start_time": "2021-09-23T13:21:14.542Z"
   },
   {
    "duration": 284,
    "start_time": "2021-09-23T13:21:32.560Z"
   },
   {
    "duration": 114,
    "start_time": "2021-09-23T13:22:43.230Z"
   },
   {
    "duration": 18,
    "start_time": "2021-09-23T13:22:46.331Z"
   },
   {
    "duration": 93,
    "start_time": "2021-09-23T13:22:46.737Z"
   },
   {
    "duration": 162,
    "start_time": "2021-09-23T13:23:23.168Z"
   },
   {
    "duration": 147,
    "start_time": "2021-09-23T13:23:31.572Z"
   },
   {
    "duration": 148,
    "start_time": "2021-09-23T13:23:36.910Z"
   },
   {
    "duration": 152,
    "start_time": "2021-09-23T13:23:43.287Z"
   },
   {
    "duration": 151,
    "start_time": "2021-09-23T13:23:47.498Z"
   },
   {
    "duration": 213,
    "start_time": "2021-09-23T13:24:02.349Z"
   },
   {
    "duration": 702,
    "start_time": "2021-09-23T15:06:47.964Z"
   },
   {
    "duration": 3012,
    "start_time": "2021-09-23T15:06:48.668Z"
   },
   {
    "duration": 28,
    "start_time": "2021-09-23T15:06:51.682Z"
   },
   {
    "duration": 132,
    "start_time": "2021-09-23T15:06:51.712Z"
   },
   {
    "duration": 338,
    "start_time": "2021-09-23T15:06:51.845Z"
   },
   {
    "duration": 40,
    "start_time": "2021-09-23T15:06:52.185Z"
   },
   {
    "duration": 105,
    "start_time": "2021-09-23T15:06:52.227Z"
   },
   {
    "duration": 176,
    "start_time": "2021-09-23T15:06:52.335Z"
   },
   {
    "duration": 56,
    "start_time": "2021-09-23T15:21:49.437Z"
   },
   {
    "duration": 79,
    "start_time": "2021-09-23T15:22:16.796Z"
   },
   {
    "duration": 75,
    "start_time": "2021-09-23T15:22:44.494Z"
   },
   {
    "duration": 8,
    "start_time": "2021-09-23T15:22:45.099Z"
   },
   {
    "duration": 9,
    "start_time": "2021-09-23T15:23:11.650Z"
   },
   {
    "duration": 8,
    "start_time": "2021-09-23T15:23:14.972Z"
   },
   {
    "duration": 9,
    "start_time": "2021-09-23T15:23:21.385Z"
   },
   {
    "duration": 9,
    "start_time": "2021-09-23T15:24:07.639Z"
   },
   {
    "duration": 9,
    "start_time": "2021-09-23T15:24:11.091Z"
   },
   {
    "duration": 9,
    "start_time": "2021-09-23T15:24:20.143Z"
   },
   {
    "duration": 152,
    "start_time": "2021-09-23T15:25:27.236Z"
   },
   {
    "duration": 290,
    "start_time": "2021-09-23T15:26:04.948Z"
   },
   {
    "duration": 292,
    "start_time": "2021-09-23T15:26:10.544Z"
   },
   {
    "duration": 292,
    "start_time": "2021-09-23T15:26:18.560Z"
   },
   {
    "duration": 290,
    "start_time": "2021-09-23T15:26:34.829Z"
   },
   {
    "duration": 297,
    "start_time": "2021-09-23T15:26:38.718Z"
   },
   {
    "duration": 283,
    "start_time": "2021-09-23T15:26:40.704Z"
   },
   {
    "duration": 295,
    "start_time": "2021-09-23T15:26:47.240Z"
   },
   {
    "duration": 300,
    "start_time": "2021-09-23T15:27:12.788Z"
   },
   {
    "duration": 310,
    "start_time": "2021-09-23T15:27:17.153Z"
   },
   {
    "duration": 324,
    "start_time": "2021-09-23T15:28:36.978Z"
   },
   {
    "duration": 23,
    "start_time": "2021-09-23T15:30:23.019Z"
   },
   {
    "duration": 17,
    "start_time": "2021-09-23T15:31:52.254Z"
   },
   {
    "duration": 13,
    "start_time": "2021-09-23T15:32:13.611Z"
   },
   {
    "duration": 22,
    "start_time": "2021-09-23T15:32:20.132Z"
   },
   {
    "duration": 21,
    "start_time": "2021-09-23T15:37:29.170Z"
   },
   {
    "duration": 9,
    "start_time": "2021-09-23T15:38:11.106Z"
   },
   {
    "duration": 8,
    "start_time": "2021-09-23T15:38:25.901Z"
   },
   {
    "duration": 9,
    "start_time": "2021-09-23T15:38:31.719Z"
   },
   {
    "duration": 8,
    "start_time": "2021-09-23T15:38:49.499Z"
   },
   {
    "duration": 8,
    "start_time": "2021-09-23T15:38:52.565Z"
   },
   {
    "duration": 9,
    "start_time": "2021-09-23T15:39:10.284Z"
   },
   {
    "duration": 74,
    "start_time": "2021-09-23T15:42:46.892Z"
   },
   {
    "duration": 189,
    "start_time": "2021-09-23T15:43:05.586Z"
   },
   {
    "duration": 180,
    "start_time": "2021-09-23T15:43:21.547Z"
   },
   {
    "duration": 187,
    "start_time": "2021-09-23T15:43:36.965Z"
   },
   {
    "duration": 227,
    "start_time": "2021-09-23T15:43:44.563Z"
   },
   {
    "duration": 182,
    "start_time": "2021-09-23T15:44:18.456Z"
   },
   {
    "duration": 610,
    "start_time": "2021-09-23T15:45:43.833Z"
   },
   {
    "duration": 262,
    "start_time": "2021-09-23T15:45:56.529Z"
   },
   {
    "duration": 231,
    "start_time": "2021-09-23T15:46:01.903Z"
   },
   {
    "duration": 215,
    "start_time": "2021-09-23T15:46:05.567Z"
   },
   {
    "duration": 213,
    "start_time": "2021-09-23T15:46:10.859Z"
   },
   {
    "duration": 197,
    "start_time": "2021-09-23T15:46:29.540Z"
   },
   {
    "duration": 200,
    "start_time": "2021-09-23T15:46:46.601Z"
   },
   {
    "duration": 196,
    "start_time": "2021-09-23T15:46:49.438Z"
   },
   {
    "duration": 848,
    "start_time": "2021-09-23T15:47:03.608Z"
   },
   {
    "duration": 185,
    "start_time": "2021-09-23T15:47:06.640Z"
   },
   {
    "duration": 340,
    "start_time": "2021-09-23T15:47:18.780Z"
   },
   {
    "duration": 336,
    "start_time": "2021-09-23T15:47:28.378Z"
   },
   {
    "duration": 354,
    "start_time": "2021-09-23T15:47:31.277Z"
   },
   {
    "duration": 533,
    "start_time": "2021-09-23T15:47:52.824Z"
   },
   {
    "duration": 335,
    "start_time": "2021-09-23T15:48:06.525Z"
   },
   {
    "duration": 401,
    "start_time": "2021-09-23T15:48:46.939Z"
   },
   {
    "duration": 474,
    "start_time": "2021-09-23T15:48:54.739Z"
   },
   {
    "duration": 335,
    "start_time": "2021-09-23T15:49:05.137Z"
   },
   {
    "duration": 364,
    "start_time": "2021-09-23T15:49:12.004Z"
   },
   {
    "duration": 190,
    "start_time": "2021-09-23T15:49:39.863Z"
   },
   {
    "duration": 269,
    "start_time": "2021-09-23T15:50:17.500Z"
   },
   {
    "duration": 182,
    "start_time": "2021-09-23T15:50:23.696Z"
   },
   {
    "duration": 183,
    "start_time": "2021-09-23T15:50:28.964Z"
   },
   {
    "duration": 154,
    "start_time": "2021-09-23T15:50:33.846Z"
   },
   {
    "duration": 177,
    "start_time": "2021-09-23T15:50:39.223Z"
   },
   {
    "duration": 186,
    "start_time": "2021-09-23T15:51:22.971Z"
   },
   {
    "duration": 158,
    "start_time": "2021-09-23T15:58:53.740Z"
   },
   {
    "duration": 173,
    "start_time": "2021-09-23T15:58:58.322Z"
   },
   {
    "duration": 183,
    "start_time": "2021-09-23T15:59:22.358Z"
   },
   {
    "duration": 172,
    "start_time": "2021-09-23T15:59:32.658Z"
   },
   {
    "duration": 179,
    "start_time": "2021-09-23T15:59:39.540Z"
   },
   {
    "duration": 9892,
    "start_time": "2021-09-23T16:03:57.367Z"
   },
   {
    "duration": 167,
    "start_time": "2021-09-23T16:04:08.646Z"
   },
   {
    "duration": 22,
    "start_time": "2021-09-23T16:04:14.496Z"
   },
   {
    "duration": 183,
    "start_time": "2021-09-23T16:04:20.806Z"
   },
   {
    "duration": 23,
    "start_time": "2021-09-23T16:04:22.136Z"
   },
   {
    "duration": 9,
    "start_time": "2021-09-23T16:07:32.437Z"
   },
   {
    "duration": 117,
    "start_time": "2021-09-23T16:08:31.234Z"
   },
   {
    "duration": 201,
    "start_time": "2021-09-23T16:09:31.666Z"
   },
   {
    "duration": 331,
    "start_time": "2021-09-23T16:10:19.548Z"
   },
   {
    "duration": 245,
    "start_time": "2021-09-23T16:10:34.863Z"
   },
   {
    "duration": 251,
    "start_time": "2021-09-23T16:10:41.192Z"
   },
   {
    "duration": 249,
    "start_time": "2021-09-23T16:10:50.907Z"
   },
   {
    "duration": 344,
    "start_time": "2021-09-23T16:10:58.679Z"
   },
   {
    "duration": 242,
    "start_time": "2021-09-23T16:11:07.156Z"
   },
   {
    "duration": 273,
    "start_time": "2021-09-23T16:11:11.975Z"
   },
   {
    "duration": 244,
    "start_time": "2021-09-23T16:11:18.704Z"
   },
   {
    "duration": 240,
    "start_time": "2021-09-23T16:11:27.621Z"
   },
   {
    "duration": 65,
    "start_time": "2021-09-23T16:11:49.246Z"
   },
   {
    "duration": 27,
    "start_time": "2021-09-23T16:12:03.323Z"
   },
   {
    "duration": 1290,
    "start_time": "2021-09-23T16:14:34.460Z"
   },
   {
    "duration": 1938,
    "start_time": "2021-09-23T16:14:35.753Z"
   },
   {
    "duration": 26,
    "start_time": "2021-09-23T16:14:37.693Z"
   },
   {
    "duration": 137,
    "start_time": "2021-09-23T16:14:37.721Z"
   },
   {
    "duration": 336,
    "start_time": "2021-09-23T16:14:37.860Z"
   },
   {
    "duration": 45,
    "start_time": "2021-09-23T16:14:38.198Z"
   },
   {
    "duration": 103,
    "start_time": "2021-09-23T16:14:38.245Z"
   },
   {
    "duration": 329,
    "start_time": "2021-09-23T16:14:38.350Z"
   },
   {
    "duration": 341,
    "start_time": "2021-09-23T16:14:38.681Z"
   },
   {
    "duration": 98,
    "start_time": "2021-09-23T16:14:39.025Z"
   },
   {
    "duration": 265,
    "start_time": "2021-09-23T16:14:39.125Z"
   },
   {
    "duration": 45,
    "start_time": "2021-09-23T16:14:39.392Z"
   },
   {
    "duration": 40,
    "start_time": "2021-09-23T16:14:39.439Z"
   },
   {
    "duration": 201,
    "start_time": "2021-09-23T16:17:38.722Z"
   },
   {
    "duration": 776,
    "start_time": "2021-09-23T16:20:22.673Z"
   },
   {
    "duration": 412,
    "start_time": "2021-09-23T16:23:41.193Z"
   },
   {
    "duration": 22,
    "start_time": "2021-09-23T16:24:18.329Z"
   },
   {
    "duration": 52,
    "start_time": "2021-09-23T16:25:25.303Z"
   },
   {
    "duration": 52,
    "start_time": "2021-09-23T16:26:00.629Z"
   },
   {
    "duration": 1168,
    "start_time": "2021-09-23T16:26:54.478Z"
   },
   {
    "duration": 2921,
    "start_time": "2021-09-23T16:26:55.648Z"
   },
   {
    "duration": 27,
    "start_time": "2021-09-23T16:26:58.571Z"
   },
   {
    "duration": 126,
    "start_time": "2021-09-23T16:26:58.600Z"
   },
   {
    "duration": 335,
    "start_time": "2021-09-23T16:26:58.727Z"
   },
   {
    "duration": 47,
    "start_time": "2021-09-23T16:26:59.064Z"
   },
   {
    "duration": 108,
    "start_time": "2021-09-23T16:26:59.112Z"
   },
   {
    "duration": 336,
    "start_time": "2021-09-23T16:26:59.222Z"
   },
   {
    "duration": 326,
    "start_time": "2021-09-23T16:26:59.560Z"
   },
   {
    "duration": 74,
    "start_time": "2021-09-23T16:26:59.888Z"
   },
   {
    "duration": 427,
    "start_time": "2021-09-23T16:26:59.963Z"
   },
   {
    "duration": 46,
    "start_time": "2021-09-23T16:27:00.391Z"
   },
   {
    "duration": 3,
    "start_time": "2021-09-23T16:46:47.461Z"
   },
   {
    "duration": 4,
    "start_time": "2021-09-23T16:56:39.518Z"
   },
   {
    "duration": 138,
    "start_time": "2021-09-23T16:56:39.840Z"
   },
   {
    "duration": 1441,
    "start_time": "2021-09-23T16:56:56.842Z"
   },
   {
    "duration": 1930,
    "start_time": "2021-09-23T16:56:58.286Z"
   },
   {
    "duration": 41,
    "start_time": "2021-09-23T16:57:00.219Z"
   },
   {
    "duration": 236,
    "start_time": "2021-09-23T16:57:00.263Z"
   },
   {
    "duration": 680,
    "start_time": "2021-09-23T16:57:00.502Z"
   },
   {
    "duration": 44,
    "start_time": "2021-09-23T16:57:01.184Z"
   },
   {
    "duration": 110,
    "start_time": "2021-09-23T16:57:01.229Z"
   },
   {
    "duration": 338,
    "start_time": "2021-09-23T16:57:01.341Z"
   },
   {
    "duration": 337,
    "start_time": "2021-09-23T16:57:01.682Z"
   },
   {
    "duration": 83,
    "start_time": "2021-09-23T16:57:02.021Z"
   },
   {
    "duration": 433,
    "start_time": "2021-09-23T16:57:02.106Z"
   },
   {
    "duration": 2,
    "start_time": "2021-09-23T16:57:02.541Z"
   },
   {
    "duration": 7,
    "start_time": "2021-09-23T16:57:02.545Z"
   },
   {
    "duration": 163,
    "start_time": "2021-09-23T16:57:02.553Z"
   },
   {
    "duration": 369,
    "start_time": "2021-09-23T16:57:26.541Z"
   },
   {
    "duration": 306,
    "start_time": "2021-09-23T17:01:16.491Z"
   },
   {
    "duration": 363,
    "start_time": "2021-09-23T17:01:22.702Z"
   },
   {
    "duration": 278,
    "start_time": "2021-09-23T17:01:27.361Z"
   },
   {
    "duration": 256,
    "start_time": "2021-09-23T17:01:31.773Z"
   },
   {
    "duration": 243,
    "start_time": "2021-09-23T17:01:38.755Z"
   },
   {
    "duration": 1208,
    "start_time": "2021-09-23T17:01:43.841Z"
   },
   {
    "duration": 3638,
    "start_time": "2021-09-23T17:01:45.051Z"
   },
   {
    "duration": 26,
    "start_time": "2021-09-23T17:01:48.691Z"
   },
   {
    "duration": 142,
    "start_time": "2021-09-23T17:01:48.720Z"
   },
   {
    "duration": 344,
    "start_time": "2021-09-23T17:01:48.864Z"
   },
   {
    "duration": 41,
    "start_time": "2021-09-23T17:01:49.209Z"
   },
   {
    "duration": 105,
    "start_time": "2021-09-23T17:01:49.252Z"
   },
   {
    "duration": 329,
    "start_time": "2021-09-23T17:01:49.360Z"
   },
   {
    "duration": 322,
    "start_time": "2021-09-23T17:01:49.692Z"
   },
   {
    "duration": 86,
    "start_time": "2021-09-23T17:01:50.016Z"
   },
   {
    "duration": 302,
    "start_time": "2021-09-23T17:01:50.104Z"
   },
   {
    "duration": 4,
    "start_time": "2021-09-23T17:01:50.409Z"
   },
   {
    "duration": 178,
    "start_time": "2021-09-23T17:01:50.415Z"
   },
   {
    "duration": 261,
    "start_time": "2021-09-23T17:01:50.595Z"
   },
   {
    "duration": 253,
    "start_time": "2021-09-23T17:01:59.262Z"
   },
   {
    "duration": 325,
    "start_time": "2021-09-23T17:02:04.013Z"
   },
   {
    "duration": 260,
    "start_time": "2021-09-23T17:02:06.967Z"
   },
   {
    "duration": 255,
    "start_time": "2021-09-23T17:02:09.430Z"
   },
   {
    "duration": 256,
    "start_time": "2021-09-23T17:02:13.062Z"
   },
   {
    "duration": 248,
    "start_time": "2021-09-23T17:02:15.385Z"
   },
   {
    "duration": 251,
    "start_time": "2021-09-23T17:02:18.329Z"
   },
   {
    "duration": 332,
    "start_time": "2021-09-23T17:02:22.666Z"
   },
   {
    "duration": 1165,
    "start_time": "2021-09-23T17:02:27.188Z"
   },
   {
    "duration": 3164,
    "start_time": "2021-09-23T17:02:28.355Z"
   },
   {
    "duration": 27,
    "start_time": "2021-09-23T17:02:31.522Z"
   },
   {
    "duration": 155,
    "start_time": "2021-09-23T17:02:31.552Z"
   },
   {
    "duration": 358,
    "start_time": "2021-09-23T17:02:31.709Z"
   },
   {
    "duration": 48,
    "start_time": "2021-09-23T17:02:32.068Z"
   },
   {
    "duration": 108,
    "start_time": "2021-09-23T17:02:32.119Z"
   },
   {
    "duration": 343,
    "start_time": "2021-09-23T17:02:32.228Z"
   },
   {
    "duration": 327,
    "start_time": "2021-09-23T17:02:32.577Z"
   },
   {
    "duration": 82,
    "start_time": "2021-09-23T17:02:32.906Z"
   },
   {
    "duration": 322,
    "start_time": "2021-09-23T17:02:32.989Z"
   },
   {
    "duration": 4,
    "start_time": "2021-09-23T17:02:33.313Z"
   },
   {
    "duration": 174,
    "start_time": "2021-09-23T17:02:33.319Z"
   },
   {
    "duration": 285,
    "start_time": "2021-09-23T17:02:33.495Z"
   },
   {
    "duration": 267,
    "start_time": "2021-09-23T17:03:03.253Z"
   },
   {
    "duration": 454,
    "start_time": "2021-09-23T17:03:09.930Z"
   },
   {
    "duration": 448,
    "start_time": "2021-09-23T17:03:22.318Z"
   },
   {
    "duration": 381,
    "start_time": "2021-09-23T17:03:25.398Z"
   },
   {
    "duration": 424,
    "start_time": "2021-09-23T17:03:29.674Z"
   },
   {
    "duration": 354,
    "start_time": "2021-09-23T17:03:32.933Z"
   },
   {
    "duration": 346,
    "start_time": "2021-09-23T17:03:36.536Z"
   },
   {
    "duration": 494,
    "start_time": "2021-09-23T17:03:46.601Z"
   },
   {
    "duration": 553,
    "start_time": "2021-09-23T17:03:49.269Z"
   },
   {
    "duration": 485,
    "start_time": "2021-09-23T17:03:54.040Z"
   },
   {
    "duration": 257,
    "start_time": "2021-09-23T17:03:55.914Z"
   },
   {
    "duration": 269,
    "start_time": "2021-09-23T17:03:59.670Z"
   },
   {
    "duration": 260,
    "start_time": "2021-09-23T17:04:03.467Z"
   },
   {
    "duration": 262,
    "start_time": "2021-09-23T17:04:08.421Z"
   },
   {
    "duration": 346,
    "start_time": "2021-09-23T17:04:09.962Z"
   },
   {
    "duration": 403,
    "start_time": "2021-09-23T17:04:17.163Z"
   },
   {
    "duration": 370,
    "start_time": "2021-09-23T17:04:20.568Z"
   },
   {
    "duration": 391,
    "start_time": "2021-09-23T17:04:24.161Z"
   },
   {
    "duration": 261,
    "start_time": "2021-09-23T17:04:32.845Z"
   },
   {
    "duration": 267,
    "start_time": "2021-09-23T17:04:35.612Z"
   },
   {
    "duration": 460,
    "start_time": "2021-09-23T17:07:22.933Z"
   },
   {
    "duration": 423,
    "start_time": "2021-09-23T17:07:45.627Z"
   },
   {
    "duration": 431,
    "start_time": "2021-09-23T17:08:02.805Z"
   },
   {
    "duration": 1177,
    "start_time": "2021-09-23T17:08:07.870Z"
   },
   {
    "duration": 1755,
    "start_time": "2021-09-23T17:08:09.049Z"
   },
   {
    "duration": 28,
    "start_time": "2021-09-23T17:08:10.806Z"
   },
   {
    "duration": 137,
    "start_time": "2021-09-23T17:08:10.836Z"
   },
   {
    "duration": 344,
    "start_time": "2021-09-23T17:08:10.977Z"
   },
   {
    "duration": 42,
    "start_time": "2021-09-23T17:08:11.323Z"
   },
   {
    "duration": 111,
    "start_time": "2021-09-23T17:08:11.367Z"
   },
   {
    "duration": 334,
    "start_time": "2021-09-23T17:08:11.480Z"
   },
   {
    "duration": 332,
    "start_time": "2021-09-23T17:08:11.816Z"
   },
   {
    "duration": 94,
    "start_time": "2021-09-23T17:08:12.150Z"
   },
   {
    "duration": 508,
    "start_time": "2021-09-23T17:08:12.245Z"
   },
   {
    "duration": 4,
    "start_time": "2021-09-23T17:08:12.755Z"
   },
   {
    "duration": 172,
    "start_time": "2021-09-23T17:08:12.761Z"
   },
   {
    "duration": 433,
    "start_time": "2021-09-23T17:08:12.934Z"
   },
   {
    "duration": 429,
    "start_time": "2021-09-23T17:08:19.739Z"
   },
   {
    "duration": 1188,
    "start_time": "2021-09-23T17:08:24.554Z"
   },
   {
    "duration": 2906,
    "start_time": "2021-09-23T17:08:25.745Z"
   },
   {
    "duration": 31,
    "start_time": "2021-09-23T17:08:28.652Z"
   },
   {
    "duration": 133,
    "start_time": "2021-09-23T17:08:28.685Z"
   },
   {
    "duration": 340,
    "start_time": "2021-09-23T17:08:28.819Z"
   },
   {
    "duration": 45,
    "start_time": "2021-09-23T17:08:29.161Z"
   },
   {
    "duration": 104,
    "start_time": "2021-09-23T17:08:29.208Z"
   },
   {
    "duration": 323,
    "start_time": "2021-09-23T17:08:29.314Z"
   },
   {
    "duration": 327,
    "start_time": "2021-09-23T17:08:29.639Z"
   },
   {
    "duration": 81,
    "start_time": "2021-09-23T17:08:29.969Z"
   },
   {
    "duration": 501,
    "start_time": "2021-09-23T17:08:30.052Z"
   },
   {
    "duration": 5,
    "start_time": "2021-09-23T17:08:30.555Z"
   },
   {
    "duration": 180,
    "start_time": "2021-09-23T17:08:30.562Z"
   },
   {
    "duration": 436,
    "start_time": "2021-09-23T17:08:30.743Z"
   },
   {
    "duration": 423,
    "start_time": "2021-09-23T17:08:50.430Z"
   },
   {
    "duration": 491,
    "start_time": "2021-09-23T17:08:52.824Z"
   },
   {
    "duration": 456,
    "start_time": "2021-09-23T17:08:55.295Z"
   },
   {
    "duration": 423,
    "start_time": "2021-09-23T17:08:58.053Z"
   },
   {
    "duration": 434,
    "start_time": "2021-09-23T17:08:59.854Z"
   },
   {
    "duration": 430,
    "start_time": "2021-09-23T17:09:04.442Z"
   },
   {
    "duration": 430,
    "start_time": "2021-09-23T17:09:09.469Z"
   },
   {
    "duration": 85,
    "start_time": "2021-09-23T17:09:42.959Z"
   },
   {
    "duration": 460,
    "start_time": "2021-09-23T17:09:43.464Z"
   },
   {
    "duration": 71,
    "start_time": "2021-09-23T17:09:46.688Z"
   },
   {
    "duration": 1166,
    "start_time": "2021-09-23T17:09:58.890Z"
   },
   {
    "duration": 1681,
    "start_time": "2021-09-23T17:10:00.058Z"
   },
   {
    "duration": 36,
    "start_time": "2021-09-23T17:10:01.742Z"
   },
   {
    "duration": 135,
    "start_time": "2021-09-23T17:10:01.781Z"
   },
   {
    "duration": 360,
    "start_time": "2021-09-23T17:10:01.918Z"
   },
   {
    "duration": 42,
    "start_time": "2021-09-23T17:10:02.279Z"
   },
   {
    "duration": 104,
    "start_time": "2021-09-23T17:10:02.323Z"
   },
   {
    "duration": 329,
    "start_time": "2021-09-23T17:10:02.430Z"
   },
   {
    "duration": 328,
    "start_time": "2021-09-23T17:10:02.762Z"
   },
   {
    "duration": 86,
    "start_time": "2021-09-23T17:10:03.092Z"
   },
   {
    "duration": 488,
    "start_time": "2021-09-23T17:10:03.179Z"
   },
   {
    "duration": 8,
    "start_time": "2021-09-23T17:10:03.669Z"
   },
   {
    "duration": 147,
    "start_time": "2021-09-23T17:10:03.679Z"
   },
   {
    "duration": 443,
    "start_time": "2021-09-23T17:10:03.829Z"
   },
   {
    "duration": 72,
    "start_time": "2021-09-23T17:10:04.276Z"
   },
   {
    "duration": 4,
    "start_time": "2021-09-23T17:10:35.644Z"
   },
   {
    "duration": 76,
    "start_time": "2021-09-23T17:10:36.313Z"
   },
   {
    "duration": 444,
    "start_time": "2021-09-23T17:10:36.887Z"
   },
   {
    "duration": 69,
    "start_time": "2021-09-23T17:10:38.359Z"
   },
   {
    "duration": 1201,
    "start_time": "2021-09-23T17:10:43.357Z"
   },
   {
    "duration": 3023,
    "start_time": "2021-09-23T17:10:44.560Z"
   },
   {
    "duration": 31,
    "start_time": "2021-09-23T17:10:47.586Z"
   },
   {
    "duration": 136,
    "start_time": "2021-09-23T17:10:47.619Z"
   },
   {
    "duration": 341,
    "start_time": "2021-09-23T17:10:47.756Z"
   },
   {
    "duration": 44,
    "start_time": "2021-09-23T17:10:48.099Z"
   },
   {
    "duration": 110,
    "start_time": "2021-09-23T17:10:48.145Z"
   },
   {
    "duration": 406,
    "start_time": "2021-09-23T17:10:48.257Z"
   },
   {
    "duration": 317,
    "start_time": "2021-09-23T17:10:48.666Z"
   },
   {
    "duration": 71,
    "start_time": "2021-09-23T17:10:48.986Z"
   },
   {
    "duration": 489,
    "start_time": "2021-09-23T17:10:49.059Z"
   },
   {
    "duration": 5,
    "start_time": "2021-09-23T17:10:49.550Z"
   },
   {
    "duration": 103,
    "start_time": "2021-09-23T17:10:49.557Z"
   },
   {
    "duration": 451,
    "start_time": "2021-09-23T17:10:49.662Z"
   },
   {
    "duration": 84,
    "start_time": "2021-09-23T17:10:50.115Z"
   },
   {
    "duration": 733,
    "start_time": "2021-09-23T17:11:40.197Z"
   },
   {
    "duration": 551,
    "start_time": "2021-09-23T17:11:56.941Z"
   },
   {
    "duration": 4,
    "start_time": "2021-09-23T17:12:29.225Z"
   },
   {
    "duration": 4,
    "start_time": "2021-09-23T17:12:47.920Z"
   },
   {
    "duration": 84,
    "start_time": "2021-09-23T17:14:08.154Z"
   },
   {
    "duration": 501,
    "start_time": "2021-09-23T17:20:57.496Z"
   },
   {
    "duration": 831,
    "start_time": "2021-09-23T17:20:57.168Z"
   },
   {
    "duration": 356,
    "start_time": "2021-09-23T17:21:08.317Z"
   },
   {
    "duration": 4374,
    "start_time": "2021-09-23T17:22:15.745Z"
   },
   {
    "duration": 822,
    "start_time": "2021-09-23T17:22:19.299Z"
   },
   {
    "duration": 3108,
    "start_time": "2021-09-23T17:22:32.478Z"
   },
   {
    "duration": 24,
    "start_time": "2021-09-23T17:22:35.588Z"
   },
   {
    "duration": 113,
    "start_time": "2021-09-23T17:22:52.028Z"
   },
   {
    "duration": 1241,
    "start_time": "2021-09-23T17:23:03.197Z"
   },
   {
    "duration": 22,
    "start_time": "2021-09-23T17:23:04.440Z"
   },
   {
    "duration": 1453,
    "start_time": "2021-09-23T17:23:21.264Z"
   },
   {
    "duration": 21,
    "start_time": "2021-09-23T17:23:22.719Z"
   },
   {
    "duration": 15,
    "start_time": "2021-09-23T17:23:38.300Z"
   },
   {
    "duration": 1440,
    "start_time": "2021-09-23T17:23:49.682Z"
   },
   {
    "duration": 14,
    "start_time": "2021-09-23T17:23:51.124Z"
   },
   {
    "duration": 3067,
    "start_time": "2021-09-23T17:24:02.456Z"
   },
   {
    "duration": 22,
    "start_time": "2021-09-23T17:24:05.525Z"
   },
   {
    "duration": 1254,
    "start_time": "2021-09-23T17:24:10.682Z"
   },
   {
    "duration": 1463,
    "start_time": "2021-09-23T17:24:11.938Z"
   },
   {
    "duration": 27,
    "start_time": "2021-09-23T17:24:13.404Z"
   },
   {
    "duration": 130,
    "start_time": "2021-09-23T17:24:13.433Z"
   },
   {
    "duration": 329,
    "start_time": "2021-09-23T17:24:13.564Z"
   },
   {
    "duration": 46,
    "start_time": "2021-09-23T17:24:13.895Z"
   },
   {
    "duration": 94,
    "start_time": "2021-09-23T17:24:13.944Z"
   },
   {
    "duration": 346,
    "start_time": "2021-09-23T17:24:14.040Z"
   },
   {
    "duration": 345,
    "start_time": "2021-09-23T17:24:14.388Z"
   },
   {
    "duration": 83,
    "start_time": "2021-09-23T17:24:14.734Z"
   },
   {
    "duration": 476,
    "start_time": "2021-09-23T17:24:14.818Z"
   },
   {
    "duration": 3,
    "start_time": "2021-09-23T17:24:15.296Z"
   },
   {
    "duration": 108,
    "start_time": "2021-09-23T17:24:15.301Z"
   },
   {
    "duration": 433,
    "start_time": "2021-09-23T17:24:15.411Z"
   },
   {
    "duration": 77,
    "start_time": "2021-09-23T17:24:15.846Z"
   },
   {
    "duration": 1149,
    "start_time": "2021-09-23T17:27:37.888Z"
   },
   {
    "duration": 1530,
    "start_time": "2021-09-23T17:27:39.040Z"
   },
   {
    "duration": 25,
    "start_time": "2021-09-23T17:27:40.572Z"
   },
   {
    "duration": 130,
    "start_time": "2021-09-23T17:27:40.599Z"
   },
   {
    "duration": 335,
    "start_time": "2021-09-23T17:27:40.731Z"
   },
   {
    "duration": 51,
    "start_time": "2021-09-23T17:27:41.068Z"
   },
   {
    "duration": 93,
    "start_time": "2021-09-23T17:27:41.121Z"
   },
   {
    "duration": 347,
    "start_time": "2021-09-23T17:27:41.216Z"
   },
   {
    "duration": 347,
    "start_time": "2021-09-23T17:27:41.565Z"
   },
   {
    "duration": 86,
    "start_time": "2021-09-23T17:27:41.914Z"
   },
   {
    "duration": 502,
    "start_time": "2021-09-23T17:27:42.001Z"
   },
   {
    "duration": 3,
    "start_time": "2021-09-23T17:27:42.505Z"
   },
   {
    "duration": 104,
    "start_time": "2021-09-23T17:27:42.510Z"
   },
   {
    "duration": 446,
    "start_time": "2021-09-23T17:27:42.616Z"
   },
   {
    "duration": 75,
    "start_time": "2021-09-23T17:27:43.065Z"
   },
   {
    "duration": 74,
    "start_time": "2021-09-23T17:32:18.672Z"
   },
   {
    "duration": 1195,
    "start_time": "2021-09-23T17:32:43.446Z"
   },
   {
    "duration": 3320,
    "start_time": "2021-09-23T17:32:44.642Z"
   },
   {
    "duration": 36,
    "start_time": "2021-09-23T17:32:47.964Z"
   },
   {
    "duration": 123,
    "start_time": "2021-09-23T17:32:48.002Z"
   },
   {
    "duration": 126,
    "start_time": "2021-09-23T17:32:48.126Z"
   },
   {
    "duration": 335,
    "start_time": "2021-09-23T17:32:48.254Z"
   },
   {
    "duration": 45,
    "start_time": "2021-09-23T17:32:48.591Z"
   },
   {
    "duration": 352,
    "start_time": "2021-09-23T17:32:48.639Z"
   },
   {
    "duration": 347,
    "start_time": "2021-09-23T17:32:48.993Z"
   },
   {
    "duration": 83,
    "start_time": "2021-09-23T17:32:49.342Z"
   },
   {
    "duration": 473,
    "start_time": "2021-09-23T17:32:49.427Z"
   },
   {
    "duration": 3,
    "start_time": "2021-09-23T17:32:49.902Z"
   },
   {
    "duration": 101,
    "start_time": "2021-09-23T17:32:49.908Z"
   },
   {
    "duration": 446,
    "start_time": "2021-09-23T17:32:50.011Z"
   },
   {
    "duration": 76,
    "start_time": "2021-09-23T17:32:50.459Z"
   },
   {
    "duration": 79,
    "start_time": "2021-09-23T17:40:30.893Z"
   },
   {
    "duration": 32,
    "start_time": "2021-09-23T17:41:23.871Z"
   },
   {
    "duration": 32,
    "start_time": "2021-09-23T17:41:36.080Z"
   },
   {
    "duration": 34,
    "start_time": "2021-09-23T17:41:44.625Z"
   },
   {
    "duration": 33,
    "start_time": "2021-09-23T17:42:08.324Z"
   },
   {
    "duration": 34,
    "start_time": "2021-09-23T17:42:29.204Z"
   },
   {
    "duration": 32,
    "start_time": "2021-09-23T17:42:45.647Z"
   },
   {
    "duration": 9,
    "start_time": "2021-09-23T17:42:51.752Z"
   },
   {
    "duration": 6,
    "start_time": "2021-09-23T17:43:30.825Z"
   },
   {
    "duration": 6,
    "start_time": "2021-09-23T17:43:35.571Z"
   },
   {
    "duration": 1303,
    "start_time": "2021-09-23T17:44:13.550Z"
   },
   {
    "duration": 1947,
    "start_time": "2021-09-23T17:44:14.855Z"
   },
   {
    "duration": 25,
    "start_time": "2021-09-23T17:44:16.804Z"
   },
   {
    "duration": 134,
    "start_time": "2021-09-23T17:44:16.831Z"
   },
   {
    "duration": 131,
    "start_time": "2021-09-23T17:44:16.967Z"
   },
   {
    "duration": 343,
    "start_time": "2021-09-23T17:44:17.100Z"
   },
   {
    "duration": 52,
    "start_time": "2021-09-23T17:44:17.445Z"
   },
   {
    "duration": 252,
    "start_time": "2021-09-23T17:44:17.498Z"
   },
   {
    "duration": 256,
    "start_time": "2021-09-23T17:44:17.752Z"
   },
   {
    "duration": 79,
    "start_time": "2021-09-23T17:44:18.009Z"
   },
   {
    "duration": 507,
    "start_time": "2021-09-23T17:44:18.090Z"
   },
   {
    "duration": 4,
    "start_time": "2021-09-23T17:44:18.599Z"
   },
   {
    "duration": 84,
    "start_time": "2021-09-23T17:44:18.605Z"
   },
   {
    "duration": 451,
    "start_time": "2021-09-23T17:44:18.690Z"
   },
   {
    "duration": 75,
    "start_time": "2021-09-23T17:44:19.142Z"
   },
   {
    "duration": 74,
    "start_time": "2021-09-23T17:44:19.218Z"
   },
   {
    "duration": 33,
    "start_time": "2021-09-23T18:00:56.472Z"
   },
   {
    "duration": 141,
    "start_time": "2021-09-23T18:02:53.757Z"
   },
   {
    "duration": 138,
    "start_time": "2021-09-23T18:04:28.141Z"
   },
   {
    "duration": 91,
    "start_time": "2021-09-23T18:04:34.588Z"
   },
   {
    "duration": 384,
    "start_time": "2021-09-23T18:05:18.258Z"
   },
   {
    "duration": 810,
    "start_time": "2021-09-23T18:05:28.792Z"
   },
   {
    "duration": 887,
    "start_time": "2021-09-23T18:05:49.795Z"
   },
   {
    "duration": 1081,
    "start_time": "2021-09-23T18:06:05.593Z"
   },
   {
    "duration": 764,
    "start_time": "2021-09-23T18:07:02.364Z"
   },
   {
    "duration": 733,
    "start_time": "2021-09-23T18:08:01.206Z"
   },
   {
    "duration": 1199,
    "start_time": "2021-09-23T18:09:15.662Z"
   },
   {
    "duration": 1534,
    "start_time": "2021-09-23T18:09:16.863Z"
   },
   {
    "duration": 24,
    "start_time": "2021-09-23T18:09:18.399Z"
   },
   {
    "duration": 130,
    "start_time": "2021-09-23T18:09:18.425Z"
   },
   {
    "duration": 133,
    "start_time": "2021-09-23T18:09:18.557Z"
   },
   {
    "duration": 342,
    "start_time": "2021-09-23T18:09:18.692Z"
   },
   {
    "duration": 51,
    "start_time": "2021-09-23T18:09:19.036Z"
   },
   {
    "duration": 256,
    "start_time": "2021-09-23T18:09:19.090Z"
   },
   {
    "duration": 251,
    "start_time": "2021-09-23T18:09:19.348Z"
   },
   {
    "duration": 78,
    "start_time": "2021-09-23T18:09:19.601Z"
   },
   {
    "duration": 484,
    "start_time": "2021-09-23T18:09:19.681Z"
   },
   {
    "duration": 3,
    "start_time": "2021-09-23T18:09:20.167Z"
   },
   {
    "duration": 82,
    "start_time": "2021-09-23T18:09:20.176Z"
   },
   {
    "duration": 440,
    "start_time": "2021-09-23T18:09:20.260Z"
   },
   {
    "duration": 75,
    "start_time": "2021-09-23T18:09:20.702Z"
   },
   {
    "duration": 71,
    "start_time": "2021-09-23T18:09:20.779Z"
   },
   {
    "duration": 926,
    "start_time": "2021-09-23T18:09:20.851Z"
   },
   {
    "duration": 1151,
    "start_time": "2021-09-23T18:10:14.208Z"
   },
   {
    "duration": 3432,
    "start_time": "2021-09-23T18:10:15.361Z"
   },
   {
    "duration": 25,
    "start_time": "2021-09-23T18:10:18.796Z"
   },
   {
    "duration": 133,
    "start_time": "2021-09-23T18:10:18.824Z"
   },
   {
    "duration": 137,
    "start_time": "2021-09-23T18:10:18.959Z"
   },
   {
    "duration": 335,
    "start_time": "2021-09-23T18:10:19.097Z"
   },
   {
    "duration": 59,
    "start_time": "2021-09-23T18:10:19.434Z"
   },
   {
    "duration": 327,
    "start_time": "2021-09-23T18:10:19.495Z"
   },
   {
    "duration": 342,
    "start_time": "2021-09-23T18:10:19.824Z"
   },
   {
    "duration": 79,
    "start_time": "2021-09-23T18:10:20.168Z"
   },
   {
    "duration": 480,
    "start_time": "2021-09-23T18:10:20.248Z"
   },
   {
    "duration": 4,
    "start_time": "2021-09-23T18:10:20.730Z"
   },
   {
    "duration": 105,
    "start_time": "2021-09-23T18:10:20.736Z"
   },
   {
    "duration": 456,
    "start_time": "2021-09-23T18:10:20.843Z"
   },
   {
    "duration": 83,
    "start_time": "2021-09-23T18:10:21.301Z"
   },
   {
    "duration": 98,
    "start_time": "2021-09-23T18:10:21.386Z"
   },
   {
    "duration": 1017,
    "start_time": "2021-09-23T18:10:21.486Z"
   },
   {
    "duration": 1220,
    "start_time": "2021-09-23T18:10:30.538Z"
   },
   {
    "duration": 2901,
    "start_time": "2021-09-23T18:10:31.760Z"
   },
   {
    "duration": 28,
    "start_time": "2021-09-23T18:10:34.663Z"
   },
   {
    "duration": 132,
    "start_time": "2021-09-23T18:10:34.693Z"
   },
   {
    "duration": 134,
    "start_time": "2021-09-23T18:10:34.827Z"
   },
   {
    "duration": 349,
    "start_time": "2021-09-23T18:10:34.964Z"
   },
   {
    "duration": 3,
    "start_time": "2021-09-23T18:10:35.315Z"
   },
   {
    "duration": 796,
    "start_time": "2021-09-23T18:10:35.321Z"
   },
   {
    "duration": 844,
    "start_time": "2021-09-23T18:10:36.120Z"
   },
   {
    "duration": 111,
    "start_time": "2021-09-23T18:10:36.966Z"
   },
   {
    "duration": 498,
    "start_time": "2021-09-23T18:10:37.080Z"
   },
   {
    "duration": 5,
    "start_time": "2021-09-23T18:10:37.580Z"
   },
   {
    "duration": 133,
    "start_time": "2021-09-23T18:10:37.586Z"
   },
   {
    "duration": 582,
    "start_time": "2021-09-23T18:10:37.721Z"
   },
   {
    "duration": 101,
    "start_time": "2021-09-23T18:10:38.305Z"
   },
   {
    "duration": 123,
    "start_time": "2021-09-23T18:10:38.408Z"
   },
   {
    "duration": 1035,
    "start_time": "2021-09-23T18:10:38.533Z"
   },
   {
    "duration": 638,
    "start_time": "2021-09-23T18:13:17.072Z"
   },
   {
    "duration": 1161,
    "start_time": "2021-09-23T18:13:47.097Z"
   },
   {
    "duration": 1447,
    "start_time": "2021-09-23T18:13:48.260Z"
   },
   {
    "duration": 25,
    "start_time": "2021-09-23T18:13:49.709Z"
   },
   {
    "duration": 132,
    "start_time": "2021-09-23T18:13:49.735Z"
   },
   {
    "duration": 127,
    "start_time": "2021-09-23T18:13:49.869Z"
   },
   {
    "duration": 365,
    "start_time": "2021-09-23T18:13:49.998Z"
   },
   {
    "duration": 46,
    "start_time": "2021-09-23T18:13:50.365Z"
   },
   {
    "duration": 256,
    "start_time": "2021-09-23T18:13:50.413Z"
   },
   {
    "duration": 247,
    "start_time": "2021-09-23T18:13:50.672Z"
   },
   {
    "duration": 77,
    "start_time": "2021-09-23T18:13:50.921Z"
   },
   {
    "duration": 480,
    "start_time": "2021-09-23T18:13:51.000Z"
   },
   {
    "duration": 4,
    "start_time": "2021-09-23T18:13:51.481Z"
   },
   {
    "duration": 73,
    "start_time": "2021-09-23T18:13:51.487Z"
   },
   {
    "duration": 451,
    "start_time": "2021-09-23T18:13:51.561Z"
   },
   {
    "duration": 79,
    "start_time": "2021-09-23T18:13:52.014Z"
   },
   {
    "duration": 70,
    "start_time": "2021-09-23T18:13:52.095Z"
   },
   {
    "duration": 882,
    "start_time": "2021-09-23T18:13:52.167Z"
   },
   {
    "duration": 1152,
    "start_time": "2021-09-23T18:19:08.308Z"
   },
   {
    "duration": 3100,
    "start_time": "2021-09-23T18:19:09.463Z"
   },
   {
    "duration": 35,
    "start_time": "2021-09-23T18:19:12.566Z"
   },
   {
    "duration": 140,
    "start_time": "2021-09-23T18:19:12.604Z"
   },
   {
    "duration": 134,
    "start_time": "2021-09-23T18:19:12.747Z"
   },
   {
    "duration": 443,
    "start_time": "2021-09-23T18:19:12.883Z"
   },
   {
    "duration": 49,
    "start_time": "2021-09-23T18:19:13.328Z"
   },
   {
    "duration": 253,
    "start_time": "2021-09-23T18:19:13.379Z"
   },
   {
    "duration": 257,
    "start_time": "2021-09-23T18:19:13.635Z"
   },
   {
    "duration": 71,
    "start_time": "2021-09-23T18:19:13.894Z"
   },
   {
    "duration": 511,
    "start_time": "2021-09-23T18:19:13.977Z"
   },
   {
    "duration": 4,
    "start_time": "2021-09-23T18:19:14.490Z"
   },
   {
    "duration": 259,
    "start_time": "2021-09-23T18:19:14.496Z"
   },
   {
    "duration": 536,
    "start_time": "2021-09-23T18:19:14.757Z"
   },
   {
    "duration": 63,
    "start_time": "2021-09-23T18:19:15.295Z"
   },
   {
    "duration": 85,
    "start_time": "2021-09-23T18:19:15.360Z"
   },
   {
    "duration": 861,
    "start_time": "2021-09-23T18:19:15.447Z"
   },
   {
    "duration": 141,
    "start_time": "2021-09-23T18:20:06.707Z"
   },
   {
    "duration": 830,
    "start_time": "2021-09-23T18:20:25.030Z"
   },
   {
    "duration": 23,
    "start_time": "2021-09-23T18:21:09.107Z"
   },
   {
    "duration": 659,
    "start_time": "2021-09-23T18:21:41.184Z"
   },
   {
    "duration": 3,
    "start_time": "2021-09-23T18:22:43.801Z"
   },
   {
    "duration": 114,
    "start_time": "2021-09-23T18:25:15.610Z"
   },
   {
    "duration": 126,
    "start_time": "2021-09-23T18:25:22.469Z"
   },
   {
    "duration": 115,
    "start_time": "2021-09-23T18:25:53.349Z"
   },
   {
    "duration": 117,
    "start_time": "2021-09-23T18:26:06.916Z"
   },
   {
    "duration": 153,
    "start_time": "2021-09-23T18:26:36.216Z"
   },
   {
    "duration": 112,
    "start_time": "2021-09-23T18:26:49.193Z"
   },
   {
    "duration": 119,
    "start_time": "2021-09-23T18:27:22.681Z"
   },
   {
    "duration": 56,
    "start_time": "2021-09-23T18:27:27.523Z"
   },
   {
    "duration": 64,
    "start_time": "2021-09-23T18:27:38.171Z"
   },
   {
    "duration": 64,
    "start_time": "2021-09-23T18:27:43.441Z"
   },
   {
    "duration": 77,
    "start_time": "2021-09-23T18:27:59.112Z"
   },
   {
    "duration": 55,
    "start_time": "2021-09-23T18:28:41.332Z"
   },
   {
    "duration": 59,
    "start_time": "2021-09-23T18:29:03.950Z"
   },
   {
    "duration": 4,
    "start_time": "2021-09-23T18:31:10.983Z"
   },
   {
    "duration": 661,
    "start_time": "2021-09-23T18:31:40.070Z"
   },
   {
    "duration": 149,
    "start_time": "2021-09-23T18:31:46.436Z"
   },
   {
    "duration": 73,
    "start_time": "2021-09-23T18:31:52.311Z"
   },
   {
    "duration": 4,
    "start_time": "2021-09-23T18:33:02.899Z"
   },
   {
    "duration": 21,
    "start_time": "2021-09-23T18:35:27.886Z"
   },
   {
    "duration": 52,
    "start_time": "2021-09-23T18:36:06.322Z"
   },
   {
    "duration": 140,
    "start_time": "2021-09-23T18:36:35.537Z"
   },
   {
    "duration": 93,
    "start_time": "2021-09-23T18:36:41.515Z"
   },
   {
    "duration": 37,
    "start_time": "2021-09-23T18:36:51.613Z"
   },
   {
    "duration": 149,
    "start_time": "2021-09-23T18:36:55.029Z"
   },
   {
    "duration": 5243,
    "start_time": "2021-09-23T18:37:19.461Z"
   },
   {
    "duration": 410,
    "start_time": "2021-09-23T18:37:56.198Z"
   },
   {
    "duration": 117,
    "start_time": "2021-09-23T18:38:09.316Z"
   },
   {
    "duration": 126,
    "start_time": "2021-09-23T18:38:12.353Z"
   },
   {
    "duration": 513,
    "start_time": "2021-09-23T18:38:16.133Z"
   },
   {
    "duration": 421,
    "start_time": "2021-09-23T18:38:19.101Z"
   },
   {
    "duration": 379,
    "start_time": "2021-09-23T18:38:23.143Z"
   },
   {
    "duration": 339,
    "start_time": "2021-09-23T18:38:30.405Z"
   },
   {
    "duration": 488,
    "start_time": "2021-09-23T18:38:36.231Z"
   },
   {
    "duration": 370,
    "start_time": "2021-09-23T18:38:45.734Z"
   },
   {
    "duration": 482,
    "start_time": "2021-09-23T18:39:03.864Z"
   },
   {
    "duration": 2,
    "start_time": "2021-09-23T18:39:13.480Z"
   },
   {
    "duration": 133,
    "start_time": "2021-09-23T18:39:14.450Z"
   },
   {
    "duration": 483,
    "start_time": "2021-09-23T18:39:16.197Z"
   },
   {
    "duration": 1352,
    "start_time": "2021-09-23T18:39:21.962Z"
   },
   {
    "duration": 3326,
    "start_time": "2021-09-23T18:39:23.316Z"
   },
   {
    "duration": 33,
    "start_time": "2021-09-23T18:39:26.644Z"
   },
   {
    "duration": 124,
    "start_time": "2021-09-23T18:39:26.678Z"
   },
   {
    "duration": 132,
    "start_time": "2021-09-23T18:39:26.804Z"
   },
   {
    "duration": 345,
    "start_time": "2021-09-23T18:39:26.937Z"
   },
   {
    "duration": 42,
    "start_time": "2021-09-23T18:39:27.283Z"
   },
   {
    "duration": 266,
    "start_time": "2021-09-23T18:39:27.328Z"
   },
   {
    "duration": 255,
    "start_time": "2021-09-23T18:39:27.596Z"
   },
   {
    "duration": 83,
    "start_time": "2021-09-23T18:39:27.853Z"
   },
   {
    "duration": 498,
    "start_time": "2021-09-23T18:39:27.938Z"
   },
   {
    "duration": 3,
    "start_time": "2021-09-23T18:39:28.438Z"
   },
   {
    "duration": 78,
    "start_time": "2021-09-23T18:39:28.443Z"
   },
   {
    "duration": 449,
    "start_time": "2021-09-23T18:39:28.523Z"
   },
   {
    "duration": 76,
    "start_time": "2021-09-23T18:39:28.974Z"
   },
   {
    "duration": 134,
    "start_time": "2021-09-23T18:39:29.052Z"
   },
   {
    "duration": 1016,
    "start_time": "2021-09-23T18:39:29.188Z"
   },
   {
    "duration": 81,
    "start_time": "2021-09-23T18:39:30.206Z"
   },
   {
    "duration": 3,
    "start_time": "2021-09-23T18:39:30.289Z"
   },
   {
    "duration": 288,
    "start_time": "2021-09-23T18:39:30.293Z"
   },
   {
    "duration": 544,
    "start_time": "2021-09-23T18:39:30.583Z"
   },
   {
    "duration": 1476,
    "start_time": "2021-09-23T20:16:40.214Z"
   },
   {
    "duration": 5155,
    "start_time": "2021-09-23T20:16:41.693Z"
   },
   {
    "duration": 41,
    "start_time": "2021-09-23T20:16:46.851Z"
   },
   {
    "duration": 175,
    "start_time": "2021-09-23T20:16:46.895Z"
   },
   {
    "duration": 176,
    "start_time": "2021-09-23T20:16:47.073Z"
   },
   {
    "duration": 479,
    "start_time": "2021-09-23T20:16:47.252Z"
   },
   {
    "duration": 73,
    "start_time": "2021-09-23T20:16:47.734Z"
   },
   {
    "duration": 382,
    "start_time": "2021-09-23T20:16:47.811Z"
   },
   {
    "duration": 405,
    "start_time": "2021-09-23T20:16:48.196Z"
   },
   {
    "duration": 102,
    "start_time": "2021-09-23T20:16:48.604Z"
   },
   {
    "duration": 819,
    "start_time": "2021-09-23T20:16:48.708Z"
   },
   {
    "duration": 6,
    "start_time": "2021-09-23T20:16:49.530Z"
   },
   {
    "duration": 140,
    "start_time": "2021-09-23T20:16:49.539Z"
   },
   {
    "duration": 870,
    "start_time": "2021-09-23T20:16:49.682Z"
   },
   {
    "duration": 92,
    "start_time": "2021-09-23T20:16:50.555Z"
   },
   {
    "duration": 107,
    "start_time": "2021-09-23T20:16:50.649Z"
   },
   {
    "duration": 1223,
    "start_time": "2021-09-23T20:16:50.758Z"
   },
   {
    "duration": 103,
    "start_time": "2021-09-23T20:16:51.984Z"
   },
   {
    "duration": 4,
    "start_time": "2021-09-23T20:16:52.090Z"
   },
   {
    "duration": 174,
    "start_time": "2021-09-23T20:16:52.097Z"
   },
   {
    "duration": 874,
    "start_time": "2021-09-23T20:16:52.274Z"
   },
   {
    "duration": 92,
    "start_time": "2021-09-23T20:17:55.486Z"
   },
   {
    "duration": 211,
    "start_time": "2021-09-23T20:18:04.062Z"
   },
   {
    "duration": 160,
    "start_time": "2021-09-23T20:18:11.714Z"
   },
   {
    "duration": 924,
    "start_time": "2021-09-23T20:18:38.866Z"
   },
   {
    "duration": 806,
    "start_time": "2021-09-23T20:18:46.323Z"
   },
   {
    "duration": 992,
    "start_time": "2021-09-23T20:19:12.055Z"
   },
   {
    "duration": 827,
    "start_time": "2021-09-23T20:19:18.229Z"
   },
   {
    "duration": 189,
    "start_time": "2021-09-23T20:19:26.887Z"
   },
   {
    "duration": 125,
    "start_time": "2021-09-23T20:19:29.247Z"
   },
   {
    "duration": 106,
    "start_time": "2021-09-23T20:19:34.371Z"
   },
   {
    "duration": 82,
    "start_time": "2021-09-23T20:20:03.520Z"
   },
   {
    "duration": 119,
    "start_time": "2021-09-23T20:20:04.662Z"
   },
   {
    "duration": 839,
    "start_time": "2021-09-23T20:20:06.607Z"
   },
   {
    "duration": 1625,
    "start_time": "2021-09-23T20:20:15.473Z"
   },
   {
    "duration": 1811,
    "start_time": "2021-09-23T20:20:17.101Z"
   },
   {
    "duration": 36,
    "start_time": "2021-09-23T20:20:18.915Z"
   },
   {
    "duration": 181,
    "start_time": "2021-09-23T20:20:18.953Z"
   },
   {
    "duration": 199,
    "start_time": "2021-09-23T20:20:19.137Z"
   },
   {
    "duration": 468,
    "start_time": "2021-09-23T20:20:19.339Z"
   },
   {
    "duration": 77,
    "start_time": "2021-09-23T20:20:19.809Z"
   },
   {
    "duration": 367,
    "start_time": "2021-09-23T20:20:19.888Z"
   },
   {
    "duration": 398,
    "start_time": "2021-09-23T20:20:20.258Z"
   },
   {
    "duration": 109,
    "start_time": "2021-09-23T20:20:20.660Z"
   },
   {
    "duration": 789,
    "start_time": "2021-09-23T20:20:20.772Z"
   },
   {
    "duration": 6,
    "start_time": "2021-09-23T20:20:21.568Z"
   },
   {
    "duration": 138,
    "start_time": "2021-09-23T20:20:21.577Z"
   },
   {
    "duration": 757,
    "start_time": "2021-09-23T20:20:21.718Z"
   },
   {
    "duration": 95,
    "start_time": "2021-09-23T20:20:22.477Z"
   },
   {
    "duration": 104,
    "start_time": "2021-09-23T20:20:22.574Z"
   },
   {
    "duration": 1216,
    "start_time": "2021-09-23T20:20:22.680Z"
   },
   {
    "duration": 93,
    "start_time": "2021-09-23T20:20:23.898Z"
   },
   {
    "duration": 99,
    "start_time": "2021-09-23T20:20:23.993Z"
   },
   {
    "duration": 180,
    "start_time": "2021-09-23T20:20:24.094Z"
   },
   {
    "duration": 896,
    "start_time": "2021-09-23T20:20:24.277Z"
   },
   {
    "duration": 4,
    "start_time": "2021-09-23T20:23:30.564Z"
   },
   {
    "duration": 116,
    "start_time": "2021-09-23T20:23:50.062Z"
   },
   {
    "duration": 691,
    "start_time": "2021-09-23T20:23:59.478Z"
   },
   {
    "duration": 4,
    "start_time": "2021-09-23T20:24:01.929Z"
   },
   {
    "duration": 152,
    "start_time": "2021-09-23T20:24:02.117Z"
   },
   {
    "duration": 734,
    "start_time": "2021-09-23T20:24:36.827Z"
   },
   {
    "duration": 69,
    "start_time": "2021-09-23T20:25:05.706Z"
   },
   {
    "duration": 214,
    "start_time": "2021-09-23T20:25:16.754Z"
   },
   {
    "duration": 902,
    "start_time": "2021-09-23T20:25:19.969Z"
   },
   {
    "duration": 7,
    "start_time": "2021-09-23T20:26:24.310Z"
   },
   {
    "duration": 5,
    "start_time": "2021-09-23T20:26:28.649Z"
   },
   {
    "duration": 253,
    "start_time": "2021-09-23T20:27:08.618Z"
   },
   {
    "duration": 618,
    "start_time": "2021-09-23T20:27:13.400Z"
   },
   {
    "duration": 209,
    "start_time": "2021-09-23T20:27:19.758Z"
   },
   {
    "duration": 195,
    "start_time": "2021-09-23T20:27:26.871Z"
   },
   {
    "duration": 70,
    "start_time": "2021-09-23T20:28:02.200Z"
   },
   {
    "duration": 87,
    "start_time": "2021-09-23T20:28:06.293Z"
   },
   {
    "duration": 4,
    "start_time": "2021-09-23T20:28:07.848Z"
   },
   {
    "duration": 250,
    "start_time": "2021-09-23T20:28:08.225Z"
   },
   {
    "duration": 900,
    "start_time": "2021-09-23T20:28:09.070Z"
   },
   {
    "duration": 802,
    "start_time": "2021-09-23T20:28:15.129Z"
   },
   {
    "duration": 1069,
    "start_time": "2021-09-23T20:28:22.236Z"
   },
   {
    "duration": 1142,
    "start_time": "2021-09-23T20:28:57.106Z"
   },
   {
    "duration": 1353,
    "start_time": "2021-09-23T20:29:02.549Z"
   },
   {
    "duration": 914,
    "start_time": "2021-09-23T20:30:07.622Z"
   },
   {
    "duration": 72,
    "start_time": "2021-09-23T20:30:48.025Z"
   },
   {
    "duration": 79,
    "start_time": "2021-09-23T20:30:49.039Z"
   },
   {
    "duration": 1662,
    "start_time": "2021-09-23T20:30:57.596Z"
   },
   {
    "duration": 1681,
    "start_time": "2021-09-23T20:30:59.261Z"
   },
   {
    "duration": 47,
    "start_time": "2021-09-23T20:31:00.945Z"
   },
   {
    "duration": 173,
    "start_time": "2021-09-23T20:31:00.995Z"
   },
   {
    "duration": 176,
    "start_time": "2021-09-23T20:31:01.171Z"
   },
   {
    "duration": 483,
    "start_time": "2021-09-23T20:31:01.350Z"
   },
   {
    "duration": 74,
    "start_time": "2021-09-23T20:31:01.835Z"
   },
   {
    "duration": 379,
    "start_time": "2021-09-23T20:31:01.912Z"
   },
   {
    "duration": 590,
    "start_time": "2021-09-23T20:31:02.296Z"
   },
   {
    "duration": 141,
    "start_time": "2021-09-23T20:31:02.890Z"
   },
   {
    "duration": 1228,
    "start_time": "2021-09-23T20:31:03.034Z"
   },
   {
    "duration": 8,
    "start_time": "2021-09-23T20:31:04.268Z"
   },
   {
    "duration": 136,
    "start_time": "2021-09-23T20:31:04.280Z"
   },
   {
    "duration": 731,
    "start_time": "2021-09-23T20:31:04.419Z"
   },
   {
    "duration": 96,
    "start_time": "2021-09-23T20:31:05.153Z"
   },
   {
    "duration": 117,
    "start_time": "2021-09-23T20:31:05.252Z"
   },
   {
    "duration": 1222,
    "start_time": "2021-09-23T20:31:05.371Z"
   },
   {
    "duration": 103,
    "start_time": "2021-09-23T20:31:06.596Z"
   },
   {
    "duration": 106,
    "start_time": "2021-09-23T20:31:06.702Z"
   },
   {
    "duration": 5,
    "start_time": "2021-09-23T20:31:06.810Z"
   },
   {
    "duration": 255,
    "start_time": "2021-09-23T20:31:06.818Z"
   },
   {
    "duration": 981,
    "start_time": "2021-09-23T20:31:07.076Z"
   },
   {
    "duration": 9,
    "start_time": "2021-09-23T20:31:08.060Z"
   },
   {
    "duration": 86,
    "start_time": "2021-09-23T20:32:17.194Z"
   },
   {
    "duration": 893,
    "start_time": "2021-09-23T20:32:18.202Z"
   },
   {
    "duration": 834,
    "start_time": "2021-09-23T20:32:28.320Z"
   },
   {
    "duration": 9,
    "start_time": "2021-09-23T20:32:49.253Z"
   },
   {
    "duration": 850,
    "start_time": "2021-09-23T20:35:06.076Z"
   },
   {
    "duration": 4,
    "start_time": "2021-09-23T20:36:23.604Z"
   },
   {
    "duration": 109,
    "start_time": "2021-09-23T20:36:45.763Z"
   },
   {
    "duration": 121,
    "start_time": "2021-09-23T20:37:08.647Z"
   },
   {
    "duration": 1072,
    "start_time": "2021-09-23T20:37:18.369Z"
   },
   {
    "duration": 764,
    "start_time": "2021-09-23T20:37:33.478Z"
   },
   {
    "duration": 5,
    "start_time": "2021-09-23T20:38:04.670Z"
   },
   {
    "duration": 1484,
    "start_time": "2021-09-23T20:38:09.506Z"
   },
   {
    "duration": 1934,
    "start_time": "2021-09-23T20:38:10.992Z"
   },
   {
    "duration": 48,
    "start_time": "2021-09-23T20:38:12.929Z"
   },
   {
    "duration": 165,
    "start_time": "2021-09-23T20:38:12.979Z"
   },
   {
    "duration": 172,
    "start_time": "2021-09-23T20:38:13.147Z"
   },
   {
    "duration": 459,
    "start_time": "2021-09-23T20:38:13.321Z"
   },
   {
    "duration": 58,
    "start_time": "2021-09-23T20:38:13.782Z"
   },
   {
    "duration": 366,
    "start_time": "2021-09-23T20:38:13.844Z"
   },
   {
    "duration": 380,
    "start_time": "2021-09-23T20:38:14.213Z"
   },
   {
    "duration": 103,
    "start_time": "2021-09-23T20:38:14.595Z"
   },
   {
    "duration": 791,
    "start_time": "2021-09-23T20:38:14.701Z"
   },
   {
    "duration": 5,
    "start_time": "2021-09-23T20:38:15.495Z"
   },
   {
    "duration": 132,
    "start_time": "2021-09-23T20:38:15.502Z"
   },
   {
    "duration": 721,
    "start_time": "2021-09-23T20:38:15.637Z"
   },
   {
    "duration": 90,
    "start_time": "2021-09-23T20:38:16.360Z"
   },
   {
    "duration": 100,
    "start_time": "2021-09-23T20:38:16.453Z"
   },
   {
    "duration": 1310,
    "start_time": "2021-09-23T20:38:16.568Z"
   },
   {
    "duration": 102,
    "start_time": "2021-09-23T20:38:17.881Z"
   },
   {
    "duration": 111,
    "start_time": "2021-09-23T20:38:17.986Z"
   },
   {
    "duration": 5,
    "start_time": "2021-09-23T20:38:18.100Z"
   },
   {
    "duration": 7,
    "start_time": "2021-09-23T20:38:18.108Z"
   },
   {
    "duration": 1036,
    "start_time": "2021-09-23T20:38:18.117Z"
   },
   {
    "duration": 944,
    "start_time": "2021-09-23T20:38:19.157Z"
   },
   {
    "duration": 7,
    "start_time": "2021-09-23T20:38:55.842Z"
   },
   {
    "duration": 618,
    "start_time": "2021-09-23T20:39:01.574Z"
   },
   {
    "duration": 6,
    "start_time": "2021-09-23T20:39:24.188Z"
   },
   {
    "duration": 6,
    "start_time": "2021-09-23T20:39:33.951Z"
   },
   {
    "duration": 856,
    "start_time": "2021-09-23T20:39:55.688Z"
   },
   {
    "duration": 296,
    "start_time": "2021-09-23T20:40:07.425Z"
   },
   {
    "duration": 259,
    "start_time": "2021-09-23T20:40:13.315Z"
   },
   {
    "duration": 295,
    "start_time": "2021-09-23T20:40:20.769Z"
   },
   {
    "duration": 317,
    "start_time": "2021-09-23T20:40:23.388Z"
   },
   {
    "duration": 280,
    "start_time": "2021-09-23T20:40:33.683Z"
   },
   {
    "duration": 552,
    "start_time": "2021-09-23T20:41:25.217Z"
   },
   {
    "duration": 692,
    "start_time": "2021-09-23T20:41:34.308Z"
   },
   {
    "duration": 5,
    "start_time": "2021-09-23T20:41:42.449Z"
   },
   {
    "duration": 564,
    "start_time": "2021-09-23T20:41:52.403Z"
   },
   {
    "duration": 12,
    "start_time": "2021-09-23T20:42:09.253Z"
   },
   {
    "duration": 642,
    "start_time": "2021-09-23T20:42:10.045Z"
   },
   {
    "duration": 260,
    "start_time": "2021-09-23T20:42:21.883Z"
   },
   {
    "duration": 273,
    "start_time": "2021-09-23T20:42:25.912Z"
   },
   {
    "duration": 244,
    "start_time": "2021-09-23T20:42:44.274Z"
   },
   {
    "duration": 252,
    "start_time": "2021-09-23T20:43:01.412Z"
   },
   {
    "duration": 1429,
    "start_time": "2021-09-23T20:44:41.447Z"
   },
   {
    "duration": 265,
    "start_time": "2021-09-23T20:44:59.643Z"
   },
   {
    "duration": 271,
    "start_time": "2021-09-23T20:46:40.872Z"
   },
   {
    "duration": 571,
    "start_time": "2021-09-23T20:46:50.827Z"
   },
   {
    "duration": 731,
    "start_time": "2021-09-23T20:47:05.121Z"
   },
   {
    "duration": 1069,
    "start_time": "2021-09-23T20:47:15.307Z"
   },
   {
    "duration": 1035,
    "start_time": "2021-09-23T20:47:33.499Z"
   },
   {
    "duration": 7,
    "start_time": "2021-09-23T20:50:38.327Z"
   },
   {
    "duration": 262,
    "start_time": "2021-09-23T20:50:57.017Z"
   },
   {
    "duration": 7,
    "start_time": "2021-09-23T20:51:44.744Z"
   },
   {
    "duration": 759,
    "start_time": "2021-09-23T20:51:54.180Z"
   },
   {
    "duration": 5,
    "start_time": "2021-09-23T20:52:03.142Z"
   },
   {
    "duration": 559,
    "start_time": "2021-09-23T20:52:30.806Z"
   },
   {
    "duration": 850,
    "start_time": "2021-09-23T20:53:56.907Z"
   },
   {
    "duration": 758,
    "start_time": "2021-09-23T20:54:12.550Z"
   },
   {
    "duration": 801,
    "start_time": "2021-09-23T20:54:23.811Z"
   },
   {
    "duration": 899,
    "start_time": "2021-09-23T20:54:32.283Z"
   },
   {
    "duration": 758,
    "start_time": "2021-09-23T20:54:36.075Z"
   },
   {
    "duration": 33,
    "start_time": "2021-09-23T20:55:39.680Z"
   },
   {
    "duration": 5,
    "start_time": "2021-09-23T20:55:49.377Z"
   },
   {
    "duration": 1039,
    "start_time": "2021-09-23T20:55:49.606Z"
   },
   {
    "duration": 61,
    "start_time": "2021-09-23T20:59:58.362Z"
   },
   {
    "duration": 351,
    "start_time": "2021-09-23T21:00:10.283Z"
   },
   {
    "duration": 354,
    "start_time": "2021-09-23T21:00:18.508Z"
   },
   {
    "duration": 281,
    "start_time": "2021-09-23T21:01:02.631Z"
   },
   {
    "duration": 1594,
    "start_time": "2021-09-23T21:01:08.643Z"
   },
   {
    "duration": 3728,
    "start_time": "2021-09-23T21:01:10.239Z"
   },
   {
    "duration": 36,
    "start_time": "2021-09-23T21:01:13.970Z"
   },
   {
    "duration": 179,
    "start_time": "2021-09-23T21:01:14.009Z"
   },
   {
    "duration": 171,
    "start_time": "2021-09-23T21:01:14.190Z"
   },
   {
    "duration": 500,
    "start_time": "2021-09-23T21:01:14.363Z"
   },
   {
    "duration": 70,
    "start_time": "2021-09-23T21:01:14.865Z"
   },
   {
    "duration": 388,
    "start_time": "2021-09-23T21:01:14.939Z"
   },
   {
    "duration": 404,
    "start_time": "2021-09-23T21:01:15.330Z"
   },
   {
    "duration": 102,
    "start_time": "2021-09-23T21:01:15.736Z"
   },
   {
    "duration": 813,
    "start_time": "2021-09-23T21:01:15.841Z"
   },
   {
    "duration": 10,
    "start_time": "2021-09-23T21:01:16.657Z"
   },
   {
    "duration": 136,
    "start_time": "2021-09-23T21:01:16.670Z"
   },
   {
    "duration": 730,
    "start_time": "2021-09-23T21:01:16.809Z"
   },
   {
    "duration": 92,
    "start_time": "2021-09-23T21:01:17.542Z"
   },
   {
    "duration": 108,
    "start_time": "2021-09-23T21:01:17.636Z"
   },
   {
    "duration": 1271,
    "start_time": "2021-09-23T21:01:17.746Z"
   },
   {
    "duration": 95,
    "start_time": "2021-09-23T21:01:19.020Z"
   },
   {
    "duration": 687,
    "start_time": "2021-09-23T21:01:19.117Z"
   },
   {
    "duration": 4,
    "start_time": "2021-09-23T21:01:19.806Z"
   },
   {
    "duration": 19,
    "start_time": "2021-09-23T21:01:19.812Z"
   },
   {
    "duration": 1281,
    "start_time": "2021-09-23T21:01:19.833Z"
   },
   {
    "duration": 93,
    "start_time": "2021-09-23T21:01:21.119Z"
   },
   {
    "duration": 123,
    "start_time": "2021-09-23T21:01:50.586Z"
   },
   {
    "duration": 1093,
    "start_time": "2021-09-23T21:02:01.665Z"
   },
   {
    "duration": 66,
    "start_time": "2021-09-23T21:02:55.906Z"
   },
   {
    "duration": 1557,
    "start_time": "2021-09-23T21:03:00.300Z"
   },
   {
    "duration": 8477,
    "start_time": "2021-09-23T21:03:01.860Z"
   },
   {
    "duration": 44,
    "start_time": "2021-09-23T21:03:10.340Z"
   },
   {
    "duration": 170,
    "start_time": "2021-09-23T21:03:10.387Z"
   },
   {
    "duration": 176,
    "start_time": "2021-09-23T21:03:10.560Z"
   },
   {
    "duration": 479,
    "start_time": "2021-09-23T21:03:10.738Z"
   },
   {
    "duration": 76,
    "start_time": "2021-09-23T21:03:11.219Z"
   },
   {
    "duration": 374,
    "start_time": "2021-09-23T21:03:11.299Z"
   },
   {
    "duration": 385,
    "start_time": "2021-09-23T21:03:11.676Z"
   },
   {
    "duration": 99,
    "start_time": "2021-09-23T21:03:12.068Z"
   },
   {
    "duration": 783,
    "start_time": "2021-09-23T21:03:12.170Z"
   },
   {
    "duration": 14,
    "start_time": "2021-09-23T21:03:12.955Z"
   },
   {
    "duration": 127,
    "start_time": "2021-09-23T21:03:12.972Z"
   },
   {
    "duration": 741,
    "start_time": "2021-09-23T21:03:13.101Z"
   },
   {
    "duration": 88,
    "start_time": "2021-09-23T21:03:13.844Z"
   },
   {
    "duration": 100,
    "start_time": "2021-09-23T21:03:13.935Z"
   },
   {
    "duration": 1218,
    "start_time": "2021-09-23T21:03:14.037Z"
   },
   {
    "duration": 82,
    "start_time": "2021-09-23T21:03:15.258Z"
   },
   {
    "duration": 125,
    "start_time": "2021-09-23T21:03:15.343Z"
   },
   {
    "duration": 4,
    "start_time": "2021-09-23T21:03:15.471Z"
   },
   {
    "duration": 13,
    "start_time": "2021-09-23T21:03:15.478Z"
   },
   {
    "duration": 1151,
    "start_time": "2021-09-23T21:03:15.493Z"
   },
   {
    "duration": 86,
    "start_time": "2021-09-23T21:03:16.648Z"
   },
   {
    "duration": 655,
    "start_time": "2021-09-23T21:04:18.593Z"
   },
   {
    "duration": 4,
    "start_time": "2021-09-23T21:04:23.108Z"
   },
   {
    "duration": 4,
    "start_time": "2021-09-23T21:04:23.544Z"
   },
   {
    "duration": 1025,
    "start_time": "2021-09-23T21:04:24.024Z"
   },
   {
    "duration": 1038,
    "start_time": "2021-09-23T21:04:43.003Z"
   },
   {
    "duration": 1083,
    "start_time": "2021-09-23T21:04:46.979Z"
   },
   {
    "duration": 1024,
    "start_time": "2021-09-23T21:04:59.014Z"
   },
   {
    "duration": 1065,
    "start_time": "2021-09-23T21:05:02.578Z"
   },
   {
    "duration": 449,
    "start_time": "2021-09-23T21:05:14.971Z"
   },
   {
    "duration": 296,
    "start_time": "2021-09-23T21:05:27.647Z"
   },
   {
    "duration": 1184,
    "start_time": "2021-09-23T21:05:33.711Z"
   },
   {
    "duration": 16619,
    "start_time": "2021-09-23T21:06:47.319Z"
   },
   {
    "duration": 1250,
    "start_time": "2021-09-27T10:44:24.642Z"
   },
   {
    "duration": 3626,
    "start_time": "2021-09-27T10:44:35.162Z"
   },
   {
    "duration": 26,
    "start_time": "2021-09-27T10:44:40.096Z"
   },
   {
    "duration": 123,
    "start_time": "2021-09-27T10:44:42.780Z"
   },
   {
    "duration": 45,
    "start_time": "2021-09-27T10:45:22.294Z"
   },
   {
    "duration": 398,
    "start_time": "2021-09-27T10:45:44.101Z"
   },
   {
    "duration": 412,
    "start_time": "2021-09-27T10:45:44.739Z"
   },
   {
    "duration": 83,
    "start_time": "2021-09-27T10:45:51.029Z"
   },
   {
    "duration": 1108,
    "start_time": "2021-09-27T10:45:51.665Z"
   },
   {
    "duration": 3,
    "start_time": "2021-09-27T10:45:52.972Z"
   },
   {
    "duration": 133,
    "start_time": "2021-09-27T10:45:53.193Z"
   },
   {
    "duration": 1147,
    "start_time": "2021-09-27T10:45:53.676Z"
   },
   {
    "duration": 75,
    "start_time": "2021-09-27T10:45:54.825Z"
   },
   {
    "duration": 133,
    "start_time": "2021-09-27T10:45:54.902Z"
   },
   {
    "duration": 3,
    "start_time": "2021-09-27T10:45:55.299Z"
   },
   {
    "duration": 96,
    "start_time": "2021-09-27T10:45:55.464Z"
   },
   {
    "duration": 68,
    "start_time": "2021-09-27T10:45:55.811Z"
   },
   {
    "duration": 57,
    "start_time": "2021-09-27T10:45:56.034Z"
   },
   {
    "duration": 706,
    "start_time": "2021-09-27T10:45:56.566Z"
   },
   {
    "duration": 53,
    "start_time": "2021-09-27T10:45:57.277Z"
   },
   {
    "duration": 140,
    "start_time": "2021-09-27T10:45:57.520Z"
   },
   {
    "duration": 1535,
    "start_time": "2021-09-27T14:34:10.283Z"
   },
   {
    "duration": 2054,
    "start_time": "2021-09-27T14:34:11.821Z"
   },
   {
    "duration": 38,
    "start_time": "2021-09-27T14:34:13.878Z"
   },
   {
    "duration": 185,
    "start_time": "2021-09-27T14:34:13.920Z"
   },
   {
    "duration": 75,
    "start_time": "2021-09-27T14:34:14.107Z"
   },
   {
    "duration": 605,
    "start_time": "2021-09-27T14:34:14.185Z"
   },
   {
    "duration": 609,
    "start_time": "2021-09-27T14:34:14.792Z"
   },
   {
    "duration": 118,
    "start_time": "2021-09-27T14:34:15.407Z"
   },
   {
    "duration": 1803,
    "start_time": "2021-09-27T14:34:15.529Z"
   },
   {
    "duration": 7,
    "start_time": "2021-09-27T14:34:17.335Z"
   },
   {
    "duration": 240,
    "start_time": "2021-09-27T14:34:17.345Z"
   },
   {
    "duration": 1825,
    "start_time": "2021-09-27T14:34:17.587Z"
   },
   {
    "duration": 99,
    "start_time": "2021-09-27T14:34:19.415Z"
   },
   {
    "duration": 199,
    "start_time": "2021-09-27T14:34:19.517Z"
   },
   {
    "duration": 4,
    "start_time": "2021-09-27T14:34:19.719Z"
   },
   {
    "duration": 176,
    "start_time": "2021-09-27T14:34:19.725Z"
   },
   {
    "duration": 104,
    "start_time": "2021-09-27T14:34:19.904Z"
   },
   {
    "duration": 82,
    "start_time": "2021-09-27T14:34:20.010Z"
   },
   {
    "duration": 951,
    "start_time": "2021-09-27T14:34:20.095Z"
   },
   {
    "duration": 70,
    "start_time": "2021-09-27T14:34:21.048Z"
   },
   {
    "duration": 209,
    "start_time": "2021-09-27T14:34:21.120Z"
   },
   {
    "duration": 4,
    "start_time": "2021-09-27T14:34:21.331Z"
   },
   {
    "duration": 5,
    "start_time": "2021-09-27T14:34:21.339Z"
   },
   {
    "duration": 7,
    "start_time": "2021-09-27T14:34:21.347Z"
   },
   {
    "duration": 1577,
    "start_time": "2021-09-27T14:34:21.357Z"
   },
   {
    "duration": 295122,
    "start_time": "2021-09-27T14:34:22.937Z"
   }
  ],
  "kernelspec": {
   "display_name": "Python 3",
   "language": "python",
   "name": "python3"
  },
  "language_info": {
   "codemirror_mode": {
    "name": "ipython",
    "version": 3
   },
   "file_extension": ".py",
   "mimetype": "text/x-python",
   "name": "python",
   "nbconvert_exporter": "python",
   "pygments_lexer": "ipython3",
   "version": "3.8.8"
  },
  "notify_time": "10",
  "toc": {
   "base_numbering": 1,
   "nav_menu": {},
   "number_sections": true,
   "sideBar": true,
   "skip_h1_title": true,
   "title_cell": "Table of Contents",
   "title_sidebar": "Contents",
   "toc_cell": false,
   "toc_position": {},
   "toc_section_display": true,
   "toc_window_display": false
  }
 },
 "nbformat": 4,
 "nbformat_minor": 2
}
