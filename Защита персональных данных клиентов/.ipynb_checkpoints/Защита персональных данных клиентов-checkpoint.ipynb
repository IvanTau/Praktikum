{
 "cells": [
  {
   "cell_type": "markdown",
   "metadata": {
    "toc": true
   },
   "source": [
    "<h1>Содержание<span class=\"tocSkip\"></span></h1>\n",
    "<div class=\"toc\"><ul class=\"toc-item\"><li><span><a href=\"#Загрузка-данных\" data-toc-modified-id=\"Загрузка-данных-1\"><span class=\"toc-item-num\">1&nbsp;&nbsp;</span>Загрузка данных</a></span></li><li><span><a href=\"#Предобработка-данных\" data-toc-modified-id=\"Предобработка-данных-2\"><span class=\"toc-item-num\">2&nbsp;&nbsp;</span>Предобработка данных</a></span></li><li><span><a href=\"#Умножение-матриц\" data-toc-modified-id=\"Умножение-матриц-3\"><span class=\"toc-item-num\">3&nbsp;&nbsp;</span>Умножение матриц</a></span></li><li><span><a href=\"#Алгоритм-преобразования\" data-toc-modified-id=\"Алгоритм-преобразования-4\"><span class=\"toc-item-num\">4&nbsp;&nbsp;</span>Алгоритм преобразования</a></span><ul class=\"toc-item\"><li><span><a href=\"#Создание-алгоритма\" data-toc-modified-id=\"Создание-алгоритма-4.1\"><span class=\"toc-item-num\">4.1&nbsp;&nbsp;</span>Создание алгоритма</a></span></li></ul></li><li><span><a href=\"#Проверка-алгоритма\" data-toc-modified-id=\"Проверка-алгоритма-5\"><span class=\"toc-item-num\">5&nbsp;&nbsp;</span>Проверка алгоритма</a></span></li></ul></div>"
   ]
  },
  {
   "cell_type": "markdown",
   "metadata": {},
   "source": [
    "# Защита персональных данных клиентов"
   ]
  },
  {
   "cell_type": "markdown",
   "metadata": {},
   "source": [
    "Вам нужно защитить данные клиентов страховой компании «Хоть потоп». Разработайте такой метод преобразования данных, чтобы по ним было сложно восстановить персональную информацию. Обоснуйте корректность его работы.\n",
    "\n",
    "Нужно защитить данные, чтобы при преобразовании качество моделей машинного обучения не ухудшилось. Подбирать наилучшую модель не требуется."
   ]
  },
  {
   "cell_type": "markdown",
   "metadata": {},
   "source": [
    "## Загрузка данных"
   ]
  },
  {
   "cell_type": "code",
   "execution_count": 1,
   "metadata": {},
   "outputs": [],
   "source": [
    "import pandas as pd\n",
    "import numpy as np\n",
    "\n",
    "from sklearn.linear_model import LinearRegression\n",
    "from sklearn.model_selection import train_test_split\n",
    "from sklearn.metrics import r2_score"
   ]
  },
  {
   "cell_type": "code",
   "execution_count": 2,
   "metadata": {},
   "outputs": [],
   "source": [
    "data = pd.read_csv('/datasets/insurance.csv')"
   ]
  },
  {
   "cell_type": "code",
   "execution_count": 3,
   "metadata": {},
   "outputs": [
    {
     "data": {
      "text/html": [
       "<div>\n",
       "<style scoped>\n",
       "    .dataframe tbody tr th:only-of-type {\n",
       "        vertical-align: middle;\n",
       "    }\n",
       "\n",
       "    .dataframe tbody tr th {\n",
       "        vertical-align: top;\n",
       "    }\n",
       "\n",
       "    .dataframe thead th {\n",
       "        text-align: right;\n",
       "    }\n",
       "</style>\n",
       "<table border=\"1\" class=\"dataframe\">\n",
       "  <thead>\n",
       "    <tr style=\"text-align: right;\">\n",
       "      <th></th>\n",
       "      <th>Пол</th>\n",
       "      <th>Возраст</th>\n",
       "      <th>Зарплата</th>\n",
       "      <th>Члены семьи</th>\n",
       "      <th>Страховые выплаты</th>\n",
       "    </tr>\n",
       "  </thead>\n",
       "  <tbody>\n",
       "    <tr>\n",
       "      <td>1811</td>\n",
       "      <td>1</td>\n",
       "      <td>42.0</td>\n",
       "      <td>37100.0</td>\n",
       "      <td>2</td>\n",
       "      <td>0</td>\n",
       "    </tr>\n",
       "    <tr>\n",
       "      <td>2557</td>\n",
       "      <td>0</td>\n",
       "      <td>29.0</td>\n",
       "      <td>34400.0</td>\n",
       "      <td>1</td>\n",
       "      <td>0</td>\n",
       "    </tr>\n",
       "    <tr>\n",
       "      <td>4118</td>\n",
       "      <td>1</td>\n",
       "      <td>32.0</td>\n",
       "      <td>51500.0</td>\n",
       "      <td>2</td>\n",
       "      <td>0</td>\n",
       "    </tr>\n",
       "    <tr>\n",
       "      <td>2432</td>\n",
       "      <td>0</td>\n",
       "      <td>29.0</td>\n",
       "      <td>27500.0</td>\n",
       "      <td>0</td>\n",
       "      <td>0</td>\n",
       "    </tr>\n",
       "    <tr>\n",
       "      <td>1910</td>\n",
       "      <td>0</td>\n",
       "      <td>31.0</td>\n",
       "      <td>52500.0</td>\n",
       "      <td>1</td>\n",
       "      <td>0</td>\n",
       "    </tr>\n",
       "    <tr>\n",
       "      <td>885</td>\n",
       "      <td>1</td>\n",
       "      <td>20.0</td>\n",
       "      <td>42700.0</td>\n",
       "      <td>2</td>\n",
       "      <td>0</td>\n",
       "    </tr>\n",
       "    <tr>\n",
       "      <td>514</td>\n",
       "      <td>1</td>\n",
       "      <td>38.0</td>\n",
       "      <td>45600.0</td>\n",
       "      <td>2</td>\n",
       "      <td>0</td>\n",
       "    </tr>\n",
       "    <tr>\n",
       "      <td>4079</td>\n",
       "      <td>0</td>\n",
       "      <td>26.0</td>\n",
       "      <td>47900.0</td>\n",
       "      <td>0</td>\n",
       "      <td>0</td>\n",
       "    </tr>\n",
       "    <tr>\n",
       "      <td>293</td>\n",
       "      <td>0</td>\n",
       "      <td>23.0</td>\n",
       "      <td>48800.0</td>\n",
       "      <td>2</td>\n",
       "      <td>0</td>\n",
       "    </tr>\n",
       "    <tr>\n",
       "      <td>4692</td>\n",
       "      <td>1</td>\n",
       "      <td>28.0</td>\n",
       "      <td>38400.0</td>\n",
       "      <td>3</td>\n",
       "      <td>0</td>\n",
       "    </tr>\n",
       "  </tbody>\n",
       "</table>\n",
       "</div>"
      ],
      "text/plain": [
       "      Пол  Возраст  Зарплата  Члены семьи  Страховые выплаты\n",
       "1811    1     42.0   37100.0            2                  0\n",
       "2557    0     29.0   34400.0            1                  0\n",
       "4118    1     32.0   51500.0            2                  0\n",
       "2432    0     29.0   27500.0            0                  0\n",
       "1910    0     31.0   52500.0            1                  0\n",
       "885     1     20.0   42700.0            2                  0\n",
       "514     1     38.0   45600.0            2                  0\n",
       "4079    0     26.0   47900.0            0                  0\n",
       "293     0     23.0   48800.0            2                  0\n",
       "4692    1     28.0   38400.0            3                  0"
      ]
     },
     "execution_count": 3,
     "metadata": {},
     "output_type": "execute_result"
    }
   ],
   "source": [
    "data.sample(n=10)"
   ]
  },
  {
   "cell_type": "code",
   "execution_count": 4,
   "metadata": {},
   "outputs": [
    {
     "name": "stdout",
     "output_type": "stream",
     "text": [
      "<class 'pandas.core.frame.DataFrame'>\n",
      "RangeIndex: 5000 entries, 0 to 4999\n",
      "Data columns (total 5 columns):\n",
      "Пол                  5000 non-null int64\n",
      "Возраст              5000 non-null float64\n",
      "Зарплата             5000 non-null float64\n",
      "Члены семьи          5000 non-null int64\n",
      "Страховые выплаты    5000 non-null int64\n",
      "dtypes: float64(2), int64(3)\n",
      "memory usage: 195.4 KB\n"
     ]
    }
   ],
   "source": [
    "data.info()"
   ]
  },
  {
   "cell_type": "code",
   "execution_count": 5,
   "metadata": {
    "scrolled": false
   },
   "outputs": [
    {
     "data": {
      "text/html": [
       "<div>\n",
       "<style scoped>\n",
       "    .dataframe tbody tr th:only-of-type {\n",
       "        vertical-align: middle;\n",
       "    }\n",
       "\n",
       "    .dataframe tbody tr th {\n",
       "        vertical-align: top;\n",
       "    }\n",
       "\n",
       "    .dataframe thead th {\n",
       "        text-align: right;\n",
       "    }\n",
       "</style>\n",
       "<table border=\"1\" class=\"dataframe\">\n",
       "  <thead>\n",
       "    <tr style=\"text-align: right;\">\n",
       "      <th></th>\n",
       "      <th>Пол</th>\n",
       "      <th>Возраст</th>\n",
       "      <th>Зарплата</th>\n",
       "      <th>Члены семьи</th>\n",
       "      <th>Страховые выплаты</th>\n",
       "    </tr>\n",
       "  </thead>\n",
       "  <tbody>\n",
       "    <tr>\n",
       "      <td>count</td>\n",
       "      <td>5000.000000</td>\n",
       "      <td>5000.000000</td>\n",
       "      <td>5000.000000</td>\n",
       "      <td>5000.000000</td>\n",
       "      <td>5000.000000</td>\n",
       "    </tr>\n",
       "    <tr>\n",
       "      <td>mean</td>\n",
       "      <td>0.499000</td>\n",
       "      <td>30.952800</td>\n",
       "      <td>39916.360000</td>\n",
       "      <td>1.194200</td>\n",
       "      <td>0.148000</td>\n",
       "    </tr>\n",
       "    <tr>\n",
       "      <td>std</td>\n",
       "      <td>0.500049</td>\n",
       "      <td>8.440807</td>\n",
       "      <td>9900.083569</td>\n",
       "      <td>1.091387</td>\n",
       "      <td>0.463183</td>\n",
       "    </tr>\n",
       "    <tr>\n",
       "      <td>min</td>\n",
       "      <td>0.000000</td>\n",
       "      <td>18.000000</td>\n",
       "      <td>5300.000000</td>\n",
       "      <td>0.000000</td>\n",
       "      <td>0.000000</td>\n",
       "    </tr>\n",
       "    <tr>\n",
       "      <td>25%</td>\n",
       "      <td>0.000000</td>\n",
       "      <td>24.000000</td>\n",
       "      <td>33300.000000</td>\n",
       "      <td>0.000000</td>\n",
       "      <td>0.000000</td>\n",
       "    </tr>\n",
       "    <tr>\n",
       "      <td>50%</td>\n",
       "      <td>0.000000</td>\n",
       "      <td>30.000000</td>\n",
       "      <td>40200.000000</td>\n",
       "      <td>1.000000</td>\n",
       "      <td>0.000000</td>\n",
       "    </tr>\n",
       "    <tr>\n",
       "      <td>75%</td>\n",
       "      <td>1.000000</td>\n",
       "      <td>37.000000</td>\n",
       "      <td>46600.000000</td>\n",
       "      <td>2.000000</td>\n",
       "      <td>0.000000</td>\n",
       "    </tr>\n",
       "    <tr>\n",
       "      <td>max</td>\n",
       "      <td>1.000000</td>\n",
       "      <td>65.000000</td>\n",
       "      <td>79000.000000</td>\n",
       "      <td>6.000000</td>\n",
       "      <td>5.000000</td>\n",
       "    </tr>\n",
       "  </tbody>\n",
       "</table>\n",
       "</div>"
      ],
      "text/plain": [
       "               Пол      Возраст      Зарплата  Члены семьи  Страховые выплаты\n",
       "count  5000.000000  5000.000000   5000.000000  5000.000000        5000.000000\n",
       "mean      0.499000    30.952800  39916.360000     1.194200           0.148000\n",
       "std       0.500049     8.440807   9900.083569     1.091387           0.463183\n",
       "min       0.000000    18.000000   5300.000000     0.000000           0.000000\n",
       "25%       0.000000    24.000000  33300.000000     0.000000           0.000000\n",
       "50%       0.000000    30.000000  40200.000000     1.000000           0.000000\n",
       "75%       1.000000    37.000000  46600.000000     2.000000           0.000000\n",
       "max       1.000000    65.000000  79000.000000     6.000000           5.000000"
      ]
     },
     "execution_count": 5,
     "metadata": {},
     "output_type": "execute_result"
    }
   ],
   "source": [
    "data.describe()"
   ]
  },
  {
   "cell_type": "code",
   "execution_count": 6,
   "metadata": {},
   "outputs": [
    {
     "name": "stdout",
     "output_type": "stream",
     "text": [
      "Количество дубликатов: 153\n"
     ]
    }
   ],
   "source": [
    "# Проверка на дубликаты\n",
    "print('Количество дубликатов:', data.duplicated().sum())"
   ]
  },
  {
   "cell_type": "markdown",
   "metadata": {},
   "source": [
    "- В датасете отсутствуют пропуски, но есть дубликаты, их удалим."
   ]
  },
  {
   "cell_type": "markdown",
   "metadata": {},
   "source": [
    "## Предобработка данных"
   ]
  },
  {
   "cell_type": "code",
   "execution_count": 7,
   "metadata": {},
   "outputs": [
    {
     "name": "stdout",
     "output_type": "stream",
     "text": [
      "<class 'pandas.core.frame.DataFrame'>\n",
      "RangeIndex: 5000 entries, 0 to 4999\n",
      "Data columns (total 5 columns):\n",
      "Пол                  5000 non-null int64\n",
      "Возраст              5000 non-null int64\n",
      "Зарплата             5000 non-null int64\n",
      "Члены семьи          5000 non-null int64\n",
      "Страховые выплаты    5000 non-null int64\n",
      "dtypes: int64(5)\n",
      "memory usage: 195.4 KB\n"
     ]
    }
   ],
   "source": [
    "# Возраст и зарплату переведем в целочисленные для красоты\n",
    "data['Возраст'] = data['Возраст'].astype(int)\n",
    "data['Зарплата'] = data['Зарплата'].astype(int)\n",
    "data.info()"
   ]
  },
  {
   "cell_type": "code",
   "execution_count": 8,
   "metadata": {},
   "outputs": [
    {
     "name": "stdout",
     "output_type": "stream",
     "text": [
      "<class 'pandas.core.frame.DataFrame'>\n",
      "Int64Index: 4847 entries, 0 to 4999\n",
      "Data columns (total 5 columns):\n",
      "Пол                  4847 non-null int64\n",
      "Возраст              4847 non-null int64\n",
      "Зарплата             4847 non-null int64\n",
      "Члены семьи          4847 non-null int64\n",
      "Страховые выплаты    4847 non-null int64\n",
      "dtypes: int64(5)\n",
      "memory usage: 227.2 KB\n"
     ]
    }
   ],
   "source": [
    "# Удаление дубликатов\n",
    "data = data.drop_duplicates()\n",
    "data.info()"
   ]
  },
  {
   "cell_type": "markdown",
   "metadata": {},
   "source": [
    "## Умножение матриц"
   ]
  },
  {
   "cell_type": "markdown",
   "metadata": {},
   "source": [
    "Обозначения:\n",
    "\n",
    "- $X$ — матрица признаков (нулевой столбец состоит из единиц)\n",
    "\n",
    "- $y$ — вектор целевого признака\n",
    "\n",
    "- $P$ — матрица, на которую умножаются признаки\n",
    "\n",
    "- $w$ — вектор весов линейной регрессии (нулевой элемент равен сдвигу)\n",
    "\n",
    "\n",
    "- $a = Xw$ — Предсказания\n",
    "\n",
    "- $w = \\arg\\min_w MSE(Xw, y)$ — Задача обучения\n",
    "\n",
    "- $w = (X^T X)^{-1} X^T y$ — Формула обучения"
   ]
  },
  {
   "cell_type": "markdown",
   "metadata": {},
   "source": [
    "**Вопрос:** Признаки умножают на обратимую матрицу. **Изменится ли качество линейной регрессии?**\n",
    "\n",
    "**Ответ:** **Не** изменится.\n",
    "\n",
    "**Обоснование:** \n",
    "\n",
    "Измененные признаки: $X_p = XP$\n",
    "\n",
    "Формула весов изменяется согласно новым признакам:\n",
    "$$\n",
    "w_p = ((XP)^T XP)^{-1} (XP)^T y = (P^{T}X^{T} XP)^{-1}P^{T}X^{T} y = P^{-1} (X^{T} X)^{-1} (P^{T})^{-1} P^{T}X^{T} y\n",
    "$$\n",
    "\n",
    "В этой формуле $(P^{T})^{-1} P^{T} = E$ - единичная матрица. \n",
    "\n",
    "Так что эта часть выпадает и остается $P^{-1} (X^{T} X)^{-1} X^{T} y$ в которой все, что идет после $P^{-1}$ является формулой получения весов при обучении, которая указана выше.\n",
    "\n",
    "Соответственно в итоге мы получаем такую формулу: $w_p = P^{-1}w$\n",
    "\n",
    "Далее нам нужно получить предсказания с измененных признаков:\n",
    "$$\n",
    "a_p = X_p w_p = XP P^{-1}w = Xw = a\n",
    "$$\n",
    "\n",
    "Как мы видим, в момент предсказаний наша обратимая таблица умножается на обратную версию самой себя, что на выходе дает нам единицу и оставляет нас с неизмененными признаками и весами. Соответственно качество регрессии при использовании обратимой матрицы **не изменится**."
   ]
  },
  {
   "cell_type": "markdown",
   "metadata": {},
   "source": [
    "## Алгоритм преобразования"
   ]
  },
  {
   "cell_type": "markdown",
   "metadata": {},
   "source": [
    "**Алгоритм**\n",
    "\n",
    "1) Создает квадратную матрицу 4х4 для обратимости и правильного умножения на признаки, у которых 4 столбца.\n",
    "\n",
    "2) Проверяет матрицу на обратимость, в случае ошибки создает новую матрицу и проверяет снова.\n",
    "\n",
    "3) Умножает признаки на эту матрицу и возвращает закодированные признаки.\n",
    "\n",
    "4) Вычисляет метрики качества на измененных и неизмененных данных, проводит сравнение между ними."
   ]
  },
  {
   "cell_type": "markdown",
   "metadata": {},
   "source": [
    "**Обоснование**\n",
    "\n",
    "Выше мы доказали, что умножение признаков на обратимую матрицу никак не повлияет на качество модели."
   ]
  },
  {
   "cell_type": "markdown",
   "metadata": {},
   "source": [
    "### Создание алгоритма"
   ]
  },
  {
   "cell_type": "code",
   "execution_count": 9,
   "metadata": {},
   "outputs": [],
   "source": [
    "features = data.drop(columns='Страховые выплаты')\n",
    "target = data['Страховые выплаты']"
   ]
  },
  {
   "cell_type": "code",
   "execution_count": 10,
   "metadata": {},
   "outputs": [],
   "source": [
    "def encode(features):\n",
    "    \"\"\"Создает кодирующую матрицу с гарантией ее обратимости, \n",
    "    возвращает закодированные признаки и обратную матрицу для декодирования\"\"\"\n",
    "    while True:\n",
    "        try:\n",
    "            np.random.seed(12345)\n",
    "            encoder = np.random.randint(999, size=(features.shape[1], features.shape[1]))\n",
    "            decoder = np.linalg.inv(encoder)\n",
    "            break\n",
    "        except:\n",
    "            continue\n",
    "    \n",
    "    return features @ encoder, decoder"
   ]
  },
  {
   "cell_type": "markdown",
   "metadata": {},
   "source": [
    "## Проверка алгоритма"
   ]
  },
  {
   "cell_type": "markdown",
   "metadata": {},
   "source": [
    "Для начала выделим выборки из неизмененных признаков и проверим модель на них."
   ]
  },
  {
   "cell_type": "code",
   "execution_count": 11,
   "metadata": {},
   "outputs": [],
   "source": [
    "def model_test(features, target):\n",
    "    \"\"\"Делит выборки на обучающую и валидационную, затем проводит обучение и валидацию модели,\n",
    "    возвращает метрику R2\"\"\"\n",
    "    X_train, X_valid, y_train, y_valid = train_test_split(features, target, test_size=0.25, random_state=12345)\n",
    "    model = LinearRegression()\n",
    "    model.fit(X_train, y_train)\n",
    "    preds = model.predict(X_valid)\n",
    "    score = r2_score(y_valid, preds)\n",
    "    return score"
   ]
  },
  {
   "cell_type": "code",
   "execution_count": 12,
   "metadata": {},
   "outputs": [
    {
     "name": "stdout",
     "output_type": "stream",
     "text": [
      "R2 модели без кодирования признаков: 0.4230772761583642\n"
     ]
    }
   ],
   "source": [
    "non_coded_score = model_test(features, target)\n",
    "print('R2 модели без кодирования признаков:', non_coded_score)"
   ]
  },
  {
   "cell_type": "markdown",
   "metadata": {},
   "source": [
    "Теперь закодируем признаки и проверим модель еще раз"
   ]
  },
  {
   "cell_type": "code",
   "execution_count": 13,
   "metadata": {
    "scrolled": false
   },
   "outputs": [
    {
     "data": {
      "text/html": [
       "<div>\n",
       "<style scoped>\n",
       "    .dataframe tbody tr th:only-of-type {\n",
       "        vertical-align: middle;\n",
       "    }\n",
       "\n",
       "    .dataframe tbody tr th {\n",
       "        vertical-align: top;\n",
       "    }\n",
       "\n",
       "    .dataframe thead th {\n",
       "        text-align: right;\n",
       "    }\n",
       "</style>\n",
       "<table border=\"1\" class=\"dataframe\">\n",
       "  <thead>\n",
       "    <tr style=\"text-align: right;\">\n",
       "      <th></th>\n",
       "      <th>0</th>\n",
       "      <th>1</th>\n",
       "      <th>2</th>\n",
       "      <th>3</th>\n",
       "    </tr>\n",
       "  </thead>\n",
       "  <tbody>\n",
       "    <tr>\n",
       "      <td>3888</td>\n",
       "      <td>26710382</td>\n",
       "      <td>26466010</td>\n",
       "      <td>37613935</td>\n",
       "      <td>5779254</td>\n",
       "    </tr>\n",
       "    <tr>\n",
       "      <td>720</td>\n",
       "      <td>15462300</td>\n",
       "      <td>15320925</td>\n",
       "      <td>21772250</td>\n",
       "      <td>3348325</td>\n",
       "    </tr>\n",
       "    <tr>\n",
       "      <td>2344</td>\n",
       "      <td>18737891</td>\n",
       "      <td>18566450</td>\n",
       "      <td>26386043</td>\n",
       "      <td>4055488</td>\n",
       "    </tr>\n",
       "    <tr>\n",
       "      <td>4437</td>\n",
       "      <td>23813949</td>\n",
       "      <td>23595990</td>\n",
       "      <td>33536312</td>\n",
       "      <td>5151688</td>\n",
       "    </tr>\n",
       "    <tr>\n",
       "      <td>4204</td>\n",
       "      <td>22619469</td>\n",
       "      <td>22412590</td>\n",
       "      <td>31850624</td>\n",
       "      <td>4897800</td>\n",
       "    </tr>\n",
       "  </tbody>\n",
       "</table>\n",
       "</div>"
      ],
      "text/plain": [
       "             0         1         2        3\n",
       "3888  26710382  26466010  37613935  5779254\n",
       "720   15462300  15320925  21772250  3348325\n",
       "2344  18737891  18566450  26386043  4055488\n",
       "4437  23813949  23595990  33536312  5151688\n",
       "4204  22619469  22412590  31850624  4897800"
      ]
     },
     "execution_count": 13,
     "metadata": {},
     "output_type": "execute_result"
    }
   ],
   "source": [
    "encoded, decoder = encode(features)\n",
    "encoded.sample(n=5)"
   ]
  },
  {
   "cell_type": "code",
   "execution_count": 14,
   "metadata": {
    "scrolled": false
   },
   "outputs": [
    {
     "name": "stdout",
     "output_type": "stream",
     "text": [
      "R2 модели без кодирования признаков:   0.4230772761583642\n",
      "R2 модели после кодирования признаков: 0.42307727615833035\n"
     ]
    }
   ],
   "source": [
    "encoded_score = model_test(encoded, target)\n",
    "print('R2 модели без кодирования признаков:  ', non_coded_score)\n",
    "print('R2 модели после кодирования признаков:', encoded_score)"
   ]
  },
  {
   "cell_type": "markdown",
   "metadata": {},
   "source": [
    "# Вывод\n",
    "\n",
    "Как мы видим, метрика модели после кодирования уменьшилась только на 14-м знаке после запятой.\n",
    "\n",
    "Следовательно теория подтвердилсась - кодирование признаков обратимой таблицей ничуть **не ухудшило качество** модели."
   ]
  }
 ],
 "metadata": {
  "ExecuteTimeLog": [
   {
    "duration": 596,
    "start_time": "2021-09-10T16:46:36.816Z"
   },
   {
    "duration": 140,
    "start_time": "2021-09-10T16:46:51.589Z"
   },
   {
    "duration": 18,
    "start_time": "2021-09-10T16:46:54.886Z"
   },
   {
    "duration": 7,
    "start_time": "2021-09-10T16:47:15.077Z"
   },
   {
    "duration": 22,
    "start_time": "2021-09-10T16:47:40.648Z"
   },
   {
    "duration": 13,
    "start_time": "2021-09-10T16:48:12.501Z"
   },
   {
    "duration": 5,
    "start_time": "2021-09-10T16:48:32.957Z"
   },
   {
    "duration": 218,
    "start_time": "2021-09-11T09:04:39.273Z"
   },
   {
    "duration": 509,
    "start_time": "2021-09-11T09:04:41.147Z"
   },
   {
    "duration": 164,
    "start_time": "2021-09-11T09:04:41.658Z"
   },
   {
    "duration": 18,
    "start_time": "2021-09-11T09:04:41.824Z"
   },
   {
    "duration": 6,
    "start_time": "2021-09-11T09:08:39.887Z"
   },
   {
    "duration": 11,
    "start_time": "2021-09-11T09:08:47.376Z"
   },
   {
    "duration": 23,
    "start_time": "2021-09-11T09:09:07.812Z"
   },
   {
    "duration": 6,
    "start_time": "2021-09-11T09:09:38.409Z"
   },
   {
    "duration": 7,
    "start_time": "2021-09-11T09:09:48.338Z"
   },
   {
    "duration": 8,
    "start_time": "2021-09-11T09:09:55.770Z"
   },
   {
    "duration": 15,
    "start_time": "2021-09-11T09:10:12.459Z"
   },
   {
    "duration": 8,
    "start_time": "2021-09-11T09:11:14.148Z"
   },
   {
    "duration": 15,
    "start_time": "2021-09-11T09:12:35.017Z"
   },
   {
    "duration": 8,
    "start_time": "2021-09-11T09:13:19.407Z"
   },
   {
    "duration": 6,
    "start_time": "2021-09-11T09:13:27.994Z"
   },
   {
    "duration": 6,
    "start_time": "2021-09-11T09:13:35.699Z"
   },
   {
    "duration": 6,
    "start_time": "2021-09-11T09:13:45.613Z"
   },
   {
    "duration": 9,
    "start_time": "2021-09-11T09:17:39.659Z"
   },
   {
    "duration": 3,
    "start_time": "2021-09-11T09:17:52.022Z"
   },
   {
    "duration": 4,
    "start_time": "2021-09-11T09:20:00.366Z"
   },
   {
    "duration": 8,
    "start_time": "2021-09-11T09:20:06.193Z"
   },
   {
    "duration": 8,
    "start_time": "2021-09-11T09:20:16.872Z"
   },
   {
    "duration": 198,
    "start_time": "2021-09-11T10:22:38.225Z"
   },
   {
    "duration": 6,
    "start_time": "2021-09-11T10:22:43.795Z"
   },
   {
    "duration": 9,
    "start_time": "2021-09-11T10:23:33.723Z"
   },
   {
    "duration": 6,
    "start_time": "2021-09-11T10:23:34.290Z"
   },
   {
    "duration": 8,
    "start_time": "2021-09-11T10:24:10.442Z"
   },
   {
    "duration": 560,
    "start_time": "2021-09-11T13:02:28.705Z"
   },
   {
    "duration": 90,
    "start_time": "2021-09-11T13:02:29.267Z"
   },
   {
    "duration": 16,
    "start_time": "2021-09-11T13:02:29.360Z"
   },
   {
    "duration": 10,
    "start_time": "2021-09-11T13:02:29.377Z"
   },
   {
    "duration": 22,
    "start_time": "2021-09-11T13:02:29.388Z"
   },
   {
    "duration": 7,
    "start_time": "2021-09-11T13:02:29.411Z"
   },
   {
    "duration": 6,
    "start_time": "2021-09-11T13:02:29.420Z"
   },
   {
    "duration": 11,
    "start_time": "2021-09-11T13:02:29.427Z"
   },
   {
    "duration": 780,
    "start_time": "2021-09-11T15:23:24.476Z"
   },
   {
    "duration": 140,
    "start_time": "2021-09-11T15:23:25.260Z"
   },
   {
    "duration": 25,
    "start_time": "2021-09-11T15:23:25.403Z"
   },
   {
    "duration": 12,
    "start_time": "2021-09-11T15:23:25.431Z"
   },
   {
    "duration": 45,
    "start_time": "2021-09-11T15:23:25.446Z"
   },
   {
    "duration": 11,
    "start_time": "2021-09-11T15:23:25.493Z"
   },
   {
    "duration": 14,
    "start_time": "2021-09-11T15:23:25.507Z"
   },
   {
    "duration": 34,
    "start_time": "2021-09-11T15:23:25.524Z"
   },
   {
    "duration": 5,
    "start_time": "2021-09-11T15:31:44.759Z"
   },
   {
    "duration": 5,
    "start_time": "2021-09-11T15:31:46.605Z"
   },
   {
    "duration": 6,
    "start_time": "2021-09-11T15:32:15.525Z"
   },
   {
    "duration": 7,
    "start_time": "2021-09-11T15:32:21.263Z"
   },
   {
    "duration": 7,
    "start_time": "2021-09-11T15:32:22.850Z"
   },
   {
    "duration": 7,
    "start_time": "2021-09-11T15:33:10.454Z"
   },
   {
    "duration": 7,
    "start_time": "2021-09-11T15:33:13.437Z"
   },
   {
    "duration": 8,
    "start_time": "2021-09-11T15:33:14.535Z"
   },
   {
    "duration": 8,
    "start_time": "2021-09-11T15:33:15.395Z"
   },
   {
    "duration": 11,
    "start_time": "2021-09-11T15:33:22.143Z"
   },
   {
    "duration": 7,
    "start_time": "2021-09-11T15:33:23.802Z"
   },
   {
    "duration": 8,
    "start_time": "2021-09-11T15:33:25.197Z"
   },
   {
    "duration": 7,
    "start_time": "2021-09-11T15:33:26.698Z"
   },
   {
    "duration": 8,
    "start_time": "2021-09-11T15:33:33.193Z"
   },
   {
    "duration": 8,
    "start_time": "2021-09-11T15:33:35.221Z"
   },
   {
    "duration": 8,
    "start_time": "2021-09-11T15:33:36.735Z"
   },
   {
    "duration": 6,
    "start_time": "2021-09-11T15:38:57.498Z"
   },
   {
    "duration": 8,
    "start_time": "2021-09-11T15:39:22.670Z"
   },
   {
    "duration": 7,
    "start_time": "2021-09-11T15:39:32.175Z"
   },
   {
    "duration": 8,
    "start_time": "2021-09-11T15:40:44.414Z"
   },
   {
    "duration": 717,
    "start_time": "2021-09-11T15:41:01.016Z"
   },
   {
    "duration": 982,
    "start_time": "2021-09-11T15:41:08.442Z"
   },
   {
    "duration": 598,
    "start_time": "2021-09-11T15:41:13.976Z"
   },
   {
    "duration": 8,
    "start_time": "2021-09-11T15:41:17.574Z"
   },
   {
    "duration": 7,
    "start_time": "2021-09-11T15:41:21.338Z"
   },
   {
    "duration": 616,
    "start_time": "2021-09-11T15:41:24.189Z"
   },
   {
    "duration": 7,
    "start_time": "2021-09-11T15:41:27.009Z"
   },
   {
    "duration": 7,
    "start_time": "2021-09-11T15:41:29.513Z"
   },
   {
    "duration": 8,
    "start_time": "2021-09-11T15:41:31.022Z"
   },
   {
    "duration": 597,
    "start_time": "2021-09-11T15:41:32.296Z"
   },
   {
    "duration": 3,
    "start_time": "2021-09-11T15:43:07.520Z"
   },
   {
    "duration": 8,
    "start_time": "2021-09-11T15:43:23.030Z"
   },
   {
    "duration": 7,
    "start_time": "2021-09-11T15:43:25.167Z"
   },
   {
    "duration": 7,
    "start_time": "2021-09-11T15:43:26.533Z"
   },
   {
    "duration": 11,
    "start_time": "2021-09-11T15:43:28.257Z"
   },
   {
    "duration": 624,
    "start_time": "2021-09-11T15:43:31.719Z"
   },
   {
    "duration": 1408,
    "start_time": "2021-09-11T15:59:01.964Z"
   },
   {
    "duration": 405,
    "start_time": "2021-09-11T15:59:09.376Z"
   },
   {
    "duration": 375,
    "start_time": "2021-09-11T15:59:11.233Z"
   },
   {
    "duration": 363,
    "start_time": "2021-09-11T15:59:12.624Z"
   },
   {
    "duration": 339,
    "start_time": "2021-09-11T15:59:17.312Z"
   },
   {
    "duration": 6,
    "start_time": "2021-09-11T15:59:18.754Z"
   },
   {
    "duration": 339,
    "start_time": "2021-09-11T15:59:20.847Z"
   },
   {
    "duration": 6,
    "start_time": "2021-09-11T15:59:24.933Z"
   },
   {
    "duration": 377,
    "start_time": "2021-09-11T15:59:26.781Z"
   },
   {
    "duration": 329,
    "start_time": "2021-09-11T15:59:28.352Z"
   },
   {
    "duration": 5,
    "start_time": "2021-09-11T15:59:29.786Z"
   },
   {
    "duration": 7,
    "start_time": "2021-09-11T16:00:23.738Z"
   },
   {
    "duration": 7,
    "start_time": "2021-09-11T16:00:40.469Z"
   },
   {
    "duration": 6,
    "start_time": "2021-09-11T16:00:43.799Z"
   },
   {
    "duration": 7,
    "start_time": "2021-09-11T16:00:49.565Z"
   },
   {
    "duration": 19,
    "start_time": "2021-09-11T16:00:53.275Z"
   },
   {
    "duration": 5,
    "start_time": "2021-09-11T16:00:59.992Z"
   },
   {
    "duration": 6,
    "start_time": "2021-09-11T16:01:01.892Z"
   },
   {
    "duration": 7,
    "start_time": "2021-09-11T16:01:03.072Z"
   },
   {
    "duration": 6,
    "start_time": "2021-09-11T16:01:04.621Z"
   },
   {
    "duration": 6,
    "start_time": "2021-09-11T16:01:06.441Z"
   },
   {
    "duration": 6,
    "start_time": "2021-09-11T16:01:07.935Z"
   },
   {
    "duration": 6,
    "start_time": "2021-09-11T16:01:09.416Z"
   },
   {
    "duration": 6,
    "start_time": "2021-09-11T16:01:11.720Z"
   },
   {
    "duration": 6,
    "start_time": "2021-09-11T16:01:22.541Z"
   },
   {
    "duration": 6,
    "start_time": "2021-09-11T16:01:33.265Z"
   },
   {
    "duration": 5,
    "start_time": "2021-09-11T16:02:11.847Z"
   },
   {
    "duration": 5,
    "start_time": "2021-09-11T16:04:05.245Z"
   },
   {
    "duration": 6,
    "start_time": "2021-09-11T16:04:16.504Z"
   },
   {
    "duration": 6,
    "start_time": "2021-09-11T16:04:18.789Z"
   },
   {
    "duration": 7,
    "start_time": "2021-09-11T16:04:21.022Z"
   },
   {
    "duration": 8,
    "start_time": "2021-09-11T16:04:23.209Z"
   },
   {
    "duration": 793,
    "start_time": "2021-09-11T16:04:46.427Z"
   },
   {
    "duration": 86,
    "start_time": "2021-09-11T16:04:47.223Z"
   },
   {
    "duration": 23,
    "start_time": "2021-09-11T16:04:47.312Z"
   },
   {
    "duration": 15,
    "start_time": "2021-09-11T16:04:47.338Z"
   },
   {
    "duration": 39,
    "start_time": "2021-09-11T16:04:47.355Z"
   },
   {
    "duration": 11,
    "start_time": "2021-09-11T16:04:47.396Z"
   },
   {
    "duration": 8,
    "start_time": "2021-09-11T16:04:47.409Z"
   },
   {
    "duration": 42,
    "start_time": "2021-09-11T16:04:47.420Z"
   },
   {
    "duration": 6,
    "start_time": "2021-09-11T16:04:47.465Z"
   },
   {
    "duration": 9,
    "start_time": "2021-09-11T16:04:47.473Z"
   },
   {
    "duration": 12,
    "start_time": "2021-09-11T16:04:47.484Z"
   },
   {
    "duration": 7,
    "start_time": "2021-09-11T16:04:55.109Z"
   },
   {
    "duration": 8,
    "start_time": "2021-09-11T16:04:57.237Z"
   },
   {
    "duration": 6,
    "start_time": "2021-09-11T16:04:58.504Z"
   },
   {
    "duration": 7,
    "start_time": "2021-09-11T16:04:59.771Z"
   },
   {
    "duration": 5,
    "start_time": "2021-09-11T16:07:27.848Z"
   },
   {
    "duration": 20,
    "start_time": "2021-09-11T16:08:00.129Z"
   },
   {
    "duration": 5,
    "start_time": "2021-09-11T16:08:26.082Z"
   },
   {
    "duration": 5,
    "start_time": "2021-09-11T16:09:01.055Z"
   },
   {
    "duration": 5,
    "start_time": "2021-09-11T16:09:01.693Z"
   },
   {
    "duration": 4,
    "start_time": "2021-09-11T16:09:13.288Z"
   },
   {
    "duration": 5,
    "start_time": "2021-09-11T16:10:09.582Z"
   },
   {
    "duration": 20,
    "start_time": "2021-09-11T16:10:14.905Z"
   },
   {
    "duration": 23,
    "start_time": "2021-09-11T16:10:17.051Z"
   },
   {
    "duration": 19,
    "start_time": "2021-09-11T16:10:18.342Z"
   },
   {
    "duration": 20,
    "start_time": "2021-09-11T16:10:19.816Z"
   },
   {
    "duration": 6,
    "start_time": "2021-09-11T16:14:11.472Z"
   },
   {
    "duration": 9,
    "start_time": "2021-09-11T16:14:13.395Z"
   },
   {
    "duration": 19,
    "start_time": "2021-09-11T16:14:18.795Z"
   },
   {
    "duration": 7,
    "start_time": "2021-09-11T16:14:23.134Z"
   },
   {
    "duration": 483,
    "start_time": "2021-09-11T16:14:55.209Z"
   },
   {
    "duration": 7,
    "start_time": "2021-09-11T16:14:59.098Z"
   },
   {
    "duration": 5,
    "start_time": "2021-09-11T16:15:02.389Z"
   },
   {
    "duration": 9,
    "start_time": "2021-09-11T16:15:02.610Z"
   },
   {
    "duration": 16,
    "start_time": "2021-09-11T16:15:20.818Z"
   },
   {
    "duration": 14,
    "start_time": "2021-09-11T16:15:32.058Z"
   },
   {
    "duration": 14,
    "start_time": "2021-09-11T16:17:50.879Z"
   },
   {
    "duration": 16,
    "start_time": "2021-09-11T16:17:55.884Z"
   },
   {
    "duration": 17,
    "start_time": "2021-09-11T16:18:03.426Z"
   },
   {
    "duration": 13,
    "start_time": "2021-09-11T16:18:27.425Z"
   },
   {
    "duration": 409,
    "start_time": "2021-09-11T16:19:05.461Z"
   },
   {
    "duration": 6,
    "start_time": "2021-09-11T16:19:32.331Z"
   },
   {
    "duration": 17,
    "start_time": "2021-09-11T16:19:36.505Z"
   },
   {
    "duration": 19,
    "start_time": "2021-09-11T16:19:43.348Z"
   },
   {
    "duration": 18,
    "start_time": "2021-09-11T16:20:11.263Z"
   },
   {
    "duration": 18,
    "start_time": "2021-09-11T16:20:32.267Z"
   },
   {
    "duration": 18,
    "start_time": "2021-09-11T16:20:39.562Z"
   },
   {
    "duration": 18,
    "start_time": "2021-09-11T16:20:44.438Z"
   },
   {
    "duration": 18,
    "start_time": "2021-09-11T16:20:46.873Z"
   },
   {
    "duration": 15,
    "start_time": "2021-09-11T16:20:56.777Z"
   },
   {
    "duration": 21,
    "start_time": "2021-09-11T16:21:01.547Z"
   },
   {
    "duration": 17,
    "start_time": "2021-09-11T16:21:06.141Z"
   },
   {
    "duration": 11,
    "start_time": "2021-09-11T16:21:17.077Z"
   },
   {
    "duration": 12,
    "start_time": "2021-09-11T16:21:18.423Z"
   },
   {
    "duration": 11,
    "start_time": "2021-09-11T16:21:20.733Z"
   },
   {
    "duration": 17,
    "start_time": "2021-09-11T16:21:20.952Z"
   },
   {
    "duration": 355,
    "start_time": "2021-09-11T16:21:49.569Z"
   },
   {
    "duration": 387,
    "start_time": "2021-09-11T16:22:05.300Z"
   },
   {
    "duration": 396,
    "start_time": "2021-09-11T16:22:18.047Z"
   },
   {
    "duration": 8,
    "start_time": "2021-09-11T16:22:23.481Z"
   },
   {
    "duration": 3,
    "start_time": "2021-09-11T16:22:36.752Z"
   },
   {
    "duration": 17,
    "start_time": "2021-09-11T16:22:42.649Z"
   },
   {
    "duration": 9,
    "start_time": "2021-09-11T16:22:49.538Z"
   },
   {
    "duration": 22,
    "start_time": "2021-09-11T16:22:56.074Z"
   },
   {
    "duration": 10,
    "start_time": "2021-09-11T16:23:12.817Z"
   },
   {
    "duration": 12,
    "start_time": "2021-09-11T16:23:17.405Z"
   },
   {
    "duration": 16,
    "start_time": "2021-09-11T16:23:21.305Z"
   },
   {
    "duration": 5,
    "start_time": "2021-09-11T16:25:23.495Z"
   },
   {
    "duration": 5,
    "start_time": "2021-09-11T16:26:15.979Z"
   },
   {
    "duration": 4,
    "start_time": "2021-09-11T16:27:55.074Z"
   },
   {
    "duration": 6,
    "start_time": "2021-09-11T16:27:58.366Z"
   },
   {
    "duration": 16,
    "start_time": "2021-09-11T16:28:12.754Z"
   },
   {
    "duration": 5,
    "start_time": "2021-09-11T16:28:25.402Z"
   },
   {
    "duration": 5,
    "start_time": "2021-09-11T16:28:25.801Z"
   },
   {
    "duration": 17,
    "start_time": "2021-09-11T16:28:26.073Z"
   },
   {
    "duration": 4,
    "start_time": "2021-09-11T16:28:42.525Z"
   },
   {
    "duration": 9,
    "start_time": "2021-09-11T16:28:42.532Z"
   },
   {
    "duration": 9,
    "start_time": "2021-09-11T16:28:52.085Z"
   },
   {
    "duration": 4,
    "start_time": "2021-09-11T16:29:29.279Z"
   },
   {
    "duration": 5,
    "start_time": "2021-09-11T16:29:30.175Z"
   },
   {
    "duration": 7,
    "start_time": "2021-09-11T16:29:30.382Z"
   },
   {
    "duration": 7,
    "start_time": "2021-09-11T16:33:39.318Z"
   },
   {
    "duration": 752,
    "start_time": "2021-09-11T16:34:15.868Z"
   },
   {
    "duration": 107,
    "start_time": "2021-09-11T16:34:16.623Z"
   },
   {
    "duration": 26,
    "start_time": "2021-09-11T16:34:16.734Z"
   },
   {
    "duration": 9,
    "start_time": "2021-09-11T16:34:16.763Z"
   },
   {
    "duration": 50,
    "start_time": "2021-09-11T16:34:16.774Z"
   },
   {
    "duration": 34,
    "start_time": "2021-09-11T16:34:16.827Z"
   },
   {
    "duration": 14,
    "start_time": "2021-09-11T16:34:16.865Z"
   },
   {
    "duration": 13,
    "start_time": "2021-09-11T16:34:16.884Z"
   },
   {
    "duration": 4,
    "start_time": "2021-09-11T16:34:16.900Z"
   },
   {
    "duration": 7,
    "start_time": "2021-09-11T16:34:16.907Z"
   },
   {
    "duration": 5,
    "start_time": "2021-09-11T16:34:16.956Z"
   },
   {
    "duration": 12,
    "start_time": "2021-09-11T16:34:16.963Z"
   },
   {
    "duration": 9,
    "start_time": "2021-09-11T16:34:16.979Z"
   },
   {
    "duration": 612,
    "start_time": "2021-09-11T16:38:54.960Z"
   },
   {
    "duration": 8,
    "start_time": "2021-09-11T16:39:23.135Z"
   },
   {
    "duration": 8,
    "start_time": "2021-09-11T16:41:07.576Z"
   },
   {
    "duration": 11,
    "start_time": "2021-09-11T16:42:42.876Z"
   },
   {
    "duration": 11,
    "start_time": "2021-09-11T16:42:45.673Z"
   },
   {
    "duration": 10,
    "start_time": "2021-09-11T16:42:47.153Z"
   },
   {
    "duration": 11,
    "start_time": "2021-09-11T16:42:50.120Z"
   },
   {
    "duration": 13,
    "start_time": "2021-09-11T16:42:52.097Z"
   },
   {
    "duration": 8,
    "start_time": "2021-09-11T16:42:57.538Z"
   },
   {
    "duration": 10,
    "start_time": "2021-09-11T16:42:57.731Z"
   },
   {
    "duration": 11,
    "start_time": "2021-09-11T16:43:00.016Z"
   },
   {
    "duration": 10,
    "start_time": "2021-09-11T16:43:01.821Z"
   },
   {
    "duration": 9,
    "start_time": "2021-09-11T16:43:03.866Z"
   },
   {
    "duration": 7,
    "start_time": "2021-09-11T16:43:08.128Z"
   },
   {
    "duration": 10,
    "start_time": "2021-09-11T16:43:08.414Z"
   },
   {
    "duration": 8,
    "start_time": "2021-09-11T16:43:12.411Z"
   },
   {
    "duration": 10,
    "start_time": "2021-09-11T16:43:12.666Z"
   },
   {
    "duration": 7,
    "start_time": "2021-09-11T16:43:15.384Z"
   },
   {
    "duration": 11,
    "start_time": "2021-09-11T16:43:15.793Z"
   },
   {
    "duration": 8,
    "start_time": "2021-09-11T16:43:18.577Z"
   },
   {
    "duration": 11,
    "start_time": "2021-09-11T16:43:18.732Z"
   },
   {
    "duration": 8,
    "start_time": "2021-09-11T16:43:24.931Z"
   },
   {
    "duration": 11,
    "start_time": "2021-09-11T16:43:26.073Z"
   },
   {
    "duration": 6,
    "start_time": "2021-09-11T16:46:01.748Z"
   },
   {
    "duration": 12,
    "start_time": "2021-09-11T16:46:27.018Z"
   },
   {
    "duration": 12,
    "start_time": "2021-09-11T16:46:29.793Z"
   },
   {
    "duration": 11,
    "start_time": "2021-09-11T16:46:36.095Z"
   },
   {
    "duration": 117,
    "start_time": "2021-09-11T16:46:57.227Z"
   },
   {
    "duration": 11,
    "start_time": "2021-09-11T16:47:04.300Z"
   },
   {
    "duration": 17,
    "start_time": "2021-09-11T16:48:23.863Z"
   },
   {
    "duration": 12,
    "start_time": "2021-09-11T16:49:23.063Z"
   },
   {
    "duration": 12,
    "start_time": "2021-09-11T16:49:53.793Z"
   },
   {
    "duration": 13,
    "start_time": "2021-09-11T16:50:03.329Z"
   },
   {
    "duration": 11,
    "start_time": "2021-09-11T16:50:21.761Z"
   },
   {
    "duration": 11,
    "start_time": "2021-09-11T16:50:57.329Z"
   },
   {
    "duration": 17,
    "start_time": "2021-09-11T16:51:09.988Z"
   },
   {
    "duration": 11,
    "start_time": "2021-09-11T16:52:35.096Z"
   },
   {
    "duration": 11,
    "start_time": "2021-09-11T16:52:55.217Z"
   },
   {
    "duration": 12,
    "start_time": "2021-09-11T16:53:12.361Z"
   },
   {
    "duration": 12,
    "start_time": "2021-09-11T16:53:19.337Z"
   },
   {
    "duration": 1297,
    "start_time": "2021-09-11T16:57:43.667Z"
   },
   {
    "duration": 84,
    "start_time": "2021-09-11T16:57:44.967Z"
   },
   {
    "duration": 24,
    "start_time": "2021-09-11T16:57:45.054Z"
   },
   {
    "duration": 8,
    "start_time": "2021-09-11T16:57:45.081Z"
   },
   {
    "duration": 43,
    "start_time": "2021-09-11T16:57:45.092Z"
   },
   {
    "duration": 23,
    "start_time": "2021-09-11T16:57:45.138Z"
   },
   {
    "duration": 15,
    "start_time": "2021-09-11T16:57:45.164Z"
   },
   {
    "duration": 10,
    "start_time": "2021-09-11T16:57:45.183Z"
   },
   {
    "duration": 9,
    "start_time": "2021-09-11T16:57:45.195Z"
   },
   {
    "duration": 6,
    "start_time": "2021-09-11T16:57:45.206Z"
   },
   {
    "duration": 40,
    "start_time": "2021-09-11T16:57:45.215Z"
   },
   {
    "duration": 23,
    "start_time": "2021-09-11T16:57:45.258Z"
   },
   {
    "duration": 74,
    "start_time": "2021-09-11T16:57:45.284Z"
   },
   {
    "duration": 96,
    "start_time": "2021-09-11T16:57:45.362Z"
   },
   {
    "duration": 1278,
    "start_time": "2021-09-11T22:48:06.470Z"
   },
   {
    "duration": 516,
    "start_time": "2021-09-11T22:48:07.750Z"
   },
   {
    "duration": 22,
    "start_time": "2021-09-11T22:48:08.269Z"
   },
   {
    "duration": 14,
    "start_time": "2021-09-11T22:48:08.294Z"
   },
   {
    "duration": 35,
    "start_time": "2021-09-11T22:48:08.311Z"
   },
   {
    "duration": 6,
    "start_time": "2021-09-11T22:48:08.348Z"
   },
   {
    "duration": 11,
    "start_time": "2021-09-11T22:48:08.357Z"
   },
   {
    "duration": 48,
    "start_time": "2021-09-11T22:48:08.370Z"
   },
   {
    "duration": 5,
    "start_time": "2021-09-11T22:48:08.421Z"
   },
   {
    "duration": 7,
    "start_time": "2021-09-11T22:48:08.429Z"
   },
   {
    "duration": 12,
    "start_time": "2021-09-11T22:48:08.438Z"
   },
   {
    "duration": 13,
    "start_time": "2021-09-11T22:48:08.452Z"
   },
   {
    "duration": 54,
    "start_time": "2021-09-11T22:48:08.467Z"
   },
   {
    "duration": 96,
    "start_time": "2021-09-11T22:48:08.524Z"
   },
   {
    "duration": 1217,
    "start_time": "2021-09-13T16:11:00.160Z"
   },
   {
    "duration": 55,
    "start_time": "2021-09-13T16:11:01.379Z"
   },
   {
    "duration": 17,
    "start_time": "2021-09-13T16:11:01.439Z"
   },
   {
    "duration": 8,
    "start_time": "2021-09-13T16:11:01.458Z"
   },
   {
    "duration": 31,
    "start_time": "2021-09-13T16:11:01.469Z"
   },
   {
    "duration": 7,
    "start_time": "2021-09-13T16:11:01.501Z"
   },
   {
    "duration": 37,
    "start_time": "2021-09-13T16:11:01.511Z"
   },
   {
    "duration": 12,
    "start_time": "2021-09-13T16:11:01.550Z"
   },
   {
    "duration": 9,
    "start_time": "2021-09-13T16:11:01.564Z"
   },
   {
    "duration": 11,
    "start_time": "2021-09-13T16:11:01.575Z"
   },
   {
    "duration": 12,
    "start_time": "2021-09-13T16:11:01.588Z"
   },
   {
    "duration": 13,
    "start_time": "2021-09-13T16:11:01.602Z"
   },
   {
    "duration": 39,
    "start_time": "2021-09-13T16:11:01.618Z"
   },
   {
    "duration": 81,
    "start_time": "2021-09-13T16:11:01.660Z"
   },
   {
    "duration": 4,
    "start_time": "2021-09-13T16:15:08.912Z"
   },
   {
    "duration": 4,
    "start_time": "2021-09-13T16:15:11.708Z"
   },
   {
    "duration": 4,
    "start_time": "2021-09-13T16:17:47.791Z"
   },
   {
    "duration": 4,
    "start_time": "2021-09-13T16:17:52.103Z"
   },
   {
    "duration": 9,
    "start_time": "2021-09-13T16:17:52.853Z"
   },
   {
    "duration": 12,
    "start_time": "2021-09-13T16:17:56.615Z"
   },
   {
    "duration": 10,
    "start_time": "2021-09-13T16:17:58.821Z"
   },
   {
    "duration": 4,
    "start_time": "2021-09-13T16:19:14.980Z"
   },
   {
    "duration": 1095,
    "start_time": "2021-09-13T16:19:44.981Z"
   },
   {
    "duration": 55,
    "start_time": "2021-09-13T16:19:46.078Z"
   },
   {
    "duration": 17,
    "start_time": "2021-09-13T16:19:46.135Z"
   },
   {
    "duration": 9,
    "start_time": "2021-09-13T16:19:46.154Z"
   },
   {
    "duration": 24,
    "start_time": "2021-09-13T16:19:46.165Z"
   },
   {
    "duration": 6,
    "start_time": "2021-09-13T16:19:46.191Z"
   },
   {
    "duration": 8,
    "start_time": "2021-09-13T16:19:46.199Z"
   },
   {
    "duration": 33,
    "start_time": "2021-09-13T16:19:46.209Z"
   },
   {
    "duration": 4,
    "start_time": "2021-09-13T16:19:46.244Z"
   },
   {
    "duration": 5,
    "start_time": "2021-09-13T16:19:46.250Z"
   },
   {
    "duration": 6,
    "start_time": "2021-09-13T16:19:46.257Z"
   },
   {
    "duration": 11,
    "start_time": "2021-09-13T16:19:46.265Z"
   },
   {
    "duration": 64,
    "start_time": "2021-09-13T16:19:46.278Z"
   },
   {
    "duration": 10,
    "start_time": "2021-09-13T16:19:46.344Z"
   },
   {
    "duration": 137,
    "start_time": "2021-09-13T17:27:10.586Z"
   }
  ],
  "kernelspec": {
   "display_name": "Python 3",
   "language": "python",
   "name": "python3"
  },
  "language_info": {
   "codemirror_mode": {
    "name": "ipython",
    "version": 3
   },
   "file_extension": ".py",
   "mimetype": "text/x-python",
   "name": "python",
   "nbconvert_exporter": "python",
   "pygments_lexer": "ipython3",
   "version": "3.8.8"
  },
  "toc": {
   "base_numbering": 1,
   "nav_menu": {},
   "number_sections": true,
   "sideBar": true,
   "skip_h1_title": true,
   "title_cell": "Содержание",
   "title_sidebar": "Contents",
   "toc_cell": true,
   "toc_position": {
    "height": "calc(100% - 180px)",
    "left": "10px",
    "top": "150px",
    "width": "165px"
   },
   "toc_section_display": true,
   "toc_window_display": false
  }
 },
 "nbformat": 4,
 "nbformat_minor": 2
}
